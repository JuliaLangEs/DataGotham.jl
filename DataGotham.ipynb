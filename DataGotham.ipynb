{
 "metadata": {
  "language": "Julia",
  "name": ""
 },
 "nbformat": 3,
 "nbformat_minor": 0,
 "worksheets": [
  {
   "cells": [
    {
     "cell_type": "heading",
     "level": 1,
     "metadata": {},
     "source": [
      "Install + Setup"
     ]
    },
    {
     "cell_type": "markdown",
     "metadata": {},
     "source": [
      "(1) Grab a binary of the latest Julia:\n",
      "\n",
      "* [http://julialang.org/downloads/#beta](http://julialang.org/downloads/#beta)\n",
      "\n",
      "(2) Set up an alias to Julia to work from a normal shell prompt:\n",
      "\n",
      "* `alias julia /Applications/Julia-*.app/Contents/Resources/julia/bin/julia`\n",
      "\n",
      "(3) Start Julia by running `julia`\n",
      "\n",
      "(4) Run the following commands in the Julia REPL:\n",
      "\n",
      "* `Pkg.add(\"Homebrew\")`\n",
      "* `Pkg.add(\"IJulia\")`\n",
      "* `Pkg.add(\"Stats\")`\n",
      "* `Pkg.add(\"Distributions\")`\n",
      "* `Pkg.add(\"DataFrames\")`\n",
      "* `Pkg.add(\"GLM\")`\n",
      "* `Pkg.add(\"Vega\")`"
     ]
    },
    {
     "cell_type": "heading",
     "level": 1,
     "metadata": {},
     "source": [
      "Getting Started"
     ]
    },
    {
     "cell_type": "code",
     "collapsed": false,
     "input": [
      "1 + 1"
     ],
     "language": "python",
     "metadata": {},
     "outputs": [
      {
       "metadata": {},
       "output_type": "pyout",
       "prompt_number": 1,
       "text": [
        "2"
       ]
      }
     ],
     "prompt_number": 1
    },
    {
     "cell_type": "code",
     "collapsed": false,
     "input": [
      "1 + 1.0"
     ],
     "language": "python",
     "metadata": {},
     "outputs": [
      {
       "metadata": {},
       "output_type": "pyout",
       "prompt_number": 2,
       "text": [
        "2.0"
       ]
      }
     ],
     "prompt_number": 2
    },
    {
     "cell_type": "code",
     "collapsed": false,
     "input": [
      "a = 1"
     ],
     "language": "python",
     "metadata": {},
     "outputs": [
      {
       "metadata": {},
       "output_type": "pyout",
       "prompt_number": 3,
       "text": [
        "1"
       ]
      }
     ],
     "prompt_number": 3
    },
    {
     "cell_type": "code",
     "collapsed": false,
     "input": [
      "double(x::Int) = x + x"
     ],
     "language": "python",
     "metadata": {},
     "outputs": [
      {
       "metadata": {},
       "output_type": "pyout",
       "prompt_number": 4,
       "text": [
        "# methods for generic function double\n",
        "double(x::Int64) at In[4]:1"
       ]
      }
     ],
     "prompt_number": 4
    },
    {
     "cell_type": "code",
     "collapsed": false,
     "input": [
      "double(1)"
     ],
     "language": "python",
     "metadata": {},
     "outputs": [
      {
       "metadata": {},
       "output_type": "pyout",
       "prompt_number": 5,
       "text": [
        "2"
       ]
      }
     ],
     "prompt_number": 5
    },
    {
     "cell_type": "code",
     "collapsed": false,
     "input": [
      "double(1.0)"
     ],
     "language": "python",
     "metadata": {},
     "outputs": [
      {
       "ename": "LoadError",
       "evalue": "no method double(Float64,)\nat In[6]:1",
       "output_type": "pyerr",
       "traceback": [
        "no method double(Float64,)\nat In[6]:1"
       ]
      }
     ],
     "prompt_number": 6
    },
    {
     "cell_type": "code",
     "collapsed": false,
     "input": [
      "triple(x::Real) = x + x + x"
     ],
     "language": "python",
     "metadata": {},
     "outputs": [
      {
       "metadata": {},
       "output_type": "pyout",
       "prompt_number": 7,
       "text": [
        "# methods for generic function triple\n",
        "triple(x::Real) at In[7]:1"
       ]
      }
     ],
     "prompt_number": 7
    },
    {
     "cell_type": "code",
     "collapsed": false,
     "input": [
      "triple(1)"
     ],
     "language": "python",
     "metadata": {},
     "outputs": [
      {
       "metadata": {},
       "output_type": "pyout",
       "prompt_number": 8,
       "text": [
        "3"
       ]
      }
     ],
     "prompt_number": 8
    },
    {
     "cell_type": "code",
     "collapsed": false,
     "input": [
      "triple(1.0)"
     ],
     "language": "python",
     "metadata": {},
     "outputs": [
      {
       "metadata": {},
       "output_type": "pyout",
       "prompt_number": 9,
       "text": [
        "3.0"
       ]
      }
     ],
     "prompt_number": 9
    },
    {
     "cell_type": "code",
     "collapsed": false,
     "input": [
      "id(x) = x"
     ],
     "language": "python",
     "metadata": {},
     "outputs": [
      {
       "metadata": {},
       "output_type": "pyout",
       "prompt_number": 10,
       "text": [
        "# methods for generic function id\n",
        "id(x) at In[10]:1"
       ]
      }
     ],
     "prompt_number": 10
    },
    {
     "cell_type": "code",
     "collapsed": false,
     "input": [
      "id(1)"
     ],
     "language": "python",
     "metadata": {},
     "outputs": [
      {
       "metadata": {},
       "output_type": "pyout",
       "prompt_number": 11,
       "text": [
        "1"
       ]
      }
     ],
     "prompt_number": 11
    },
    {
     "cell_type": "code",
     "collapsed": false,
     "input": [
      "id(\"a\")"
     ],
     "language": "python",
     "metadata": {},
     "outputs": [
      {
       "metadata": {},
       "output_type": "pyout",
       "prompt_number": 12,
       "text": [
        "a"
       ]
      }
     ],
     "prompt_number": 12
    },
    {
     "cell_type": "code",
     "collapsed": false,
     "input": [
      "function foo(x, y::Real = 1.0; z = pi)\n",
      "    return x + y + z\n",
      "end"
     ],
     "language": "python",
     "metadata": {},
     "outputs": [
      {
       "metadata": {},
       "output_type": "pyout",
       "prompt_number": 13,
       "text": [
        "# methods for generic function foo\n",
        "foo(x) at In[13]:2\n",
        "foo(x,y::Real) at In[13]:2"
       ]
      }
     ],
     "prompt_number": 13
    },
    {
     "cell_type": "code",
     "collapsed": false,
     "input": [
      "foo(1)"
     ],
     "language": "python",
     "metadata": {},
     "outputs": [
      {
       "metadata": {},
       "output_type": "pyout",
       "prompt_number": 14,
       "text": [
        "5.141592653589793"
       ]
      }
     ],
     "prompt_number": 14
    },
    {
     "cell_type": "code",
     "collapsed": false,
     "input": [
      "foo(1, 2)"
     ],
     "language": "python",
     "metadata": {},
     "outputs": [
      {
       "metadata": {},
       "output_type": "pyout",
       "prompt_number": 15,
       "text": [
        "6.141592653589793"
       ]
      }
     ],
     "prompt_number": 15
    },
    {
     "cell_type": "code",
     "collapsed": false,
     "input": [
      "foo(1, z = e)"
     ],
     "language": "python",
     "metadata": {},
     "outputs": [
      {
       "metadata": {},
       "output_type": "pyout",
       "prompt_number": 16,
       "text": [
        "4.718281828459045"
       ]
      }
     ],
     "prompt_number": 16
    },
    {
     "cell_type": "code",
     "collapsed": false,
     "input": [
      "foo(1, 2, z = 3)"
     ],
     "language": "python",
     "metadata": {},
     "outputs": [
      {
       "metadata": {},
       "output_type": "pyout",
       "prompt_number": 17,
       "text": [
        "6"
       ]
      }
     ],
     "prompt_number": 17
    },
    {
     "cell_type": "code",
     "collapsed": false,
     "input": [
      "bar(x::Real) = x^2"
     ],
     "language": "python",
     "metadata": {},
     "outputs": [
      {
       "metadata": {},
       "output_type": "pyout",
       "prompt_number": 18,
       "text": [
        "# methods for generic function bar\n",
        "bar(x::Real) at In[18]:1"
       ]
      }
     ],
     "prompt_number": 18
    },
    {
     "cell_type": "code",
     "collapsed": false,
     "input": [
      "code_llvm(bar, (Int, ))"
     ],
     "language": "python",
     "metadata": {},
     "outputs": [
      {
       "output_type": "stream",
       "stream": "stdout",
       "text": [
        "\n",
        "define i64 @julia_bar(i64) {\n",
        "top:\n",
        "  %1 = mul i64 %0, %0, !dbg !8971\n",
        "  ret i64 %1, !dbg !8971\n",
        "}\n"
       ]
      }
     ],
     "prompt_number": 19
    },
    {
     "cell_type": "code",
     "collapsed": false,
     "input": [
      "code_llvm(bar, (Float64, ))"
     ],
     "language": "python",
     "metadata": {},
     "outputs": [
      {
       "output_type": "stream",
       "stream": "stdout",
       "text": [
        "\n",
        "define double @julia_bar1829(double) {\n",
        "top:\n",
        "  %1 = fmul double %0, %0, !dbg !9091\n",
        "  ret double %1, !dbg !9091\n",
        "}\n"
       ]
      }
     ],
     "prompt_number": 20
    },
    {
     "cell_type": "code",
     "collapsed": false,
     "input": [
      "function collatz(n::Integer)\n",
      "    path = Int[n]\n",
      "    while n != 1\n",
      "        if mod(n, 2) == 0\n",
      "            n = fld(n, 2)\n",
      "        else\n",
      "            n = 3 * n + 1\n",
      "        end\n",
      "        push!(path, n)\n",
      "    end\n",
      "    return path\n",
      "end"
     ],
     "language": "python",
     "metadata": {},
     "outputs": [
      {
       "metadata": {},
       "output_type": "pyout",
       "prompt_number": 21,
       "text": [
        "# methods for generic function collatz\n",
        "collatz(n::Integer) at In[21]:2"
       ]
      }
     ],
     "prompt_number": 21
    },
    {
     "cell_type": "code",
     "collapsed": false,
     "input": [
      "collatz(3)"
     ],
     "language": "python",
     "metadata": {},
     "outputs": [
      {
       "metadata": {},
       "output_type": "pyout",
       "prompt_number": 22,
       "text": [
        "8-element Array{Int64,1}:\n",
        "  3\n",
        " 10\n",
        "  5\n",
        " 16\n",
        "  8\n",
        "  4\n",
        "  2\n",
        "  1"
       ]
      }
     ],
     "prompt_number": 22
    },
    {
     "cell_type": "code",
     "collapsed": false,
     "input": [
      "code_native(collatz, (Int,))"
     ],
     "language": "python",
     "metadata": {},
     "outputs": [
      {
       "output_type": "stream",
       "stream": "stdout",
       "text": [
        "\t.section\t__TEXT,__text,regular,pure_instructions\n",
        "Filename: In[21]\n",
        "Source line: 2\n",
        "\tpush\tRBP\n",
        "\tmov\tRBP, RSP\n",
        "\tpush\tR15\n",
        "\tpush\tR14\n",
        "\tpush\tR12\n",
        "\tpush\tRBX\n",
        "\tsub\tRSP, 48\n",
        "\tmov\tRBX, RDI\n",
        "\tmov\tQWORD PTR [RBP - 72], 6\n",
        "Source line: 2\n",
        "\tmovabs\tR15, 4307446384\n",
        "\tmov\tRAX, QWORD PTR [R15]\n",
        "\tmov\tQWORD PTR [RBP - 64], RAX\n",
        "\tlea\tRAX, QWORD PTR [RBP - 72]\n",
        "\tmov\tQWORD PTR [R15], RAX\n",
        "\tvxorps\tXMM0, XMM0, XMM0\n",
        "\tvmovups\tXMMWORD PTR [RBP - 56], XMM0\n",
        "\tmov\tQWORD PTR [RBP - 40], 0\n",
        "\tmovabs\tRAX, 4358742992\n",
        "Source line: 2\n",
        "\tmov\tRCX, QWORD PTR [RAX]\n",
        "\tmovabs\tRAX, 4295279904\n",
        "\tmov\tQWORD PTR [RBP - 48], RCX\n",
        "\tcall\tRAX\n",
        "\tlea\tRSI, QWORD PTR [RBP - 48]\n",
        "\tmovabs\tRCX, 4348986448\n",
        "\tmov\tQWORD PTR [RBP - 40], RAX\n",
        "\tmovabs\tRDI, 4525064704\n",
        "\tmov\tEDX, 2\n",
        "\tcall\tRCX\n",
        "\tmov\tR14, RAX\n",
        "\tcmp\tRBX, 1\n",
        "\tmov\tQWORD PTR [RBP - 56], R14\n",
        "\tje\t114\n",
        "Source line: 9\n",
        "\tmovabs\tR12, 4348975376\n",
        "Source line: 4\n",
        "\tmov\tRCX, RBX\n",
        "\tshr\tRCX, 63\n",
        "\tlea\tRAX, QWORD PTR [RBX + RCX]\n",
        "\tmov\tRSI, RAX\n",
        "\tand\tRSI, -2\n",
        "\tmov\tRDX, RBX\n",
        "\tsub\tRDX, RSI\n",
        "\tlea\tRSI, QWORD PTR [RDX + 2]\n",
        "\tmov\tRDI, RSI\n",
        "\tshr\tRDI, 63\n",
        "\tlea\tRDI, QWORD PTR [RDX + RDI + 2]\n",
        "\tand\tRDI, -2\n",
        "\tsub\tRSI, RDI\n",
        "\ttest\tRBX, RBX\n",
        "\tcmovns\tRSI, RDX\n",
        "\ttest\tRSI, RSI\n",
        "\tjne\t17\n",
        "Source line: 5\n",
        "\tand\tRBX, RCX\n",
        "\tsar\tRAX\n",
        "\tsub\tRAX, RBX\n",
        "\tmov\tRBX, RAX\n",
        "\tjmpq\t5\n",
        "Source line: 7\n",
        "\tlea\tRBX, QWORD PTR [RBX + 2*RBX + 1]\n",
        "Source line: 9\n",
        "\tmov\tRDI, R14\n",
        "\tmov\tRSI, RBX\n",
        "\tcall\tR12\n",
        "\tcmp\tRBX, 1\n",
        "\tjne\t-104\n",
        "Source line: 11\n",
        "\tmov\tRAX, QWORD PTR [RBP - 64]\n",
        "\tmov\tQWORD PTR [R15], RAX\n",
        "\tmov\tRAX, R14\n",
        "\tadd\tRSP, 48\n",
        "\tpop\tRBX\n",
        "\tpop\tR12\n",
        "\tpop\tR14\n",
        "\tpop\tR15\n",
        "\tpop\tRBP\n",
        "\tret\n"
       ]
      }
     ],
     "prompt_number": 23
    },
    {
     "cell_type": "markdown",
     "metadata": {},
     "source": [
      "_Homework problem: do some Project Euler problems to reinforce basic Julia_"
     ]
    },
    {
     "cell_type": "heading",
     "level": 1,
     "metadata": {},
     "source": [
      "Basic Statistics in Julia"
     ]
    },
    {
     "cell_type": "code",
     "collapsed": false,
     "input": [
      "using Stats"
     ],
     "language": "python",
     "metadata": {},
     "outputs": [],
     "prompt_number": 24
    },
    {
     "cell_type": "code",
     "collapsed": false,
     "input": [
      "x = rand(100)"
     ],
     "language": "python",
     "metadata": {},
     "outputs": [
      {
       "metadata": {},
       "output_type": "pyout",
       "prompt_number": 25,
       "text": [
        "100-element Array{Float64,1}:\n",
        " 0.659297   \n",
        " 0.60447    \n",
        " 0.270238   \n",
        " 0.0285386  \n",
        " 0.85244    \n",
        " 0.116335   \n",
        " 0.529854   \n",
        " 0.47483    \n",
        " 0.227029   \n",
        " 0.670652   \n",
        " 0.000421573\n",
        " 0.733869   \n",
        " 0.694608   \n",
        " \u22ee          \n",
        " 0.951764   \n",
        " 0.533464   \n",
        " 0.712104   \n",
        " 0.109673   \n",
        " 0.591385   \n",
        " 0.0747553  \n",
        " 0.336663   \n",
        " 0.357739   \n",
        " 0.0148621  \n",
        " 0.820045   \n",
        " 0.514984   \n",
        " 0.91439    "
       ]
      }
     ],
     "prompt_number": 25
    },
    {
     "cell_type": "code",
     "collapsed": false,
     "input": [
      "min(x)"
     ],
     "language": "python",
     "metadata": {},
     "outputs": [
      {
       "metadata": {},
       "output_type": "pyout",
       "prompt_number": 26,
       "text": [
        "0.00042157265611586503"
       ]
      }
     ],
     "prompt_number": 26
    },
    {
     "cell_type": "code",
     "collapsed": false,
     "input": [
      "median(x)"
     ],
     "language": "python",
     "metadata": {},
     "outputs": [
      {
       "metadata": {},
       "output_type": "pyout",
       "prompt_number": 27,
       "text": [
        "0.4328929493152208"
       ]
      }
     ],
     "prompt_number": 27
    },
    {
     "cell_type": "code",
     "collapsed": false,
     "input": [
      "max(x)"
     ],
     "language": "python",
     "metadata": {},
     "outputs": [
      {
       "metadata": {},
       "output_type": "pyout",
       "prompt_number": 28,
       "text": [
        "0.981142485065011"
       ]
      }
     ],
     "prompt_number": 28
    },
    {
     "cell_type": "code",
     "collapsed": false,
     "input": [
      "quantile(x, [0.0, 0.5, 1.0])"
     ],
     "language": "python",
     "metadata": {},
     "outputs": [
      {
       "metadata": {},
       "output_type": "pyout",
       "prompt_number": 29,
       "text": [
        "3-element Array{Float64,1}:\n",
        " 0.000421573\n",
        " 0.432893   \n",
        " 0.981142   "
       ]
      }
     ],
     "prompt_number": 29
    },
    {
     "cell_type": "code",
     "collapsed": false,
     "input": [
      "describe(x)"
     ],
     "language": "python",
     "metadata": {},
     "outputs": [
      {
       "output_type": "stream",
       "stream": "stdout",
       "text": [
        "Min:          0"
       ]
      },
      {
       "output_type": "stream",
       "stream": "stdout",
       "text": [
        ".000422\n",
        "1st Quartile: 0.187223\n",
        "Median:       0.432893\n",
        "Mean:         0.444041\n",
        "3rd Quartile: 0.662136\n",
        "Max:          0.981142\n"
       ]
      }
     ],
     "prompt_number": 30
    },
    {
     "cell_type": "markdown",
     "metadata": {},
     "source": [
      "Summarizing \"typical\" values:\n",
      "\n",
      "* gmean\n",
      "* hmean\n",
      "* wmean\n",
      "* median\n",
      "* mode              \n",
      "* modes             \n",
      "* midrange          \n",
      "\n",
      "Summarizing variability:\n",
      "\n",
      "* range\n",
      "* iqr\n",
      "* skewness\n",
      "* kurtosis          \n",
      "* mad\n",
      "* minmax\n",
      "* sem\n",
      "* variation\n",
      "\n",
      "Specialized quantiles:\n",
      "\n",
      "* decile\n",
      "* percentile        \n",
      "* quartile\n",
      "* quintile\n",
      "\n",
      "Inverse quantiles:\n",
      "\n",
      "* ecdf\n",
      "\n",
      "Correlations:\n",
      "\n",
      "* cor_kendall\n",
      "* cor_spearman\n",
      "\n",
      "Unique items:\n",
      "\n",
      "* table\n",
      "* unique\n",
      "\n",
      "Order statistics:\n",
      "\n",
      "* tiedrank\n",
      "\n",
      "Run-length encodings:\n",
      "\n",
      "* inverse_rle\n",
      "* rle"
     ]
    },
    {
     "cell_type": "heading",
     "level": 1,
     "metadata": {},
     "source": [
      "Probability Distributions in Julia"
     ]
    },
    {
     "cell_type": "code",
     "collapsed": false,
     "input": [
      "using Distributions"
     ],
     "language": "python",
     "metadata": {},
     "outputs": [],
     "prompt_number": 26
    },
    {
     "cell_type": "code",
     "collapsed": false,
     "input": [
      "x = rand(Gamma(1.0, 2.0), 100)"
     ],
     "language": "python",
     "metadata": {},
     "outputs": [
      {
       "metadata": {},
       "output_type": "pyout",
       "prompt_number": 27,
       "text": [
        "100-element Array{Float64,1}:\n",
        "  3.62994 \n",
        "  2.40439 \n",
        "  1.176   \n",
        "  6.36095 \n",
        "  0.100156\n",
        "  0.877559\n",
        "  1.39463 \n",
        "  0.27912 \n",
        "  1.88841 \n",
        "  0.479779\n",
        "  5.96574 \n",
        "  0.326037\n",
        "  0.725355\n",
        "  \u22ee       \n",
        "  1.46047 \n",
        "  0.823972\n",
        "  1.18807 \n",
        "  1.62286 \n",
        "  0.033028\n",
        " 13.1305  \n",
        "  1.32749 \n",
        "  2.25042 \n",
        "  1.21282 \n",
        "  0.432403\n",
        "  2.06362 \n",
        "  1.55631 "
       ]
      }
     ],
     "prompt_number": 27
    },
    {
     "cell_type": "heading",
     "level": 1,
     "metadata": {},
     "source": [
      "Tabular Data in Julia"
     ]
    },
    {
     "cell_type": "code",
     "collapsed": false,
     "input": [
      "using DataFrames"
     ],
     "language": "python",
     "metadata": {},
     "outputs": [],
     "prompt_number": 7
    },
    {
     "cell_type": "code",
     "collapsed": false,
     "input": [
      "df = DataFrame(A = float(1:10), B = rand(10))"
     ],
     "language": "python",
     "metadata": {},
     "outputs": [
      {
       "metadata": {},
       "output_type": "pyout",
       "prompt_number": 8,
       "text": [
        "10x2 DataFrame:\n",
        "            A         B\n",
        "[1,]      1.0  0.842805\n",
        "[2,]      2.0  0.106025\n",
        "[3,]      3.0  0.131185\n",
        "[4,]      4.0  0.549466\n",
        "[5,]      5.0  0.831549\n",
        "[6,]      6.0 0.0502278\n",
        "[7,]      7.0  0.047408\n",
        "[8,]      8.0   0.64326\n",
        "[9,]      9.0  0.661145\n",
        "[10,]    10.0  0.670958\n"
       ]
      }
     ],
     "prompt_number": 8
    },
    {
     "cell_type": "code",
     "collapsed": false,
     "input": [
      "head(df)"
     ],
     "language": "python",
     "metadata": {},
     "outputs": [
      {
       "metadata": {},
       "output_type": "pyout",
       "prompt_number": 9,
       "text": [
        "6x2 DataFrame:\n",
        "          A         B\n",
        "[1,]    1.0  0.842805\n",
        "[2,]    2.0  0.106025\n",
        "[3,]    3.0  0.131185\n",
        "[4,]    4.0  0.549466\n",
        "[5,]    5.0  0.831549\n",
        "[6,]    6.0 0.0502278\n"
       ]
      }
     ],
     "prompt_number": 9
    },
    {
     "cell_type": "code",
     "collapsed": false,
     "input": [
      "tail(df)"
     ],
     "language": "python",
     "metadata": {},
     "outputs": [
      {
       "metadata": {},
       "output_type": "pyout",
       "prompt_number": 10,
       "text": [
        "6x2 DataFrame:\n",
        "           A         B\n",
        "[1,]     5.0  0.831549\n",
        "[2,]     6.0 0.0502278\n",
        "[3,]     7.0  0.047408\n",
        "[4,]     8.0   0.64326\n",
        "[5,]     9.0  0.661145\n",
        "[6,]    10.0  0.670958\n"
       ]
      }
     ],
     "prompt_number": 10
    },
    {
     "cell_type": "code",
     "collapsed": false,
     "input": [
      "df[\"C\"] = repeat([\"G1\", \"G2\"], inner = [5])"
     ],
     "language": "python",
     "metadata": {},
     "outputs": [
      {
       "metadata": {},
       "output_type": "pyout",
       "prompt_number": 11,
       "text": [
        "10-element Array{ASCIIString,1}:\n",
        " \"G1\"\n",
        " \"G1\"\n",
        " \"G1\"\n",
        " \"G1\"\n",
        " \"G1\"\n",
        " \"G2\"\n",
        " \"G2\"\n",
        " \"G2\"\n",
        " \"G2\"\n",
        " \"G2\""
       ]
      }
     ],
     "prompt_number": 11
    },
    {
     "cell_type": "code",
     "collapsed": false,
     "input": [
      "df[1:10, :]"
     ],
     "language": "python",
     "metadata": {},
     "outputs": [
      {
       "metadata": {},
       "output_type": "pyout",
       "prompt_number": 12,
       "text": [
        "10x3 DataFrame:\n",
        "            A         B    C\n",
        "[1,]      1.0  0.842805 \"G1\"\n",
        "[2,]      2.0  0.106025 \"G1\"\n",
        "[3,]      3.0  0.131185 \"G1\"\n",
        "[4,]      4.0  0.549466 \"G1\"\n",
        "[5,]      5.0  0.831549 \"G1\"\n",
        "[6,]      6.0 0.0502278 \"G2\"\n",
        "[7,]      7.0  0.047408 \"G2\"\n",
        "[8,]      8.0   0.64326 \"G2\"\n",
        "[9,]      9.0  0.661145 \"G2\"\n",
        "[10,]    10.0  0.670958 \"G2\"\n"
       ]
      }
     ],
     "prompt_number": 12
    },
    {
     "cell_type": "code",
     "collapsed": false,
     "input": [
      "by(df, \"C\", df -> mean(df[\"B\"]))"
     ],
     "language": "python",
     "metadata": {},
     "outputs": [
      {
       "metadata": {},
       "output_type": "pyout",
       "prompt_number": 13,
       "text": [
        "2x2 DataFrame:\n",
        "           C       x1\n",
        "[1,]    \"G1\" 0.492206\n",
        "[2,]    \"G2\"   0.4146\n"
       ]
      }
     ],
     "prompt_number": 13
    },
    {
     "cell_type": "heading",
     "level": 1,
     "metadata": {},
     "source": [
      "GLM's in Julia"
     ]
    },
    {
     "cell_type": "code",
     "collapsed": false,
     "input": [
      "using GLM"
     ],
     "language": "python",
     "metadata": {},
     "outputs": [
      {
       "output_type": "stream",
       "stream": "stderr",
       "text": [
        "Warning: static parameter Tp does not occur in signature for result_type at /Users/johnmyleswhite/.julia/NumericExtensions/src/functors.jl:119.\n",
        "The method will not be callable.\n"
       ]
      }
     ],
     "prompt_number": 14
    },
    {
     "cell_type": "code",
     "collapsed": false,
     "input": [
      "glm(:(B ~ A), df, Binomial())"
     ],
     "language": "python",
     "metadata": {},
     "outputs": [
      {
       "output_type": "stream",
       "stream": "stderr",
       "text": [
        "WARNING: contains(collection, item) is deprecated, use in(item, collection) instead"
       ]
      },
      {
       "output_type": "stream",
       "stream": "stderr",
       "text": [
        "\n",
        " in contains at reduce.jl:238\n"
       ]
      },
      {
       "metadata": {},
       "output_type": "pyout",
       "prompt_number": 15,
       "text": [
        "\n",
        "Formula: B ~ A\n",
        "\n",
        "Coefficients:\n",
        "\n",
        "2x4 DataFrame:\n",
        "         Estimate Std.Error  z value Pr(>|z|)\n",
        "[1,]    -0.541615   1.39136 -0.38927 0.697076\n",
        "[2,]    0.0642003  0.222829 0.288115 0.773259\n",
        "\n"
       ]
      }
     ],
     "prompt_number": 15
    },
    {
     "cell_type": "code",
     "collapsed": false,
     "input": [],
     "language": "python",
     "metadata": {},
     "outputs": []
    },
    {
     "cell_type": "code",
     "collapsed": false,
     "input": [],
     "language": "python",
     "metadata": {},
     "outputs": []
    },
    {
     "cell_type": "code",
     "collapsed": false,
     "input": [],
     "language": "python",
     "metadata": {},
     "outputs": []
    },
    {
     "cell_type": "code",
     "collapsed": false,
     "input": [],
     "language": "python",
     "metadata": {},
     "outputs": []
    },
    {
     "cell_type": "code",
     "collapsed": false,
     "input": [],
     "language": "python",
     "metadata": {},
     "outputs": []
    },
    {
     "cell_type": "code",
     "collapsed": false,
     "input": [],
     "language": "python",
     "metadata": {},
     "outputs": []
    },
    {
     "cell_type": "heading",
     "level": 1,
     "metadata": {},
     "source": [
      "Optimization in Julia"
     ]
    },
    {
     "cell_type": "code",
     "collapsed": false,
     "input": [
      "using Optim"
     ],
     "language": "python",
     "metadata": {},
     "outputs": [],
     "prompt_number": 28
    },
    {
     "cell_type": "code",
     "collapsed": false,
     "input": [
      "f(x::Vector) = (10.73 - x[1])^2 + (1134.29 - x[2])^4"
     ],
     "language": "python",
     "metadata": {},
     "outputs": [
      {
       "metadata": {},
       "output_type": "pyout",
       "prompt_number": 29,
       "text": [
        "# methods for generic function f\n",
        "f(x::Array{T,1}) at In[29]:1"
       ]
      }
     ],
     "prompt_number": 29
    },
    {
     "cell_type": "code",
     "collapsed": false,
     "input": [
      "f([0.0, 0.0])"
     ],
     "language": "python",
     "metadata": {},
     "outputs": [
      {
       "metadata": {},
       "output_type": "pyout",
       "prompt_number": 30,
       "text": [
        "1.6553750810158057e12"
       ]
      }
     ],
     "prompt_number": 30
    },
    {
     "cell_type": "code",
     "collapsed": false,
     "input": [
      "optimize(f, [0.0, 0.0])"
     ],
     "language": "python",
     "metadata": {},
     "outputs": [
      {
       "metadata": {},
       "output_type": "pyout",
       "prompt_number": 31,
       "text": [
        "Results of Optimization Algorithm\n",
        " * Algorithm: Nelder-Mead\n",
        " * Starting Point: 0.0,0.0\n",
        " * Minimum: 10.729963758708099,1134.2876531089082\n",
        " * Value of Function at Minimum: 0.000000\n",
        " * Iterations: 68\n",
        " * Convergence: true\n",
        "   * |x - x'| < NaN: false\n",
        "   * |f(x) - f(x')| / |f(x)| < 1.0e-08: true\n",
        "   * |g(x)| < NaN: false\n",
        "   * Exceeded Maximum Number of Iterations: false\n",
        " * Objective Function Calls: 132\n",
        " * Gradient Call: 0"
       ]
      }
     ],
     "prompt_number": 31
    },
    {
     "cell_type": "code",
     "collapsed": false,
     "input": [
      "optimize(f, [0.0, 0.0], method = :l_bfgs)"
     ],
     "language": "python",
     "metadata": {},
     "outputs": [
      {
       "metadata": {},
       "output_type": "pyout",
       "prompt_number": 32,
       "text": [
        "Results of Optimization Algorithm\n",
        " * Algorithm: L-BFGS\n",
        " * Starting Point: 0.0,0.0\n",
        " * Minimum: 10.730000000844589,1134.290201363321\n",
        " * Value of Function at Minimum: 0.000000\n",
        " * Iterations: 23\n",
        " * Convergence: true\n",
        "   * |x - x'| < 1.0e-32: false\n",
        "   * |f(x) - f(x')| / |f(x)| < 1.0e-08: false\n",
        "   * |g(x)| < 1.0e-08: true\n",
        "   * Exceeded Maximum Number of Iterations: false\n",
        " * Objective Function Calls: 121\n",
        " * Gradient Call: 121"
       ]
      }
     ],
     "prompt_number": 32
    },
    {
     "cell_type": "heading",
     "level": 1,
     "metadata": {},
     "source": [
      "Maximum Likelihood Estimation in Julia"
     ]
    },
    {
     "cell_type": "code",
     "collapsed": false,
     "input": [
      "data = rand(Normal(11, 3), 1_000)"
     ],
     "language": "python",
     "metadata": {},
     "outputs": [
      {
       "metadata": {},
       "output_type": "pyout",
       "prompt_number": 34,
       "text": [
        "1000-element Array{Float64,1}:\n",
        " 14.2792 \n",
        "  4.59884\n",
        "  4.09107\n",
        " 11.1499 \n",
        "  7.27024\n",
        " 11.2284 \n",
        " 10.0974 \n",
        " 16.351  \n",
        "  7.65445\n",
        "  6.59502\n",
        " 13.6778 \n",
        " 11.8619 \n",
        " 12.8008 \n",
        "  \u22ee      \n",
        "  9.39532\n",
        "  7.0729 \n",
        " 10.8731 \n",
        " 12.818  \n",
        "  5.30451\n",
        " 12.12   \n",
        "  9.60831\n",
        " 13.2002 \n",
        " 13.0831 \n",
        " 14.6727 \n",
        " 13.9527 \n",
        " 14.0715 "
       ]
      }
     ],
     "prompt_number": 34
    },
    {
     "cell_type": "code",
     "collapsed": false,
     "input": [
      "function makenll(data)\n",
      "    nll(params::Vector) = -loglikelihood(Normal(params[1], 3), data)\n",
      "end"
     ],
     "language": "python",
     "metadata": {},
     "outputs": [
      {
       "metadata": {},
       "output_type": "pyout",
       "prompt_number": 35,
       "text": [
        "# methods for generic function makenll\n",
        "makenll(data) at In[35]:2"
       ]
      }
     ],
     "prompt_number": 35
    },
    {
     "cell_type": "code",
     "collapsed": false,
     "input": [
      "nll = makenll(data)"
     ],
     "language": "python",
     "metadata": {},
     "outputs": [
      {
       "metadata": {},
       "output_type": "pyout",
       "prompt_number": 36,
       "text": [
        "# methods for generic function nll\n",
        "nll(params::Array{T,1}) at In[35]:2"
       ]
      }
     ],
     "prompt_number": 36
    },
    {
     "cell_type": "code",
     "collapsed": false,
     "input": [
      "nll([0.0])"
     ],
     "language": "python",
     "metadata": {},
     "outputs": [
      {
       "metadata": {},
       "output_type": "pyout",
       "prompt_number": 37,
       "text": [
        "9010.105254329132"
       ]
      }
     ],
     "prompt_number": 37
    },
    {
     "cell_type": "code",
     "collapsed": false,
     "input": [
      "nll([10.0])"
     ],
     "language": "python",
     "metadata": {},
     "outputs": [
      {
       "metadata": {},
       "output_type": "pyout",
       "prompt_number": 38,
       "text": [
        "2512.618997043435"
       ]
      }
     ],
     "prompt_number": 38
    },
    {
     "cell_type": "code",
     "collapsed": false,
     "input": [
      "optimize(nll, [0.0])"
     ],
     "language": "python",
     "metadata": {},
     "outputs": [
      {
       "metadata": {},
       "output_type": "pyout",
       "prompt_number": 39,
       "text": [
        "Results of Optimization Algorithm\n",
        " * Algorithm: Nelder-Mead\n",
        " * Starting Point: 0.0\n",
        " * Minimum: 10.847732543945312\n",
        " * Value of Function at Minimum: 2472.693492\n",
        " * Iterations: 20\n",
        " * Convergence: true\n",
        "   * |x - x'| < NaN: false\n",
        "   * |f(x) - f(x')| / |f(x)| < 1.0e-08: true\n",
        "   * |g(x)| < NaN: false\n",
        "   * Exceeded Maximum Number of Iterations: false\n",
        " * Objective Function Calls: 42\n",
        " * Gradient Call: 0"
       ]
      }
     ],
     "prompt_number": 39
    },
    {
     "cell_type": "code",
     "collapsed": false,
     "input": [
      "mean(data)"
     ],
     "language": "python",
     "metadata": {},
     "outputs": [
      {
       "metadata": {},
       "output_type": "pyout",
       "prompt_number": 40,
       "text": [
        "10.847737631557145"
       ]
      }
     ],
     "prompt_number": 40
    },
    {
     "cell_type": "markdown",
     "metadata": {},
     "source": [
      "More resources:\n",
      "\n",
      "* NLopt\n",
      "* MathProg"
     ]
    },
    {
     "cell_type": "code",
     "collapsed": false,
     "input": [],
     "language": "python",
     "metadata": {},
     "outputs": []
    }
   ],
   "metadata": {}
  }
 ]
}