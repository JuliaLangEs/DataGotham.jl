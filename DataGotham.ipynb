{
 "metadata": {
  "language": "Julia",
  "name": ""
 },
 "nbformat": 3,
 "nbformat_minor": 0,
 "worksheets": [
  {
   "cells": [
    {
     "cell_type": "heading",
     "level": 1,
     "metadata": {},
     "source": [
      "Install + Setup"
     ]
    },
    {
     "cell_type": "markdown",
     "metadata": {},
     "source": [
      "(1) Grab a binary of the latest Julia:\n",
      "\n",
      "* [http://julialang.org/downloads/#beta](http://julialang.org/downloads/#beta)\n",
      "\n",
      "(2) Set up an alias to Julia to work from a normal shell prompt:\n",
      "\n",
      "* `alias julia /Applications/Julia-*.app/Contents/Resources/julia/bin/julia`\n",
      "\n",
      "(3) Start Julia by running `julia`\n",
      "\n",
      "(4) Run the following commands in the Julia REPL:\n",
      "\n",
      "* `Pkg.add(\"HomeBrew\")`\n",
      "* `Pkg.add(\"IJulia\")`\n",
      "* `Pkg.add(\"Stats\")`\n",
      "* `Pkg.add(\"Distributions\")`\n",
      "* `Pkg.add(\"DataFrames\")`\n",
      "* `Pkg.add(\"GLM\")`\n"
     ]
    },
    {
     "cell_type": "heading",
     "level": 1,
     "metadata": {},
     "source": [
      "Getting Started"
     ]
    },
    {
     "cell_type": "code",
     "collapsed": false,
     "input": [
      "using Stats"
     ],
     "language": "python",
     "metadata": {},
     "outputs": [],
     "prompt_number": 1
    },
    {
     "cell_type": "code",
     "collapsed": false,
     "input": [
      "x = rand(100)"
     ],
     "language": "python",
     "metadata": {},
     "outputs": [
      {
       "metadata": {},
       "output_type": "pyout",
       "prompt_number": 2,
       "text": [
        "100-element Array{Float64,1}:\n",
        " 0.814627 \n",
        " 0.905629 \n",
        " 0.698452 \n",
        " 0.198983 \n",
        " 0.908316 \n",
        " 0.768258 \n",
        " 0.913662 \n",
        " 0.71639  \n",
        " 0.561619 \n",
        " 0.162645 \n",
        " 0.836197 \n",
        " 0.456607 \n",
        " 0.221467 \n",
        " \u22ee        \n",
        " 0.803187 \n",
        " 0.361765 \n",
        " 0.87778  \n",
        " 0.0933157\n",
        " 0.564966 \n",
        " 0.335355 \n",
        " 0.391548 \n",
        " 0.98365  \n",
        " 0.967244 \n",
        " 0.461037 \n",
        " 0.5812   \n",
        " 0.53973  "
       ]
      }
     ],
     "prompt_number": 2
    },
    {
     "cell_type": "code",
     "collapsed": false,
     "input": [
      "min(x)"
     ],
     "language": "python",
     "metadata": {},
     "outputs": [
      {
       "metadata": {},
       "output_type": "pyout",
       "prompt_number": 3,
       "text": [
        "0.05272774464484353"
       ]
      }
     ],
     "prompt_number": 3
    },
    {
     "cell_type": "code",
     "collapsed": false,
     "input": [
      "median(x)"
     ],
     "language": "python",
     "metadata": {},
     "outputs": [
      {
       "metadata": {},
       "output_type": "pyout",
       "prompt_number": 4,
       "text": [
        "0.538784778644953"
       ]
      }
     ],
     "prompt_number": 4
    },
    {
     "cell_type": "code",
     "collapsed": false,
     "input": [
      "max(x)"
     ],
     "language": "python",
     "metadata": {},
     "outputs": [
      {
       "metadata": {},
       "output_type": "pyout",
       "prompt_number": 5,
       "text": [
        "0.9836497373741306"
       ]
      }
     ],
     "prompt_number": 5
    },
    {
     "cell_type": "code",
     "collapsed": false,
     "input": [
      "quantile(x, [0.0, 0.5, 1.0])"
     ],
     "language": "python",
     "metadata": {},
     "outputs": [
      {
       "metadata": {},
       "output_type": "pyout",
       "prompt_number": 6,
       "text": [
        "3-element Array{Float64,1}:\n",
        " 0.0527277\n",
        " 0.538785 \n",
        " 0.98365  "
       ]
      }
     ],
     "prompt_number": 6
    },
    {
     "cell_type": "code",
     "collapsed": false,
     "input": [
      "using DataFrames"
     ],
     "language": "python",
     "metadata": {},
     "outputs": [],
     "prompt_number": 7
    },
    {
     "cell_type": "code",
     "collapsed": false,
     "input": [
      "df = DataFrame(A = float(1:10), B = rand(10))"
     ],
     "language": "python",
     "metadata": {},
     "outputs": [
      {
       "metadata": {},
       "output_type": "pyout",
       "prompt_number": 8,
       "text": [
        "10x2 DataFrame:\n",
        "            A         B\n",
        "[1,]      1.0  0.842805\n",
        "[2,]      2.0  0.106025\n",
        "[3,]      3.0  0.131185\n",
        "[4,]      4.0  0.549466\n",
        "[5,]      5.0  0.831549\n",
        "[6,]      6.0 0.0502278\n",
        "[7,]      7.0  0.047408\n",
        "[8,]      8.0   0.64326\n",
        "[9,]      9.0  0.661145\n",
        "[10,]    10.0  0.670958\n"
       ]
      }
     ],
     "prompt_number": 8
    },
    {
     "cell_type": "code",
     "collapsed": false,
     "input": [
      "head(df)"
     ],
     "language": "python",
     "metadata": {},
     "outputs": [
      {
       "metadata": {},
       "output_type": "pyout",
       "prompt_number": 9,
       "text": [
        "6x2 DataFrame:\n",
        "          A         B\n",
        "[1,]    1.0  0.842805\n",
        "[2,]    2.0  0.106025\n",
        "[3,]    3.0  0.131185\n",
        "[4,]    4.0  0.549466\n",
        "[5,]    5.0  0.831549\n",
        "[6,]    6.0 0.0502278\n"
       ]
      }
     ],
     "prompt_number": 9
    },
    {
     "cell_type": "code",
     "collapsed": false,
     "input": [
      "tail(df)"
     ],
     "language": "python",
     "metadata": {},
     "outputs": [
      {
       "metadata": {},
       "output_type": "pyout",
       "prompt_number": 10,
       "text": [
        "6x2 DataFrame:\n",
        "           A         B\n",
        "[1,]     5.0  0.831549\n",
        "[2,]     6.0 0.0502278\n",
        "[3,]     7.0  0.047408\n",
        "[4,]     8.0   0.64326\n",
        "[5,]     9.0  0.661145\n",
        "[6,]    10.0  0.670958\n"
       ]
      }
     ],
     "prompt_number": 10
    },
    {
     "cell_type": "code",
     "collapsed": false,
     "input": [
      "df[\"C\"] = repeat([\"G1\", \"G2\"], inner = [5])"
     ],
     "language": "python",
     "metadata": {},
     "outputs": [
      {
       "metadata": {},
       "output_type": "pyout",
       "prompt_number": 11,
       "text": [
        "10-element Array{ASCIIString,1}:\n",
        " \"G1\"\n",
        " \"G1\"\n",
        " \"G1\"\n",
        " \"G1\"\n",
        " \"G1\"\n",
        " \"G2\"\n",
        " \"G2\"\n",
        " \"G2\"\n",
        " \"G2\"\n",
        " \"G2\""
       ]
      }
     ],
     "prompt_number": 11
    },
    {
     "cell_type": "code",
     "collapsed": false,
     "input": [
      "df[1:10, :]"
     ],
     "language": "python",
     "metadata": {},
     "outputs": [
      {
       "metadata": {},
       "output_type": "pyout",
       "prompt_number": 12,
       "text": [
        "10x3 DataFrame:\n",
        "            A         B    C\n",
        "[1,]      1.0  0.842805 \"G1\"\n",
        "[2,]      2.0  0.106025 \"G1\"\n",
        "[3,]      3.0  0.131185 \"G1\"\n",
        "[4,]      4.0  0.549466 \"G1\"\n",
        "[5,]      5.0  0.831549 \"G1\"\n",
        "[6,]      6.0 0.0502278 \"G2\"\n",
        "[7,]      7.0  0.047408 \"G2\"\n",
        "[8,]      8.0   0.64326 \"G2\"\n",
        "[9,]      9.0  0.661145 \"G2\"\n",
        "[10,]    10.0  0.670958 \"G2\"\n"
       ]
      }
     ],
     "prompt_number": 12
    },
    {
     "cell_type": "code",
     "collapsed": false,
     "input": [
      "by(df, \"C\", df -> mean(df[\"B\"]))"
     ],
     "language": "python",
     "metadata": {},
     "outputs": [
      {
       "metadata": {},
       "output_type": "pyout",
       "prompt_number": 13,
       "text": [
        "2x2 DataFrame:\n",
        "           C       x1\n",
        "[1,]    \"G1\" 0.492206\n",
        "[2,]    \"G2\"   0.4146\n"
       ]
      }
     ],
     "prompt_number": 13
    },
    {
     "cell_type": "code",
     "collapsed": false,
     "input": [
      "using GLM"
     ],
     "language": "python",
     "metadata": {},
     "outputs": [
      {
       "output_type": "stream",
       "stream": "stderr",
       "text": [
        "Warning: static parameter Tp does not occur in signature for result_type at /Users/johnmyleswhite/.julia/NumericExtensions/src/functors.jl:119.\n",
        "The method will not be callable.\n"
       ]
      }
     ],
     "prompt_number": 14
    },
    {
     "cell_type": "code",
     "collapsed": false,
     "input": [
      "glm(:(B ~ A), df, Binomial())"
     ],
     "language": "python",
     "metadata": {},
     "outputs": [
      {
       "output_type": "stream",
       "stream": "stderr",
       "text": [
        "WARNING: contains(collection, item) is deprecated, use in(item, collection) instead"
       ]
      },
      {
       "output_type": "stream",
       "stream": "stderr",
       "text": [
        "\n",
        " in contains at reduce.jl:238\n"
       ]
      },
      {
       "metadata": {},
       "output_type": "pyout",
       "prompt_number": 15,
       "text": [
        "\n",
        "Formula: B ~ A\n",
        "\n",
        "Coefficients:\n",
        "\n",
        "2x4 DataFrame:\n",
        "         Estimate Std.Error  z value Pr(>|z|)\n",
        "[1,]    -0.541615   1.39136 -0.38927 0.697076\n",
        "[2,]    0.0642003  0.222829 0.288115 0.773259\n",
        "\n"
       ]
      }
     ],
     "prompt_number": 15
    },
    {
     "cell_type": "code",
     "collapsed": false,
     "input": [
      "using Distributions"
     ],
     "language": "python",
     "metadata": {},
     "outputs": [],
     "prompt_number": 18
    },
    {
     "cell_type": "code",
     "collapsed": false,
     "input": [
      "x = rand(Gamma(1.0, 2.0), 100)"
     ],
     "language": "python",
     "metadata": {},
     "outputs": [
      {
       "ename": "LoadError",
       "evalue": "no method Gamma(Float64,Float64)\nat In[19]:1",
       "output_type": "pyerr",
       "traceback": [
        "no method Gamma(Float64,Float64)\nat In[19]:1"
       ]
      }
     ],
     "prompt_number": 19
    },
    {
     "cell_type": "code",
     "collapsed": false,
     "input": [],
     "language": "python",
     "metadata": {},
     "outputs": []
    }
   ],
   "metadata": {}
  }
 ]
}