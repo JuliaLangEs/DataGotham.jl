{
 "metadata": {
  "language": "Julia",
  "name": ""
 },
 "nbformat": 3,
 "nbformat_minor": 0,
 "worksheets": [
  {
   "cells": [
    {
     "cell_type": "heading",
     "level": 1,
     "metadata": {},
     "source": [
      "Basic Statistics in Julia"
     ]
    },
    {
     "cell_type": "code",
     "collapsed": false,
     "input": [
      "using Stats"
     ],
     "language": "python",
     "metadata": {},
     "outputs": [],
     "prompt_number": 4
    },
    {
     "cell_type": "code",
     "collapsed": false,
     "input": [
      "x = rand(100)"
     ],
     "language": "python",
     "metadata": {},
     "outputs": [
      {
       "metadata": {},
       "output_type": "pyout",
       "prompt_number": 5,
       "text": [
        "100-element Array{Float64,1}:\n",
        " 0.618047 \n",
        " 0.825082 \n",
        " 0.60389  \n",
        " 0.0260633\n",
        " 0.125751 \n",
        " 0.234602 \n",
        " 0.296696 \n",
        " 0.73894  \n",
        " 0.12561  \n",
        " 0.511232 \n",
        " 0.616784 \n",
        " 0.713848 \n",
        " 0.978164 \n",
        " \u22ee        \n",
        " 0.528435 \n",
        " 0.509359 \n",
        " 0.470509 \n",
        " 0.639882 \n",
        " 0.998949 \n",
        " 0.135433 \n",
        " 0.431387 \n",
        " 0.386173 \n",
        " 0.15784  \n",
        " 0.0426918\n",
        " 0.770529 \n",
        " 0.0893928"
       ]
      }
     ],
     "prompt_number": 5
    },
    {
     "cell_type": "code",
     "collapsed": false,
     "input": [
      "min(x)"
     ],
     "language": "python",
     "metadata": {},
     "outputs": [
      {
       "metadata": {},
       "output_type": "pyout",
       "prompt_number": 6,
       "text": [
        "0.02606333667709504"
       ]
      }
     ],
     "prompt_number": 6
    },
    {
     "cell_type": "code",
     "collapsed": false,
     "input": [
      "median(x)"
     ],
     "language": "python",
     "metadata": {},
     "outputs": [
      {
       "metadata": {},
       "output_type": "pyout",
       "prompt_number": 7,
       "text": [
        "0.4520782871911584"
       ]
      }
     ],
     "prompt_number": 7
    },
    {
     "cell_type": "code",
     "collapsed": false,
     "input": [
      "max(x)"
     ],
     "language": "python",
     "metadata": {},
     "outputs": [
      {
       "metadata": {},
       "output_type": "pyout",
       "prompt_number": 8,
       "text": [
        "0.9989487341231233"
       ]
      }
     ],
     "prompt_number": 8
    },
    {
     "cell_type": "code",
     "collapsed": false,
     "input": [
      "quantile(x, [0.0, 0.5, 1.0])"
     ],
     "language": "python",
     "metadata": {},
     "outputs": [
      {
       "metadata": {},
       "output_type": "pyout",
       "prompt_number": 9,
       "text": [
        "3-element Array{Float64,1}:\n",
        " 0.0260633\n",
        " 0.452078 \n",
        " 0.998949 "
       ]
      }
     ],
     "prompt_number": 9
    },
    {
     "cell_type": "code",
     "collapsed": false,
     "input": [
      "describe(x)"
     ],
     "language": "python",
     "metadata": {},
     "outputs": [
      {
       "output_type": "stream",
       "stream": "stdout",
       "text": [
        "Min:          0"
       ]
      },
      {
       "output_type": "stream",
       "stream": "stdout",
       "text": [
        ".026063\n",
        "1st Quartile: 0.225737\n",
        "Median:       0.452078\n",
        "Mean:         0.457906\n",
        "3rd Quartile: 0.648172\n",
        "Max:          0.998949\n"
       ]
      }
     ],
     "prompt_number": 10
    },
    {
     "cell_type": "markdown",
     "metadata": {},
     "source": [
      "Summarizing \"typical\" values:\n",
      "\n",
      "* gmean\n",
      "* hmean\n",
      "* wmean\n",
      "* median\n",
      "* mode              \n",
      "* modes             \n",
      "* midrange          \n",
      "\n",
      "Summarizing variability:\n",
      "\n",
      "* range\n",
      "* iqr\n",
      "* skewness\n",
      "* kurtosis          \n",
      "* mad\n",
      "* minmax\n",
      "* sem\n",
      "* variation\n",
      "\n",
      "Specialized quantiles:\n",
      "\n",
      "* decile\n",
      "* percentile        \n",
      "* quartile\n",
      "* quintile\n",
      "\n",
      "Inverse quantiles:\n",
      "\n",
      "* ecdf\n",
      "\n",
      "Correlations:\n",
      "\n",
      "* cor_kendall\n",
      "* cor_spearman\n",
      "\n",
      "Unique items:\n",
      "\n",
      "* table\n",
      "* unique\n",
      "\n",
      "Order statistics:\n",
      "\n",
      "* tiedrank\n",
      "\n",
      "Run-length encodings:\n",
      "\n",
      "* inverse_rle\n",
      "* rle"
     ]
    },
    {
     "cell_type": "heading",
     "level": 1,
     "metadata": {},
     "source": [
      "Probability Distributions in Julia"
     ]
    },
    {
     "cell_type": "code",
     "collapsed": false,
     "input": [
      "using Distributions"
     ],
     "language": "python",
     "metadata": {},
     "outputs": [],
     "prompt_number": 11
    },
    {
     "cell_type": "code",
     "collapsed": false,
     "input": [
      "x = rand(Gamma(1.0, 2.0), 100)"
     ],
     "language": "python",
     "metadata": {},
     "outputs": [
      {
       "metadata": {},
       "output_type": "pyout",
       "prompt_number": 12,
       "text": [
        "100-element Array{Float64,1}:\n",
        " 0.511001  \n",
        " 0.00021935\n",
        " 2.11203   \n",
        " 0.125064  \n",
        " 3.619     \n",
        " 0.40079   \n",
        " 0.291406  \n",
        " 4.18033   \n",
        " 0.303438  \n",
        " 1.70774   \n",
        " 9.48591   \n",
        " 0.330767  \n",
        " 0.110656  \n",
        " \u22ee         \n",
        " 2.5756    \n",
        " 0.774244  \n",
        " 0.79173   \n",
        " 1.14217   \n",
        " 1.91857   \n",
        " 2.76782   \n",
        " 0.00347474\n",
        " 1.97142   \n",
        " 0.275371  \n",
        " 7.09768   \n",
        " 0.961501  \n",
        " 1.12353   "
       ]
      }
     ],
     "prompt_number": 12
    },
    {
     "cell_type": "heading",
     "level": 4,
     "metadata": {},
     "source": [
      "Standard R Functions with Simpler Names"
     ]
    },
    {
     "cell_type": "code",
     "collapsed": false,
     "input": [
      "d = Normal(0, 1)"
     ],
     "language": "python",
     "metadata": {},
     "outputs": [
      {
       "metadata": {},
       "output_type": "pyout",
       "prompt_number": 13,
       "text": [
        "Normal( \u03bc=0.0 \u03c3=1.0 )"
       ]
      }
     ],
     "prompt_number": 13
    },
    {
     "cell_type": "code",
     "collapsed": false,
     "input": [
      "pdf(d, 0.0)"
     ],
     "language": "python",
     "metadata": {},
     "outputs": [
      {
       "metadata": {},
       "output_type": "pyout",
       "prompt_number": 14,
       "text": [
        "0.39894228040143265"
       ]
      }
     ],
     "prompt_number": 14
    },
    {
     "cell_type": "code",
     "collapsed": false,
     "input": [
      "cdf(d, 0.0)"
     ],
     "language": "python",
     "metadata": {},
     "outputs": [
      {
       "metadata": {},
       "output_type": "pyout",
       "prompt_number": 15,
       "text": [
        "0.5"
       ]
      }
     ],
     "prompt_number": 15
    },
    {
     "cell_type": "code",
     "collapsed": false,
     "input": [
      "quantile(d, 0.1)"
     ],
     "language": "python",
     "metadata": {},
     "outputs": [
      {
       "metadata": {},
       "output_type": "pyout",
       "prompt_number": 16,
       "text": [
        "-1.2815515655446008"
       ]
      }
     ],
     "prompt_number": 16
    },
    {
     "cell_type": "code",
     "collapsed": false,
     "input": [
      "rand(d)"
     ],
     "language": "python",
     "metadata": {},
     "outputs": [
      {
       "metadata": {},
       "output_type": "pyout",
       "prompt_number": 17,
       "text": [
        "1.5673759500847346"
       ]
      }
     ],
     "prompt_number": 17
    },
    {
     "cell_type": "heading",
     "level": 4,
     "metadata": {},
     "source": [
      "Additional Abstractions around PDF's, CDF's, etc."
     ]
    },
    {
     "cell_type": "code",
     "collapsed": false,
     "input": [
      "quantile(d, [0.25, 0.75])"
     ],
     "language": "python",
     "metadata": {},
     "outputs": [
      {
       "metadata": {},
       "output_type": "pyout",
       "prompt_number": 18,
       "text": [
        "2-element Array{Float64,1}:\n",
        " -0.67449\n",
        "  0.67449"
       ]
      }
     ],
     "prompt_number": 18
    },
    {
     "cell_type": "code",
     "collapsed": false,
     "input": [
      "-loglikelihood(d, rand(d, 100_000)) / 100_000"
     ],
     "language": "python",
     "metadata": {},
     "outputs": [
      {
       "metadata": {},
       "output_type": "pyout",
       "prompt_number": 19,
       "text": [
        "1.423783834565345"
       ]
      }
     ],
     "prompt_number": 19
    },
    {
     "cell_type": "heading",
     "level": 4,
     "metadata": {},
     "source": [
      "Theoretical Properties of Distributions"
     ]
    },
    {
     "cell_type": "code",
     "collapsed": false,
     "input": [
      "entropy(d)"
     ],
     "language": "python",
     "metadata": {},
     "outputs": [
      {
       "metadata": {},
       "output_type": "pyout",
       "prompt_number": 20,
       "text": [
        "1.4189385332046727"
       ]
      }
     ],
     "prompt_number": 20
    },
    {
     "cell_type": "code",
     "collapsed": false,
     "input": [
      "mean(d)"
     ],
     "language": "python",
     "metadata": {},
     "outputs": [
      {
       "metadata": {},
       "output_type": "pyout",
       "prompt_number": 21,
       "text": [
        "0.0"
       ]
      }
     ],
     "prompt_number": 21
    },
    {
     "cell_type": "code",
     "collapsed": false,
     "input": [
      "skewness(d)"
     ],
     "language": "python",
     "metadata": {},
     "outputs": [
      {
       "metadata": {},
       "output_type": "pyout",
       "prompt_number": 22,
       "text": [
        "0.0"
       ]
      }
     ],
     "prompt_number": 22
    },
    {
     "cell_type": "code",
     "collapsed": false,
     "input": [
      "kurtosis(d)"
     ],
     "language": "python",
     "metadata": {},
     "outputs": [
      {
       "metadata": {},
       "output_type": "pyout",
       "prompt_number": 23,
       "text": [
        "0.0"
       ]
      }
     ],
     "prompt_number": 23
    },
    {
     "cell_type": "code",
     "collapsed": false,
     "input": [
      "var(d)"
     ],
     "language": "python",
     "metadata": {},
     "outputs": [
      {
       "metadata": {},
       "output_type": "pyout",
       "prompt_number": 24,
       "text": [
        "1.0"
       ]
      }
     ],
     "prompt_number": 24
    },
    {
     "cell_type": "code",
     "collapsed": false,
     "input": [
      "modes(d)"
     ],
     "language": "python",
     "metadata": {},
     "outputs": [
      {
       "metadata": {},
       "output_type": "pyout",
       "prompt_number": 25,
       "text": [
        "1-element Array{Float64,1}:\n",
        " 0.0"
       ]
      }
     ],
     "prompt_number": 25
    },
    {
     "cell_type": "heading",
     "level": 4,
     "metadata": {},
     "source": [
      "Fit Distributions to Data"
     ]
    },
    {
     "cell_type": "code",
     "collapsed": false,
     "input": [
      "fit_mle(Normal, rand(d, 1_000))"
     ],
     "language": "python",
     "metadata": {},
     "outputs": [
      {
       "metadata": {},
       "output_type": "pyout",
       "prompt_number": 26,
       "text": [
        "Normal( \u03bc=0.0009155963352806374 \u03c3=0.9901022974576454 )"
       ]
      }
     ],
     "prompt_number": 26
    },
    {
     "cell_type": "code",
     "collapsed": false,
     "input": [
      "posterior(Beta(3, 3), Bernoulli, rand(Bernoulli(0.9), 10_000))"
     ],
     "language": "python",
     "metadata": {},
     "outputs": [
      {
       "metadata": {},
       "output_type": "pyout",
       "prompt_number": 27,
       "text": [
        "Beta( alpha=9041.0 beta=965.0 )"
       ]
      }
     ],
     "prompt_number": 27
    },
    {
     "cell_type": "heading",
     "level": 4,
     "metadata": {},
     "source": [
      "Density Estimation"
     ]
    },
    {
     "cell_type": "code",
     "collapsed": false,
     "input": [
      "using Vega"
     ],
     "language": "python",
     "metadata": {},
     "outputs": [],
     "prompt_number": 28
    },
    {
     "cell_type": "code",
     "collapsed": false,
     "input": [
      "x = rand(Gamma(3, 3), 100_000)"
     ],
     "language": "python",
     "metadata": {},
     "outputs": [
      {
       "metadata": {},
       "output_type": "pyout",
       "prompt_number": 29,
       "text": [
        "100000-element Array{Float64,1}:\n",
        "  7.09349 \n",
        "  2.01606 \n",
        "  5.33649 \n",
        "  6.63576 \n",
        "  4.13087 \n",
        " 10.5227  \n",
        "  6.06088 \n",
        "  3.7931  \n",
        "  5.29496 \n",
        "  4.95943 \n",
        "  8.91318 \n",
        "  3.88907 \n",
        " 14.9672  \n",
        "  \u22ee       \n",
        "  7.45055 \n",
        " 11.7928  \n",
        "  6.30442 \n",
        "  9.21909 \n",
        "  9.97722 \n",
        " 24.0518  \n",
        "  6.18457 \n",
        "  8.10904 \n",
        "  5.7814  \n",
        "  9.31352 \n",
        "  0.989889\n",
        "  9.07424 "
       ]
      }
     ],
     "prompt_number": 29
    },
    {
     "cell_type": "code",
     "collapsed": false,
     "input": [
      "k = kde(x)"
     ],
     "language": "python",
     "metadata": {},
     "outputs": [
      {
       "metadata": {},
       "output_type": "pyout",
       "prompt_number": 30,
       "text": [
        "UnivariateKDE([-1.2293335616139427,-1.1942895892190262,-1.1592456168241096,-1.1242016444291931,-1.0891576720342766,-1.05411369963936,-1.0190697272444436,-0.984025754849527,-0.9489817824546105,-0.913937810059694  \u2026  70.19028217922595,70.22532615162086,70.26037012401578,70.2954140964107,70.33045806880561,70.36550204120053,70.40054601359545,70.43558998599036,70.47063395838528,70.5056779307802],[1.697791071743858e-6,2.1825480101041878e-6,2.8168308084186924e-6,3.6373769732788927e-6,4.689387125351302e-6,6.028041244918875e-6,7.720210107817552e-6,9.846368670660827e-6,1.250271370148437e-5,1.580348242945749e-5  \u2026  8.435592208046378e-7,7.47719323535603e-7,6.799515067201604e-7,6.421387798248427e-7,6.372576678631754e-7,6.69697287426546e-7,7.456351521357139e-7,8.734814570260244e-7,1.0644049115744866e-6,1.3329543292037085e-6])"
       ]
      }
     ],
     "prompt_number": 30
    },
    {
     "cell_type": "code",
     "collapsed": false,
     "input": [
      "names(Distributions.UnivariateKDE)"
     ],
     "language": "python",
     "metadata": {},
     "outputs": [
      {
       "metadata": {},
       "output_type": "pyout",
       "prompt_number": 31,
       "text": [
        "2-element Array{Any,1}:\n",
        " :x      \n",
        " :density"
       ]
      }
     ],
     "prompt_number": 31
    },
    {
     "cell_type": "code",
     "collapsed": false,
     "input": [
      "plot(x = k.x, y = k.density, kind = :area)"
     ],
     "language": "python",
     "metadata": {},
     "outputs": [
      {
       "metadata": {},
       "output_type": "pyout",
       "prompt_number": 32,
       "text": []
      }
     ],
     "prompt_number": 32
    },
    {
     "cell_type": "code",
     "collapsed": false,
     "input": [
      "plot(x = k.x, y = k.density, kind = :line)"
     ],
     "language": "python",
     "metadata": {},
     "outputs": [
      {
       "metadata": {},
       "output_type": "pyout",
       "prompt_number": 33,
       "text": []
      }
     ],
     "prompt_number": 33
    },
    {
     "cell_type": "heading",
     "level": 1,
     "metadata": {},
     "source": [
      "Tabular Data and Missing Values in Julia"
     ]
    },
    {
     "cell_type": "heading",
     "level": 4,
     "metadata": {},
     "source": [
      "Representing Missing Values"
     ]
    },
    {
     "cell_type": "code",
     "collapsed": false,
     "input": [
      "using DataFrames"
     ],
     "language": "python",
     "metadata": {},
     "outputs": [],
     "prompt_number": 34
    },
    {
     "cell_type": "code",
     "collapsed": false,
     "input": [
      "NA + 1"
     ],
     "language": "python",
     "metadata": {},
     "outputs": [
      {
       "metadata": {},
       "output_type": "pyout",
       "prompt_number": 35,
       "text": [
        "NA"
       ]
      }
     ],
     "prompt_number": 35
    },
    {
     "cell_type": "code",
     "collapsed": false,
     "input": [
      "x = DataArray([1, 2, 3])"
     ],
     "language": "python",
     "metadata": {},
     "outputs": [
      {
       "metadata": {},
       "output_type": "pyout",
       "prompt_number": 36,
       "text": [
        "3-element DataArray{Int64,1}:\n",
        " 1\n",
        " 2\n",
        " 3"
       ]
      }
     ],
     "prompt_number": 36
    },
    {
     "cell_type": "code",
     "collapsed": false,
     "input": [
      "x[1] = NA"
     ],
     "language": "python",
     "metadata": {},
     "outputs": [
      {
       "metadata": {},
       "output_type": "pyout",
       "prompt_number": 37,
       "text": [
        "NA"
       ]
      }
     ],
     "prompt_number": 37
    },
    {
     "cell_type": "code",
     "collapsed": false,
     "input": [
      "mean(x)"
     ],
     "language": "python",
     "metadata": {},
     "outputs": [
      {
       "metadata": {},
       "output_type": "pyout",
       "prompt_number": 38,
       "text": [
        "NA"
       ]
      }
     ],
     "prompt_number": 38
    },
    {
     "cell_type": "code",
     "collapsed": false,
     "input": [
      "x[!isna(x)]"
     ],
     "language": "python",
     "metadata": {},
     "outputs": [
      {
       "metadata": {},
       "output_type": "pyout",
       "prompt_number": 39,
       "text": [
        "2-element DataArray{Int64,1}:\n",
        " 2\n",
        " 3"
       ]
      }
     ],
     "prompt_number": 39
    },
    {
     "cell_type": "code",
     "collapsed": false,
     "input": [
      "mean(x[!isna(x)])"
     ],
     "language": "python",
     "metadata": {},
     "outputs": [
      {
       "metadata": {},
       "output_type": "pyout",
       "prompt_number": 40,
       "text": [
        "2.5"
       ]
      }
     ],
     "prompt_number": 40
    },
    {
     "cell_type": "code",
     "collapsed": false,
     "input": [
      "y = PooledDataArray([1, 1, 2, 3])"
     ],
     "language": "python",
     "metadata": {},
     "outputs": [
      {
       "metadata": {},
       "output_type": "pyout",
       "prompt_number": 41,
       "text": [
        "4-element PooledDataArray{Int64,Uint32,1}:\n",
        " 1\n",
        " 1\n",
        " 2\n",
        " 3"
       ]
      }
     ],
     "prompt_number": 41
    },
    {
     "cell_type": "code",
     "collapsed": false,
     "input": [
      "levels(y)"
     ],
     "language": "python",
     "metadata": {},
     "outputs": [
      {
       "metadata": {},
       "output_type": "pyout",
       "prompt_number": 42,
       "text": [
        "3-element Array{Int64,1}:\n",
        " 1\n",
        " 2\n",
        " 3"
       ]
      }
     ],
     "prompt_number": 42
    },
    {
     "cell_type": "heading",
     "level": 4,
     "metadata": {},
     "source": [
      "Representing Tabular Data"
     ]
    },
    {
     "cell_type": "code",
     "collapsed": false,
     "input": [
      "df = DataFrame(A = float(1:10), B = rand(10))"
     ],
     "language": "python",
     "metadata": {},
     "outputs": [
      {
       "metadata": {},
       "output_type": "pyout",
       "prompt_number": 43,
       "text": [
        "10x2 DataFrame:\n",
        "            A         B\n",
        "[1,]      1.0  0.356228\n",
        "[2,]      2.0  0.453716\n",
        "[3,]      3.0  0.907778\n",
        "[4,]      4.0  0.411983\n",
        "[5,]      5.0  0.516248\n",
        "[6,]      6.0  0.447162\n",
        "[7,]      7.0  0.189048\n",
        "[8,]      8.0  0.328707\n",
        "[9,]      9.0  0.649052\n",
        "[10,]    10.0 0.0445965\n"
       ]
      }
     ],
     "prompt_number": 43
    },
    {
     "cell_type": "code",
     "collapsed": false,
     "input": [
      "head(df)"
     ],
     "language": "python",
     "metadata": {},
     "outputs": [
      {
       "metadata": {},
       "output_type": "pyout",
       "prompt_number": 44,
       "text": [
        "6x2 DataFrame:\n",
        "          A        B\n",
        "[1,]    1.0 0.356228\n",
        "[2,]    2.0 0.453716\n",
        "[3,]    3.0 0.907778\n",
        "[4,]    4.0 0.411983\n",
        "[5,]    5.0 0.516248\n",
        "[6,]    6.0 0.447162\n"
       ]
      }
     ],
     "prompt_number": 44
    },
    {
     "cell_type": "code",
     "collapsed": false,
     "input": [
      "tail(df)"
     ],
     "language": "python",
     "metadata": {},
     "outputs": [
      {
       "metadata": {},
       "output_type": "pyout",
       "prompt_number": 45,
       "text": [
        "6x2 DataFrame:\n",
        "           A         B\n",
        "[1,]     5.0  0.516248\n",
        "[2,]     6.0  0.447162\n",
        "[3,]     7.0  0.189048\n",
        "[4,]     8.0  0.328707\n",
        "[5,]     9.0  0.649052\n",
        "[6,]    10.0 0.0445965\n"
       ]
      }
     ],
     "prompt_number": 45
    },
    {
     "cell_type": "code",
     "collapsed": false,
     "input": [
      "df[\"C\"] = repeat([\"G1\", \"G2\"], inner = [5])"
     ],
     "language": "python",
     "metadata": {},
     "outputs": [
      {
       "metadata": {},
       "output_type": "pyout",
       "prompt_number": 46,
       "text": [
        "10-element Array{ASCIIString,1}:\n",
        " \"G1\"\n",
        " \"G1\"\n",
        " \"G1\"\n",
        " \"G1\"\n",
        " \"G1\"\n",
        " \"G2\"\n",
        " \"G2\"\n",
        " \"G2\"\n",
        " \"G2\"\n",
        " \"G2\""
       ]
      }
     ],
     "prompt_number": 46
    },
    {
     "cell_type": "code",
     "collapsed": false,
     "input": [
      "df[1:10, :]"
     ],
     "language": "python",
     "metadata": {},
     "outputs": [
      {
       "metadata": {},
       "output_type": "pyout",
       "prompt_number": 47,
       "text": [
        "10x3 DataFrame:\n",
        "            A         B    C\n",
        "[1,]      1.0  0.356228 \"G1\"\n",
        "[2,]      2.0  0.453716 \"G1\"\n",
        "[3,]      3.0  0.907778 \"G1\"\n",
        "[4,]      4.0  0.411983 \"G1\"\n",
        "[5,]      5.0  0.516248 \"G1\"\n",
        "[6,]      6.0  0.447162 \"G2\"\n",
        "[7,]      7.0  0.189048 \"G2\"\n",
        "[8,]      8.0  0.328707 \"G2\"\n",
        "[9,]      9.0  0.649052 \"G2\"\n",
        "[10,]    10.0 0.0445965 \"G2\"\n"
       ]
      }
     ],
     "prompt_number": 47
    },
    {
     "cell_type": "code",
     "collapsed": false,
     "input": [
      "by(df, \"C\", df -> mean(df[\"B\"]))"
     ],
     "language": "python",
     "metadata": {},
     "outputs": [
      {
       "metadata": {},
       "output_type": "pyout",
       "prompt_number": 48,
       "text": [
        "2x2 DataFrame:\n",
        "           C       x1\n",
        "[1,]    \"G1\" 0.529191\n",
        "[2,]    \"G2\" 0.331713\n"
       ]
      }
     ],
     "prompt_number": 48
    },
    {
     "cell_type": "code",
     "collapsed": false,
     "input": [
      "select(:(C .== \"G1\"), df)"
     ],
     "language": "python",
     "metadata": {},
     "outputs": [
      {
       "output_type": "stream",
       "stream": "stderr",
       "text": [
        "WARNING: contains(collection, item) is deprecated, use in(item, collection) instead"
       ]
      },
      {
       "output_type": "stream",
       "stream": "stderr",
       "text": [
        "\n",
        " in contains at reduce.jl:238\n"
       ]
      },
      {
       "metadata": {},
       "output_type": "pyout",
       "prompt_number": 49,
       "text": [
        "5x3 SubDataFrame:\n",
        "          A        B    C\n",
        "[1,]    1.0 0.356228 \"G1\"\n",
        "[2,]    2.0 0.453716 \"G1\"\n",
        "[3,]    3.0 0.907778 \"G1\"\n",
        "[4,]    4.0 0.411983 \"G1\"\n",
        "[5,]    5.0 0.516248 \"G1\"\n"
       ]
      }
     ],
     "prompt_number": 49
    },
    {
     "cell_type": "heading",
     "level": 4,
     "metadata": {},
     "source": [
      "Standard Datasets"
     ]
    },
    {
     "cell_type": "code",
     "collapsed": false,
     "input": [
      "using RDatasets"
     ],
     "language": "python",
     "metadata": {},
     "outputs": [],
     "prompt_number": 50
    },
    {
     "cell_type": "code",
     "collapsed": false,
     "input": [
      "iris = data(\"datasets\", \"iris\")"
     ],
     "language": "python",
     "metadata": {},
     "outputs": [
      {
       "metadata": {},
       "output_type": "pyout",
       "prompt_number": 51,
       "text": [
        "150x6 DataFrame:\n",
        "              Sepal.Length Sepal.Width Petal.Length Petal.Width     Species\n",
        "[1,]        1          5.1         3.5          1.4         0.2    \"setosa\"\n",
        "[2,]        2          4.9         3.0          1.4         0.2    \"setosa\"\n",
        "[3,]        3          4.7         3.2          1.3         0.2    \"setosa\"\n",
        "[4,]        4          4.6         3.1          1.5         0.2    \"setosa\"\n",
        "[5,]        5          5.0         3.6          1.4         0.2    \"setosa\"\n",
        "[6,]        6          5.4         3.9          1.7         0.4    \"setosa\"\n",
        "[7,]        7          4.6         3.4          1.4         0.3    \"setosa\"\n",
        "[8,]        8          5.0         3.4          1.5         0.2    \"setosa\"\n",
        "[9,]        9          4.4         2.9          1.4         0.2    \"setosa\"\n",
        "[10,]      10          4.9         3.1          1.5         0.1    \"setosa\"\n",
        "[11,]      11          5.4         3.7          1.5         0.2    \"setosa\"\n",
        "[12,]      12          4.8         3.4          1.6         0.2    \"setosa\"\n",
        "[13,]      13          4.8         3.0          1.4         0.1    \"setosa\"\n",
        "[14,]      14          4.3         3.0          1.1         0.1    \"setosa\"\n",
        "[15,]      15          5.8         4.0          1.2         0.2    \"setosa\"\n",
        "[16,]      16          5.7         4.4          1.5         0.4    \"setosa\"\n",
        "[17,]      17          5.4         3.9          1.3         0.4    \"setosa\"\n",
        "[18,]      18          5.1         3.5          1.4         0.3    \"setosa\"\n",
        "[19,]      19          5.7         3.8          1.7         0.3    \"setosa\"\n",
        "[20,]      20          5.1         3.8          1.5         0.3    \"setosa\"\n",
        "  :\n",
        "[131,]    131          7.4         2.8          6.1         1.9 \"virginica\"\n",
        "[132,]    132          7.9         3.8          6.4         2.0 \"virginica\"\n",
        "[133,]    133          6.4         2.8          5.6         2.2 \"virginica\"\n",
        "[134,]    134          6.3         2.8          5.1         1.5 \"virginica\"\n",
        "[135,]    135          6.1         2.6          5.6         1.4 \"virginica\"\n",
        "[136,]    136          7.7         3.0          6.1         2.3 \"virginica\"\n",
        "[137,]    137          6.3         3.4          5.6         2.4 \"virginica\"\n",
        "[138,]    138          6.4         3.1          5.5         1.8 \"virginica\"\n",
        "[139,]    139          6.0         3.0          4.8         1.8 \"virginica\"\n",
        "[140,]    140          6.9         3.1          5.4         2.1 \"virginica\"\n",
        "[141,]    141          6.7         3.1          5.6         2.4 \"virginica\"\n",
        "[142,]    142          6.9         3.1          5.1         2.3 \"virginica\"\n",
        "[143,]    143          5.8         2.7          5.1         1.9 \"virginica\"\n",
        "[144,]    144          6.8         3.2          5.9         2.3 \"virginica\"\n",
        "[145,]    145          6.7         3.3          5.7         2.5 \"virginica\"\n",
        "[146,]    146          6.7         3.0          5.2         2.3 \"virginica\"\n",
        "[147,]    147          6.3         2.5          5.0         1.9 \"virginica\"\n",
        "[148,]    148          6.5         3.0          5.2         2.0 \"virginica\"\n",
        "[149,]    149          6.2         3.4          5.4         2.3 \"virginica\"\n",
        "[150,]    150          5.9         3.0          5.1         1.8 \"virginica\"\n"
       ]
      }
     ],
     "prompt_number": 51
    },
    {
     "cell_type": "code",
     "collapsed": false,
     "input": [
      "head(iris)"
     ],
     "language": "python",
     "metadata": {},
     "outputs": [
      {
       "metadata": {},
       "output_type": "pyout",
       "prompt_number": 52,
       "text": [
        "6x6 DataFrame:\n",
        "          Sepal.Length Sepal.Width Petal.Length Petal.Width  Species\n",
        "[1,]    1          5.1         3.5          1.4         0.2 \"setosa\"\n",
        "[2,]    2          4.9         3.0          1.4         0.2 \"setosa\"\n",
        "[3,]    3          4.7         3.2          1.3         0.2 \"setosa\"\n",
        "[4,]    4          4.6         3.1          1.5         0.2 \"setosa\"\n",
        "[5,]    5          5.0         3.6          1.4         0.2 \"setosa\"\n",
        "[6,]    6          5.4         3.9          1.7         0.4 \"setosa\"\n"
       ]
      }
     ],
     "prompt_number": 52
    },
    {
     "cell_type": "heading",
     "level": 4,
     "metadata": {},
     "source": [
      "DataFrames to Design Matrices"
     ]
    },
    {
     "cell_type": "code",
     "collapsed": false,
     "input": [
      "ModelMatrix(ModelFrame(:(A ~ B), df))"
     ],
     "language": "python",
     "metadata": {},
     "outputs": [
      {
       "metadata": {},
       "output_type": "pyout",
       "prompt_number": 53,
       "text": [
        "ModelMatrix{Float64}(10x2 Array{Float64,2}:\n",
        " 1.0  0.356228 \n",
        " 1.0  0.453716 \n",
        " 1.0  0.907778 \n",
        " 1.0  0.411983 \n",
        " 1.0  0.516248 \n",
        " 1.0  0.447162 \n",
        " 1.0  0.189048 \n",
        " 1.0  0.328707 \n",
        " 1.0  0.649052 \n",
        " 1.0  0.0445965,[0,1])"
       ]
      }
     ],
     "prompt_number": 53
    },
    {
     "cell_type": "code",
     "collapsed": false,
     "input": [
      "writetable(\"df.csv\", df)"
     ],
     "language": "python",
     "metadata": {},
     "outputs": [],
     "prompt_number": 54
    },
    {
     "cell_type": "code",
     "collapsed": false,
     "input": [
      "df2 = readtable(\"df.csv\")"
     ],
     "language": "python",
     "metadata": {},
     "outputs": [
      {
       "metadata": {},
       "output_type": "pyout",
       "prompt_number": 55,
       "text": [
        "10x3 DataFrame:\n",
        "            A         B    C\n",
        "[1,]      1.0  0.356228 \"G1\"\n",
        "[2,]      2.0  0.453716 \"G1\"\n",
        "[3,]      3.0  0.907778 \"G1\"\n",
        "[4,]      4.0  0.411983 \"G1\"\n",
        "[5,]      5.0  0.516248 \"G1\"\n",
        "[6,]      6.0  0.447162 \"G2\"\n",
        "[7,]      7.0  0.189048 \"G2\"\n",
        "[8,]      8.0  0.328707 \"G2\"\n",
        "[9,]      9.0  0.649052 \"G2\"\n",
        "[10,]    10.0 0.0445965 \"G2\"\n"
       ]
      }
     ],
     "prompt_number": 55
    },
    {
     "cell_type": "code",
     "collapsed": false,
     "input": [
      "A = DataFrame(X = 1:3, Z = [\"A\", \"B\", \"C\"])"
     ],
     "language": "python",
     "metadata": {},
     "outputs": [
      {
       "metadata": {},
       "output_type": "pyout",
       "prompt_number": 56,
       "text": [
        "3x2 DataFrame:\n",
        "        X   Z\n",
        "[1,]    1 \"A\"\n",
        "[2,]    2 \"B\"\n",
        "[3,]    3 \"C\"\n"
       ]
      }
     ],
     "prompt_number": 56
    },
    {
     "cell_type": "code",
     "collapsed": false,
     "input": [
      "B = DataFrame(Y = 4:6, Z = [\"A\", \"B\", \"B\"])"
     ],
     "language": "python",
     "metadata": {},
     "outputs": [
      {
       "metadata": {},
       "output_type": "pyout",
       "prompt_number": 57,
       "text": [
        "3x2 DataFrame:\n",
        "        Y   Z\n",
        "[1,]    4 \"A\"\n",
        "[2,]    5 \"B\"\n",
        "[3,]    6 \"B\"\n"
       ]
      }
     ],
     "prompt_number": 57
    },
    {
     "cell_type": "code",
     "collapsed": false,
     "input": [
      "join(A, B, on = \"Z\")"
     ],
     "language": "python",
     "metadata": {},
     "outputs": [
      {
       "metadata": {},
       "output_type": "pyout",
       "prompt_number": 58,
       "text": [
        "3x3 DataFrame:\n",
        "        X   Z Y\n",
        "[1,]    1 \"A\" 4\n",
        "[2,]    2 \"B\" 5\n",
        "[3,]    2 \"B\" 6\n"
       ]
      }
     ],
     "prompt_number": 58
    },
    {
     "cell_type": "code",
     "collapsed": false,
     "input": [
      "join(A, B, on = \"Z\", kind = :inner)"
     ],
     "language": "python",
     "metadata": {},
     "outputs": [
      {
       "metadata": {},
       "output_type": "pyout",
       "prompt_number": 59,
       "text": [
        "3x3 DataFrame:\n",
        "        X   Z Y\n",
        "[1,]    1 \"A\" 4\n",
        "[2,]    2 \"B\" 5\n",
        "[3,]    2 \"B\" 6\n"
       ]
      }
     ],
     "prompt_number": 59
    },
    {
     "cell_type": "code",
     "collapsed": false,
     "input": [
      "join(A, B, on = \"Z\", kind = :left)"
     ],
     "language": "python",
     "metadata": {},
     "outputs": [
      {
       "metadata": {},
       "output_type": "pyout",
       "prompt_number": 60,
       "text": [
        "4x3 DataFrame:\n",
        "        X   Z  Y\n",
        "[1,]    1 \"A\"  4\n",
        "[2,]    2 \"B\"  5\n",
        "[3,]    2 \"B\"  6\n",
        "[4,]    3 \"C\" NA\n"
       ]
      }
     ],
     "prompt_number": 60
    },
    {
     "cell_type": "code",
     "collapsed": false,
     "input": [
      "join(A, B, on = \"Z\", kind = :right)"
     ],
     "language": "python",
     "metadata": {},
     "outputs": [
      {
       "metadata": {},
       "output_type": "pyout",
       "prompt_number": 61,
       "text": [
        "3x3 DataFrame:\n",
        "        X Y   Z\n",
        "[1,]    1 4 \"A\"\n",
        "[2,]    2 5 \"B\"\n",
        "[3,]    2 6 \"B\"\n"
       ]
      }
     ],
     "prompt_number": 61
    },
    {
     "cell_type": "code",
     "collapsed": false,
     "input": [
      "join(A, B, on = \"Z\", kind = :outer)"
     ],
     "language": "python",
     "metadata": {},
     "outputs": [
      {
       "metadata": {},
       "output_type": "pyout",
       "prompt_number": 62,
       "text": [
        "4x3 DataFrame:\n",
        "        X   Z  Y\n",
        "[1,]    1 \"A\"  4\n",
        "[2,]    2 \"B\"  5\n",
        "[3,]    2 \"B\"  6\n",
        "[4,]    3 \"C\" NA\n"
       ]
      }
     ],
     "prompt_number": 62
    },
    {
     "cell_type": "code",
     "collapsed": false,
     "input": [
      "by(iris, \"Species\", nrow)"
     ],
     "language": "python",
     "metadata": {},
     "outputs": [
      {
       "metadata": {},
       "output_type": "pyout",
       "prompt_number": 63,
       "text": [
        "3x2 DataFrame:\n",
        "             Species x1\n",
        "[1,]        \"setosa\" 50\n",
        "[2,]    \"versicolor\" 50\n",
        "[3,]     \"virginica\" 50\n"
       ]
      }
     ],
     "prompt_number": 63
    },
    {
     "cell_type": "code",
     "collapsed": false,
     "input": [
      "by(iris, \"Species\", df -> mean(df[\"Petal.Length\"]))"
     ],
     "language": "python",
     "metadata": {},
     "outputs": [
      {
       "metadata": {},
       "output_type": "pyout",
       "prompt_number": 64,
       "text": [
        "3x2 DataFrame:\n",
        "             Species    x1\n",
        "[1,]        \"setosa\" 1.462\n",
        "[2,]    \"versicolor\"  4.26\n",
        "[3,]     \"virginica\" 5.552\n"
       ]
      }
     ],
     "prompt_number": 64
    },
    {
     "cell_type": "code",
     "collapsed": false,
     "input": [
      "by(iris, \"Species\", :(N = size(_DF, 1)))"
     ],
     "language": "python",
     "metadata": {},
     "outputs": [
      {
       "metadata": {},
       "output_type": "pyout",
       "prompt_number": 65,
       "text": [
        "3x2 DataFrame:\n",
        "             Species  N\n",
        "[1,]        \"setosa\" 50\n",
        "[2,]    \"versicolor\" 50\n",
        "[3,]     \"virginica\" 50\n"
       ]
      }
     ],
     "prompt_number": 65
    },
    {
     "cell_type": "heading",
     "level": 1,
     "metadata": {},
     "source": [
      "GLM's in Julia"
     ]
    },
    {
     "cell_type": "code",
     "collapsed": false,
     "input": [
      "using GLM"
     ],
     "language": "python",
     "metadata": {},
     "outputs": [
      {
       "output_type": "stream",
       "stream": "stderr",
       "text": [
        "Warning: using NumericExtensions.Gamma in module Main conflicts with an existing identifier.\n"
       ]
      }
     ],
     "prompt_number": 66
    },
    {
     "cell_type": "code",
     "collapsed": false,
     "input": [
      "glm(:(B ~ A), df, Binomial())"
     ],
     "language": "python",
     "metadata": {},
     "outputs": [
      {
       "metadata": {},
       "output_type": "pyout",
       "prompt_number": 67,
       "text": [
        "\n",
        "Formula: B ~ A\n",
        "\n",
        "Coefficients:\n",
        "\n",
        "2x4 DataFrame:\n",
        "         Estimate Std.Error   z value Pr(>|z|)\n",
        "[1,]     0.413834   1.38771  0.298213 0.765541\n",
        "[2,]    -0.127847  0.229045 -0.558176 0.576724\n",
        "\n"
       ]
      }
     ],
     "prompt_number": 67
    },
    {
     "cell_type": "code",
     "collapsed": false,
     "input": [
      "glm(:(A ~ B), df, Poisson())"
     ],
     "language": "python",
     "metadata": {},
     "outputs": [
      {
       "metadata": {},
       "output_type": "pyout",
       "prompt_number": 68,
       "text": [
        "\n",
        "Formula: A ~ B\n",
        "\n",
        "Coefficients:\n",
        "\n",
        "2x4 DataFrame:\n",
        "         Estimate Std.Error  z value    Pr(>|z|)\n",
        "[1,]      2.09119  0.275628  7.58699 3.27434e-14\n",
        "[2,]    -0.949325  0.625439 -1.51785    0.129051\n",
        "\n"
       ]
      }
     ],
     "prompt_number": 68
    },
    {
     "cell_type": "heading",
     "level": 1,
     "metadata": {},
     "source": [
      "Optimization in Julia"
     ]
    },
    {
     "cell_type": "code",
     "collapsed": false,
     "input": [
      "using Optim"
     ],
     "language": "python",
     "metadata": {},
     "outputs": [],
     "prompt_number": 69
    },
    {
     "cell_type": "code",
     "collapsed": false,
     "input": [
      "f(x::Vector) = (10.73 - x[1])^2 + (1134.29 - x[2])^4"
     ],
     "language": "python",
     "metadata": {},
     "outputs": [
      {
       "metadata": {},
       "output_type": "pyout",
       "prompt_number": 70,
       "text": [
        "# methods for generic function f\n",
        "f(x::Array{T,1}) at In[70]:1"
       ]
      }
     ],
     "prompt_number": 70
    },
    {
     "cell_type": "code",
     "collapsed": false,
     "input": [
      "f([0.0, 0.0])"
     ],
     "language": "python",
     "metadata": {},
     "outputs": [
      {
       "metadata": {},
       "output_type": "pyout",
       "prompt_number": 71,
       "text": [
        "1.6553750810158057e12"
       ]
      }
     ],
     "prompt_number": 71
    },
    {
     "cell_type": "code",
     "collapsed": false,
     "input": [
      "optimize(f, [0.0, 0.0])"
     ],
     "language": "python",
     "metadata": {},
     "outputs": [
      {
       "metadata": {},
       "output_type": "pyout",
       "prompt_number": 72,
       "text": [
        "Results of Optimization Algorithm\n",
        " * Algorithm: Nelder-Mead\n",
        " * Starting Point: 0.0,0.0\n",
        " * Minimum: 10.729963758708099,1134.2876531089082\n",
        " * Value of Function at Minimum: 0.000000\n",
        " * Iterations: 68\n",
        " * Convergence: true\n",
        "   * |x - x'| < NaN: false\n",
        "   * |f(x) - f(x')| / |f(x)| < 1.0e-08: true\n",
        "   * |g(x)| < NaN: false\n",
        "   * Exceeded Maximum Number of Iterations: false\n",
        " * Objective Function Calls: 132\n",
        " * Gradient Call: 0"
       ]
      }
     ],
     "prompt_number": 72
    },
    {
     "cell_type": "code",
     "collapsed": false,
     "input": [
      "optimize(f, [0.0, 0.0], method = :l_bfgs)"
     ],
     "language": "python",
     "metadata": {},
     "outputs": [
      {
       "metadata": {},
       "output_type": "pyout",
       "prompt_number": 73,
       "text": [
        "Results of Optimization Algorithm\n",
        " * Algorithm: L-BFGS\n",
        " * Starting Point: 0.0,0.0\n",
        " * Minimum: 10.730000000844589,1134.290201363321\n",
        " * Value of Function at Minimum: 0.000000\n",
        " * Iterations: 23\n",
        " * Convergence: true\n",
        "   * |x - x'| < 1.0e-32: false\n",
        "   * |f(x) - f(x')| / |f(x)| < 1.0e-08: false\n",
        "   * |g(x)| < 1.0e-08: true\n",
        "   * Exceeded Maximum Number of Iterations: false\n",
        " * Objective Function Calls: 121\n",
        " * Gradient Call: 121"
       ]
      }
     ],
     "prompt_number": 73
    },
    {
     "cell_type": "heading",
     "level": 1,
     "metadata": {},
     "source": [
      "Maximum Likelihood Estimation in Julia"
     ]
    },
    {
     "cell_type": "code",
     "collapsed": false,
     "input": [
      "data = rand(Normal(11, 3), 1_000)"
     ],
     "language": "python",
     "metadata": {},
     "outputs": [
      {
       "metadata": {},
       "output_type": "pyout",
       "prompt_number": 74,
       "text": [
        "1000-element Array{Float64,1}:\n",
        "  9.43294\n",
        " 10.0203 \n",
        " 12.4304 \n",
        "  6.81028\n",
        "  7.70659\n",
        " 13.0767 \n",
        "  5.74455\n",
        " 10.5741 \n",
        " 13.2927 \n",
        " 14.8143 \n",
        " 12.4419 \n",
        "  7.91897\n",
        " 14.3559 \n",
        "  \u22ee      \n",
        " 12.5939 \n",
        "  4.96149\n",
        "  7.78933\n",
        "  9.56651\n",
        " 12.4896 \n",
        "  9.78738\n",
        " 11.7424 \n",
        " 19.6762 \n",
        "  7.07338\n",
        " 15.6382 \n",
        " 13.9677 \n",
        " 12.2224 "
       ]
      },
      {
       "output_type": "stream",
       "stream": "stderr",
       "text": [
        "Warning: imported binding for data overwritten in module Main\n"
       ]
      }
     ],
     "prompt_number": 74
    },
    {
     "cell_type": "code",
     "collapsed": false,
     "input": [
      "function makenll(data)\n",
      "    nll(params::Vector) = -loglikelihood(Normal(params[1], 3), data)\n",
      "end"
     ],
     "language": "python",
     "metadata": {},
     "outputs": [
      {
       "metadata": {},
       "output_type": "pyout",
       "prompt_number": 75,
       "text": [
        "# methods for generic function makenll\n",
        "makenll(data) at In[75]:2"
       ]
      }
     ],
     "prompt_number": 75
    },
    {
     "cell_type": "code",
     "collapsed": false,
     "input": [
      "nll = makenll(data)"
     ],
     "language": "python",
     "metadata": {},
     "outputs": [
      {
       "metadata": {},
       "output_type": "pyout",
       "prompt_number": 76,
       "text": [
        "# methods for generic function nll\n",
        "nll(params::Array{T,1}) at In[75]:2"
       ]
      }
     ],
     "prompt_number": 76
    },
    {
     "cell_type": "code",
     "collapsed": false,
     "input": [
      "nll([0.0])"
     ],
     "language": "python",
     "metadata": {},
     "outputs": [
      {
       "metadata": {},
       "output_type": "pyout",
       "prompt_number": 77,
       "text": [
        "9329.9587454303"
       ]
      }
     ],
     "prompt_number": 77
    },
    {
     "cell_type": "code",
     "collapsed": false,
     "input": [
      "nll([10.0])"
     ],
     "language": "python",
     "metadata": {},
     "outputs": [
      {
       "metadata": {},
       "output_type": "pyout",
       "prompt_number": 78,
       "text": [
        "2584.569365258005"
       ]
      }
     ],
     "prompt_number": 78
    },
    {
     "cell_type": "code",
     "collapsed": false,
     "input": [
      "optimize(nll, [0.0])"
     ],
     "language": "python",
     "metadata": {},
     "outputs": [
      {
       "metadata": {},
       "output_type": "pyout",
       "prompt_number": 79,
       "text": [
        "Results of Optimization Algorithm\n",
        " * Algorithm: Nelder-Mead\n",
        " * Starting Point: 0.0\n",
        " * Minimum: 11.070846557617188\n",
        " * Value of Function at Minimum: 2520.862661\n",
        " * Iterations: 21\n",
        " * Convergence: true\n",
        "   * |x - x'| < NaN: false\n",
        "   * |f(x) - f(x')| / |f(x)| < 1.0e-08: true\n",
        "   * |g(x)| < NaN: false\n",
        "   * Exceeded Maximum Number of Iterations: false\n",
        " * Objective Function Calls: 44\n",
        " * Gradient Call: 0"
       ]
      }
     ],
     "prompt_number": 79
    },
    {
     "cell_type": "code",
     "collapsed": false,
     "input": [
      "mean(data)"
     ],
     "language": "python",
     "metadata": {},
     "outputs": [
      {
       "metadata": {},
       "output_type": "pyout",
       "prompt_number": 80,
       "text": [
        "11.070850442155036"
       ]
      }
     ],
     "prompt_number": 80
    },
    {
     "cell_type": "markdown",
     "metadata": {},
     "source": [
      "More resources:\n",
      "\n",
      "* NLopt\n",
      "* MathProg"
     ]
    },
    {
     "cell_type": "heading",
     "level": 1,
     "metadata": {},
     "source": [
      "ML Algorithms"
     ]
    },
    {
     "cell_type": "code",
     "collapsed": false,
     "input": [
      "using Clustering"
     ],
     "language": "python",
     "metadata": {},
     "outputs": [],
     "prompt_number": 81
    },
    {
     "cell_type": "code",
     "collapsed": false,
     "input": [
      "kmeans(matrix(iris[:, 2:5])', 3)"
     ],
     "language": "python",
     "metadata": {},
     "outputs": [
      {
       "output_type": "stream",
       "stream": "stdout",
       "text": [
        "  "
       ]
      },
      {
       "output_type": "stream",
       "stream": "stdout",
       "text": [
        "Iters               objv        objv-change | affected \n",
        "-------------------------------------------------------------\n",
        "      1       8.386535e+01      -7.842465e+01 |        2\n",
        "      2       7.986398e+01      -4.001368e+00 |        2\n",
        "      3       7.919714e+01      -6.668418e-01 |        2\n",
        "      4       7.885144e+01      -3.457012e-01 |        0\n",
        "      5       7.885144e+01       0.000000e+00 |        0\n",
        "K-means converged with 5 iterations (objv = 78.85144142614675)\n"
       ]
      },
      {
       "metadata": {},
       "output_type": "pyout",
       "prompt_number": 82,
       "text": [
        "KmeansResult{Float64}(4x3 Array{Float64,2}:\n",
        " 6.85     5.90161  5.006\n",
        " 3.07368  2.74839  3.428\n",
        " 5.74211  4.39355  1.462\n",
        " 2.07105  1.43387  0.246,[3,3,3,3,3,3,3,3,3,3  \u2026  1,1,2,1,1,1,2,1,1,2],[0.019980000000018094,0.20038000000000977,0.17398000000001446,0.2759800000000041,0.03557999999999595,0.45838000000000534,0.17238000000000397,0.004380000000011819,0.6519799999999947,0.1415800000000189  \u2026  0.1515927977839624,0.4679085872576536,0.7290166493236256,0.09580332409970538,0.2594875346260608,0.3742243767313198,0.8054682622268388,0.4268559556786897,0.6984349030470867,0.6964360041623081],[38,62,50],[0.0,0.0,0.0],78.85144142614675,5,true)"
       ]
      }
     ],
     "prompt_number": 82
    },
    {
     "cell_type": "code",
     "collapsed": false,
     "input": [
      "by(iris, \"Species\", df -> DataFrame(A = mean(df[2]),\n",
      "                                    B = mean(df[3]),\n",
      "                                    C = mean(df[4]),\n",
      "                                    D = mean(df[5])))"
     ],
     "language": "python",
     "metadata": {},
     "outputs": [
      {
       "metadata": {},
       "output_type": "pyout",
       "prompt_number": 86,
       "text": [
        "3x5 DataFrame:\n",
        "             Species     A     B     C     D\n",
        "[1,]        \"setosa\" 5.006 3.428 1.462 0.246\n",
        "[2,]    \"versicolor\" 5.936  2.77  4.26 1.326\n",
        "[3,]     \"virginica\" 6.588 2.974 5.552 2.026\n"
       ]
      }
     ],
     "prompt_number": 86
    },
    {
     "cell_type": "code",
     "collapsed": false,
     "input": [],
     "language": "python",
     "metadata": {},
     "outputs": []
    }
   ],
   "metadata": {}
  }
 ]
}