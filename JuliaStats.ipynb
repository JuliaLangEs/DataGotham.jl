{
 "metadata": {
  "language": "Julia",
  "name": ""
 },
 "nbformat": 3,
 "nbformat_minor": 0,
 "worksheets": [
  {
   "cells": [
    {
     "cell_type": "heading",
     "level": 1,
     "metadata": {},
     "source": [
      "Basic Statistics in Julia"
     ]
    },
    {
     "cell_type": "code",
     "collapsed": false,
     "input": [
      "using Stats"
     ],
     "language": "python",
     "metadata": {},
     "outputs": [],
     "prompt_number": 1
    },
    {
     "cell_type": "code",
     "collapsed": false,
     "input": [
      "x = rand(100)"
     ],
     "language": "python",
     "metadata": {},
     "outputs": [
      {
       "metadata": {},
       "output_type": "pyout",
       "prompt_number": 2,
       "text": [
        "100-element Array{Float64,1}:\n",
        " 0.886001 \n",
        " 0.164549 \n",
        " 0.961893 \n",
        " 0.0991163\n",
        " 0.72273  \n",
        " 0.140839 \n",
        " 0.18405  \n",
        " 0.150366 \n",
        " 0.182332 \n",
        " 0.759581 \n",
        " 0.91456  \n",
        " 0.351722 \n",
        " 0.352751 \n",
        " \u22ee        \n",
        " 0.596364 \n",
        " 0.452036 \n",
        " 0.908909 \n",
        " 0.255627 \n",
        " 0.0899511\n",
        " 0.825573 \n",
        " 0.277884 \n",
        " 0.37847  \n",
        " 0.842884 \n",
        " 0.0147454\n",
        " 0.953086 \n",
        " 0.728279 "
       ]
      }
     ],
     "prompt_number": 2
    },
    {
     "cell_type": "code",
     "collapsed": false,
     "input": [
      "min(x)"
     ],
     "language": "python",
     "metadata": {},
     "outputs": [
      {
       "metadata": {},
       "output_type": "pyout",
       "prompt_number": 3,
       "text": [
        "0.0007460304121678085"
       ]
      }
     ],
     "prompt_number": 3
    },
    {
     "cell_type": "code",
     "collapsed": false,
     "input": [
      "median(x)"
     ],
     "language": "python",
     "metadata": {},
     "outputs": [
      {
       "metadata": {},
       "output_type": "pyout",
       "prompt_number": 4,
       "text": [
        "0.5008047527917693"
       ]
      }
     ],
     "prompt_number": 4
    },
    {
     "cell_type": "code",
     "collapsed": false,
     "input": [
      "max(x)"
     ],
     "language": "python",
     "metadata": {},
     "outputs": [
      {
       "metadata": {},
       "output_type": "pyout",
       "prompt_number": 5,
       "text": [
        "0.9856490703282441"
       ]
      }
     ],
     "prompt_number": 5
    },
    {
     "cell_type": "code",
     "collapsed": false,
     "input": [
      "quantile(x, [0.0, 0.5, 1.0])"
     ],
     "language": "python",
     "metadata": {},
     "outputs": [
      {
       "metadata": {},
       "output_type": "pyout",
       "prompt_number": 6,
       "text": [
        "3-element Array{Float64,1}:\n",
        " 0.00074603\n",
        " 0.500805  \n",
        " 0.985649  "
       ]
      }
     ],
     "prompt_number": 6
    },
    {
     "cell_type": "code",
     "collapsed": false,
     "input": [
      "describe(x)"
     ],
     "language": "python",
     "metadata": {},
     "outputs": [
      {
       "output_type": "stream",
       "stream": "stdout",
       "text": [
        "Min:          0"
       ]
      },
      {
       "output_type": "stream",
       "stream": "stdout",
       "text": [
        ".000746\n",
        "1st Quartile: 0.183621\n",
        "Median:       0.500805\n",
        "Mean:         0.500927\n",
        "3rd Quartile: 0.776393\n",
        "Max:          0.985649\n"
       ]
      }
     ],
     "prompt_number": 7
    },
    {
     "cell_type": "heading",
     "level": 4,
     "metadata": {},
     "source": [
      "Many Other Statistics Available"
     ]
    },
    {
     "cell_type": "markdown",
     "metadata": {},
     "source": [
      "Summarizing \"typical\" values:\n",
      "\n",
      "* gmean\n",
      "* hmean\n",
      "* wmean\n",
      "* median\n",
      "* mode              \n",
      "* modes             \n",
      "* midrange          \n",
      "\n",
      "Summarizing variability:\n",
      "\n",
      "* range\n",
      "* iqr\n",
      "* skewness\n",
      "* kurtosis          \n",
      "* mad\n",
      "* minmax\n",
      "* sem\n",
      "* variation\n",
      "\n",
      "Specialized quantiles:\n",
      "\n",
      "* decile\n",
      "* percentile        \n",
      "* quartile\n",
      "* quintile\n",
      "\n",
      "Inverse quantiles:\n",
      "\n",
      "* ecdf\n",
      "\n",
      "Correlations:\n",
      "\n",
      "* cor_kendall\n",
      "* cor_spearman\n",
      "\n",
      "Unique items:\n",
      "\n",
      "* table\n",
      "* unique\n",
      "\n",
      "Order statistics:\n",
      "\n",
      "* tiedrank\n",
      "\n",
      "Run-length encodings:\n",
      "\n",
      "* inverse_rle\n",
      "* rle"
     ]
    },
    {
     "cell_type": "heading",
     "level": 1,
     "metadata": {},
     "source": [
      "Probability Distributions in Julia"
     ]
    },
    {
     "cell_type": "code",
     "collapsed": false,
     "input": [
      "using Distributions"
     ],
     "language": "python",
     "metadata": {},
     "outputs": [],
     "prompt_number": 8
    },
    {
     "cell_type": "code",
     "collapsed": false,
     "input": [
      "x = rand(Gamma(1.0, 2.0), 100)"
     ],
     "language": "python",
     "metadata": {},
     "outputs": [
      {
       "metadata": {},
       "output_type": "pyout",
       "prompt_number": 9,
       "text": [
        "100-element Array{Float64,1}:\n",
        " 0.864867 \n",
        " 2.34649  \n",
        " 4.46971  \n",
        " 2.72902  \n",
        " 0.513055 \n",
        " 1.26105  \n",
        " 1.50499  \n",
        " 0.634327 \n",
        " 1.05639  \n",
        " 0.275012 \n",
        " 1.09232  \n",
        " 1.07117  \n",
        " 1.04203  \n",
        " \u22ee        \n",
        " 3.0801   \n",
        " 0.714718 \n",
        " 1.16443  \n",
        " 1.56949  \n",
        " 0.338842 \n",
        " 0.923764 \n",
        " 3.13394  \n",
        " 2.03399  \n",
        " 0.553722 \n",
        " 0.0907118\n",
        " 2.92279  \n",
        " 0.718817 "
       ]
      }
     ],
     "prompt_number": 9
    },
    {
     "cell_type": "heading",
     "level": 4,
     "metadata": {},
     "source": [
      "Standard R Functions with Simpler Names"
     ]
    },
    {
     "cell_type": "code",
     "collapsed": false,
     "input": [
      "d = Normal(0, 1)"
     ],
     "language": "python",
     "metadata": {},
     "outputs": [
      {
       "metadata": {},
       "output_type": "pyout",
       "prompt_number": 10,
       "text": [
        "Normal( \u03bc=0.0 \u03c3=1.0 )"
       ]
      }
     ],
     "prompt_number": 10
    },
    {
     "cell_type": "code",
     "collapsed": false,
     "input": [
      "pdf(d, 0.0)"
     ],
     "language": "python",
     "metadata": {},
     "outputs": [
      {
       "metadata": {},
       "output_type": "pyout",
       "prompt_number": 11,
       "text": [
        "0.39894228040143265"
       ]
      }
     ],
     "prompt_number": 11
    },
    {
     "cell_type": "code",
     "collapsed": false,
     "input": [
      "cdf(d, 0.0)"
     ],
     "language": "python",
     "metadata": {},
     "outputs": [
      {
       "metadata": {},
       "output_type": "pyout",
       "prompt_number": 12,
       "text": [
        "0.5"
       ]
      }
     ],
     "prompt_number": 12
    },
    {
     "cell_type": "code",
     "collapsed": false,
     "input": [
      "quantile(d, 0.1)"
     ],
     "language": "python",
     "metadata": {},
     "outputs": [
      {
       "metadata": {},
       "output_type": "pyout",
       "prompt_number": 13,
       "text": [
        "-1.2815515655446008"
       ]
      }
     ],
     "prompt_number": 13
    },
    {
     "cell_type": "code",
     "collapsed": false,
     "input": [
      "rand(d)"
     ],
     "language": "python",
     "metadata": {},
     "outputs": [
      {
       "metadata": {},
       "output_type": "pyout",
       "prompt_number": 14,
       "text": [
        "-0.686854119584882"
       ]
      }
     ],
     "prompt_number": 14
    },
    {
     "cell_type": "heading",
     "level": 4,
     "metadata": {},
     "source": [
      "Additional Abstractions around PDF's, CDF's, etc."
     ]
    },
    {
     "cell_type": "code",
     "collapsed": false,
     "input": [
      "quantile(d, [0.25, 0.75])"
     ],
     "language": "python",
     "metadata": {},
     "outputs": [
      {
       "metadata": {},
       "output_type": "pyout",
       "prompt_number": 15,
       "text": [
        "2-element Array{Float64,1}:\n",
        " -0.67449\n",
        "  0.67449"
       ]
      }
     ],
     "prompt_number": 15
    },
    {
     "cell_type": "code",
     "collapsed": false,
     "input": [
      "-loglikelihood(d, rand(d, 100_000)) / 100_000"
     ],
     "language": "python",
     "metadata": {},
     "outputs": [
      {
       "metadata": {},
       "output_type": "pyout",
       "prompt_number": 16,
       "text": [
        "1.418366319068554"
       ]
      }
     ],
     "prompt_number": 16
    },
    {
     "cell_type": "heading",
     "level": 4,
     "metadata": {},
     "source": [
      "Theoretical Properties of Distributions"
     ]
    },
    {
     "cell_type": "code",
     "collapsed": false,
     "input": [
      "entropy(d)"
     ],
     "language": "python",
     "metadata": {},
     "outputs": [
      {
       "metadata": {},
       "output_type": "pyout",
       "prompt_number": 17,
       "text": [
        "1.4189385332046727"
       ]
      }
     ],
     "prompt_number": 17
    },
    {
     "cell_type": "code",
     "collapsed": false,
     "input": [
      "mean(d)"
     ],
     "language": "python",
     "metadata": {},
     "outputs": [
      {
       "metadata": {},
       "output_type": "pyout",
       "prompt_number": 18,
       "text": [
        "0.0"
       ]
      }
     ],
     "prompt_number": 18
    },
    {
     "cell_type": "code",
     "collapsed": false,
     "input": [
      "skewness(d)"
     ],
     "language": "python",
     "metadata": {},
     "outputs": [
      {
       "metadata": {},
       "output_type": "pyout",
       "prompt_number": 19,
       "text": [
        "0.0"
       ]
      }
     ],
     "prompt_number": 19
    },
    {
     "cell_type": "code",
     "collapsed": false,
     "input": [
      "kurtosis(d)"
     ],
     "language": "python",
     "metadata": {},
     "outputs": [
      {
       "metadata": {},
       "output_type": "pyout",
       "prompt_number": 20,
       "text": [
        "0.0"
       ]
      }
     ],
     "prompt_number": 20
    },
    {
     "cell_type": "code",
     "collapsed": false,
     "input": [
      "var(d)"
     ],
     "language": "python",
     "metadata": {},
     "outputs": [
      {
       "metadata": {},
       "output_type": "pyout",
       "prompt_number": 21,
       "text": [
        "1.0"
       ]
      }
     ],
     "prompt_number": 21
    },
    {
     "cell_type": "code",
     "collapsed": false,
     "input": [
      "modes(d)"
     ],
     "language": "python",
     "metadata": {},
     "outputs": [
      {
       "metadata": {},
       "output_type": "pyout",
       "prompt_number": 22,
       "text": [
        "1-element Array{Float64,1}:\n",
        " 0.0"
       ]
      }
     ],
     "prompt_number": 22
    },
    {
     "cell_type": "heading",
     "level": 4,
     "metadata": {},
     "source": [
      "Fit Distributions to Data"
     ]
    },
    {
     "cell_type": "code",
     "collapsed": false,
     "input": [
      "x = rand(d, 1_000)"
     ],
     "language": "python",
     "metadata": {},
     "outputs": [
      {
       "metadata": {},
       "output_type": "pyout",
       "prompt_number": 25,
       "text": [
        "1000-element Array{Float64,1}:\n",
        " -0.832001 \n",
        " -0.224948 \n",
        " -1.47014  \n",
        " -0.427462 \n",
        " -0.301149 \n",
        " -1.68742  \n",
        "  0.899544 \n",
        " -0.666478 \n",
        "  2.48359  \n",
        "  0.661824 \n",
        " -0.0871518\n",
        "  1.29501  \n",
        "  1.0608   \n",
        "  \u22ee        \n",
        "  1.18305  \n",
        " -0.985592 \n",
        " -1.05001  \n",
        " -1.12767  \n",
        "  0.331062 \n",
        " -0.547216 \n",
        " -0.433922 \n",
        "  1.1567   \n",
        " -1.05194  \n",
        " -0.816602 \n",
        "  0.808436 \n",
        " -1.11161  "
       ]
      }
     ],
     "prompt_number": 25
    },
    {
     "cell_type": "code",
     "collapsed": false,
     "input": [
      "fit_mle(Normal, x)"
     ],
     "language": "python",
     "metadata": {},
     "outputs": [
      {
       "metadata": {},
       "output_type": "pyout",
       "prompt_number": 26,
       "text": [
        "Normal( \u03bc=0.0029286256428476126 \u03c3=0.9856252945778284 )"
       ]
      }
     ],
     "prompt_number": 26
    },
    {
     "cell_type": "code",
     "collapsed": false,
     "input": [
      "(mean(d), std(d)), (mean(x), std(x))"
     ],
     "language": "python",
     "metadata": {},
     "outputs": [
      {
       "metadata": {},
       "output_type": "pyout",
       "prompt_number": 29,
       "text": [
        "((0.0,1.0),(0.0029286256428476126,0.9861184771428806))"
       ]
      }
     ],
     "prompt_number": 29
    },
    {
     "cell_type": "heading",
     "level": 4,
     "metadata": {},
     "source": [
      "Bayesian Updating with Conjugate Priors"
     ]
    },
    {
     "cell_type": "code",
     "collapsed": false,
     "input": [
      "x = rand(Bernoulli(0.9), 10_000)"
     ],
     "language": "python",
     "metadata": {},
     "outputs": [
      {
       "metadata": {},
       "output_type": "pyout",
       "prompt_number": 31,
       "text": [
        "10000-element Array{Int64,1}:\n",
        " 1\n",
        " 1\n",
        " 0\n",
        " 1\n",
        " 1\n",
        " 1\n",
        " 0\n",
        " 1\n",
        " 0\n",
        " 1\n",
        " 1\n",
        " 1\n",
        " 1\n",
        " \u22ee\n",
        " 1\n",
        " 1\n",
        " 1\n",
        " 1\n",
        " 1\n",
        " 1\n",
        " 1\n",
        " 1\n",
        " 1\n",
        " 1\n",
        " 1\n",
        " 0"
       ]
      }
     ],
     "prompt_number": 31
    },
    {
     "cell_type": "code",
     "collapsed": false,
     "input": [
      "posterior(Beta(3, 3), Bernoulli, x)"
     ],
     "language": "python",
     "metadata": {},
     "outputs": [
      {
       "metadata": {},
       "output_type": "pyout",
       "prompt_number": 32,
       "text": [
        "Beta( alpha=8986.0 beta=1020.0 )"
       ]
      }
     ],
     "prompt_number": 32
    },
    {
     "cell_type": "heading",
     "level": 4,
     "metadata": {},
     "source": [
      "Kernel Density Estimation"
     ]
    },
    {
     "cell_type": "code",
     "collapsed": false,
     "input": [
      "using Vega"
     ],
     "language": "python",
     "metadata": {},
     "outputs": [],
     "prompt_number": 98
    },
    {
     "cell_type": "code",
     "collapsed": false,
     "input": [
      "x = rand(Gamma(3, 3), 100_000)"
     ],
     "language": "python",
     "metadata": {},
     "outputs": [
      {
       "metadata": {},
       "output_type": "pyout",
       "prompt_number": 99,
       "text": [
        "100000-element Array{Float64,1}:\n",
        " 15.5395 \n",
        "  3.5597 \n",
        "  5.70939\n",
        "  7.71971\n",
        "  1.39995\n",
        "  6.46249\n",
        "  7.16132\n",
        "  3.31559\n",
        "  9.01352\n",
        "  4.54524\n",
        "  4.48203\n",
        "  3.99711\n",
        " 12.7299 \n",
        "  \u22ee      \n",
        "  3.76937\n",
        "  0.72035\n",
        "  7.99478\n",
        " 13.9471 \n",
        " 13.7923 \n",
        "  5.47852\n",
        "  3.70282\n",
        " 10.5256 \n",
        "  9.76811\n",
        "  4.05134\n",
        "  2.93693\n",
        "  5.61742"
       ]
      }
     ],
     "prompt_number": 99
    },
    {
     "cell_type": "code",
     "collapsed": false,
     "input": [
      "k = kde(x)"
     ],
     "language": "python",
     "metadata": {},
     "outputs": [
      {
       "metadata": {},
       "output_type": "pyout",
       "prompt_number": 100,
       "text": [
        "UnivariateKDE([-1.2326122538420636,-1.2062108603364525,-1.1798094668308416,-1.1534080733252305,-1.1270066798196194,-1.1006052863140083,-1.0742038928083975,-1.0478024993027863,-1.0214011057971752,-0.9949997122915643  \u2026  52.573427710593236,52.59982910409885,52.62623049760446,52.65263189111007,52.679033284615684,52.70543467812129,52.73183607162691,52.75823746513252,52.784638858638125,52.81104025214374],[1.6308661484765868e-6,1.9495664196796103e-6,2.346593514458359e-6,2.835714350939156e-6,3.4331760594003002e-6,4.158036330970116e-6,5.03252663232312e-6,6.082449313946428e-6,7.33760921524558e-6,8.832279871686874e-6  \u2026  9.808839973345692e-7,9.065837070959851e-7,8.567717801223206e-7,8.325991725502066e-7,8.358045355487788e-7,8.688193127450686e-7,9.348859248532141e-7,1.0381910514404278e-6,1.1840161143561272e-6,1.3789071325169837e-6])"
       ]
      }
     ],
     "prompt_number": 100
    },
    {
     "cell_type": "code",
     "collapsed": false,
     "input": [
      "names(Distributions.UnivariateKDE)"
     ],
     "language": "python",
     "metadata": {},
     "outputs": [
      {
       "metadata": {},
       "output_type": "pyout",
       "prompt_number": 101,
       "text": [
        "2-element Array{Any,1}:\n",
        " :x      \n",
        " :density"
       ]
      }
     ],
     "prompt_number": 101
    },
    {
     "cell_type": "code",
     "collapsed": false,
     "input": [
      "plot(x = k.x, y = k.density, kind = :area)"
     ],
     "language": "python",
     "metadata": {},
     "outputs": [
      {
       "metadata": {},
       "output_type": "pyout",
       "prompt_number": 102,
       "text": []
      }
     ],
     "prompt_number": 102
    },
    {
     "cell_type": "code",
     "collapsed": false,
     "input": [
      "plot(x = k.x, y = k.density, kind = :line)"
     ],
     "language": "python",
     "metadata": {},
     "outputs": [
      {
       "metadata": {},
       "output_type": "pyout",
       "prompt_number": 103,
       "text": []
      }
     ],
     "prompt_number": 103
    },
    {
     "cell_type": "heading",
     "level": 1,
     "metadata": {},
     "source": [
      "Tabular Data and Missing Values in Julia"
     ]
    },
    {
     "cell_type": "heading",
     "level": 4,
     "metadata": {},
     "source": [
      "Representing Missing Values"
     ]
    },
    {
     "cell_type": "code",
     "collapsed": false,
     "input": [
      "using DataFrames"
     ],
     "language": "python",
     "metadata": {},
     "outputs": [],
     "prompt_number": 104
    },
    {
     "cell_type": "code",
     "collapsed": false,
     "input": [
      "NA + 1"
     ],
     "language": "python",
     "metadata": {},
     "outputs": [
      {
       "metadata": {},
       "output_type": "pyout",
       "prompt_number": 105,
       "text": [
        "NA"
       ]
      }
     ],
     "prompt_number": 105
    },
    {
     "cell_type": "code",
     "collapsed": false,
     "input": [
      "x = DataArray([1, 2, 3])"
     ],
     "language": "python",
     "metadata": {},
     "outputs": [
      {
       "metadata": {},
       "output_type": "pyout",
       "prompt_number": 106,
       "text": [
        "3-element DataArray{Int64,1}:\n",
        " 1\n",
        " 2\n",
        " 3"
       ]
      }
     ],
     "prompt_number": 106
    },
    {
     "cell_type": "code",
     "collapsed": false,
     "input": [
      "x[1] = NA"
     ],
     "language": "python",
     "metadata": {},
     "outputs": [
      {
       "metadata": {},
       "output_type": "pyout",
       "prompt_number": 107,
       "text": [
        "NA"
       ]
      }
     ],
     "prompt_number": 107
    },
    {
     "cell_type": "code",
     "collapsed": false,
     "input": [
      "mean(x)"
     ],
     "language": "python",
     "metadata": {},
     "outputs": [
      {
       "metadata": {},
       "output_type": "pyout",
       "prompt_number": 108,
       "text": [
        "NA"
       ]
      }
     ],
     "prompt_number": 108
    },
    {
     "cell_type": "code",
     "collapsed": false,
     "input": [
      "x[!isna(x)]"
     ],
     "language": "python",
     "metadata": {},
     "outputs": [
      {
       "metadata": {},
       "output_type": "pyout",
       "prompt_number": 109,
       "text": [
        "2-element DataArray{Int64,1}:\n",
        " 2\n",
        " 3"
       ]
      }
     ],
     "prompt_number": 109
    },
    {
     "cell_type": "code",
     "collapsed": false,
     "input": [
      "mean(x[!isna(x)])"
     ],
     "language": "python",
     "metadata": {},
     "outputs": [
      {
       "metadata": {},
       "output_type": "pyout",
       "prompt_number": 110,
       "text": [
        "2.5"
       ]
      }
     ],
     "prompt_number": 110
    },
    {
     "cell_type": "heading",
     "level": 4,
     "metadata": {},
     "source": [
      "Factor-Like Variables"
     ]
    },
    {
     "cell_type": "code",
     "collapsed": false,
     "input": [
      "y = PooledDataArray([1, 1, 2, 3])"
     ],
     "language": "python",
     "metadata": {},
     "outputs": [
      {
       "metadata": {},
       "output_type": "pyout",
       "prompt_number": 111,
       "text": [
        "4-element PooledDataArray{Int64,Uint32,1}:\n",
        " 1\n",
        " 1\n",
        " 2\n",
        " 3"
       ]
      }
     ],
     "prompt_number": 111
    },
    {
     "cell_type": "code",
     "collapsed": false,
     "input": [
      "levels(y)"
     ],
     "language": "python",
     "metadata": {},
     "outputs": [
      {
       "metadata": {},
       "output_type": "pyout",
       "prompt_number": 112,
       "text": [
        "3-element Array{Int64,1}:\n",
        " 1\n",
        " 2\n",
        " 3"
       ]
      }
     ],
     "prompt_number": 112
    },
    {
     "cell_type": "heading",
     "level": 4,
     "metadata": {},
     "source": [
      "Representing Tabular Data"
     ]
    },
    {
     "cell_type": "code",
     "collapsed": false,
     "input": [
      "df = DataFrame(A = float(1:10), B = rand(10))"
     ],
     "language": "python",
     "metadata": {},
     "outputs": [
      {
       "metadata": {},
       "output_type": "pyout",
       "prompt_number": 113,
       "text": [
        "10x2 DataFrame:\n",
        "            A         B\n",
        "[1,]      1.0  0.702825\n",
        "[2,]      2.0  0.871991\n",
        "[3,]      3.0 0.0222139\n",
        "[4,]      4.0  0.688884\n",
        "[5,]      5.0  0.709296\n",
        "[6,]      6.0  0.884814\n",
        "[7,]      7.0  0.825712\n",
        "[8,]      8.0  0.352404\n",
        "[9,]      9.0  0.115726\n",
        "[10,]    10.0   0.84194\n"
       ]
      }
     ],
     "prompt_number": 113
    },
    {
     "cell_type": "code",
     "collapsed": false,
     "input": [
      "head(df)"
     ],
     "language": "python",
     "metadata": {},
     "outputs": [
      {
       "metadata": {},
       "output_type": "pyout",
       "prompt_number": 114,
       "text": [
        "6x2 DataFrame:\n",
        "          A         B\n",
        "[1,]    1.0  0.702825\n",
        "[2,]    2.0  0.871991\n",
        "[3,]    3.0 0.0222139\n",
        "[4,]    4.0  0.688884\n",
        "[5,]    5.0  0.709296\n",
        "[6,]    6.0  0.884814\n"
       ]
      }
     ],
     "prompt_number": 114
    },
    {
     "cell_type": "code",
     "collapsed": false,
     "input": [
      "tail(df)"
     ],
     "language": "python",
     "metadata": {},
     "outputs": [
      {
       "metadata": {},
       "output_type": "pyout",
       "prompt_number": 115,
       "text": [
        "6x2 DataFrame:\n",
        "           A        B\n",
        "[1,]     5.0 0.709296\n",
        "[2,]     6.0 0.884814\n",
        "[3,]     7.0 0.825712\n",
        "[4,]     8.0 0.352404\n",
        "[5,]     9.0 0.115726\n",
        "[6,]    10.0  0.84194\n"
       ]
      }
     ],
     "prompt_number": 115
    },
    {
     "cell_type": "code",
     "collapsed": false,
     "input": [
      "df[\"C\"] = repeat([\"G1\", \"G2\"], inner = [5])"
     ],
     "language": "python",
     "metadata": {},
     "outputs": [
      {
       "metadata": {},
       "output_type": "pyout",
       "prompt_number": 116,
       "text": [
        "10-element Array{ASCIIString,1}:\n",
        " \"G1\"\n",
        " \"G1\"\n",
        " \"G1\"\n",
        " \"G1\"\n",
        " \"G1\"\n",
        " \"G2\"\n",
        " \"G2\"\n",
        " \"G2\"\n",
        " \"G2\"\n",
        " \"G2\""
       ]
      }
     ],
     "prompt_number": 116
    },
    {
     "cell_type": "code",
     "collapsed": false,
     "input": [
      "df[1:10, :]"
     ],
     "language": "python",
     "metadata": {},
     "outputs": [
      {
       "metadata": {},
       "output_type": "pyout",
       "prompt_number": 117,
       "text": [
        "10x3 DataFrame:\n",
        "            A         B    C\n",
        "[1,]      1.0  0.702825 \"G1\"\n",
        "[2,]      2.0  0.871991 \"G1\"\n",
        "[3,]      3.0 0.0222139 \"G1\"\n",
        "[4,]      4.0  0.688884 \"G1\"\n",
        "[5,]      5.0  0.709296 \"G1\"\n",
        "[6,]      6.0  0.884814 \"G2\"\n",
        "[7,]      7.0  0.825712 \"G2\"\n",
        "[8,]      8.0  0.352404 \"G2\"\n",
        "[9,]      9.0  0.115726 \"G2\"\n",
        "[10,]    10.0   0.84194 \"G2\"\n"
       ]
      }
     ],
     "prompt_number": 117
    },
    {
     "cell_type": "code",
     "collapsed": false,
     "input": [
      "by(df, \"C\", df -> mean(df[\"B\"]))"
     ],
     "language": "python",
     "metadata": {},
     "outputs": [
      {
       "metadata": {},
       "output_type": "pyout",
       "prompt_number": 118,
       "text": [
        "2x2 DataFrame:\n",
        "           C       x1\n",
        "[1,]    \"G1\" 0.599042\n",
        "[2,]    \"G2\" 0.604119\n"
       ]
      }
     ],
     "prompt_number": 118
    },
    {
     "cell_type": "code",
     "collapsed": false,
     "input": [
      "select(:(C .== \"G1\"), df)"
     ],
     "language": "python",
     "metadata": {},
     "outputs": [
      {
       "metadata": {},
       "output_type": "pyout",
       "prompt_number": 119,
       "text": [
        "5x3 SubDataFrame:\n",
        "          A         B    C\n",
        "[1,]    1.0  0.702825 \"G1\"\n",
        "[2,]    2.0  0.871991 \"G1\"\n",
        "[3,]    3.0 0.0222139 \"G1\"\n",
        "[4,]    4.0  0.688884 \"G1\"\n",
        "[5,]    5.0  0.709296 \"G1\"\n"
       ]
      }
     ],
     "prompt_number": 119
    },
    {
     "cell_type": "heading",
     "level": 4,
     "metadata": {},
     "source": [
      "Accessing Classical Datasets"
     ]
    },
    {
     "cell_type": "code",
     "collapsed": false,
     "input": [
      "using RDatasets"
     ],
     "language": "python",
     "metadata": {},
     "outputs": [],
     "prompt_number": 120
    },
    {
     "cell_type": "code",
     "collapsed": false,
     "input": [
      "iris = data(\"datasets\", \"iris\")"
     ],
     "language": "python",
     "metadata": {},
     "outputs": [
      {
       "ename": "LoadError",
       "evalue": "type: apply: expected Function, got Array{Float64,1}\nat In[121]:1",
       "output_type": "pyerr",
       "traceback": [
        "type: apply: expected Function, got Array{Float64,1}\nat In[121]:1"
       ]
      }
     ],
     "prompt_number": 121
    },
    {
     "cell_type": "code",
     "collapsed": false,
     "input": [
      "head(iris)"
     ],
     "language": "python",
     "metadata": {},
     "outputs": [
      {
       "metadata": {},
       "output_type": "pyout",
       "prompt_number": 122,
       "text": [
        "6x6 DataFrame:\n",
        "          Sepal.Length Sepal.Width Petal.Length Petal.Width  Species\n",
        "[1,]    1          5.1         3.5          1.4         0.2 \"setosa\"\n",
        "[2,]    2          4.9         3.0          1.4         0.2 \"setosa\"\n",
        "[3,]    3          4.7         3.2          1.3         0.2 \"setosa\"\n",
        "[4,]    4          4.6         3.1          1.5         0.2 \"setosa\"\n",
        "[5,]    5          5.0         3.6          1.4         0.2 \"setosa\"\n",
        "[6,]    6          5.4         3.9          1.7         0.4 \"setosa\"\n"
       ]
      }
     ],
     "prompt_number": 122
    },
    {
     "cell_type": "heading",
     "level": 4,
     "metadata": {},
     "source": [
      "Converting DataFrames to Design Matrices"
     ]
    },
    {
     "cell_type": "code",
     "collapsed": false,
     "input": [
      "ModelMatrix(ModelFrame(:(A ~ B), df))"
     ],
     "language": "python",
     "metadata": {},
     "outputs": [
      {
       "metadata": {},
       "output_type": "pyout",
       "prompt_number": 123,
       "text": [
        "ModelMatrix{Float64}(10x2 Array{Float64,2}:\n",
        " 1.0  0.702825 \n",
        " 1.0  0.871991 \n",
        " 1.0  0.0222139\n",
        " 1.0  0.688884 \n",
        " 1.0  0.709296 \n",
        " 1.0  0.884814 \n",
        " 1.0  0.825712 \n",
        " 1.0  0.352404 \n",
        " 1.0  0.115726 \n",
        " 1.0  0.84194  ,[0,1])"
       ]
      }
     ],
     "prompt_number": 123
    },
    {
     "cell_type": "heading",
     "level": 4,
     "metadata": {},
     "source": [
      "DataFrame I/O"
     ]
    },
    {
     "cell_type": "code",
     "collapsed": false,
     "input": [
      "writetable(\"df.csv\", df)"
     ],
     "language": "python",
     "metadata": {},
     "outputs": [],
     "prompt_number": 124
    },
    {
     "cell_type": "code",
     "collapsed": false,
     "input": [
      "df2 = readtable(\"df.csv\")"
     ],
     "language": "python",
     "metadata": {},
     "outputs": [
      {
       "metadata": {},
       "output_type": "pyout",
       "prompt_number": 125,
       "text": [
        "10x3 DataFrame:\n",
        "            A         B    C\n",
        "[1,]      1.0  0.702825 \"G1\"\n",
        "[2,]      2.0  0.871991 \"G1\"\n",
        "[3,]      3.0 0.0222139 \"G1\"\n",
        "[4,]      4.0  0.688884 \"G1\"\n",
        "[5,]      5.0  0.709296 \"G1\"\n",
        "[6,]      6.0  0.884814 \"G2\"\n",
        "[7,]      7.0  0.825712 \"G2\"\n",
        "[8,]      8.0  0.352404 \"G2\"\n",
        "[9,]      9.0  0.115726 \"G2\"\n",
        "[10,]    10.0   0.84194 \"G2\"\n"
       ]
      }
     ],
     "prompt_number": 125
    },
    {
     "cell_type": "heading",
     "level": 4,
     "metadata": {},
     "source": [
      "Merging Data Sets"
     ]
    },
    {
     "cell_type": "code",
     "collapsed": false,
     "input": [
      "A = DataFrame(X = 1:3, Z = [\"A\", \"B\", \"C\"])"
     ],
     "language": "python",
     "metadata": {},
     "outputs": [
      {
       "metadata": {},
       "output_type": "pyout",
       "prompt_number": 126,
       "text": [
        "3x2 DataFrame:\n",
        "        X   Z\n",
        "[1,]    1 \"A\"\n",
        "[2,]    2 \"B\"\n",
        "[3,]    3 \"C\"\n"
       ]
      }
     ],
     "prompt_number": 126
    },
    {
     "cell_type": "code",
     "collapsed": false,
     "input": [
      "B = DataFrame(Y = 4:6, Z = [\"A\", \"B\", \"B\"])"
     ],
     "language": "python",
     "metadata": {},
     "outputs": [
      {
       "metadata": {},
       "output_type": "pyout",
       "prompt_number": 127,
       "text": [
        "3x2 DataFrame:\n",
        "        Y   Z\n",
        "[1,]    4 \"A\"\n",
        "[2,]    5 \"B\"\n",
        "[3,]    6 \"B\"\n"
       ]
      }
     ],
     "prompt_number": 127
    },
    {
     "cell_type": "code",
     "collapsed": false,
     "input": [
      "join(A, B, on = \"Z\")"
     ],
     "language": "python",
     "metadata": {},
     "outputs": [
      {
       "metadata": {},
       "output_type": "pyout",
       "prompt_number": 128,
       "text": [
        "3x3 DataFrame:\n",
        "        X   Z Y\n",
        "[1,]    1 \"A\" 4\n",
        "[2,]    2 \"B\" 5\n",
        "[3,]    2 \"B\" 6\n"
       ]
      }
     ],
     "prompt_number": 128
    },
    {
     "cell_type": "code",
     "collapsed": false,
     "input": [
      "join(A, B, on = \"Z\", kind = :inner)"
     ],
     "language": "python",
     "metadata": {},
     "outputs": [
      {
       "metadata": {},
       "output_type": "pyout",
       "prompt_number": 129,
       "text": [
        "3x3 DataFrame:\n",
        "        X   Z Y\n",
        "[1,]    1 \"A\" 4\n",
        "[2,]    2 \"B\" 5\n",
        "[3,]    2 \"B\" 6\n"
       ]
      }
     ],
     "prompt_number": 129
    },
    {
     "cell_type": "code",
     "collapsed": false,
     "input": [
      "join(A, B, on = \"Z\", kind = :left)"
     ],
     "language": "python",
     "metadata": {},
     "outputs": [
      {
       "metadata": {},
       "output_type": "pyout",
       "prompt_number": 130,
       "text": [
        "4x3 DataFrame:\n",
        "        X   Z  Y\n",
        "[1,]    1 \"A\"  4\n",
        "[2,]    2 \"B\"  5\n",
        "[3,]    2 \"B\"  6\n",
        "[4,]    3 \"C\" NA\n"
       ]
      }
     ],
     "prompt_number": 130
    },
    {
     "cell_type": "code",
     "collapsed": false,
     "input": [
      "join(A, B, on = \"Z\", kind = :right)"
     ],
     "language": "python",
     "metadata": {},
     "outputs": [
      {
       "metadata": {},
       "output_type": "pyout",
       "prompt_number": 131,
       "text": [
        "3x3 DataFrame:\n",
        "        X Y   Z\n",
        "[1,]    1 4 \"A\"\n",
        "[2,]    2 5 \"B\"\n",
        "[3,]    2 6 \"B\"\n"
       ]
      }
     ],
     "prompt_number": 131
    },
    {
     "cell_type": "code",
     "collapsed": false,
     "input": [
      "join(A, B, on = \"Z\", kind = :outer)"
     ],
     "language": "python",
     "metadata": {},
     "outputs": [
      {
       "metadata": {},
       "output_type": "pyout",
       "prompt_number": 132,
       "text": [
        "4x3 DataFrame:\n",
        "        X   Z  Y\n",
        "[1,]    1 \"A\"  4\n",
        "[2,]    2 \"B\"  5\n",
        "[3,]    2 \"B\"  6\n",
        "[4,]    3 \"C\" NA\n"
       ]
      }
     ],
     "prompt_number": 132
    },
    {
     "cell_type": "heading",
     "level": 4,
     "metadata": {},
     "source": [
      "Split-Apply-Combine Operations"
     ]
    },
    {
     "cell_type": "code",
     "collapsed": false,
     "input": [
      "by(iris, \"Species\", nrow)"
     ],
     "language": "python",
     "metadata": {},
     "outputs": [
      {
       "metadata": {},
       "output_type": "pyout",
       "prompt_number": 133,
       "text": [
        "3x2 DataFrame:\n",
        "             Species x1\n",
        "[1,]        \"setosa\" 50\n",
        "[2,]    \"versicolor\" 50\n",
        "[3,]     \"virginica\" 50\n"
       ]
      }
     ],
     "prompt_number": 133
    },
    {
     "cell_type": "code",
     "collapsed": false,
     "input": [
      "by(iris, \"Species\", df -> mean(df[\"Petal.Length\"]))"
     ],
     "language": "python",
     "metadata": {},
     "outputs": [
      {
       "metadata": {},
       "output_type": "pyout",
       "prompt_number": 134,
       "text": [
        "3x2 DataFrame:\n",
        "             Species    x1\n",
        "[1,]        \"setosa\" 1.462\n",
        "[2,]    \"versicolor\"  4.26\n",
        "[3,]     \"virginica\" 5.552\n"
       ]
      }
     ],
     "prompt_number": 134
    },
    {
     "cell_type": "code",
     "collapsed": false,
     "input": [
      "by(iris, \"Species\", :(N = size(_DF, 1)))"
     ],
     "language": "python",
     "metadata": {},
     "outputs": [
      {
       "metadata": {},
       "output_type": "pyout",
       "prompt_number": 135,
       "text": [
        "3x2 DataFrame:\n",
        "             Species  N\n",
        "[1,]        \"setosa\" 50\n",
        "[2,]    \"versicolor\" 50\n",
        "[3,]     \"virginica\" 50\n"
       ]
      }
     ],
     "prompt_number": 135
    },
    {
     "cell_type": "heading",
     "level": 1,
     "metadata": {},
     "source": [
      "GLM's in Julia"
     ]
    },
    {
     "cell_type": "code",
     "collapsed": false,
     "input": [
      "using GLM"
     ],
     "language": "python",
     "metadata": {},
     "outputs": [],
     "prompt_number": 136
    },
    {
     "cell_type": "code",
     "collapsed": false,
     "input": [
      "glm(:(B ~ A), df, Binomial())"
     ],
     "language": "python",
     "metadata": {},
     "outputs": [
      {
       "metadata": {},
       "output_type": "pyout",
       "prompt_number": 137,
       "text": [
        "\n",
        "Formula: B ~ A\n",
        "\n",
        "Coefficients:\n",
        "\n",
        "2x4 DataFrame:\n",
        "          Estimate Std.Error   z value Pr(>|z|)\n",
        "[1,]      0.665468   1.41554  0.470117 0.638271\n",
        "[2,]    -0.0457563  0.225752 -0.202684 0.839382\n",
        "\n"
       ]
      }
     ],
     "prompt_number": 137
    },
    {
     "cell_type": "code",
     "collapsed": false,
     "input": [
      "glm(:(A ~ B), df, Poisson())"
     ],
     "language": "python",
     "metadata": {},
     "outputs": [
      {
       "metadata": {},
       "output_type": "pyout",
       "prompt_number": 138,
       "text": [
        "\n",
        "Formula: A ~ B\n",
        "\n",
        "Coefficients:\n",
        "\n",
        "2x4 DataFrame:\n",
        "         Estimate Std.Error   z value    Pr(>|z|)\n",
        "[1,]      1.80764  0.287275   6.29239 3.12613e-10\n",
        "[2,]    -0.173391  0.433483 -0.399994    0.689161\n",
        "\n"
       ]
      }
     ],
     "prompt_number": 138
    },
    {
     "cell_type": "heading",
     "level": 1,
     "metadata": {},
     "source": [
      "Optimization in Julia"
     ]
    },
    {
     "cell_type": "code",
     "collapsed": false,
     "input": [
      "using Optim"
     ],
     "language": "python",
     "metadata": {},
     "outputs": [],
     "prompt_number": 139
    },
    {
     "cell_type": "code",
     "collapsed": false,
     "input": [
      "f(x::Vector) = (10.73 - x[1])^2 + (1134.29 - x[2])^4"
     ],
     "language": "python",
     "metadata": {},
     "outputs": [
      {
       "metadata": {},
       "output_type": "pyout",
       "prompt_number": 140,
       "text": [
        "# methods for generic function f\n",
        "f(x::Array{T,1}) at In[140]:1"
       ]
      }
     ],
     "prompt_number": 140
    },
    {
     "cell_type": "code",
     "collapsed": false,
     "input": [
      "f([0.0, 0.0])"
     ],
     "language": "python",
     "metadata": {},
     "outputs": [
      {
       "metadata": {},
       "output_type": "pyout",
       "prompt_number": 141,
       "text": [
        "1.6553750810158057e12"
       ]
      }
     ],
     "prompt_number": 141
    },
    {
     "cell_type": "code",
     "collapsed": false,
     "input": [
      "optimize(f, [0.0, 0.0])"
     ],
     "language": "python",
     "metadata": {},
     "outputs": [
      {
       "metadata": {},
       "output_type": "pyout",
       "prompt_number": 142,
       "text": [
        "Results of Optimization Algorithm\n",
        " * Algorithm: Nelder-Mead\n",
        " * Starting Point: 0.0,0.0\n",
        " * Minimum: 10.729963758708099,1134.2876531089082\n",
        " * Value of Function at Minimum: 0.000000\n",
        " * Iterations: 68\n",
        " * Convergence: true\n",
        "   * |x - x'| < NaN: false\n",
        "   * |f(x) - f(x')| / |f(x)| < 1.0e-08: true\n",
        "   * |g(x)| < NaN: false\n",
        "   * Exceeded Maximum Number of Iterations: false\n",
        " * Objective Function Calls: 132\n",
        " * Gradient Call: 0"
       ]
      }
     ],
     "prompt_number": 142
    },
    {
     "cell_type": "code",
     "collapsed": false,
     "input": [
      "optimize(f, [0.0, 0.0], method = :l_bfgs)"
     ],
     "language": "python",
     "metadata": {},
     "outputs": [
      {
       "metadata": {},
       "output_type": "pyout",
       "prompt_number": 143,
       "text": [
        "Results of Optimization Algorithm\n",
        " * Algorithm: L-BFGS\n",
        " * Starting Point: 0.0,0.0\n",
        " * Minimum: 10.730000000844589,1134.290201363321\n",
        " * Value of Function at Minimum: 0.000000\n",
        " * Iterations: 23\n",
        " * Convergence: true\n",
        "   * |x - x'| < 1.0e-32: false\n",
        "   * |f(x) - f(x')| / |f(x)| < 1.0e-08: false\n",
        "   * |g(x)| < 1.0e-08: true\n",
        "   * Exceeded Maximum Number of Iterations: false\n",
        " * Objective Function Calls: 121\n",
        " * Gradient Call: 121"
       ]
      }
     ],
     "prompt_number": 143
    },
    {
     "cell_type": "heading",
     "level": 1,
     "metadata": {},
     "source": [
      "Maximum Likelihood Estimation in Julia"
     ]
    },
    {
     "cell_type": "code",
     "collapsed": false,
     "input": [
      "x = rand(Normal(11, 3), 1_000)"
     ],
     "language": "python",
     "metadata": {},
     "outputs": [
      {
       "metadata": {},
       "output_type": "pyout",
       "prompt_number": 144,
       "text": [
        "1000-element Array{Float64,1}:\n",
        "  9.69408\n",
        " 14.9803 \n",
        " 10.8056 \n",
        " 17.9674 \n",
        " 11.0838 \n",
        "  6.13548\n",
        " 15.5758 \n",
        " 10.4968 \n",
        "  9.95043\n",
        " 17.026  \n",
        "  4.53613\n",
        " 13.7328 \n",
        " 10.8227 \n",
        "  \u22ee      \n",
        " 18.7145 \n",
        " 12.0323 \n",
        " 12.9811 \n",
        "  6.68285\n",
        " 14.1143 \n",
        " 12.7089 \n",
        "  5.95586\n",
        "  9.67902\n",
        " 10.1907 \n",
        "  8.71082\n",
        " 13.6949 \n",
        " 16.6398 "
       ]
      }
     ],
     "prompt_number": 144
    },
    {
     "cell_type": "code",
     "collapsed": false,
     "input": [
      "function makenll(x)\n",
      "    nll(params::Vector) = -loglikelihood(Normal(params[1], 3), data)\n",
      "end"
     ],
     "language": "python",
     "metadata": {},
     "outputs": [
      {
       "metadata": {},
       "output_type": "pyout",
       "prompt_number": 145,
       "text": [
        "# methods for generic function makenll\n",
        "makenll(x) at In[145]:2"
       ]
      }
     ],
     "prompt_number": 145
    },
    {
     "cell_type": "code",
     "collapsed": false,
     "input": [
      "nll = makenll(x)"
     ],
     "language": "python",
     "metadata": {},
     "outputs": [
      {
       "metadata": {},
       "output_type": "pyout",
       "prompt_number": 146,
       "text": [
        "# methods for generic function nll\n",
        "nll(params::Array{T,1}) at In[145]:2"
       ]
      }
     ],
     "prompt_number": 146
    },
    {
     "cell_type": "code",
     "collapsed": false,
     "input": [
      "nll([0.0])"
     ],
     "language": "python",
     "metadata": {},
     "outputs": [
      {
       "metadata": {},
       "output_type": "pyout",
       "prompt_number": 147,
       "text": [
        "9284.080705066499"
       ]
      }
     ],
     "prompt_number": 147
    },
    {
     "cell_type": "code",
     "collapsed": false,
     "input": [
      "nll([10.0])"
     ],
     "language": "python",
     "metadata": {},
     "outputs": [
      {
       "metadata": {},
       "output_type": "pyout",
       "prompt_number": 148,
       "text": [
        "2547.1028565359497"
       ]
      }
     ],
     "prompt_number": 148
    },
    {
     "cell_type": "code",
     "collapsed": false,
     "input": [
      "optimize(nll, [0.0])"
     ],
     "language": "python",
     "metadata": {},
     "outputs": [
      {
       "metadata": {},
       "output_type": "pyout",
       "prompt_number": 149,
       "text": [
        "Results of Optimization Algorithm\n",
        " * Algorithm: Nelder-Mead\n",
        " * Starting Point: 0.0\n",
        " * Minimum: 11.063278198242188\n",
        " * Value of Function at Minimum: 2484.293718\n",
        " * Iterations: 21\n",
        " * Convergence: true\n",
        "   * |x - x'| < NaN: false\n",
        "   * |f(x) - f(x')| / |f(x)| < 1.0e-08: true\n",
        "   * |g(x)| < NaN: false\n",
        "   * Exceeded Maximum Number of Iterations: false\n",
        " * Objective Function Calls: 44\n",
        " * Gradient Call: 0"
       ]
      }
     ],
     "prompt_number": 149
    },
    {
     "cell_type": "code",
     "collapsed": false,
     "input": [
      "mean(data)"
     ],
     "language": "python",
     "metadata": {},
     "outputs": [
      {
       "metadata": {},
       "output_type": "pyout",
       "prompt_number": 150,
       "text": [
        "11.063280063677484"
       ]
      }
     ],
     "prompt_number": 150
    },
    {
     "cell_type": "markdown",
     "metadata": {},
     "source": [
      "More resources:\n",
      "\n",
      "* NLopt\n",
      "* MathProg"
     ]
    },
    {
     "cell_type": "heading",
     "level": 1,
     "metadata": {},
     "source": [
      "ML Algorithms"
     ]
    },
    {
     "cell_type": "code",
     "collapsed": false,
     "input": [
      "using Clustering"
     ],
     "language": "python",
     "metadata": {},
     "outputs": [],
     "prompt_number": 151
    },
    {
     "cell_type": "code",
     "collapsed": false,
     "input": [
      "kmeans(matrix(iris[:, 2:5])', 3)"
     ],
     "language": "python",
     "metadata": {},
     "outputs": [
      {
       "output_type": "stream",
       "stream": "stdout",
       "text": [
        "  "
       ]
      },
      {
       "output_type": "stream",
       "stream": "stdout",
       "text": [
        "Iters               objv        objv-change | affected \n",
        "-------------------------------------------------------------\n",
        "      1       8.826860e+01      -6.736140e+01 |        2\n",
        "      2       8.495218e+01      -3.316417e+00 |        2\n",
        "      3       8.401278e+01      -9.394005e-01 |        2\n",
        "      4       8.304698e+01      -9.657970e-01 |        2\n",
        "      5       8.174960e+01      -1.297380e+00 |        2\n",
        "      6       8.080638e+01      -9.432261e-01 |        2\n",
        "      7       7.987358e+01      -9.327962e-01 |        2\n",
        "      8       7.934436e+01      -5.292157e-01 |        2\n",
        "      9       7.892131e+01      -4.230544e-01 |        2\n",
        "     10       7.885567e+01      -6.564390e-02 |        0\n",
        "     11       7.885567e+01       0.000000e+00 |        0\n",
        "K-means converged with 11 iterations (objv = 78.85566582597716)\n"
       ]
      },
      {
       "metadata": {},
       "output_type": "pyout",
       "prompt_number": 152,
       "text": [
        "KmeansResult{Float64}(4x3 Array{Float64,2}:\n",
        " 5.006  6.85385  5.88361\n",
        " 3.428  3.07692  2.74098\n",
        " 1.462  5.71538  4.38852\n",
        " 0.246  2.05385  1.43443,[1,1,1,1,1,1,1,1,1,1  \u2026  2,2,3,2,2,2,3,2,2,3],[0.019980000000018094,0.20038000000000977,0.17398000000001446,0.2759800000000041,0.03557999999999595,0.45838000000000534,0.17238000000000397,0.004380000000011819,0.6519799999999947,0.1415800000000189  \u2026  0.1573372781064677,0.4419526627218886,0.7316259070142337,0.1127218934910843,0.2727218934911093,0.3557988165680399,0.8221177102929005,0.3996449704141867,0.6919526627218318,0.7071996775060256],[50,39,61],[0.0,0.0,0.0],78.85566582597716,11,true)"
       ]
      }
     ],
     "prompt_number": 152
    },
    {
     "cell_type": "code",
     "collapsed": false,
     "input": [
      "by(iris, \"Species\", df -> DataFrame(A = mean(df[2]),\n",
      "                                    B = mean(df[3]),\n",
      "                                    C = mean(df[4]),\n",
      "                                    D = mean(df[5])))"
     ],
     "language": "python",
     "metadata": {},
     "outputs": [
      {
       "metadata": {},
       "output_type": "pyout",
       "prompt_number": 153,
       "text": [
        "3x5 DataFrame:\n",
        "             Species     A     B     C     D\n",
        "[1,]        \"setosa\" 5.006 3.428 1.462 0.246\n",
        "[2,]    \"versicolor\" 5.936  2.77  4.26 1.326\n",
        "[3,]     \"virginica\" 6.588 2.974 5.552 2.026\n"
       ]
      }
     ],
     "prompt_number": 153
    }
   ],
   "metadata": {}
  }
 ]
}