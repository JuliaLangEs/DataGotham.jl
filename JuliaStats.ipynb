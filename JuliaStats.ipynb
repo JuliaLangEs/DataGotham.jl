{
 "metadata": {
  "language": "Julia",
  "name": ""
 },
 "nbformat": 3,
 "nbformat_minor": 0,
 "worksheets": [
  {
   "cells": [
    {
     "cell_type": "heading",
     "level": 1,
     "metadata": {},
     "source": [
      "Basic Statistics in Julia"
     ]
    },
    {
     "cell_type": "code",
     "collapsed": false,
     "input": [
      "using Stats"
     ],
     "language": "python",
     "metadata": {},
     "outputs": [],
     "prompt_number": 1
    },
    {
     "cell_type": "code",
     "collapsed": false,
     "input": [
      "x = rand(100)"
     ],
     "language": "python",
     "metadata": {},
     "outputs": [
      {
       "metadata": {},
       "output_type": "pyout",
       "prompt_number": 2,
       "text": [
        "100-element Array{Float64,1}:\n",
        " 0.642227 \n",
        " 0.940119 \n",
        " 0.240652 \n",
        " 0.205154 \n",
        " 0.985521 \n",
        " 0.17573  \n",
        " 0.97472  \n",
        " 0.28691  \n",
        " 0.419781 \n",
        " 0.222313 \n",
        " 0.532092 \n",
        " 0.158257 \n",
        " 0.957743 \n",
        " \u22ee        \n",
        " 0.0428605\n",
        " 0.802156 \n",
        " 0.093705 \n",
        " 0.625193 \n",
        " 0.964709 \n",
        " 0.71725  \n",
        " 0.377152 \n",
        " 0.876392 \n",
        " 0.493583 \n",
        " 0.091665 \n",
        " 0.0889602\n",
        " 0.450169 "
       ]
      }
     ],
     "prompt_number": 2
    },
    {
     "cell_type": "code",
     "collapsed": false,
     "input": [
      "min(x)"
     ],
     "language": "python",
     "metadata": {},
     "outputs": [
      {
       "metadata": {},
       "output_type": "pyout",
       "prompt_number": 3,
       "text": [
        "0.0042121501800520544"
       ]
      }
     ],
     "prompt_number": 3
    },
    {
     "cell_type": "code",
     "collapsed": false,
     "input": [
      "median(x)"
     ],
     "language": "python",
     "metadata": {},
     "outputs": [
      {
       "metadata": {},
       "output_type": "pyout",
       "prompt_number": 4,
       "text": [
        "0.4221069994288976"
       ]
      }
     ],
     "prompt_number": 4
    },
    {
     "cell_type": "code",
     "collapsed": false,
     "input": [
      "max(x)"
     ],
     "language": "python",
     "metadata": {},
     "outputs": [
      {
       "metadata": {},
       "output_type": "pyout",
       "prompt_number": 5,
       "text": [
        "0.985520994527801"
       ]
      }
     ],
     "prompt_number": 5
    },
    {
     "cell_type": "code",
     "collapsed": false,
     "input": [
      "quantile(x, [0.0, 0.5, 1.0])"
     ],
     "language": "python",
     "metadata": {},
     "outputs": [
      {
       "metadata": {},
       "output_type": "pyout",
       "prompt_number": 6,
       "text": [
        "3-element Array{Float64,1}:\n",
        " 0.00421215\n",
        " 0.422107  \n",
        " 0.985521  "
       ]
      }
     ],
     "prompt_number": 6
    },
    {
     "cell_type": "code",
     "collapsed": false,
     "input": [
      "describe(x)"
     ],
     "language": "python",
     "metadata": {},
     "outputs": [
      {
       "output_type": "stream",
       "stream": "stdout",
       "text": [
        "Min:          0"
       ]
      },
      {
       "output_type": "stream",
       "stream": "stdout",
       "text": [
        ".004212\n",
        "1st Quartile: 0.216984\n",
        "Median:       0.422107\n",
        "Mean:         0.455117\n",
        "3rd Quartile: 0.672585\n",
        "Max:          0.985521\n"
       ]
      }
     ],
     "prompt_number": 7
    },
    {
     "cell_type": "heading",
     "level": 4,
     "metadata": {},
     "source": [
      "Many Other Statistics Available"
     ]
    },
    {
     "cell_type": "markdown",
     "metadata": {},
     "source": [
      "Summarizing \"typical\" values:\n",
      "\n",
      "* gmean\n",
      "* hmean\n",
      "* wmean\n",
      "* median\n",
      "* mode              \n",
      "* modes             \n",
      "* midrange          \n",
      "\n",
      "Summarizing variability:\n",
      "\n",
      "* range\n",
      "* iqr\n",
      "* skewness\n",
      "* kurtosis          \n",
      "* mad\n",
      "* minmax\n",
      "* sem\n",
      "* variation\n",
      "\n",
      "Specialized quantiles:\n",
      "\n",
      "* decile\n",
      "* percentile        \n",
      "* quartile\n",
      "* quintile\n",
      "\n",
      "Inverse quantiles:\n",
      "\n",
      "* ecdf\n",
      "\n",
      "Correlations:\n",
      "\n",
      "* cor_kendall\n",
      "* cor_spearman\n",
      "\n",
      "Unique items:\n",
      "\n",
      "* table\n",
      "* unique\n",
      "\n",
      "Order statistics:\n",
      "\n",
      "* tiedrank\n",
      "\n",
      "Run-length encodings:\n",
      "\n",
      "* inverse_rle\n",
      "* rle"
     ]
    },
    {
     "cell_type": "heading",
     "level": 1,
     "metadata": {},
     "source": [
      "Probability Distributions in Julia"
     ]
    },
    {
     "cell_type": "code",
     "collapsed": false,
     "input": [
      "using Distributions"
     ],
     "language": "python",
     "metadata": {},
     "outputs": [],
     "prompt_number": 8
    },
    {
     "cell_type": "code",
     "collapsed": false,
     "input": [
      "x = rand(Gamma(1, 2), 100)"
     ],
     "language": "python",
     "metadata": {},
     "outputs": [
      {
       "metadata": {},
       "output_type": "pyout",
       "prompt_number": 9,
       "text": [
        "100-element Array{Float64,1}:\n",
        " 1.75141  \n",
        " 2.607    \n",
        " 0.457966 \n",
        " 1.02201  \n",
        " 0.407064 \n",
        " 5.06469  \n",
        " 0.0844197\n",
        " 1.06937  \n",
        " 0.0913829\n",
        " 0.830486 \n",
        " 2.85233  \n",
        " 1.4485   \n",
        " 1.04935  \n",
        " \u22ee        \n",
        " 0.510521 \n",
        " 1.50736  \n",
        " 1.40949  \n",
        " 1.17639  \n",
        " 0.725072 \n",
        " 1.1993   \n",
        " 0.442563 \n",
        " 3.62946  \n",
        " 0.884287 \n",
        " 0.367975 \n",
        " 0.488268 \n",
        " 0.0183727"
       ]
      }
     ],
     "prompt_number": 9
    },
    {
     "cell_type": "heading",
     "level": 4,
     "metadata": {},
     "source": [
      "Standard R Functions with Simpler Names"
     ]
    },
    {
     "cell_type": "code",
     "collapsed": false,
     "input": [
      "d = Normal(0, 1)"
     ],
     "language": "python",
     "metadata": {},
     "outputs": [
      {
       "metadata": {},
       "output_type": "pyout",
       "prompt_number": 10,
       "text": [
        "Normal( \u03bc=0.0 \u03c3=1.0 )"
       ]
      }
     ],
     "prompt_number": 10
    },
    {
     "cell_type": "code",
     "collapsed": false,
     "input": [
      "pdf(d, 0.0)"
     ],
     "language": "python",
     "metadata": {},
     "outputs": [
      {
       "metadata": {},
       "output_type": "pyout",
       "prompt_number": 11,
       "text": [
        "0.39894228040143265"
       ]
      }
     ],
     "prompt_number": 11
    },
    {
     "cell_type": "code",
     "collapsed": false,
     "input": [
      "cdf(d, 0.0)"
     ],
     "language": "python",
     "metadata": {},
     "outputs": [
      {
       "metadata": {},
       "output_type": "pyout",
       "prompt_number": 12,
       "text": [
        "0.5"
       ]
      }
     ],
     "prompt_number": 12
    },
    {
     "cell_type": "code",
     "collapsed": false,
     "input": [
      "quantile(d, 0.1)"
     ],
     "language": "python",
     "metadata": {},
     "outputs": [
      {
       "metadata": {},
       "output_type": "pyout",
       "prompt_number": 13,
       "text": [
        "-1.2815515655446008"
       ]
      }
     ],
     "prompt_number": 13
    },
    {
     "cell_type": "code",
     "collapsed": false,
     "input": [
      "rand(d)"
     ],
     "language": "python",
     "metadata": {},
     "outputs": [
      {
       "metadata": {},
       "output_type": "pyout",
       "prompt_number": 14,
       "text": [
        "-0.23118071426010922"
       ]
      }
     ],
     "prompt_number": 14
    },
    {
     "cell_type": "heading",
     "level": 4,
     "metadata": {},
     "source": [
      "Additional Abstractions around PDF's, CDF's, etc."
     ]
    },
    {
     "cell_type": "code",
     "collapsed": false,
     "input": [
      "quantile(d, [0.25, 0.75])"
     ],
     "language": "python",
     "metadata": {},
     "outputs": [
      {
       "metadata": {},
       "output_type": "pyout",
       "prompt_number": 15,
       "text": [
        "2-element Array{Float64,1}:\n",
        " -0.67449\n",
        "  0.67449"
       ]
      }
     ],
     "prompt_number": 15
    },
    {
     "cell_type": "code",
     "collapsed": false,
     "input": [
      "-loglikelihood(d, rand(d, 100_000)) / 100_000"
     ],
     "language": "python",
     "metadata": {},
     "outputs": [
      {
       "metadata": {},
       "output_type": "pyout",
       "prompt_number": 16,
       "text": [
        "1.414218561361915"
       ]
      }
     ],
     "prompt_number": 16
    },
    {
     "cell_type": "heading",
     "level": 4,
     "metadata": {},
     "source": [
      "Theoretical Properties of Distributions"
     ]
    },
    {
     "cell_type": "code",
     "collapsed": false,
     "input": [
      "entropy(d)"
     ],
     "language": "python",
     "metadata": {},
     "outputs": [
      {
       "metadata": {},
       "output_type": "pyout",
       "prompt_number": 17,
       "text": [
        "1.4189385332046727"
       ]
      }
     ],
     "prompt_number": 17
    },
    {
     "cell_type": "code",
     "collapsed": false,
     "input": [
      "mean(d)"
     ],
     "language": "python",
     "metadata": {},
     "outputs": [
      {
       "metadata": {},
       "output_type": "pyout",
       "prompt_number": 18,
       "text": [
        "0.0"
       ]
      }
     ],
     "prompt_number": 18
    },
    {
     "cell_type": "code",
     "collapsed": false,
     "input": [
      "skewness(d)"
     ],
     "language": "python",
     "metadata": {},
     "outputs": [
      {
       "metadata": {},
       "output_type": "pyout",
       "prompt_number": 19,
       "text": [
        "0.0"
       ]
      }
     ],
     "prompt_number": 19
    },
    {
     "cell_type": "code",
     "collapsed": false,
     "input": [
      "kurtosis(d)"
     ],
     "language": "python",
     "metadata": {},
     "outputs": [
      {
       "metadata": {},
       "output_type": "pyout",
       "prompt_number": 20,
       "text": [
        "0.0"
       ]
      }
     ],
     "prompt_number": 20
    },
    {
     "cell_type": "code",
     "collapsed": false,
     "input": [
      "var(d)"
     ],
     "language": "python",
     "metadata": {},
     "outputs": [
      {
       "metadata": {},
       "output_type": "pyout",
       "prompt_number": 21,
       "text": [
        "1.0"
       ]
      }
     ],
     "prompt_number": 21
    },
    {
     "cell_type": "code",
     "collapsed": false,
     "input": [
      "modes(d)"
     ],
     "language": "python",
     "metadata": {},
     "outputs": [
      {
       "metadata": {},
       "output_type": "pyout",
       "prompt_number": 22,
       "text": [
        "1-element Array{Float64,1}:\n",
        " 0.0"
       ]
      }
     ],
     "prompt_number": 22
    },
    {
     "cell_type": "heading",
     "level": 4,
     "metadata": {},
     "source": [
      "Fit Distributions to Data"
     ]
    },
    {
     "cell_type": "code",
     "collapsed": false,
     "input": [
      "x = rand(d, 1_000)"
     ],
     "language": "python",
     "metadata": {},
     "outputs": [
      {
       "metadata": {},
       "output_type": "pyout",
       "prompt_number": 23,
       "text": [
        "1000-element Array{Float64,1}:\n",
        " -1.60148  \n",
        "  0.212872 \n",
        "  0.481205 \n",
        "  0.378441 \n",
        " -0.644695 \n",
        " -0.278716 \n",
        "  1.1444   \n",
        " -1.47401  \n",
        "  0.401815 \n",
        " -2.19137  \n",
        "  1.60353  \n",
        " -1.80227  \n",
        " -0.567728 \n",
        "  \u22ee        \n",
        "  0.0627772\n",
        " -0.39225  \n",
        "  0.0207944\n",
        " -0.353299 \n",
        "  1.05638  \n",
        " -0.0344781\n",
        " -0.620591 \n",
        " -0.676704 \n",
        "  0.0474219\n",
        "  0.84751  \n",
        "  0.896656 \n",
        " -0.653372 "
       ]
      }
     ],
     "prompt_number": 23
    },
    {
     "cell_type": "code",
     "collapsed": false,
     "input": [
      "fit_mle(Normal, x)"
     ],
     "language": "python",
     "metadata": {},
     "outputs": [
      {
       "metadata": {},
       "output_type": "pyout",
       "prompt_number": 24,
       "text": [
        "Normal( \u03bc=-0.017424318408982474 \u03c3=1.0289479381784539 )"
       ]
      }
     ],
     "prompt_number": 24
    },
    {
     "cell_type": "code",
     "collapsed": false,
     "input": [
      "(mean(d), std(d)), (mean(x), std(x))"
     ],
     "language": "python",
     "metadata": {},
     "outputs": [
      {
       "metadata": {},
       "output_type": "pyout",
       "prompt_number": 25,
       "text": [
        "((0.0,1.0),(-0.017424318408982474,1.0294627983248479))"
       ]
      }
     ],
     "prompt_number": 25
    },
    {
     "cell_type": "heading",
     "level": 4,
     "metadata": {},
     "source": [
      "Bayesian Updating with Conjugate Priors"
     ]
    },
    {
     "cell_type": "code",
     "collapsed": false,
     "input": [
      "x = rand(Bernoulli(0.9), 10_000)"
     ],
     "language": "python",
     "metadata": {},
     "outputs": [
      {
       "metadata": {},
       "output_type": "pyout",
       "prompt_number": 26,
       "text": [
        "10000-element Array{Int64,1}:\n",
        " 1\n",
        " 1\n",
        " 1\n",
        " 1\n",
        " 1\n",
        " 1\n",
        " 1\n",
        " 1\n",
        " 1\n",
        " 1\n",
        " 0\n",
        " 1\n",
        " 1\n",
        " \u22ee\n",
        " 1\n",
        " 1\n",
        " 1\n",
        " 1\n",
        " 1\n",
        " 1\n",
        " 1\n",
        " 0\n",
        " 1\n",
        " 0\n",
        " 1\n",
        " 1"
       ]
      }
     ],
     "prompt_number": 26
    },
    {
     "cell_type": "code",
     "collapsed": false,
     "input": [
      "posterior(Beta(3, 3), Bernoulli, x)"
     ],
     "language": "python",
     "metadata": {},
     "outputs": [
      {
       "metadata": {},
       "output_type": "pyout",
       "prompt_number": 27,
       "text": [
        "Beta( alpha=9014.0 beta=992.0 )"
       ]
      }
     ],
     "prompt_number": 27
    },
    {
     "cell_type": "heading",
     "level": 4,
     "metadata": {},
     "source": [
      "Kernel Density Estimation"
     ]
    },
    {
     "cell_type": "code",
     "collapsed": false,
     "input": [
      "using Vega"
     ],
     "language": "python",
     "metadata": {},
     "outputs": [],
     "prompt_number": 28
    },
    {
     "cell_type": "code",
     "collapsed": false,
     "input": [
      "x = rand(Gamma(3, 3), 100_000)"
     ],
     "language": "python",
     "metadata": {},
     "outputs": [
      {
       "metadata": {},
       "output_type": "pyout",
       "prompt_number": 29,
       "text": [
        "100000-element Array{Float64,1}:\n",
        " 13.4151 \n",
        "  8.15762\n",
        " 11.5795 \n",
        "  5.50441\n",
        "  8.56711\n",
        "  6.86028\n",
        "  7.16078\n",
        "  8.43385\n",
        "  9.55439\n",
        "  5.13042\n",
        "  6.09453\n",
        " 10.5956 \n",
        "  4.73742\n",
        "  \u22ee      \n",
        " 10.5798 \n",
        "  3.86331\n",
        "  3.4431 \n",
        "  4.71098\n",
        "  6.12137\n",
        "  3.18576\n",
        " 10.5408 \n",
        " 13.2732 \n",
        "  5.44895\n",
        " 18.9784 \n",
        "  7.42059\n",
        "  7.7866 "
       ]
      }
     ],
     "prompt_number": 29
    },
    {
     "cell_type": "code",
     "collapsed": false,
     "input": [
      "k = kde(x)"
     ],
     "language": "python",
     "metadata": {},
     "outputs": [
      {
       "metadata": {},
       "output_type": "pyout",
       "prompt_number": 30,
       "text": [
        "UnivariateKDE([-1.165901664288038,-1.1390123913660133,-1.1121231184439888,-1.0852338455219641,-1.0583445725999394,-1.031455299677915,-1.0045660267558902,-0.9776767538338657,-0.9507874809118411,-0.9238982079898164  \u2026  53.63443655079814,53.66132582372017,53.688215096642196,53.715104369564216,53.74199364248624,53.76888291540827,53.79577218833029,53.822661461252316,53.84955073417434,53.87644000709636],[2.3875563745605344e-6,2.9053595395640147e-6,3.5397350055758198e-6,4.311987131683584e-6,5.247001017078673e-6,6.373703941129835e-6,7.725566276697501e-6,9.341141747583673e-6,1.1264646185282778e-5,1.3546573137351511e-5  \u2026  7.565148673102488e-7,7.488183863457927e-7,7.660069791857018e-7,8.11162914543729e-7,8.882016524572604e-7,1.0020255124702847e-6,1.1586979197139016e-6,1.3656406291489296e-6,1.6318563791107308e-6,1.9681794281624105e-6])"
       ]
      }
     ],
     "prompt_number": 30
    },
    {
     "cell_type": "code",
     "collapsed": false,
     "input": [
      "names(Distributions.UnivariateKDE)"
     ],
     "language": "python",
     "metadata": {},
     "outputs": [
      {
       "metadata": {},
       "output_type": "pyout",
       "prompt_number": 31,
       "text": [
        "2-element Array{Any,1}:\n",
        " :x      \n",
        " :density"
       ]
      }
     ],
     "prompt_number": 31
    },
    {
     "cell_type": "code",
     "collapsed": false,
     "input": [
      "plot(x = k.x, y = k.density, kind = :area)"
     ],
     "language": "python",
     "metadata": {},
     "outputs": [
      {
       "metadata": {},
       "output_type": "pyout",
       "prompt_number": 32,
       "text": []
      }
     ],
     "prompt_number": 32
    },
    {
     "cell_type": "code",
     "collapsed": false,
     "input": [
      "plot(x = k.x, y = k.density, kind = :line)"
     ],
     "language": "python",
     "metadata": {},
     "outputs": [
      {
       "metadata": {},
       "output_type": "pyout",
       "prompt_number": 33,
       "text": []
      }
     ],
     "prompt_number": 33
    },
    {
     "cell_type": "heading",
     "level": 1,
     "metadata": {},
     "source": [
      "Tabular Data and Missing Values in Julia"
     ]
    },
    {
     "cell_type": "heading",
     "level": 4,
     "metadata": {},
     "source": [
      "Representing Missing Values"
     ]
    },
    {
     "cell_type": "code",
     "collapsed": false,
     "input": [
      "using DataFrames"
     ],
     "language": "python",
     "metadata": {},
     "outputs": [],
     "prompt_number": 34
    },
    {
     "cell_type": "code",
     "collapsed": false,
     "input": [
      "NA + 1"
     ],
     "language": "python",
     "metadata": {},
     "outputs": [
      {
       "metadata": {},
       "output_type": "pyout",
       "prompt_number": 35,
       "text": [
        "NA"
       ]
      }
     ],
     "prompt_number": 35
    },
    {
     "cell_type": "code",
     "collapsed": false,
     "input": [
      "x = DataArray([1, 2, 3])"
     ],
     "language": "python",
     "metadata": {},
     "outputs": [
      {
       "metadata": {},
       "output_type": "pyout",
       "prompt_number": 36,
       "text": [
        "3-element DataArray{Int64,1}:\n",
        " 1\n",
        " 2\n",
        " 3"
       ]
      }
     ],
     "prompt_number": 36
    },
    {
     "cell_type": "code",
     "collapsed": false,
     "input": [
      "x[1] = NA"
     ],
     "language": "python",
     "metadata": {},
     "outputs": [
      {
       "metadata": {},
       "output_type": "pyout",
       "prompt_number": 37,
       "text": [
        "NA"
       ]
      }
     ],
     "prompt_number": 37
    },
    {
     "cell_type": "code",
     "collapsed": false,
     "input": [
      "mean(x)"
     ],
     "language": "python",
     "metadata": {},
     "outputs": [
      {
       "metadata": {},
       "output_type": "pyout",
       "prompt_number": 38,
       "text": [
        "NA"
       ]
      }
     ],
     "prompt_number": 38
    },
    {
     "cell_type": "code",
     "collapsed": false,
     "input": [
      "x[!isna(x)]"
     ],
     "language": "python",
     "metadata": {},
     "outputs": [
      {
       "metadata": {},
       "output_type": "pyout",
       "prompt_number": 39,
       "text": [
        "2-element DataArray{Int64,1}:\n",
        " 2\n",
        " 3"
       ]
      }
     ],
     "prompt_number": 39
    },
    {
     "cell_type": "code",
     "collapsed": false,
     "input": [
      "mean(x[!isna(x)])"
     ],
     "language": "python",
     "metadata": {},
     "outputs": [
      {
       "metadata": {},
       "output_type": "pyout",
       "prompt_number": 40,
       "text": [
        "2.5"
       ]
      }
     ],
     "prompt_number": 40
    },
    {
     "cell_type": "heading",
     "level": 4,
     "metadata": {},
     "source": [
      "Factor-Like Variables"
     ]
    },
    {
     "cell_type": "code",
     "collapsed": false,
     "input": [
      "y = PooledDataArray([1, 1, 2, 3])"
     ],
     "language": "python",
     "metadata": {},
     "outputs": [
      {
       "metadata": {},
       "output_type": "pyout",
       "prompt_number": 41,
       "text": [
        "4-element PooledDataArray{Int64,Uint32,1}:\n",
        " 1\n",
        " 1\n",
        " 2\n",
        " 3"
       ]
      }
     ],
     "prompt_number": 41
    },
    {
     "cell_type": "code",
     "collapsed": false,
     "input": [
      "levels(y)"
     ],
     "language": "python",
     "metadata": {},
     "outputs": [
      {
       "metadata": {},
       "output_type": "pyout",
       "prompt_number": 42,
       "text": [
        "3-element Array{Int64,1}:\n",
        " 1\n",
        " 2\n",
        " 3"
       ]
      }
     ],
     "prompt_number": 42
    },
    {
     "cell_type": "heading",
     "level": 4,
     "metadata": {},
     "source": [
      "Representing Tabular Data"
     ]
    },
    {
     "cell_type": "code",
     "collapsed": false,
     "input": [
      "df = DataFrame(A = float(1:10), B = rand(10))"
     ],
     "language": "python",
     "metadata": {},
     "outputs": [
      {
       "metadata": {},
       "output_type": "pyout",
       "prompt_number": 43,
       "text": [
        "10x2 DataFrame:\n",
        "            A         B\n",
        "[1,]      1.0  0.102414\n",
        "[2,]      2.0  0.282414\n",
        "[3,]      3.0   0.81056\n",
        "[4,]      4.0  0.188548\n",
        "[5,]      5.0  0.313433\n",
        "[6,]      6.0  0.133609\n",
        "[7,]      7.0  0.789874\n",
        "[8,]      8.0  0.204319\n",
        "[9,]      9.0  0.683687\n",
        "[10,]    10.0 0.0317764\n"
       ]
      }
     ],
     "prompt_number": 43
    },
    {
     "cell_type": "code",
     "collapsed": false,
     "input": [
      "head(df)"
     ],
     "language": "python",
     "metadata": {},
     "outputs": [
      {
       "metadata": {},
       "output_type": "pyout",
       "prompt_number": 44,
       "text": [
        "6x2 DataFrame:\n",
        "          A        B\n",
        "[1,]    1.0 0.102414\n",
        "[2,]    2.0 0.282414\n",
        "[3,]    3.0  0.81056\n",
        "[4,]    4.0 0.188548\n",
        "[5,]    5.0 0.313433\n",
        "[6,]    6.0 0.133609\n"
       ]
      }
     ],
     "prompt_number": 44
    },
    {
     "cell_type": "code",
     "collapsed": false,
     "input": [
      "tail(df)"
     ],
     "language": "python",
     "metadata": {},
     "outputs": [
      {
       "metadata": {},
       "output_type": "pyout",
       "prompt_number": 45,
       "text": [
        "6x2 DataFrame:\n",
        "           A         B\n",
        "[1,]     5.0  0.313433\n",
        "[2,]     6.0  0.133609\n",
        "[3,]     7.0  0.789874\n",
        "[4,]     8.0  0.204319\n",
        "[5,]     9.0  0.683687\n",
        "[6,]    10.0 0.0317764\n"
       ]
      }
     ],
     "prompt_number": 45
    },
    {
     "cell_type": "code",
     "collapsed": false,
     "input": [
      "df[\"C\"] = repeat([\"G1\", \"G2\"], inner = [5])"
     ],
     "language": "python",
     "metadata": {},
     "outputs": [
      {
       "metadata": {},
       "output_type": "pyout",
       "prompt_number": 46,
       "text": [
        "10-element Array{ASCIIString,1}:\n",
        " \"G1\"\n",
        " \"G1\"\n",
        " \"G1\"\n",
        " \"G1\"\n",
        " \"G1\"\n",
        " \"G2\"\n",
        " \"G2\"\n",
        " \"G2\"\n",
        " \"G2\"\n",
        " \"G2\""
       ]
      }
     ],
     "prompt_number": 46
    },
    {
     "cell_type": "code",
     "collapsed": false,
     "input": [
      "df[1:10, :]"
     ],
     "language": "python",
     "metadata": {},
     "outputs": [
      {
       "metadata": {},
       "output_type": "pyout",
       "prompt_number": 47,
       "text": [
        "10x3 DataFrame:\n",
        "            A         B    C\n",
        "[1,]      1.0  0.102414 \"G1\"\n",
        "[2,]      2.0  0.282414 \"G1\"\n",
        "[3,]      3.0   0.81056 \"G1\"\n",
        "[4,]      4.0  0.188548 \"G1\"\n",
        "[5,]      5.0  0.313433 \"G1\"\n",
        "[6,]      6.0  0.133609 \"G2\"\n",
        "[7,]      7.0  0.789874 \"G2\"\n",
        "[8,]      8.0  0.204319 \"G2\"\n",
        "[9,]      9.0  0.683687 \"G2\"\n",
        "[10,]    10.0 0.0317764 \"G2\"\n"
       ]
      }
     ],
     "prompt_number": 47
    },
    {
     "cell_type": "code",
     "collapsed": false,
     "input": [
      "by(df, \"C\", df -> mean(df[\"B\"]))"
     ],
     "language": "python",
     "metadata": {},
     "outputs": [
      {
       "metadata": {},
       "output_type": "pyout",
       "prompt_number": 48,
       "text": [
        "2x2 DataFrame:\n",
        "           C       x1\n",
        "[1,]    \"G1\" 0.339474\n",
        "[2,]    \"G2\" 0.368653\n"
       ]
      }
     ],
     "prompt_number": 48
    },
    {
     "cell_type": "code",
     "collapsed": false,
     "input": [
      "select(:(C .== \"G1\"), df)"
     ],
     "language": "python",
     "metadata": {},
     "outputs": [
      {
       "output_type": "stream",
       "stream": "stderr",
       "text": [
        "WARNING: contains(collection, item) is deprecated, use in(item, collection) instead"
       ]
      },
      {
       "output_type": "stream",
       "stream": "stderr",
       "text": [
        "\n",
        " in contains at reduce.jl:238\n"
       ]
      },
      {
       "metadata": {},
       "output_type": "pyout",
       "prompt_number": 49,
       "text": [
        "5x3 SubDataFrame:\n",
        "          A        B    C\n",
        "[1,]    1.0 0.102414 \"G1\"\n",
        "[2,]    2.0 0.282414 \"G1\"\n",
        "[3,]    3.0  0.81056 \"G1\"\n",
        "[4,]    4.0 0.188548 \"G1\"\n",
        "[5,]    5.0 0.313433 \"G1\"\n"
       ]
      }
     ],
     "prompt_number": 49
    },
    {
     "cell_type": "heading",
     "level": 4,
     "metadata": {},
     "source": [
      "Accessing Classical Datasets"
     ]
    },
    {
     "cell_type": "code",
     "collapsed": false,
     "input": [
      "using RDatasets"
     ],
     "language": "python",
     "metadata": {},
     "outputs": [],
     "prompt_number": 50
    },
    {
     "cell_type": "code",
     "collapsed": false,
     "input": [
      "iris = data(\"datasets\", \"iris\")"
     ],
     "language": "python",
     "metadata": {},
     "outputs": [
      {
       "metadata": {},
       "output_type": "pyout",
       "prompt_number": 51,
       "text": [
        "150x6 DataFrame:\n",
        "              Sepal.Length Sepal.Width Petal.Length Petal.Width     Species\n",
        "[1,]        1          5.1         3.5          1.4         0.2    \"setosa\"\n",
        "[2,]        2          4.9         3.0          1.4         0.2    \"setosa\"\n",
        "[3,]        3          4.7         3.2          1.3         0.2    \"setosa\"\n",
        "[4,]        4          4.6         3.1          1.5         0.2    \"setosa\"\n",
        "[5,]        5          5.0         3.6          1.4         0.2    \"setosa\"\n",
        "[6,]        6          5.4         3.9          1.7         0.4    \"setosa\"\n",
        "[7,]        7          4.6         3.4          1.4         0.3    \"setosa\"\n",
        "[8,]        8          5.0         3.4          1.5         0.2    \"setosa\"\n",
        "[9,]        9          4.4         2.9          1.4         0.2    \"setosa\"\n",
        "[10,]      10          4.9         3.1          1.5         0.1    \"setosa\"\n",
        "[11,]      11          5.4         3.7          1.5         0.2    \"setosa\"\n",
        "[12,]      12          4.8         3.4          1.6         0.2    \"setosa\"\n",
        "[13,]      13          4.8         3.0          1.4         0.1    \"setosa\"\n",
        "[14,]      14          4.3         3.0          1.1         0.1    \"setosa\"\n",
        "[15,]      15          5.8         4.0          1.2         0.2    \"setosa\"\n",
        "[16,]      16          5.7         4.4          1.5         0.4    \"setosa\"\n",
        "[17,]      17          5.4         3.9          1.3         0.4    \"setosa\"\n",
        "[18,]      18          5.1         3.5          1.4         0.3    \"setosa\"\n",
        "[19,]      19          5.7         3.8          1.7         0.3    \"setosa\"\n",
        "[20,]      20          5.1         3.8          1.5         0.3    \"setosa\"\n",
        "  :\n",
        "[131,]    131          7.4         2.8          6.1         1.9 \"virginica\"\n",
        "[132,]    132          7.9         3.8          6.4         2.0 \"virginica\"\n",
        "[133,]    133          6.4         2.8          5.6         2.2 \"virginica\"\n",
        "[134,]    134          6.3         2.8          5.1         1.5 \"virginica\"\n",
        "[135,]    135          6.1         2.6          5.6         1.4 \"virginica\"\n",
        "[136,]    136          7.7         3.0          6.1         2.3 \"virginica\"\n",
        "[137,]    137          6.3         3.4          5.6         2.4 \"virginica\"\n",
        "[138,]    138          6.4         3.1          5.5         1.8 \"virginica\"\n",
        "[139,]    139          6.0         3.0          4.8         1.8 \"virginica\"\n",
        "[140,]    140          6.9         3.1          5.4         2.1 \"virginica\"\n",
        "[141,]    141          6.7         3.1          5.6         2.4 \"virginica\"\n",
        "[142,]    142          6.9         3.1          5.1         2.3 \"virginica\"\n",
        "[143,]    143          5.8         2.7          5.1         1.9 \"virginica\"\n",
        "[144,]    144          6.8         3.2          5.9         2.3 \"virginica\"\n",
        "[145,]    145          6.7         3.3          5.7         2.5 \"virginica\"\n",
        "[146,]    146          6.7         3.0          5.2         2.3 \"virginica\"\n",
        "[147,]    147          6.3         2.5          5.0         1.9 \"virginica\"\n",
        "[148,]    148          6.5         3.0          5.2         2.0 \"virginica\"\n",
        "[149,]    149          6.2         3.4          5.4         2.3 \"virginica\"\n",
        "[150,]    150          5.9         3.0          5.1         1.8 \"virginica\"\n"
       ]
      }
     ],
     "prompt_number": 51
    },
    {
     "cell_type": "code",
     "collapsed": false,
     "input": [
      "head(iris)"
     ],
     "language": "python",
     "metadata": {},
     "outputs": [
      {
       "metadata": {},
       "output_type": "pyout",
       "prompt_number": 52,
       "text": [
        "6x6 DataFrame:\n",
        "          Sepal.Length Sepal.Width Petal.Length Petal.Width  Species\n",
        "[1,]    1          5.1         3.5          1.4         0.2 \"setosa\"\n",
        "[2,]    2          4.9         3.0          1.4         0.2 \"setosa\"\n",
        "[3,]    3          4.7         3.2          1.3         0.2 \"setosa\"\n",
        "[4,]    4          4.6         3.1          1.5         0.2 \"setosa\"\n",
        "[5,]    5          5.0         3.6          1.4         0.2 \"setosa\"\n",
        "[6,]    6          5.4         3.9          1.7         0.4 \"setosa\"\n"
       ]
      }
     ],
     "prompt_number": 52
    },
    {
     "cell_type": "heading",
     "level": 4,
     "metadata": {},
     "source": [
      "Converting DataFrames to Design Matrices"
     ]
    },
    {
     "cell_type": "code",
     "collapsed": false,
     "input": [
      "ModelMatrix(ModelFrame(:(A ~ B), df))"
     ],
     "language": "python",
     "metadata": {},
     "outputs": [
      {
       "metadata": {},
       "output_type": "pyout",
       "prompt_number": 53,
       "text": [
        "ModelMatrix{Float64}(10x2 Array{Float64,2}:\n",
        " 1.0  0.102414 \n",
        " 1.0  0.282414 \n",
        " 1.0  0.81056  \n",
        " 1.0  0.188548 \n",
        " 1.0  0.313433 \n",
        " 1.0  0.133609 \n",
        " 1.0  0.789874 \n",
        " 1.0  0.204319 \n",
        " 1.0  0.683687 \n",
        " 1.0  0.0317764,[0,1])"
       ]
      }
     ],
     "prompt_number": 53
    },
    {
     "cell_type": "heading",
     "level": 4,
     "metadata": {},
     "source": [
      "DataFrame I/O"
     ]
    },
    {
     "cell_type": "code",
     "collapsed": false,
     "input": [
      "writetable(\"df.csv\", df)"
     ],
     "language": "python",
     "metadata": {},
     "outputs": [],
     "prompt_number": 54
    },
    {
     "cell_type": "code",
     "collapsed": false,
     "input": [
      "df2 = readtable(\"df.csv\")"
     ],
     "language": "python",
     "metadata": {},
     "outputs": [
      {
       "metadata": {},
       "output_type": "pyout",
       "prompt_number": 55,
       "text": [
        "10x3 DataFrame:\n",
        "            A         B    C\n",
        "[1,]      1.0  0.102414 \"G1\"\n",
        "[2,]      2.0  0.282414 \"G1\"\n",
        "[3,]      3.0   0.81056 \"G1\"\n",
        "[4,]      4.0  0.188548 \"G1\"\n",
        "[5,]      5.0  0.313433 \"G1\"\n",
        "[6,]      6.0  0.133609 \"G2\"\n",
        "[7,]      7.0  0.789874 \"G2\"\n",
        "[8,]      8.0  0.204319 \"G2\"\n",
        "[9,]      9.0  0.683687 \"G2\"\n",
        "[10,]    10.0 0.0317764 \"G2\"\n"
       ]
      }
     ],
     "prompt_number": 55
    },
    {
     "cell_type": "heading",
     "level": 4,
     "metadata": {},
     "source": [
      "Merging Data Sets"
     ]
    },
    {
     "cell_type": "code",
     "collapsed": false,
     "input": [
      "A = DataFrame(X = 1:3, Z = [\"A\", \"B\", \"C\"])"
     ],
     "language": "python",
     "metadata": {},
     "outputs": [
      {
       "metadata": {},
       "output_type": "pyout",
       "prompt_number": 56,
       "text": [
        "3x2 DataFrame:\n",
        "        X   Z\n",
        "[1,]    1 \"A\"\n",
        "[2,]    2 \"B\"\n",
        "[3,]    3 \"C\"\n"
       ]
      }
     ],
     "prompt_number": 56
    },
    {
     "cell_type": "code",
     "collapsed": false,
     "input": [
      "B = DataFrame(Y = 4:6, Z = [\"A\", \"B\", \"B\"])"
     ],
     "language": "python",
     "metadata": {},
     "outputs": [
      {
       "metadata": {},
       "output_type": "pyout",
       "prompt_number": 57,
       "text": [
        "3x2 DataFrame:\n",
        "        Y   Z\n",
        "[1,]    4 \"A\"\n",
        "[2,]    5 \"B\"\n",
        "[3,]    6 \"B\"\n"
       ]
      }
     ],
     "prompt_number": 57
    },
    {
     "cell_type": "code",
     "collapsed": false,
     "input": [
      "join(A, B, on = \"Z\")"
     ],
     "language": "python",
     "metadata": {},
     "outputs": [
      {
       "metadata": {},
       "output_type": "pyout",
       "prompt_number": 58,
       "text": [
        "3x3 DataFrame:\n",
        "        X   Z Y\n",
        "[1,]    1 \"A\" 4\n",
        "[2,]    2 \"B\" 5\n",
        "[3,]    2 \"B\" 6\n"
       ]
      }
     ],
     "prompt_number": 58
    },
    {
     "cell_type": "code",
     "collapsed": false,
     "input": [
      "join(A, B, on = \"Z\", kind = :inner)"
     ],
     "language": "python",
     "metadata": {},
     "outputs": [
      {
       "metadata": {},
       "output_type": "pyout",
       "prompt_number": 59,
       "text": [
        "3x3 DataFrame:\n",
        "        X   Z Y\n",
        "[1,]    1 \"A\" 4\n",
        "[2,]    2 \"B\" 5\n",
        "[3,]    2 \"B\" 6\n"
       ]
      }
     ],
     "prompt_number": 59
    },
    {
     "cell_type": "code",
     "collapsed": false,
     "input": [
      "join(A, B, on = \"Z\", kind = :left)"
     ],
     "language": "python",
     "metadata": {},
     "outputs": [
      {
       "metadata": {},
       "output_type": "pyout",
       "prompt_number": 60,
       "text": [
        "4x3 DataFrame:\n",
        "        X   Z  Y\n",
        "[1,]    1 \"A\"  4\n",
        "[2,]    2 \"B\"  5\n",
        "[3,]    2 \"B\"  6\n",
        "[4,]    3 \"C\" NA\n"
       ]
      }
     ],
     "prompt_number": 60
    },
    {
     "cell_type": "code",
     "collapsed": false,
     "input": [
      "join(A, B, on = \"Z\", kind = :right)"
     ],
     "language": "python",
     "metadata": {},
     "outputs": [
      {
       "metadata": {},
       "output_type": "pyout",
       "prompt_number": 61,
       "text": [
        "3x3 DataFrame:\n",
        "        X Y   Z\n",
        "[1,]    1 4 \"A\"\n",
        "[2,]    2 5 \"B\"\n",
        "[3,]    2 6 \"B\"\n"
       ]
      }
     ],
     "prompt_number": 61
    },
    {
     "cell_type": "code",
     "collapsed": false,
     "input": [
      "join(A, B, on = \"Z\", kind = :outer)"
     ],
     "language": "python",
     "metadata": {},
     "outputs": [
      {
       "metadata": {},
       "output_type": "pyout",
       "prompt_number": 62,
       "text": [
        "4x3 DataFrame:\n",
        "        X   Z  Y\n",
        "[1,]    1 \"A\"  4\n",
        "[2,]    2 \"B\"  5\n",
        "[3,]    2 \"B\"  6\n",
        "[4,]    3 \"C\" NA\n"
       ]
      }
     ],
     "prompt_number": 62
    },
    {
     "cell_type": "heading",
     "level": 4,
     "metadata": {},
     "source": [
      "Split-Apply-Combine Operations"
     ]
    },
    {
     "cell_type": "code",
     "collapsed": false,
     "input": [
      "by(iris, \"Species\", nrow)"
     ],
     "language": "python",
     "metadata": {},
     "outputs": [
      {
       "metadata": {},
       "output_type": "pyout",
       "prompt_number": 63,
       "text": [
        "3x2 DataFrame:\n",
        "             Species x1\n",
        "[1,]        \"setosa\" 50\n",
        "[2,]    \"versicolor\" 50\n",
        "[3,]     \"virginica\" 50\n"
       ]
      }
     ],
     "prompt_number": 63
    },
    {
     "cell_type": "code",
     "collapsed": false,
     "input": [
      "by(iris, \"Species\", df -> mean(df[\"Petal.Length\"]))"
     ],
     "language": "python",
     "metadata": {},
     "outputs": [
      {
       "metadata": {},
       "output_type": "pyout",
       "prompt_number": 64,
       "text": [
        "3x2 DataFrame:\n",
        "             Species    x1\n",
        "[1,]        \"setosa\" 1.462\n",
        "[2,]    \"versicolor\"  4.26\n",
        "[3,]     \"virginica\" 5.552\n"
       ]
      }
     ],
     "prompt_number": 64
    },
    {
     "cell_type": "code",
     "collapsed": false,
     "input": [
      "by(iris, \"Species\", :(N = size(_DF, 1)))"
     ],
     "language": "python",
     "metadata": {},
     "outputs": [
      {
       "metadata": {},
       "output_type": "pyout",
       "prompt_number": 65,
       "text": [
        "3x2 DataFrame:\n",
        "             Species  N\n",
        "[1,]        \"setosa\" 50\n",
        "[2,]    \"versicolor\" 50\n",
        "[3,]     \"virginica\" 50\n"
       ]
      }
     ],
     "prompt_number": 65
    },
    {
     "cell_type": "heading",
     "level": 1,
     "metadata": {},
     "source": [
      "GLM's in Julia"
     ]
    },
    {
     "cell_type": "code",
     "collapsed": false,
     "input": [
      "using GLM"
     ],
     "language": "python",
     "metadata": {},
     "outputs": [
      {
       "output_type": "stream",
       "stream": "stderr",
       "text": [
        "Warning: using NumericExtensions.Gamma in module Main conflicts with an existing identifier.\n"
       ]
      }
     ],
     "prompt_number": 66
    },
    {
     "cell_type": "code",
     "collapsed": false,
     "input": [
      "glm(:(B ~ A), df, Binomial())"
     ],
     "language": "python",
     "metadata": {},
     "outputs": [
      {
       "metadata": {},
       "output_type": "pyout",
       "prompt_number": 67,
       "text": [
        "\n",
        "Formula: B ~ A\n",
        "\n",
        "Coefficients:\n",
        "\n",
        "2x4 DataFrame:\n",
        "         Estimate Std.Error   z value Pr(>|z|)\n",
        "[1,]    -0.713443   1.43944  -0.49564 0.620148\n",
        "[2,]    0.0203129  0.230395 0.0881655 0.929745\n",
        "\n"
       ]
      }
     ],
     "prompt_number": 67
    },
    {
     "cell_type": "code",
     "collapsed": false,
     "input": [
      "glm(:(A ~ B), df, Poisson())"
     ],
     "language": "python",
     "metadata": {},
     "outputs": [
      {
       "metadata": {},
       "output_type": "pyout",
       "prompt_number": 68,
       "text": [
        "\n",
        "Formula: A ~ B\n",
        "\n",
        "Coefficients:\n",
        "\n",
        "2x4 DataFrame:\n",
        "         Estimate Std.Error  z value    Pr(>|z|)\n",
        "[1,]      1.67305  0.219319  7.62841 2.37659e-14\n",
        "[2,]    0.0886432  0.479136 0.185006    0.853224\n",
        "\n"
       ]
      }
     ],
     "prompt_number": 68
    },
    {
     "cell_type": "heading",
     "level": 1,
     "metadata": {},
     "source": [
      "Optimization in Julia"
     ]
    },
    {
     "cell_type": "code",
     "collapsed": false,
     "input": [
      "using Optim"
     ],
     "language": "python",
     "metadata": {},
     "outputs": [],
     "prompt_number": 69
    },
    {
     "cell_type": "code",
     "collapsed": false,
     "input": [
      "f(x::Vector) = (10.73 - x[1])^2 + (1134.29 - x[2])^4"
     ],
     "language": "python",
     "metadata": {},
     "outputs": [
      {
       "metadata": {},
       "output_type": "pyout",
       "prompt_number": 70,
       "text": [
        "# methods for generic function f\n",
        "f(x::Array{T,1}) at In[70]:1"
       ]
      }
     ],
     "prompt_number": 70
    },
    {
     "cell_type": "code",
     "collapsed": false,
     "input": [
      "f([0.0, 0.0])"
     ],
     "language": "python",
     "metadata": {},
     "outputs": [
      {
       "metadata": {},
       "output_type": "pyout",
       "prompt_number": 71,
       "text": [
        "1.6553750810158057e12"
       ]
      }
     ],
     "prompt_number": 71
    },
    {
     "cell_type": "code",
     "collapsed": false,
     "input": [
      "optimize(f, [0.0, 0.0])"
     ],
     "language": "python",
     "metadata": {},
     "outputs": [
      {
       "metadata": {},
       "output_type": "pyout",
       "prompt_number": 72,
       "text": [
        "Results of Optimization Algorithm\n",
        " * Algorithm: Nelder-Mead\n",
        " * Starting Point: 0.0,0.0\n",
        " * Minimum: 10.729963758708099,1134.2876531089082\n",
        " * Value of Function at Minimum: 0.000000\n",
        " * Iterations: 68\n",
        " * Convergence: true\n",
        "   * |x - x'| < NaN: false\n",
        "   * |f(x) - f(x')| / |f(x)| < 1.0e-08: true\n",
        "   * |g(x)| < NaN: false\n",
        "   * Exceeded Maximum Number of Iterations: false\n",
        " * Objective Function Calls: 132\n",
        " * Gradient Call: 0"
       ]
      }
     ],
     "prompt_number": 72
    },
    {
     "cell_type": "code",
     "collapsed": false,
     "input": [
      "optimize(f, [0.0, 0.0], method = :l_bfgs)"
     ],
     "language": "python",
     "metadata": {},
     "outputs": [
      {
       "metadata": {},
       "output_type": "pyout",
       "prompt_number": 73,
       "text": [
        "Results of Optimization Algorithm\n",
        " * Algorithm: L-BFGS\n",
        " * Starting Point: 0.0,0.0\n",
        " * Minimum: 10.730000000844589,1134.290201363321\n",
        " * Value of Function at Minimum: 0.000000\n",
        " * Iterations: 23\n",
        " * Convergence: true\n",
        "   * |x - x'| < 1.0e-32: false\n",
        "   * |f(x) - f(x')| / |f(x)| < 1.0e-08: false\n",
        "   * |g(x)| < 1.0e-08: true\n",
        "   * Exceeded Maximum Number of Iterations: false\n",
        " * Objective Function Calls: 121\n",
        " * Gradient Call: 121"
       ]
      }
     ],
     "prompt_number": 73
    },
    {
     "cell_type": "heading",
     "level": 1,
     "metadata": {},
     "source": [
      "Maximum Likelihood Estimation in Julia"
     ]
    },
    {
     "cell_type": "code",
     "collapsed": false,
     "input": [
      "x = rand(Normal(11, 3), 1_000)"
     ],
     "language": "python",
     "metadata": {},
     "outputs": [
      {
       "metadata": {},
       "output_type": "pyout",
       "prompt_number": 78,
       "text": [
        "1000-element Array{Float64,1}:\n",
        " 10.6611 \n",
        " 11.046  \n",
        " 17.9771 \n",
        " 17.247  \n",
        " 12.06   \n",
        " 12.4108 \n",
        " 12.5782 \n",
        " 11.0794 \n",
        " 16.7193 \n",
        " 16.6947 \n",
        "  7.15159\n",
        " 15.7636 \n",
        " 10.0147 \n",
        "  \u22ee      \n",
        "  7.77242\n",
        " 10.7322 \n",
        " 11.1499 \n",
        " 10.677  \n",
        " 11.5431 \n",
        "  8.69161\n",
        " 13.5036 \n",
        " 12.2801 \n",
        " 15.5359 \n",
        " 14.6501 \n",
        " 12.4629 \n",
        "  5.11172"
       ]
      }
     ],
     "prompt_number": 78
    },
    {
     "cell_type": "code",
     "collapsed": false,
     "input": [
      "function makenll(x)\n",
      "    nll(params::Vector) = -loglikelihood(Normal(params[1], 3), x)\n",
      "end"
     ],
     "language": "python",
     "metadata": {},
     "outputs": [
      {
       "metadata": {},
       "output_type": "pyout",
       "prompt_number": 79,
       "text": [
        "# methods for generic function makenll\n",
        "makenll(x) at In[79]:2"
       ]
      }
     ],
     "prompt_number": 79
    },
    {
     "cell_type": "code",
     "collapsed": false,
     "input": [
      "nll = makenll(x)"
     ],
     "language": "python",
     "metadata": {},
     "outputs": [
      {
       "metadata": {},
       "output_type": "pyout",
       "prompt_number": 80,
       "text": [
        "# methods for generic function nll\n",
        "nll(params::Array{T,1}) at In[79]:2"
       ]
      }
     ],
     "prompt_number": 80
    },
    {
     "cell_type": "code",
     "collapsed": false,
     "input": [
      "nll([0.0])"
     ],
     "language": "python",
     "metadata": {},
     "outputs": [
      {
       "metadata": {},
       "output_type": "pyout",
       "prompt_number": 81,
       "text": [
        "9274.714379089995"
       ]
      }
     ],
     "prompt_number": 81
    },
    {
     "cell_type": "code",
     "collapsed": false,
     "input": [
      "nll([10.0])"
     ],
     "language": "python",
     "metadata": {},
     "outputs": [
      {
       "metadata": {},
       "output_type": "pyout",
       "prompt_number": 82,
       "text": [
        "2579.7962505419637"
       ]
      }
     ],
     "prompt_number": 82
    },
    {
     "cell_type": "code",
     "collapsed": false,
     "input": [
      "optimize(nll, [0.0])"
     ],
     "language": "python",
     "metadata": {},
     "outputs": [
      {
       "metadata": {},
       "output_type": "pyout",
       "prompt_number": 83,
       "text": [
        "Results of Optimization Algorithm\n",
        " * Algorithm: Nelder-Mead\n",
        " * Starting Point: 0.0\n",
        " * Minimum: 11.025428771972656\n",
        " * Value of Function at Minimum: 2521.379632\n",
        " * Iterations: 22\n",
        " * Convergence: true\n",
        "   * |x - x'| < NaN: false\n",
        "   * |f(x) - f(x')| / |f(x)| < 1.0e-08: true\n",
        "   * |g(x)| < NaN: false\n",
        "   * Exceeded Maximum Number of Iterations: false\n",
        " * Objective Function Calls: 46\n",
        " * Gradient Call: 0"
       ]
      }
     ],
     "prompt_number": 83
    },
    {
     "cell_type": "code",
     "collapsed": false,
     "input": [
      "mean(x)"
     ],
     "language": "python",
     "metadata": {},
     "outputs": [
      {
       "metadata": {},
       "output_type": "pyout",
       "prompt_number": 85,
       "text": [
        "11.025426315693219"
       ]
      }
     ],
     "prompt_number": 85
    },
    {
     "cell_type": "markdown",
     "metadata": {},
     "source": [
      "More resources:\n",
      "\n",
      "* NLopt\n",
      "* MathProg"
     ]
    },
    {
     "cell_type": "heading",
     "level": 1,
     "metadata": {},
     "source": [
      "ML Algorithms"
     ]
    },
    {
     "cell_type": "code",
     "collapsed": false,
     "input": [
      "using Clustering"
     ],
     "language": "python",
     "metadata": {},
     "outputs": [],
     "prompt_number": 86
    },
    {
     "cell_type": "code",
     "collapsed": false,
     "input": [
      "kmeans(matrix(iris[:, 2:5])', 3)"
     ],
     "language": "python",
     "metadata": {},
     "outputs": [
      {
       "output_type": "stream",
       "stream": "stdout",
       "text": [
        "  "
       ]
      },
      {
       "output_type": "stream",
       "stream": "stdout",
       "text": [
        "Iters               objv        objv-change | affected \n",
        "-------------------------------------------------------------\n",
        "      1       8.435169e+01      -5.093831e+01 |        2\n",
        "      2       8.353735e+01      -8.143404e-01 |        2\n",
        "      3       8.248603e+01      -1.051325e+00 |        2\n",
        "      4       8.154360e+01      -9.424268e-01 |        2\n",
        "      5       8.080638e+01      -7.372268e-01 |        2\n",
        "      6       7.987358e+01      -9.327962e-01 |        2\n",
        "      7       7.934436e+01      -5.292157e-01 |        2\n",
        "      8       7.892131e+01      -4.230544e-01 |        2\n",
        "      9       7.885567e+01      -6.564390e-02 |        0\n",
        "     10       7.885567e+01       0.000000e+00 |        0\n",
        "K-means converged with 10 iterations (objv = 78.85566582597716)\n"
       ]
      },
      {
       "metadata": {},
       "output_type": "pyout",
       "prompt_number": 87,
       "text": [
        "KmeansResult{Float64}(4x3 Array{Float64,2}:\n",
        " 5.006  6.85385  5.88361\n",
        " 3.428  3.07692  2.74098\n",
        " 1.462  5.71538  4.38852\n",
        " 0.246  2.05385  1.43443,[1,1,1,1,1,1,1,1,1,1  \u2026  2,2,3,2,2,2,3,2,2,3],[0.019980000000018094,0.20038000000000977,0.17398000000001446,0.2759800000000041,0.03557999999999595,0.45838000000000534,0.17238000000000397,0.004380000000011819,0.6519799999999947,0.1415800000000189  \u2026  0.1573372781064677,0.4419526627218886,0.7316259070142337,0.1127218934910843,0.2727218934911093,0.3557988165680399,0.8221177102929005,0.3996449704141867,0.6919526627218318,0.7071996775060256],[50,39,61],[0.0,0.0,0.0],78.85566582597716,10,true)"
       ]
      }
     ],
     "prompt_number": 87
    },
    {
     "cell_type": "code",
     "collapsed": false,
     "input": [
      "by(iris, \"Species\", df -> DataFrame(A = mean(df[2]),\n",
      "                                    B = mean(df[3]),\n",
      "                                    C = mean(df[4]),\n",
      "                                    D = mean(df[5])))"
     ],
     "language": "python",
     "metadata": {},
     "outputs": [
      {
       "metadata": {},
       "output_type": "pyout",
       "prompt_number": 88,
       "text": [
        "3x5 DataFrame:\n",
        "             Species     A     B     C     D\n",
        "[1,]        \"setosa\" 5.006 3.428 1.462 0.246\n",
        "[2,]    \"versicolor\" 5.936  2.77  4.26 1.326\n",
        "[3,]     \"virginica\" 6.588 2.974 5.552 2.026\n"
       ]
      }
     ],
     "prompt_number": 88
    }
   ],
   "metadata": {}
  }
 ]
}