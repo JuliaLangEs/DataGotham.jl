{
 "metadata": {
  "language": "Julia",
  "name": ""
 },
 "nbformat": 3,
 "nbformat_minor": 0,
 "worksheets": [
  {
   "cells": [
    {
     "cell_type": "heading",
     "level": 1,
     "metadata": {},
     "source": [
      "Basic Statistics in Julia"
     ]
    },
    {
     "cell_type": "code",
     "collapsed": false,
     "input": [
      "using Stats"
     ],
     "language": "python",
     "metadata": {},
     "outputs": [],
     "prompt_number": 1
    },
    {
     "cell_type": "code",
     "collapsed": false,
     "input": [
      "x = rand(100)"
     ],
     "language": "python",
     "metadata": {},
     "outputs": [
      {
       "metadata": {},
       "output_type": "pyout",
       "prompt_number": 2,
       "text": [
        "100-element Array{Float64,1}:\n",
        " 0.419138  \n",
        " 0.314792  \n",
        " 0.909382  \n",
        " 0.149754  \n",
        " 0.954287  \n",
        " 0.45807   \n",
        " 0.00458415\n",
        " 0.756044  \n",
        " 0.388539  \n",
        " 0.480586  \n",
        " 0.329175  \n",
        " 0.543236  \n",
        " 0.173196  \n",
        " \u22ee         \n",
        " 0.657554  \n",
        " 0.883169  \n",
        " 0.604689  \n",
        " 0.0588927 \n",
        " 0.306123  \n",
        " 0.867264  \n",
        " 0.690985  \n",
        " 0.7862    \n",
        " 0.607754  \n",
        " 0.211149  \n",
        " 0.985593  \n",
        " 0.0387604 "
       ]
      }
     ],
     "prompt_number": 2
    },
    {
     "cell_type": "code",
     "collapsed": false,
     "input": [
      "min(x)"
     ],
     "language": "python",
     "metadata": {},
     "outputs": [
      {
       "metadata": {},
       "output_type": "pyout",
       "prompt_number": 3,
       "text": [
        "0.004584146122955657"
       ]
      }
     ],
     "prompt_number": 3
    },
    {
     "cell_type": "code",
     "collapsed": false,
     "input": [
      "median(x)"
     ],
     "language": "python",
     "metadata": {},
     "outputs": [
      {
       "metadata": {},
       "output_type": "pyout",
       "prompt_number": 4,
       "text": [
        "0.49872555546689235"
       ]
      }
     ],
     "prompt_number": 4
    },
    {
     "cell_type": "code",
     "collapsed": false,
     "input": [
      "max(x)"
     ],
     "language": "python",
     "metadata": {},
     "outputs": [
      {
       "metadata": {},
       "output_type": "pyout",
       "prompt_number": 5,
       "text": [
        "0.9948516652754444"
       ]
      }
     ],
     "prompt_number": 5
    },
    {
     "cell_type": "code",
     "collapsed": false,
     "input": [
      "quantile(x, [0.0, 0.5, 1.0])"
     ],
     "language": "python",
     "metadata": {},
     "outputs": [
      {
       "metadata": {},
       "output_type": "pyout",
       "prompt_number": 6,
       "text": [
        "3-element Array{Float64,1}:\n",
        " 0.00458415\n",
        " 0.498726  \n",
        " 0.994852  "
       ]
      }
     ],
     "prompt_number": 6
    },
    {
     "cell_type": "code",
     "collapsed": false,
     "input": [
      "describe(x)"
     ],
     "language": "python",
     "metadata": {},
     "outputs": [
      {
       "output_type": "stream",
       "stream": "stdout",
       "text": [
        "Min:          0"
       ]
      },
      {
       "output_type": "stream",
       "stream": "stdout",
       "text": [
        ".004584\n",
        "1st Quartile: 0.292217\n",
        "Median:       0.498726\n",
        "Mean:         0.495391\n",
        "3rd Quartile: 0.743207\n",
        "Max:          0.994852\n"
       ]
      }
     ],
     "prompt_number": 7
    },
    {
     "cell_type": "heading",
     "level": 4,
     "metadata": {},
     "source": [
      "Many Other Statistics Available"
     ]
    },
    {
     "cell_type": "markdown",
     "metadata": {},
     "source": [
      "Summarizing \"typical\" values:\n",
      "\n",
      "* gmean\n",
      "* hmean\n",
      "* wmean\n",
      "* median\n",
      "* mode              \n",
      "* modes             \n",
      "* midrange          \n",
      "\n",
      "Summarizing variability:\n",
      "\n",
      "* range\n",
      "* iqr\n",
      "* skewness\n",
      "* kurtosis          \n",
      "* mad\n",
      "* minmax\n",
      "* sem\n",
      "* variation\n",
      "\n",
      "Specialized quantiles:\n",
      "\n",
      "* decile\n",
      "* percentile        \n",
      "* quartile\n",
      "* quintile\n",
      "\n",
      "Inverse quantiles:\n",
      "\n",
      "* ecdf\n",
      "\n",
      "Correlations:\n",
      "\n",
      "* cor_kendall\n",
      "* cor_spearman\n",
      "\n",
      "Unique items:\n",
      "\n",
      "* table\n",
      "* unique\n",
      "\n",
      "Order statistics:\n",
      "\n",
      "* tiedrank\n",
      "\n",
      "Run-length encodings:\n",
      "\n",
      "* inverse_rle\n",
      "* rle"
     ]
    },
    {
     "cell_type": "heading",
     "level": 1,
     "metadata": {},
     "source": [
      "Probability Distributions in Julia"
     ]
    },
    {
     "cell_type": "code",
     "collapsed": false,
     "input": [
      "using Distributions"
     ],
     "language": "python",
     "metadata": {},
     "outputs": [],
     "prompt_number": 8
    },
    {
     "cell_type": "code",
     "collapsed": false,
     "input": [
      "x = rand(Gamma(1, 2), 100)"
     ],
     "language": "python",
     "metadata": {},
     "outputs": [
      {
       "metadata": {},
       "output_type": "pyout",
       "prompt_number": 9,
       "text": [
        "100-element Array{Float64,1}:\n",
        " 1.83663   \n",
        " 2.43496   \n",
        " 8.28612   \n",
        " 2.20451   \n",
        " 1.92145   \n",
        " 5.76428   \n",
        " 2.47264   \n",
        " 0.124603  \n",
        " 1.1272    \n",
        " 0.139229  \n",
        " 0.581271  \n",
        " 0.503785  \n",
        " 0.507055  \n",
        " \u22ee         \n",
        " 1.94777   \n",
        " 0.945332  \n",
        " 1.1416    \n",
        " 0.689655  \n",
        " 1.25784   \n",
        " 0.265143  \n",
        " 3.40934   \n",
        " 0.00898292\n",
        " 0.565859  \n",
        " 0.0990553 \n",
        " 1.51693   \n",
        " 1.17273   "
       ]
      }
     ],
     "prompt_number": 9
    },
    {
     "cell_type": "heading",
     "level": 4,
     "metadata": {},
     "source": [
      "Standard R Functions with Simpler Names"
     ]
    },
    {
     "cell_type": "code",
     "collapsed": false,
     "input": [
      "d = Normal(0, 1)"
     ],
     "language": "python",
     "metadata": {},
     "outputs": [
      {
       "metadata": {},
       "output_type": "pyout",
       "prompt_number": 10,
       "text": [
        "Normal( \u03bc=0.0 \u03c3=1.0 )"
       ]
      }
     ],
     "prompt_number": 10
    },
    {
     "cell_type": "code",
     "collapsed": false,
     "input": [
      "pdf(d, 0.0)"
     ],
     "language": "python",
     "metadata": {},
     "outputs": [
      {
       "metadata": {},
       "output_type": "pyout",
       "prompt_number": 11,
       "text": [
        "0.39894228040143265"
       ]
      }
     ],
     "prompt_number": 11
    },
    {
     "cell_type": "code",
     "collapsed": false,
     "input": [
      "cdf(d, 0.0)"
     ],
     "language": "python",
     "metadata": {},
     "outputs": [
      {
       "metadata": {},
       "output_type": "pyout",
       "prompt_number": 12,
       "text": [
        "0.5"
       ]
      }
     ],
     "prompt_number": 12
    },
    {
     "cell_type": "code",
     "collapsed": false,
     "input": [
      "quantile(d, 0.1)"
     ],
     "language": "python",
     "metadata": {},
     "outputs": [
      {
       "metadata": {},
       "output_type": "pyout",
       "prompt_number": 13,
       "text": [
        "-1.2815515655446008"
       ]
      }
     ],
     "prompt_number": 13
    },
    {
     "cell_type": "code",
     "collapsed": false,
     "input": [
      "rand(d)"
     ],
     "language": "python",
     "metadata": {},
     "outputs": [
      {
       "metadata": {},
       "output_type": "pyout",
       "prompt_number": 14,
       "text": [
        "-0.18964132640790562"
       ]
      }
     ],
     "prompt_number": 14
    },
    {
     "cell_type": "heading",
     "level": 4,
     "metadata": {},
     "source": [
      "Additional Abstractions around PDF's, CDF's, etc."
     ]
    },
    {
     "cell_type": "code",
     "collapsed": false,
     "input": [
      "quantile(d, [0.25, 0.75])"
     ],
     "language": "python",
     "metadata": {},
     "outputs": [
      {
       "metadata": {},
       "output_type": "pyout",
       "prompt_number": 15,
       "text": [
        "2-element Array{Float64,1}:\n",
        " -0.67449\n",
        "  0.67449"
       ]
      }
     ],
     "prompt_number": 15
    },
    {
     "cell_type": "code",
     "collapsed": false,
     "input": [
      "-loglikelihood(d, rand(d, 100_000)) / 100_000"
     ],
     "language": "python",
     "metadata": {},
     "outputs": [
      {
       "metadata": {},
       "output_type": "pyout",
       "prompt_number": 16,
       "text": [
        "1.4192665438108611"
       ]
      }
     ],
     "prompt_number": 16
    },
    {
     "cell_type": "heading",
     "level": 4,
     "metadata": {},
     "source": [
      "Theoretical Properties of Distributions"
     ]
    },
    {
     "cell_type": "code",
     "collapsed": false,
     "input": [
      "entropy(d)"
     ],
     "language": "python",
     "metadata": {},
     "outputs": [
      {
       "metadata": {},
       "output_type": "pyout",
       "prompt_number": 17,
       "text": [
        "1.4189385332046727"
       ]
      }
     ],
     "prompt_number": 17
    },
    {
     "cell_type": "code",
     "collapsed": false,
     "input": [
      "mean(d)"
     ],
     "language": "python",
     "metadata": {},
     "outputs": [
      {
       "metadata": {},
       "output_type": "pyout",
       "prompt_number": 18,
       "text": [
        "0.0"
       ]
      }
     ],
     "prompt_number": 18
    },
    {
     "cell_type": "code",
     "collapsed": false,
     "input": [
      "skewness(d)"
     ],
     "language": "python",
     "metadata": {},
     "outputs": [
      {
       "metadata": {},
       "output_type": "pyout",
       "prompt_number": 19,
       "text": [
        "0.0"
       ]
      }
     ],
     "prompt_number": 19
    },
    {
     "cell_type": "code",
     "collapsed": false,
     "input": [
      "kurtosis(d)"
     ],
     "language": "python",
     "metadata": {},
     "outputs": [
      {
       "metadata": {},
       "output_type": "pyout",
       "prompt_number": 20,
       "text": [
        "0.0"
       ]
      }
     ],
     "prompt_number": 20
    },
    {
     "cell_type": "code",
     "collapsed": false,
     "input": [
      "var(d)"
     ],
     "language": "python",
     "metadata": {},
     "outputs": [
      {
       "metadata": {},
       "output_type": "pyout",
       "prompt_number": 21,
       "text": [
        "1.0"
       ]
      }
     ],
     "prompt_number": 21
    },
    {
     "cell_type": "code",
     "collapsed": false,
     "input": [
      "modes(d)"
     ],
     "language": "python",
     "metadata": {},
     "outputs": [
      {
       "metadata": {},
       "output_type": "pyout",
       "prompt_number": 22,
       "text": [
        "1-element Array{Float64,1}:\n",
        " 0.0"
       ]
      }
     ],
     "prompt_number": 22
    },
    {
     "cell_type": "heading",
     "level": 4,
     "metadata": {},
     "source": [
      "Fit Distributions to Data"
     ]
    },
    {
     "cell_type": "code",
     "collapsed": false,
     "input": [
      "x = rand(d, 1_000)"
     ],
     "language": "python",
     "metadata": {},
     "outputs": [
      {
       "metadata": {},
       "output_type": "pyout",
       "prompt_number": 23,
       "text": [
        "1000-element Array{Float64,1}:\n",
        "  0.888073 \n",
        "  1.01285  \n",
        " -0.0269129\n",
        "  0.828246 \n",
        "  0.391791 \n",
        " -1.13197  \n",
        "  1.68644  \n",
        "  1.21415  \n",
        " -0.169269 \n",
        " -0.0736264\n",
        " -0.377727 \n",
        " -0.481826 \n",
        " -1.30411  \n",
        "  \u22ee        \n",
        "  1.74762  \n",
        "  0.133975 \n",
        " -0.47538  \n",
        "  0.577688 \n",
        " -1.05246  \n",
        "  0.484169 \n",
        " -0.500514 \n",
        " -1.47043  \n",
        "  0.628302 \n",
        " -0.534405 \n",
        " -0.142198 \n",
        "  0.362563 "
       ]
      }
     ],
     "prompt_number": 23
    },
    {
     "cell_type": "code",
     "collapsed": false,
     "input": [
      "fit_mle(Normal, x)"
     ],
     "language": "python",
     "metadata": {},
     "outputs": [
      {
       "metadata": {},
       "output_type": "pyout",
       "prompt_number": 24,
       "text": [
        "Normal( \u03bc=0.03899716432663882 \u03c3=1.0631069938786637 )"
       ]
      }
     ],
     "prompt_number": 24
    },
    {
     "cell_type": "code",
     "collapsed": false,
     "input": [
      "(mean(d), std(d)), (mean(x), std(x))"
     ],
     "language": "python",
     "metadata": {},
     "outputs": [
      {
       "metadata": {},
       "output_type": "pyout",
       "prompt_number": 25,
       "text": [
        "((0.0,1.0),(0.03899716432663882,1.0636389463732376))"
       ]
      }
     ],
     "prompt_number": 25
    },
    {
     "cell_type": "heading",
     "level": 4,
     "metadata": {},
     "source": [
      "Bayesian Updating with Conjugate Priors"
     ]
    },
    {
     "cell_type": "code",
     "collapsed": false,
     "input": [
      "x = rand(Bernoulli(0.9), 10_000)"
     ],
     "language": "python",
     "metadata": {},
     "outputs": [
      {
       "metadata": {},
       "output_type": "pyout",
       "prompt_number": 26,
       "text": [
        "10000-element Array{Int64,1}:\n",
        " 0\n",
        " 1\n",
        " 1\n",
        " 0\n",
        " 1\n",
        " 1\n",
        " 1\n",
        " 1\n",
        " 1\n",
        " 1\n",
        " 1\n",
        " 1\n",
        " 1\n",
        " \u22ee\n",
        " 1\n",
        " 1\n",
        " 1\n",
        " 1\n",
        " 1\n",
        " 1\n",
        " 1\n",
        " 0\n",
        " 1\n",
        " 1\n",
        " 1\n",
        " 1"
       ]
      }
     ],
     "prompt_number": 26
    },
    {
     "cell_type": "code",
     "collapsed": false,
     "input": [
      "posterior(Beta(3, 3), Bernoulli, x)"
     ],
     "language": "python",
     "metadata": {},
     "outputs": [
      {
       "metadata": {},
       "output_type": "pyout",
       "prompt_number": 27,
       "text": [
        "Beta( alpha=9011.0 beta=995.0 )"
       ]
      }
     ],
     "prompt_number": 27
    },
    {
     "cell_type": "heading",
     "level": 4,
     "metadata": {},
     "source": [
      "Kernel Density Estimation"
     ]
    },
    {
     "cell_type": "code",
     "collapsed": false,
     "input": [
      "using Gadfly"
     ],
     "language": "python",
     "metadata": {},
     "outputs": [
      {
       "html": [
        "<script charset=\"utf-8\">d3=function(){function n(n){return null!=n&&!isNaN(n)}function t(n){return n.length}function e(n){for(var t=1;n*t%1;)t*=10;return t}function r(n,t){try{for(var e in t)Object.defineProperty(n.prototype,e,{value:t[e],enumerable:!1})}catch(r){n.prototype=t}}function u(){}function i(){}function a(n,t,e){return function(){var r=e.apply(t,arguments);return r===t?n:r}}function o(){}function c(n){function t(){for(var t,r=e,u=-1,i=r.length;++u<i;)(t=r[u].on)&&t.apply(this,arguments);return n}var e=[],r=new u;return t.on=function(t,u){var i,a=r.get(t);return arguments.length<2?a&&a.on:(a&&(a.on=null,e=e.slice(0,i=e.indexOf(a)).concat(e.slice(i+1)),r.remove(t)),u&&e.push(r.set(t,{on:u})),n)},t}function l(){oa.event.stopPropagation(),oa.event.preventDefault()}function f(){for(var n,t=oa.event;n=t.sourceEvent;)t=n;return t}function s(n){for(var t=new o,e=0,r=arguments.length;++e<r;)t[arguments[e]]=c(t);return t.of=function(e,r){return function(u){try{var i=u.sourceEvent=oa.event;u.target=n,oa.event=u,t[u.type].apply(e,r)}finally{oa.event=i}}},t}function h(n,t){var e=n.ownerSVGElement||n;if(e.createSVGPoint){var r=e.createSVGPoint();if(0>ma&&(la.scrollX||la.scrollY)){e=oa.select(ca.body).append(\"svg\").style(\"position\",\"absolute\").style(\"top\",0).style(\"left\",0);var u=e[0][0].getScreenCTM();ma=!(u.f||u.e),e.remove()}return ma?(r.x=t.pageX,r.y=t.pageY):(r.x=t.clientX,r.y=t.clientY),r=r.matrixTransform(n.getScreenCTM().inverse()),[r.x,r.y]}var i=n.getBoundingClientRect();return[t.clientX-i.left-n.clientLeft,t.clientY-i.top-n.clientTop]}function g(n){for(var t=-1,e=n.length,r=[];++t<e;)r.push(n[t]);return r}function p(n){return Array.prototype.slice.call(n)}function d(n){return Ma(n,Ea),n}function m(n){return function(){return xa(n,this)}}function v(n){return function(){return ba(n,this)}}function y(n,t){function e(){this.removeAttribute(n)}function r(){this.removeAttributeNS(n.space,n.local)}function u(){this.setAttribute(n,t)}function i(){this.setAttributeNS(n.space,n.local,t)}function a(){var e=t.apply(this,arguments);null==e?this.removeAttribute(n):this.setAttribute(n,e)}function o(){var e=t.apply(this,arguments);null==e?this.removeAttributeNS(n.space,n.local):this.setAttributeNS(n.space,n.local,e)}return n=oa.ns.qualify(n),null==t?n.local?r:e:\"function\"==typeof t?n.local?o:a:n.local?i:u}function M(n){return n.trim().replace(/\\s+/g,\" \")}function x(n){return RegExp(\"(?:^|\\\\s+)\"+oa.requote(n)+\"(?:\\\\s+|$)\",\"g\")}function _(n,t){function e(){for(var e=-1;++e<u;)n[e](this,t)}function r(){for(var e=-1,r=t.apply(this,arguments);++e<u;)n[e](this,r)}n=n.trim().split(/\\s+/).map(w);var u=n.length;return\"function\"==typeof t?r:e}function w(n){var t=x(n);return function(e,r){if(u=e.classList)return r?u.add(n):u.remove(n);var u=e.getAttribute(\"class\")||\"\";r?(t.lastIndex=0,t.test(u)||e.setAttribute(\"class\",M(u+\" \"+n))):e.setAttribute(\"class\",M(u.replace(t,\" \")))}}function S(n,t,e){function r(){this.style.removeProperty(n)}function u(){this.style.setProperty(n,t,e)}function i(){var r=t.apply(this,arguments);null==r?this.style.removeProperty(n):this.style.setProperty(n,r,e)}return null==t?r:\"function\"==typeof t?i:u}function E(n,t){function e(){delete this[n]}function r(){this[n]=t}function u(){var e=t.apply(this,arguments);null==e?delete this[n]:this[n]=e}return null==t?e:\"function\"==typeof t?u:r}function k(n){return{__data__:n}}function A(n){return function(){return Sa(this,n)}}function q(n){return arguments.length||(n=oa.ascending),function(t,e){return!t-!e||n(t.__data__,e.__data__)}}function N(){}function T(n,t,e){function r(){var t=this[a];t&&(this.removeEventListener(n,t,t.$),delete this[a])}function u(){var u=c(t,va(arguments));r.call(this),this.addEventListener(n,this[a]=u,u.$=e),u._=t}function i(){var t,e=RegExp(\"^__on([^.]+)\"+oa.requote(n)+\"$\");for(var r in this)if(t=r.match(e)){var u=this[r];this.removeEventListener(t[1],u,u.$),delete this[r]}}var a=\"__on\"+n,o=n.indexOf(\".\"),c=C;o>0&&(n=n.substring(0,o));var l=qa.get(n);return l&&(n=l,c=z),o?t?u:r:t?N:i}function C(n,t){return function(e){var r=oa.event;oa.event=e,t[0]=this.__data__;try{n.apply(this,t)}finally{oa.event=r}}}function z(n,t){var e=C(n,t);return function(n){var t=this,r=n.relatedTarget;r&&(r===t||r.compareDocumentPosition(t)&8)||e.call(t,n)}}function D(n,t){for(var e=0,r=n.length;r>e;e++)for(var u,i=n[e],a=0,o=i.length;o>a;a++)(u=i[a])&&t(u,a,e);return n}function j(n){return Ma(n,Na),n}function L(){}function F(n,t,e){return new H(n,t,e)}function H(n,t,e){this.h=n,this.s=t,this.l=e}function P(n,t,e){function r(n){return n>360?n-=360:0>n&&(n+=360),60>n?i+(a-i)*n/60:180>n?a:240>n?i+(a-i)*(240-n)/60:i}function u(n){return Math.round(r(n)*255)}var i,a;return n%=360,0>n&&(n+=360),t=0>t?0:t>1?1:t,e=0>e?0:e>1?1:e,a=.5>=e?e*(1+t):e+t-e*t,i=2*e-a,tt(u(n+120),u(n),u(n-120))}function R(n){return n>0?1:0>n?-1:0}function O(n){return Math.acos(Math.max(-1,Math.min(1,n)))}function Y(n){return n>1?La/2:-1>n?-La/2:Math.asin(n)}function U(n){return(Math.exp(n)-Math.exp(-n))/2}function I(n){return(Math.exp(n)+Math.exp(-n))/2}function V(n){return(n=Math.sin(n/2))*n}function X(n,t,e){return new Z(n,t,e)}function Z(n,t,e){this.h=n,this.c=t,this.l=e}function B(n,t,e){return $(e,Math.cos(n*=Ha)*t,Math.sin(n)*t)}function $(n,t,e){return new J(n,t,e)}function J(n,t,e){this.l=n,this.a=t,this.b=e}function G(n,t,e){var r=(n+16)/116,u=r+t/500,i=r-e/200;return u=W(u)*Ya,r=W(r)*Ua,i=W(i)*Ia,tt(nt(3.2404542*u-1.5371385*r-.4985314*i),nt(-.969266*u+1.8760108*r+.041556*i),nt(.0556434*u-.2040259*r+1.0572252*i))}function K(n,t,e){return X(Math.atan2(e,t)*Pa,Math.sqrt(t*t+e*e),n)}function W(n){return n>.206893034?n*n*n:(n-4/29)/7.787037}function Q(n){return n>.008856?Math.pow(n,1/3):7.787037*n+4/29}function nt(n){return Math.round(255*(.00304>=n?12.92*n:1.055*Math.pow(n,1/2.4)-.055))}function tt(n,t,e){return new et(n,t,e)}function et(n,t,e){this.r=n,this.g=t,this.b=e}function rt(n){return 16>n?\"0\"+Math.max(0,n).toString(16):Math.min(255,n).toString(16)}function ut(n,t,e){var r,u,i,a=0,o=0,c=0;if(r=/([a-z]+)\\((.*)\\)/i.exec(n))switch(u=r[2].split(\",\"),r[1]){case\"hsl\":return e(parseFloat(u[0]),parseFloat(u[1])/100,parseFloat(u[2])/100);case\"rgb\":return t(ct(u[0]),ct(u[1]),ct(u[2]))}return(i=Za.get(n))?t(i.r,i.g,i.b):(null!=n&&n.charAt(0)===\"#\"&&(n.length===4?(a=n.charAt(1),a+=a,o=n.charAt(2),o+=o,c=n.charAt(3),c+=c):n.length===7&&(a=n.substring(1,3),o=n.substring(3,5),c=n.substring(5,7)),a=parseInt(a,16),o=parseInt(o,16),c=parseInt(c,16)),t(a,o,c))}function it(n,t,e){var r,u,i=Math.min(n/=255,t/=255,e/=255),a=Math.max(n,t,e),o=a-i,c=(a+i)/2;return o?(u=.5>c?o/(a+i):o/(2-a-i),r=n==a?(t-e)/o+(e>t?6:0):t==a?(e-n)/o+2:(n-t)/o+4,r*=60):u=r=0,F(r,u,c)}function at(n,t,e){n=ot(n),t=ot(t),e=ot(e);var r=Q((.4124564*n+.3575761*t+.1804375*e)/Ya),u=Q((.2126729*n+.7151522*t+.072175*e)/Ua),i=Q((.0193339*n+.119192*t+.9503041*e)/Ia);return $(116*u-16,500*(r-u),200*(u-i))}function ot(n){return(n/=255)<=.04045?n/12.92:Math.pow((n+.055)/1.055,2.4)}function ct(n){var t=parseFloat(n);return n.charAt(n.length-1)===\"%\"?Math.round(2.55*t):t}function lt(n){return\"function\"==typeof n?n:function(){return n}}function ft(n){return n}function st(n){return n.length===1?function(t,e){n(null==t?e:null)}:n}function ht(n,t){function e(n,e,i){arguments.length<3&&(i=e,e=null);var a=oa.xhr(n,t,i);return a.row=function(n){return arguments.length?a.response((e=n)==null?r:u(n)):e},a.row(e)}function r(n){return e.parse(n.responseText)}function u(n){return function(t){return e.parse(t.responseText,n)}}function a(t){return t.map(o).join(n)}function o(n){return c.test(n)?'\"'+n.replace(/\\\"/g,'\"\"')+'\"':n}var c=RegExp('[\"'+n+\"\\n]\"),l=n.charCodeAt(0);return e.parse=function(n,t){var r;return e.parseRows(n,function(n,e){if(r)return r(n,e-1);var u=Function(\"d\",\"return {\"+n.map(function(n,t){return JSON.stringify(n)+\": d[\"+t+\"]\"}).join(\",\")+\"}\");r=t?function(n,e){return t(u(n),e)}:u})},e.parseRows=function(n,t){function e(){if(f>=c)return a;if(u)return u=!1,i;var t=f;if(n.charCodeAt(t)===34){for(var e=t;e++<c;)if(n.charCodeAt(e)===34){if(n.charCodeAt(e+1)!==34)break;++e}f=e+2;var r=n.charCodeAt(e+1);return 13===r?(u=!0,n.charCodeAt(e+2)===10&&++f):10===r&&(u=!0),n.substring(t+1,e).replace(/\"\"/g,'\"')}for(;c>f;){var r=n.charCodeAt(f++),o=1;if(10===r)u=!0;else if(13===r)u=!0,n.charCodeAt(f)===10&&(++f,++o);else if(r!==l)continue;return n.substring(t,f-o)}return n.substring(t)}for(var r,u,i={},a={},o=[],c=n.length,f=0,s=0;(r=e())!==a;){for(var h=[];r!==i&&r!==a;)h.push(r),r=e();(!t||(h=t(h,s++)))&&o.push(h)}return o},e.format=function(t){if(Array.isArray(t[0]))return e.formatRows(t);var r=new i,u=[];return t.forEach(function(n){for(var t in n)r.has(t)||u.push(r.add(t))}),[u.map(o).join(n)].concat(t.map(function(t){return u.map(function(n){return o(t[n])}).join(n)})).join(\"\\n\")},e.formatRows=function(n){return n.map(a).join(\"\\n\")},e}function gt(){for(var n,t=Date.now(),e=Ka;e;)n=t-e.then,n>=e.delay&&(e.flush=e.callback(n)),e=e.next;var r=pt()-t;r>24?(isFinite(r)&&(clearTimeout($a),$a=setTimeout(gt,r)),Ba=0):(Ba=1,Wa(gt))}function pt(){for(var n=null,t=Ka,e=1/0;t;)t.flush?(delete Ga[t.callback.id],t=n?n.next=t.next:Ka=t.next):(e=Math.min(e,t.then+t.delay),t=(n=t).next);return e}function dt(n,t){var e=Math.pow(10,Math.abs(8-t)*3);return{scale:t>8?function(n){return n/e}:function(n){return n*e},symbol:n}}function mt(n,t){return t-(n?Math.ceil(Math.log(n)/Math.LN10):1)}function vt(n){return n+\"\"}function yt(n,t){co.hasOwnProperty(n.type)&&co[n.type](n,t)}function Mt(n,t,e){var r,u=-1,i=n.length-e;for(t.lineStart();++u<i;)r=n[u],t.point(r[0],r[1]);t.lineEnd()}function xt(n,t){var e=-1,r=n.length;for(t.polygonStart();++e<r;)Mt(n[e],t,1);t.polygonEnd()}function bt(){function n(n,t){n*=Ha,t=t*Ha/2+La/4;var e=n-r,a=Math.cos(t),o=Math.sin(t),c=i*o,l=fo,f=so,s=u*a+c*Math.cos(e),h=c*Math.sin(e);fo=l*s-f*h,so=f*s+l*h,r=n,u=a,i=o}var t,e,r,u,i;ho.point=function(a,o){ho.point=n,r=(t=a)*Ha,u=Math.cos(o=(e=o)*Ha/2+La/4),i=Math.sin(o)},ho.lineEnd=function(){n(t,e)}}function _t(n){function t(n,t){r>n&&(r=n),n>i&&(i=n),u>t&&(u=t),t>a&&(a=t)}function e(){o.point=o.lineEnd=N}var r,u,i,a,o={point:t,lineStart:N,lineEnd:N,polygonStart:function(){o.lineEnd=e},polygonEnd:function(){o.point=t}};return function(t){return a=i=-(r=u=1/0),oa.geo.stream(t,n(o)),[[r,u],[i,a]]}}function wt(n,t){if(!go){++po,n*=Ha;var e=Math.cos(t*=Ha);mo+=(e*Math.cos(n)-mo)/po,vo+=(e*Math.sin(n)-vo)/po,yo+=(Math.sin(t)-yo)/po}}function St(){var n,t;go=1,Et(),go=2;var e=Mo.point;Mo.point=function(r,u){e(n=r,t=u)},Mo.lineEnd=function(){Mo.point(n,t),kt(),Mo.lineEnd=kt}}function Et(){function n(n,u){n*=Ha;var i=Math.cos(u*=Ha),a=i*Math.cos(n),o=i*Math.sin(n),c=Math.sin(u),l=Math.atan2(Math.sqrt((l=e*c-r*o)*l+(l=r*a-t*c)*l+(l=t*o-e*a)*l),t*a+e*o+r*c);po+=l,mo+=l*(t+(t=a)),vo+=l*(e+(e=o)),yo+=l*(r+(r=c))}var t,e,r;go>1||(1>go&&(go=1,po=mo=vo=yo=0),Mo.point=function(u,i){u*=Ha;var a=Math.cos(i*=Ha);t=a*Math.cos(u),e=a*Math.sin(u),r=Math.sin(i),Mo.point=n})}function kt(){Mo.point=wt}function At(n){var t=n[0],e=n[1],r=Math.cos(e);return[r*Math.cos(t),r*Math.sin(t),Math.sin(e)]}function qt(n,t){return n[0]*t[0]+n[1]*t[1]+n[2]*t[2]}function Nt(n,t){return[n[1]*t[2]-n[2]*t[1],n[2]*t[0]-n[0]*t[2],n[0]*t[1]-n[1]*t[0]]}function Tt(n,t){n[0]+=t[0],n[1]+=t[1],n[2]+=t[2]}function Ct(n,t){return[n[0]*t,n[1]*t,n[2]*t]}function zt(n){var t=Math.sqrt(n[0]*n[0]+n[1]*n[1]+n[2]*n[2]);n[0]/=t,n[1]/=t,n[2]/=t}function Dt(){return!0}function jt(n){return[Math.atan2(n[1],n[0]),Math.asin(Math.max(-1,Math.min(1,n[2])))]}function Lt(n,t){return Math.abs(n[0]-t[0])<Fa&&Math.abs(n[1]-t[1])<Fa}function Ft(n,t,e,r,u){var i=[],a=[];if(n.forEach(function(n){if(!((t=n.length)<=1)){var t,e=n[0],r=n[t-1];if(Lt(e,r)){u.lineStart();for(var o=0;t>o;++o)u.point((e=n[o])[0],e[1]);return u.lineEnd(),void 0}var c={point:e,points:n,other:null,visited:!1,entry:!0,subject:!0},l={point:e,points:[e],other:c,visited:!1,entry:!1,subject:!1};c.other=l,i.push(c),a.push(l),c={point:r,points:[r],other:null,visited:!1,entry:!1,subject:!0},l={point:r,points:[r],other:c,visited:!1,entry:!0,subject:!1},c.other=l,i.push(c),a.push(l)}}),a.sort(t),Ht(i),Ht(a),i.length){if(e)for(var o=1,c=!e(a[0].point),l=a.length;l>o;++o)a[o].entry=c=!c;for(var f,s,h,g=i[0];;){for(f=g;f.visited;)if((f=f.next)===g)return;s=f.points,u.lineStart();do{if(f.visited=f.other.visited=!0,f.entry){if(f.subject)for(var o=0;o<s.length;o++)u.point((h=s[o])[0],h[1]);else r(f.point,f.next.point,1,u);f=f.next}else{if(f.subject){s=f.prev.points;for(var o=s.length;--o>=0;)u.point((h=s[o])[0],h[1])}else r(f.point,f.prev.point,-1,u);f=f.prev}f=f.other,s=f.points}while(!f.visited);u.lineEnd()}}}function Ht(n){if(t=n.length){for(var t,e,r=0,u=n[0];++r<t;)u.next=e=n[r],e.prev=u,u=e;u.next=e=n[0],e.prev=u}}function Pt(n,t,e){return function(r){function u(t,e){n(t,e)&&r.point(t,e)}function i(n,t){m.point(n,t)}function a(){v.point=i,m.lineStart()}function o(){v.point=u,m.lineEnd()}function c(n,t){M.point(n,t),d.push([n,t])}function l(){M.lineStart(),d=[]}function f(){c(d[0][0],d[0][1]),M.lineEnd();var n,t=M.clean(),e=y.buffer(),u=e.length;if(!u)return p=!0,g+=Yt(d,-1),d=null,void 0;if(d=null,1&t){n=e[0],h+=Yt(n,1);var i,u=n.length-1,a=-1;for(r.lineStart();++a<u;)r.point((i=n[a])[0],i[1]);return r.lineEnd(),void 0}u>1&&2&t&&e.push(e.pop().concat(e.shift())),s.push(e.filter(Rt))}var s,h,g,p,d,m=t(r),v={point:u,lineStart:a,lineEnd:o,polygonStart:function(){v.point=c,v.lineStart=l,v.lineEnd=f,p=!1,g=h=0,s=[],r.polygonStart()},polygonEnd:function(){v.point=u,v.lineStart=a,v.lineEnd=o,s=oa.merge(s),s.length?Ft(s,Ut,null,e,r):(-Fa>h||p&&-Fa>g)&&(r.lineStart(),e(null,null,1,r),r.lineEnd()),r.polygonEnd(),s=null},sphere:function(){r.polygonStart(),r.lineStart(),e(null,null,1,r),r.lineEnd(),r.polygonEnd()}},y=Ot(),M=t(y);return v}}function Rt(n){return n.length>1}function Ot(){var n,t=[];return{lineStart:function(){t.push(n=[])},point:function(t,e){n.push([t,e])},lineEnd:N,buffer:function(){var e=t;return t=[],n=null,e},rejoin:function(){t.length>1&&t.push(t.pop().concat(t.shift()))}}}function Yt(n,t){if(!(e=n.length))return 0;for(var e,r,u,i=0,a=0,o=n[0],c=o[0],l=o[1],f=Math.cos(l),s=Math.atan2(t*Math.sin(c)*f,Math.sin(l)),h=1-t*Math.cos(c)*f,g=s;++i<e;)o=n[i],f=Math.cos(l=o[1]),r=Math.atan2(t*Math.sin(c=o[0])*f,Math.sin(l)),u=1-t*Math.cos(c)*f,Math.abs(h-2)<Fa&&Math.abs(u-2)<Fa||(Math.abs(u)<Fa||Math.abs(h)<Fa||(Math.abs(Math.abs(r-s)-La)<Fa?u+h>2&&(a+=4*(r-s)):a+=Math.abs(h-2)<Fa?4*(r-g):((3*La+r-s)%(2*La)-La)*(h+u)),g=s,s=r,h=u);return a}function Ut(n,t){return((n=n.point)[0]<0?n[1]-La/2-Fa:La/2-n[1])-((t=t.point)[0]<0?t[1]-La/2-Fa:La/2-t[1])}function It(n){var t,e=0/0,r=0/0,u=0/0;return{lineStart:function(){n.lineStart(),t=1},point:function(i,a){var o=i>0?La:-La,c=Math.abs(i-e);Math.abs(c-La)<Fa?(n.point(e,r=(r+a)/2>0?La/2:-La/2),n.point(u,r),n.lineEnd(),n.lineStart(),n.point(o,r),n.point(i,r),t=0):u!==o&&c>=La&&(Math.abs(e-u)<Fa&&(e-=u*Fa),Math.abs(i-o)<Fa&&(i-=o*Fa),r=Vt(e,r,i,a),n.point(u,r),n.lineEnd(),n.lineStart(),n.point(o,r),t=0),n.point(e=i,r=a),u=o},lineEnd:function(){n.lineEnd(),e=r=0/0},clean:function(){return 2-t}}}function Vt(n,t,e,r){var u,i,a=Math.sin(n-e);return Math.abs(a)>Fa?Math.atan((Math.sin(t)*(i=Math.cos(r))*Math.sin(e)-Math.sin(r)*(u=Math.cos(t))*Math.sin(n))/(u*i*a)):(t+r)/2}function Xt(n,t,e,r){var u;if(null==n)u=e*La/2,r.point(-La,u),r.point(0,u),r.point(La,u),r.point(La,0),r.point(La,-u),r.point(0,-u),r.point(-La,-u),r.point(-La,0),r.point(-La,u);else if(Math.abs(n[0]-t[0])>Fa){var i=(n[0]<t[0]?1:-1)*La;u=e*i/2,r.point(-i,u),r.point(0,u),r.point(i,u)}else r.point(t[0],t[1])}function Zt(n){function t(n,t){return Math.cos(n)*Math.cos(t)>i}function e(n){var e,i,c,l,f;return{lineStart:function(){l=c=!1,f=1},point:function(s,h){var g,p=[s,h],d=t(s,h),m=a?d?0:u(s,h):d?u(s+(0>s?La:-La),h):0;if(!e&&(l=c=d)&&n.lineStart(),d!==c&&(g=r(e,p),(Lt(e,g)||Lt(p,g))&&(p[0]+=Fa,p[1]+=Fa,d=t(p[0],p[1]))),d!==c)f=0,d?(n.lineStart(),g=r(p,e),n.point(g[0],g[1])):(g=r(e,p),n.point(g[0],g[1]),n.lineEnd()),e=g;else if(o&&e&&a^d){var v;m&i||!(v=r(p,e,!0))||(f=0,a?(n.lineStart(),n.point(v[0][0],v[0][1]),n.point(v[1][0],v[1][1]),n.lineEnd()):(n.point(v[1][0],v[1][1]),n.lineEnd(),n.lineStart(),n.point(v[0][0],v[0][1])))}!d||e&&Lt(e,p)||n.point(p[0],p[1]),e=p,c=d,i=m},lineEnd:function(){c&&n.lineEnd(),e=null},clean:function(){return f|(l&&c)<<1}}}function r(n,t,e){var r=At(n),u=At(t),a=[1,0,0],o=Nt(r,u),c=qt(o,o),l=o[0],f=c-l*l;if(!f)return!e&&n;var s=i*c/f,h=-i*l/f,g=Nt(a,o),p=Ct(a,s),d=Ct(o,h);Tt(p,d);var m=g,v=qt(p,m),y=qt(m,m),M=v*v-y*(qt(p,p)-1);if(!(0>M)){var x=Math.sqrt(M),b=Ct(m,(-v-x)/y);if(Tt(b,p),b=jt(b),!e)return b;var _,w=n[0],S=t[0],E=n[1],k=t[1];w>S&&(_=w,w=S,S=_);var A=S-w,q=Math.abs(A-La)<Fa,N=q||Fa>A;if(!q&&E>k&&(_=E,E=k,k=_),N?q?E+k>0^b[1]<(Math.abs(b[0]-w)<Fa?E:k):E<=b[1]&&b[1]<=k:A>La^(w<=b[0]&&b[0]<=S)){var T=Ct(m,(-v+x)/y);return Tt(T,p),[b,jt(T)]}}}function u(t,e){var r=a?n:La-n,u=0;return-r>t?u|=1:t>r&&(u|=2),-r>e?u|=4:e>r&&(u|=8),u}var i=Math.cos(n),a=i>0,o=Math.abs(i)>Fa,c=ie(n,6*Ha);return Pt(t,e,c)}function Bt(n,t,e,r){function u(r,u){return Math.abs(r[0]-n)<Fa?u>0?0:3:Math.abs(r[0]-e)<Fa?u>0?2:1:Math.abs(r[1]-t)<Fa?u>0?1:0:u>0?3:2}function i(n,t){return a(n.point,t.point)}function a(n,t){var e=u(n,1),r=u(t,1);return e!==r?e-r:0===e?t[1]-n[1]:1===e?n[0]-t[0]:2===e?n[1]-t[1]:t[0]-n[0]}function o(u,i){var a=i[0]-u[0],o=i[1]-u[1],c=[0,1];return Math.abs(a)<Fa&&Math.abs(o)<Fa?n<=u[0]&&u[0]<=e&&t<=u[1]&&u[1]<=r:$t(n-u[0],a,c)&&$t(u[0]-e,-a,c)&&$t(t-u[1],o,c)&&$t(u[1]-r,-o,c)?(c[1]<1&&(i[0]=u[0]+c[1]*a,i[1]=u[1]+c[1]*o),c[0]>0&&(u[0]+=c[0]*a,u[1]+=c[0]*o),!0):!1}return function(c){function l(i){var a=u(i,-1),o=f([0===a||3===a?n:e,a>1?r:t]);return o}function f(n){for(var t=0,e=M.length,r=n[1],u=0;e>u;++u)for(var i=1,a=M[u],o=a.length,c=a[0];o>i;++i)b=a[i],c[1]<=r?b[1]>r&&s(c,b,n)>0&&++t:b[1]<=r&&s(c,b,n)<0&&--t,c=b;return 0!==t}function s(n,t,e){return(t[0]-n[0])*(e[1]-n[1])-(e[0]-n[0])*(t[1]-n[1])}function h(i,o,c,l){var f=0,s=0;if(null==i||(f=u(i,c))!==(s=u(o,c))||a(i,o)<0^c>0){do l.point(0===f||3===f?n:e,f>1?r:t);while((f=(f+c+4)%4)!==s)}else l.point(o[0],o[1])}function g(u,i){return u>=n&&e>=u&&i>=t&&r>=i}function p(n,t){g(n,t)&&c.point(n,t)}function d(){C.point=v,M&&M.push(x=[]),q=!0,A=!1,E=k=0/0}function m(){y&&(v(_,w),S&&A&&T.rejoin(),y.push(T.buffer())),C.point=p,A&&c.lineEnd()}function v(n,t){n=Math.max(-bo,Math.min(bo,n)),t=Math.max(-bo,Math.min(bo,t));var e=g(n,t);if(M&&x.push([n,t]),q)_=n,w=t,S=e,q=!1,e&&(c.lineStart(),c.point(n,t));else if(e&&A)c.point(n,t);else{var r=[E,k],u=[n,t];o(r,u)?(A||(c.lineStart(),c.point(r[0],r[1])),c.point(u[0],u[1]),e||c.lineEnd()):(c.lineStart(),c.point(n,t))}E=n,k=t,A=e}var y,M,x,_,w,S,E,k,A,q,N=c,T=Ot(),C={point:p,lineStart:d,lineEnd:m,polygonStart:function(){c=T,y=[],M=[]},polygonEnd:function(){c=N,(y=oa.merge(y)).length?(c.polygonStart(),Ft(y,i,l,h,c),c.polygonEnd()):f([n,t])&&(c.polygonStart(),c.lineStart(),h(null,null,1,c),c.lineEnd(),c.polygonEnd()),y=M=x=null}};return C}}function $t(n,t,e){if(Math.abs(t)<Fa)return 0>=n;var r=n/t;if(t>0){if(r>e[1])return!1;r>e[0]&&(e[0]=r)}else{if(r<e[0])return!1;r<e[1]&&(e[1]=r)}return!0}function Jt(n,t){function e(e,r){return e=n(e,r),t(e[0],e[1])}return n.invert&&t.invert&&(e.invert=function(e,r){return e=t.invert(e,r),e&&n.invert(e[0],e[1])}),e}function Gt(n){function t(t){function r(e,r){e=n(e,r),t.point(e[0],e[1])}function i(){f=0/0,d.point=a,t.lineStart()}function a(r,i){var a=At([r,i]),o=n(r,i);e(f,s,l,h,g,p,f=o[0],s=o[1],l=r,h=a[0],g=a[1],p=a[2],u,t),t.point(f,s)}function o(){d.point=r,t.lineEnd()}function c(){var n,r,c,m,v,y,M;i(),d.point=function(t,e){a(n=t,r=e),c=f,m=s,v=h,y=g,M=p,d.point=a},d.lineEnd=function(){e(f,s,l,h,g,p,c,m,n,v,y,M,u,t),d.lineEnd=o,o()}}var l,f,s,h,g,p,d={point:r,lineStart:i,lineEnd:o,polygonStart:function(){t.polygonStart(),d.lineStart=c},polygonEnd:function(){t.polygonEnd(),d.lineStart=i}};return d}function e(t,u,i,a,o,c,l,f,s,h,g,p,d,m){var v=l-t,y=f-u,M=v*v+y*y;if(M>4*r&&d--){var x=a+h,b=o+g,_=c+p,w=Math.sqrt(x*x+b*b+_*_),S=Math.asin(_/=w),E=Math.abs(Math.abs(_)-1)<Fa?(i+s)/2:Math.atan2(b,x),k=n(E,S),A=k[0],q=k[1],N=A-t,T=q-u,C=y*N-v*T;(C*C/M>r||Math.abs((v*N+y*T)/M-.5)>.3)&&(e(t,u,i,a,o,c,A,q,E,x/=w,b/=w,_,d,m),m.point(A,q),e(A,q,E,x,b,_,l,f,s,h,g,p,d,m))}}var r=.5,u=16;return t.precision=function(n){return arguments.length?(u=(r=n*n)>0&&16,t):Math.sqrt(r)},t}function Kt(n){return Wt(function(){return n})()}function Wt(n){function t(n){return n=a(n[0]*Ha,n[1]*Ha),[n[0]*f+o,c-n[1]*f]}function e(n){return n=a.invert((n[0]-o)/f,(c-n[1])/f),n&&[n[0]*Pa,n[1]*Pa]}function r(){a=Jt(i=te(d,m,v),u);var n=u(g,p);return o=s-n[0]*f,c=h+n[1]*f,t}var u,i,a,o,c,l=Gt(function(n,t){return n=u(n,t),[n[0]*f+o,c-n[1]*f]}),f=150,s=480,h=250,g=0,p=0,d=0,m=0,v=0,y=xo,M=ft,x=null,b=null;return t.stream=function(n){return Qt(i,y(l(M(n))))},t.clipAngle=function(n){return arguments.length?(y=null==n?(x=n,xo):Zt((x=+n)*Ha),t):x},t.clipExtent=function(n){return arguments.length?(b=n,M=null==n?ft:Bt(n[0][0],n[0][1],n[1][0],n[1][1]),t):b},t.scale=function(n){return arguments.length?(f=+n,r()):f},t.translate=function(n){return arguments.length?(s=+n[0],h=+n[1],r()):[s,h]},t.center=function(n){return arguments.length?(g=n[0]%360*Ha,p=n[1]%360*Ha,r()):[g*Pa,p*Pa]},t.rotate=function(n){return arguments.length?(d=n[0]%360*Ha,m=n[1]%360*Ha,v=n.length>2?n[2]%360*Ha:0,r()):[d*Pa,m*Pa,v*Pa]},oa.rebind(t,l,\"precision\"),function(){return u=n.apply(this,arguments),t.invert=u.invert&&e,r()}}function Qt(n,t){return{point:function(e,r){r=n(e*Ha,r*Ha),e=r[0],t.point(e>La?e-2*La:-La>e?e+2*La:e,r[1])},sphere:function(){t.sphere()},lineStart:function(){t.lineStart()},lineEnd:function(){t.lineEnd()},polygonStart:function(){t.polygonStart()},polygonEnd:function(){t.polygonEnd()}}}function ne(n,t){return[n,t]}function te(n,t,e){return n?t||e?Jt(re(n),ue(t,e)):re(n):t||e?ue(t,e):ne}function ee(n){return function(t,e){return t+=n,[t>La?t-2*La:-La>t?t+2*La:t,e]}}function re(n){var t=ee(n);return t.invert=ee(-n),t}function ue(n,t){function e(n,t){var e=Math.cos(t),o=Math.cos(n)*e,c=Math.sin(n)*e,l=Math.sin(t),f=l*r+o*u;return[Math.atan2(c*i-f*a,o*r-l*u),Math.asin(Math.max(-1,Math.min(1,f*i+c*a)))]}var r=Math.cos(n),u=Math.sin(n),i=Math.cos(t),a=Math.sin(t);return e.invert=function(n,t){var e=Math.cos(t),o=Math.cos(n)*e,c=Math.sin(n)*e,l=Math.sin(t),f=l*i-c*a;return[Math.atan2(c*i+l*a,o*r+f*u),Math.asin(Math.max(-1,Math.min(1,f*r-o*u)))]},e}function ie(n,t){var e=Math.cos(n),r=Math.sin(n);return function(u,i,a,o){null!=u?(u=ae(e,u),i=ae(e,i),(a>0?i>u:u>i)&&(u+=2*a*La)):(u=n+2*a*La,i=n);for(var c,l=a*t,f=u;a>0?f>i:i>f;f-=l)o.point((c=jt([e,-r*Math.cos(f),-r*Math.sin(f)]))[0],c[1])}}function ae(n,t){var e=At(t);e[0]-=n,zt(e);var r=O(-e[1]);return((-e[2]<0?-r:r)+2*Math.PI-Fa)%(2*Math.PI)}function oe(n,t,e){var r=oa.range(n,t-Fa,e).concat(t);return function(n){return r.map(function(t){return[n,t]})}}function ce(n,t,e){var r=oa.range(n,t-Fa,e).concat(t);return function(n){return r.map(function(t){return[t,n]})}}function le(n){return n.source}function fe(n){return n.target}function se(n,t,e,r){var u=Math.cos(t),i=Math.sin(t),a=Math.cos(r),o=Math.sin(r),c=u*Math.cos(n),l=u*Math.sin(n),f=a*Math.cos(e),s=a*Math.sin(e),h=2*Math.asin(Math.sqrt(V(r-t)+u*a*V(e-n))),g=1/Math.sin(h),p=h?function(n){var t=Math.sin(n*=h)*g,e=Math.sin(h-n)*g,r=e*c+t*f,u=e*l+t*s,a=e*i+t*o;return[Math.atan2(u,r)*Pa,Math.atan2(a,Math.sqrt(r*r+u*u))*Pa]}:function(){return[n*Pa,t*Pa]};return p.distance=h,p}function he(){function n(n,u){var i=Math.sin(u*=Ha),a=Math.cos(u),o=Math.abs((n*=Ha)-t),c=Math.cos(o);_o+=Math.atan2(Math.sqrt((o=a*Math.sin(o))*o+(o=r*i-e*a*c)*o),e*i+r*a*c),t=n,e=i,r=a}var t,e,r;wo.point=function(u,i){t=u*Ha,e=Math.sin(i*=Ha),r=Math.cos(i),wo.point=n},wo.lineEnd=function(){wo.point=wo.lineEnd=N}}function ge(n){var t=0,e=La/3,r=Wt(n),u=r(t,e);return u.parallels=function(n){return arguments.length?r(t=n[0]*La/180,e=n[1]*La/180):[180*(t/La),180*(e/La)]},u}function pe(n,t){function e(n,t){var e=Math.sqrt(i-2*u*Math.sin(t))/u;return[e*Math.sin(n*=u),a-e*Math.cos(n)]}var r=Math.sin(n),u=(r+Math.sin(t))/2,i=1+r*(2*u-r),a=Math.sqrt(i)/u;return e.invert=function(n,t){var e=a-t;return[Math.atan2(n,e)/u,Math.asin((i-(n*n+e*e)*u*u)/(2*u))]},e}function de(n,t){var e=n(t[0]),r=n([.5*(t[0][0]+t[1][0]),t[0][1]]),u=n([t[1][0],t[0][1]]),i=n(t[1]),a=r[1]-e[1],o=r[0]-e[0],c=u[1]-r[1],l=u[0]-r[0],f=a/o,s=c/l,h=.5*(f*s*(e[1]-u[1])+s*(e[0]+r[0])-f*(r[0]+u[0]))/(s-f),g=(.5*(e[0]+r[0])-h)/f+.5*(e[1]+r[1]),p=i[0]-h,d=i[1]-g,m=e[0]-h,v=e[1]-g,y=p*p+d*d,M=m*m+v*v,x=Math.atan2(d,p),b=Math.atan2(v,m);return function(t){var e=t[0]-h,r=t[1]-g,u=e*e+r*r,i=Math.atan2(r,e);return u>y&&M>u&&i>x&&b>i?n.invert(t):void 0}}function me(){function n(n,t){Eo+=u*n-r*t,r=n,u=t}var t,e,r,u;ko.point=function(i,a){ko.point=n,t=r=i,e=u=a},ko.lineEnd=function(){n(t,e)}}function ve(){function n(n,t){a.push(\"M\",n,\",\",t,i)}function t(n,t){a.push(\"M\",n,\",\",t),o.point=e}function e(n,t){a.push(\"L\",n,\",\",t)}function r(){o.point=n}function u(){a.push(\"Z\")}var i=we(4.5),a=[],o={point:n,lineStart:function(){o.point=t},lineEnd:r,polygonStart:function(){o.lineEnd=u},polygonEnd:function(){o.lineEnd=r,o.point=n},pointRadius:function(n){return i=we(n),o},result:function(){if(a.length){var n=a.join(\"\");return a=[],n}}};return o}function ye(n,t){go||(mo+=n,vo+=t,++yo)}function Me(){function n(n,r){var u=n-t,i=r-e,a=Math.sqrt(u*u+i*i);mo+=a*(t+n)/2,vo+=a*(e+r)/2,yo+=a,t=n,e=r}var t,e;if(1!==go){if(!(1>go))return;go=1,mo=vo=yo=0}Ao.point=function(r,u){Ao.point=n,t=r,e=u}}function xe(){Ao.point=ye}function be(){function n(n,t){var e=u*n-r*t;mo+=e*(r+n),vo+=e*(u+t),yo+=3*e,r=n,u=t}var t,e,r,u;2>go&&(go=2,mo=vo=yo=0),Ao.point=function(i,a){Ao.point=n,t=r=i,e=u=a},Ao.lineEnd=function(){n(t,e)}}function _e(n){function t(t,e){n.moveTo(t,e),n.arc(t,e,a,0,2*La)}function e(t,e){n.moveTo(t,e),o.point=r}function r(t,e){n.lineTo(t,e)}function u(){o.point=t}function i(){n.closePath()}var a=4.5,o={point:t,lineStart:function(){o.point=e},lineEnd:u,polygonStart:function(){o.lineEnd=i},polygonEnd:function(){o.lineEnd=u,o.point=t},pointRadius:function(n){return a=n,o},result:N};return o}function we(n){return\"m0,\"+n+\"a\"+n+\",\"+n+\" 0 1,1 0,\"+-2*n+\"a\"+n+\",\"+n+\" 0 1,1 0,\"+2*n+\"z\"}function Se(n){var t=Gt(function(t,e){return n([t*Pa,e*Pa])});return function(n){return n=t(n),{point:function(t,e){n.point(t*Ha,e*Ha)},sphere:function(){n.sphere()},lineStart:function(){n.lineStart()},lineEnd:function(){n.lineEnd()},polygonStart:function(){n.polygonStart()},polygonEnd:function(){n.polygonEnd()}}}}function Ee(n,t){function e(t,e){var r=Math.cos(t),u=Math.cos(e),i=n(r*u);return[i*u*Math.sin(t),i*Math.sin(e)]}return e.invert=function(n,e){var r=Math.sqrt(n*n+e*e),u=t(r),i=Math.sin(u),a=Math.cos(u);return[Math.atan2(n*i,r*a),Math.asin(r&&e*i/r)]},e}function ke(n,t){function e(n,t){var e=Math.abs(Math.abs(t)-La/2)<Fa?0:a/Math.pow(u(t),i);return[e*Math.sin(i*n),a-e*Math.cos(i*n)]}var r=Math.cos(n),u=function(n){return Math.tan(La/4+n/2)},i=n===t?Math.sin(n):Math.log(r/Math.cos(t))/Math.log(u(t)/u(n)),a=r*Math.pow(u(n),i)/i;return i?(e.invert=function(n,t){var e=a-t,r=R(i)*Math.sqrt(n*n+e*e);return[Math.atan2(n,e)/i,2*Math.atan(Math.pow(a/r,1/i))-La/2]},e):qe}function Ae(n,t){function e(n,t){var e=i-t;return[e*Math.sin(u*n),i-e*Math.cos(u*n)]}var r=Math.cos(n),u=n===t?Math.sin(n):(r-Math.cos(t))/(t-n),i=r/u+n;return Math.abs(u)<Fa?ne:(e.invert=function(n,t){var e=i-t;return[Math.atan2(n,e)/u,i-R(u)*Math.sqrt(n*n+e*e)]},e)}function qe(n,t){return[n,Math.log(Math.tan(La/4+t/2))]}function Ne(n){var t,e=Kt(n),r=e.scale,u=e.translate,i=e.clipExtent;return e.scale=function(){var n=r.apply(e,arguments);return n===e?t?e.clipExtent(null):e:n},e.translate=function(){var n=u.apply(e,arguments);return n===e?t?e.clipExtent(null):e:n},e.clipExtent=function(n){var a=i.apply(e,arguments);if(a===e){if(t=null==n){var o=La*r(),c=u();i([[c[0]-o,c[1]-o],[c[0]+o,c[1]+o]])}}else t&&(a=null);return a},e.clipExtent(null)}function Te(n,t){var e=Math.cos(t)*Math.sin(n);return[Math.log((1+e)/(1-e))/2,Math.atan2(Math.tan(t),Math.cos(n))]}function Ce(n){function t(t){function a(){l.push(\"M\",i(n(f),o))}for(var c,l=[],f=[],s=-1,h=t.length,g=lt(e),p=lt(r);++s<h;)u.call(this,c=t[s],s)?f.push([+g.call(this,c,s),+p.call(this,c,s)]):f.length&&(a(),f=[]);return f.length&&a(),l.length?l.join(\"\"):null}var e=ze,r=De,u=Dt,i=je,a=i.key,o=.7;return t.x=function(n){return arguments.length?(e=n,t):e},t.y=function(n){return arguments.length?(r=n,t):r},t.defined=function(n){return arguments.length?(u=n,t):u},t.interpolate=function(n){return arguments.length?(a=\"function\"==typeof n?i=n:(i=Do.get(n)||je).key,t):a},t.tension=function(n){return arguments.length?(o=n,t):o},t}function ze(n){return n[0]}function De(n){return n[1]}function je(n){return n.join(\"L\")}function Le(n){return je(n)+\"Z\"}function Fe(n){for(var t=0,e=n.length,r=n[0],u=[r[0],\",\",r[1]];++t<e;)u.push(\"V\",(r=n[t])[1],\"H\",r[0]);return u.join(\"\")}function He(n){for(var t=0,e=n.length,r=n[0],u=[r[0],\",\",r[1]];++t<e;)u.push(\"H\",(r=n[t])[0],\"V\",r[1]);return u.join(\"\")}function Pe(n,t){return n.length<4?je(n):n[1]+Ye(n.slice(1,n.length-1),Ue(n,t))}function Re(n,t){return n.length<3?je(n):n[0]+Ye((n.push(n[0]),n),Ue([n[n.length-2]].concat(n,[n[1]]),t))}function Oe(n,t){return n.length<3?je(n):n[0]+Ye(n,Ue(n,t))}function Ye(n,t){if(t.length<1||n.length!=t.length&&n.length!=t.length+2)return je(n);var e=n.length!=t.length,r=\"\",u=n[0],i=n[1],a=t[0],o=a,c=1;if(e&&(r+=\"Q\"+(i[0]-a[0]*2/3)+\",\"+(i[1]-a[1]*2/3)+\",\"+i[0]+\",\"+i[1],u=n[1],c=2),t.length>1){o=t[1],i=n[c],c++,r+=\"C\"+(u[0]+a[0])+\",\"+(u[1]+a[1])+\",\"+(i[0]-o[0])+\",\"+(i[1]-o[1])+\",\"+i[0]+\",\"+i[1];for(var l=2;l<t.length;l++,c++)i=n[c],o=t[l],r+=\"S\"+(i[0]-o[0])+\",\"+(i[1]-o[1])+\",\"+i[0]+\",\"+i[1]}if(e){var f=n[c];r+=\"Q\"+(i[0]+o[0]*2/3)+\",\"+(i[1]+o[1]*2/3)+\",\"+f[0]+\",\"+f[1]}return r}function Ue(n,t){for(var e,r=[],u=(1-t)/2,i=n[0],a=n[1],o=1,c=n.length;++o<c;)e=i,i=a,a=n[o],r.push([u*(a[0]-e[0]),u*(a[1]-e[1])]);return r}function Ie(n){if(n.length<3)return je(n);var t=1,e=n.length,r=n[0],u=r[0],i=r[1],a=[u,u,u,(r=n[1])[0]],o=[i,i,i,r[1]],c=[u,\",\",i];for($e(c,a,o);++t<e;)r=n[t],a.shift(),a.push(r[0]),o.shift(),o.push(r[1]),$e(c,a,o);for(t=-1;++t<2;)a.shift(),a.push(r[0]),o.shift(),o.push(r[1]),$e(c,a,o);return c.join(\"\")}function Ve(n){if(n.length<4)return je(n);for(var t,e=[],r=-1,u=n.length,i=[0],a=[0];++r<3;)t=n[r],i.push(t[0]),a.push(t[1]);for(e.push(Be(Fo,i)+\",\"+Be(Fo,a)),--r;++r<u;)t=n[r],i.shift(),i.push(t[0]),a.shift(),a.push(t[1]),$e(e,i,a);return e.join(\"\")}function Xe(n){for(var t,e,r=-1,u=n.length,i=u+4,a=[],o=[];++r<4;)e=n[r%u],a.push(e[0]),o.push(e[1]);for(t=[Be(Fo,a),\",\",Be(Fo,o)],--r;++r<i;)e=n[r%u],a.shift(),a.push(e[0]),o.shift(),o.push(e[1]),$e(t,a,o);return t.join(\"\")}function Ze(n,t){var e=n.length-1;if(e)for(var r,u,i=n[0][0],a=n[0][1],o=n[e][0]-i,c=n[e][1]-a,l=-1;++l<=e;)r=n[l],u=l/e,r[0]=t*r[0]+(1-t)*(i+u*o),r[1]=t*r[1]+(1-t)*(a+u*c);return Ie(n)}function Be(n,t){return n[0]*t[0]+n[1]*t[1]+n[2]*t[2]+n[3]*t[3]}function $e(n,t,e){n.push(\"C\",Be(jo,t),\",\",Be(jo,e),\",\",Be(Lo,t),\",\",Be(Lo,e),\",\",Be(Fo,t),\",\",Be(Fo,e))}function Je(n,t){return(t[1]-n[1])/(t[0]-n[0])}function Ge(n){for(var t=0,e=n.length-1,r=[],u=n[0],i=n[1],a=r[0]=Je(u,i);++t<e;)r[t]=(a+(a=Je(u=i,i=n[t+1])))/2;return r[t]=a,r}function Ke(n){for(var t,e,r,u,i=[],a=Ge(n),o=-1,c=n.length-1;++o<c;)t=Je(n[o],n[o+1]),Math.abs(t)<1e-6?a[o]=a[o+1]=0:(e=a[o]/t,r=a[o+1]/t,u=e*e+r*r,u>9&&(u=3*t/Math.sqrt(u),a[o]=u*e,a[o+1]=u*r));for(o=-1;++o<=c;)u=(n[Math.min(c,o+1)][0]-n[Math.max(0,o-1)][0])/(6*(1+a[o]*a[o])),i.push([u||0,a[o]*u||0]);return i}function We(n){return n.length<3?je(n):n[0]+Ye(n,Ke(n))}function Qe(n,t,e,r){var u,i,a,o,c,l,f;return u=r[n],i=u[0],a=u[1],u=r[t],o=u[0],c=u[1],u=r[e],l=u[0],f=u[1],(f-a)*(o-i)-(c-a)*(l-i)>0}function nr(n,t,e){return(e[0]-t[0])*(n[1]-t[1])<(e[1]-t[1])*(n[0]-t[0])}function tr(n,t,e,r){var u=n[0],i=e[0],a=t[0]-u,o=r[0]-i,c=n[1],l=e[1],f=t[1]-c,s=r[1]-l,h=(o*(c-l)-s*(u-i))/(s*a-o*f);\n",
        "return[u+h*a,c+h*f]}function er(n,t){var e={list:n.map(function(n,t){return{index:t,x:n[0],y:n[1]}}).sort(function(n,t){return n.y<t.y?-1:n.y>t.y?1:n.x<t.x?-1:n.x>t.x?1:0}),bottomSite:null},r={list:[],leftEnd:null,rightEnd:null,init:function(){r.leftEnd=r.createHalfEdge(null,\"l\"),r.rightEnd=r.createHalfEdge(null,\"l\"),r.leftEnd.r=r.rightEnd,r.rightEnd.l=r.leftEnd,r.list.unshift(r.leftEnd,r.rightEnd)},createHalfEdge:function(n,t){return{edge:n,side:t,vertex:null,l:null,r:null}},insert:function(n,t){t.l=n,t.r=n.r,n.r.l=t,n.r=t},leftBound:function(n){var t=r.leftEnd;do t=t.r;while(t!=r.rightEnd&&u.rightOf(t,n));return t=t.l},del:function(n){n.l.r=n.r,n.r.l=n.l,n.edge=null},right:function(n){return n.r},left:function(n){return n.l},leftRegion:function(n){return n.edge==null?e.bottomSite:n.edge.region[n.side]},rightRegion:function(n){return n.edge==null?e.bottomSite:n.edge.region[Ho[n.side]]}},u={bisect:function(n,t){var e={region:{l:n,r:t},ep:{l:null,r:null}},r=t.x-n.x,u=t.y-n.y,i=r>0?r:-r,a=u>0?u:-u;return e.c=n.x*r+n.y*u+.5*(r*r+u*u),i>a?(e.a=1,e.b=u/r,e.c/=r):(e.b=1,e.a=r/u,e.c/=u),e},intersect:function(n,t){var e=n.edge,r=t.edge;if(!e||!r||e.region.r==r.region.r)return null;var u=e.a*r.b-e.b*r.a;if(Math.abs(u)<1e-10)return null;var i,a,o=(e.c*r.b-r.c*e.b)/u,c=(r.c*e.a-e.c*r.a)/u,l=e.region.r,f=r.region.r;l.y<f.y||l.y==f.y&&l.x<f.x?(i=n,a=e):(i=t,a=r);var s=o>=a.region.r.x;return s&&i.side===\"l\"||!s&&i.side===\"r\"?null:{x:o,y:c}},rightOf:function(n,t){var e=n.edge,r=e.region.r,u=t.x>r.x;if(u&&n.side===\"l\")return 1;if(!u&&n.side===\"r\")return 0;if(e.a===1){var i=t.y-r.y,a=t.x-r.x,o=0,c=0;if(!u&&e.b<0||u&&e.b>=0?c=o=i>=e.b*a:(c=t.x+t.y*e.b>e.c,e.b<0&&(c=!c),c||(o=1)),!o){var l=r.x-e.region.l.x;c=e.b*(a*a-i*i)<l*i*(1+2*a/l+e.b*e.b),e.b<0&&(c=!c)}}else{var f=e.c-e.a*t.x,s=t.y-f,h=t.x-r.x,g=f-r.y;c=s*s>h*h+g*g}return n.side===\"l\"?c:!c},endPoint:function(n,e,r){n.ep[e]=r,n.ep[Ho[e]]&&t(n)},distance:function(n,t){var e=n.x-t.x,r=n.y-t.y;return Math.sqrt(e*e+r*r)}},i={list:[],insert:function(n,t,e){n.vertex=t,n.ystar=t.y+e;for(var r=0,u=i.list,a=u.length;a>r;r++){var o=u[r];if(!(n.ystar>o.ystar||n.ystar==o.ystar&&t.x>o.vertex.x))break}u.splice(r,0,n)},del:function(n){for(var t=0,e=i.list,r=e.length;r>t&&e[t]!=n;++t);e.splice(t,1)},empty:function(){return i.list.length===0},nextEvent:function(n){for(var t=0,e=i.list,r=e.length;r>t;++t)if(e[t]==n)return e[t+1];return null},min:function(){var n=i.list[0];return{x:n.vertex.x,y:n.ystar}},extractMin:function(){return i.list.shift()}};r.init(),e.bottomSite=e.list.shift();for(var a,o,c,l,f,s,h,g,p,d,m,v,y,M=e.list.shift();;)if(i.empty()||(a=i.min()),M&&(i.empty()||M.y<a.y||M.y==a.y&&M.x<a.x))o=r.leftBound(M),c=r.right(o),h=r.rightRegion(o),v=u.bisect(h,M),s=r.createHalfEdge(v,\"l\"),r.insert(o,s),d=u.intersect(o,s),d&&(i.del(o),i.insert(o,d,u.distance(d,M))),o=s,s=r.createHalfEdge(v,\"r\"),r.insert(o,s),d=u.intersect(s,c),d&&i.insert(s,d,u.distance(d,M)),M=e.list.shift();else{if(i.empty())break;o=i.extractMin(),l=r.left(o),c=r.right(o),f=r.right(c),h=r.leftRegion(o),g=r.rightRegion(c),m=o.vertex,u.endPoint(o.edge,o.side,m),u.endPoint(c.edge,c.side,m),r.del(o),i.del(c),r.del(c),y=\"l\",h.y>g.y&&(p=h,h=g,g=p,y=\"r\"),v=u.bisect(h,g),s=r.createHalfEdge(v,y),r.insert(l,s),u.endPoint(v,Ho[y],m),d=u.intersect(l,s),d&&(i.del(l),i.insert(l,d,u.distance(d,h))),d=u.intersect(s,f),d&&i.insert(s,d,u.distance(d,h))}for(o=r.right(r.leftEnd);o!=r.rightEnd;o=r.right(o))t(o.edge)}function rr(n){return n.x}function ur(n){return n.y}function ir(){return{leaf:!0,nodes:[],point:null,x:null,y:null}}function ar(n,t,e,r,u,i){if(!n(t,e,r,u,i)){var a=.5*(e+u),o=.5*(r+i),c=t.nodes;c[0]&&ar(n,c[0],e,r,a,o),c[1]&&ar(n,c[1],a,r,u,o),c[2]&&ar(n,c[2],e,o,a,i),c[3]&&ar(n,c[3],a,o,u,i)}}function or(n,t){n=oa.rgb(n),t=oa.rgb(t);var e=n.r,r=n.g,u=n.b,i=t.r-e,a=t.g-r,o=t.b-u;return function(n){return\"#\"+rt(Math.round(e+i*n))+rt(Math.round(r+a*n))+rt(Math.round(u+o*n))}}function cr(n){var t=[n.a,n.b],e=[n.c,n.d],r=fr(t),u=lr(t,e),i=fr(sr(e,t,-u))||0;t[0]*e[1]<e[0]*t[1]&&(t[0]*=-1,t[1]*=-1,r*=-1,u*=-1),this.rotate=(r?Math.atan2(t[1],t[0]):Math.atan2(-e[0],e[1]))*Pa,this.translate=[n.e,n.f],this.scale=[r,i],this.skew=i?Math.atan2(u,i)*Pa:0}function lr(n,t){return n[0]*t[0]+n[1]*t[1]}function fr(n){var t=Math.sqrt(lr(n,n));return t&&(n[0]/=t,n[1]/=t),t}function sr(n,t,e){return n[0]+=e*t[0],n[1]+=e*t[1],n}function hr(n,t){return t-=n,function(e){return n+t*e}}function gr(n,t){var e,r=[],u=[],i=oa.transform(n),a=oa.transform(t),o=i.translate,c=a.translate,l=i.rotate,f=a.rotate,s=i.skew,h=a.skew,g=i.scale,p=a.scale;return o[0]!=c[0]||o[1]!=c[1]?(r.push(\"translate(\",null,\",\",null,\")\"),u.push({i:1,x:hr(o[0],c[0])},{i:3,x:hr(o[1],c[1])})):c[0]||c[1]?r.push(\"translate(\"+c+\")\"):r.push(\"\"),l!=f?(l-f>180?f+=360:f-l>180&&(l+=360),u.push({i:r.push(r.pop()+\"rotate(\",null,\")\")-2,x:hr(l,f)})):f&&r.push(r.pop()+\"rotate(\"+f+\")\"),s!=h?u.push({i:r.push(r.pop()+\"skewX(\",null,\")\")-2,x:hr(s,h)}):h&&r.push(r.pop()+\"skewX(\"+h+\")\"),g[0]!=p[0]||g[1]!=p[1]?(e=r.push(r.pop()+\"scale(\",null,\",\",null,\")\"),u.push({i:e-4,x:hr(g[0],p[0])},{i:e-2,x:hr(g[1],p[1])})):(p[0]!=1||p[1]!=1)&&r.push(r.pop()+\"scale(\"+p+\")\"),e=u.length,function(n){for(var t,i=-1;++i<e;)r[(t=u[i]).i]=t.x(n);return r.join(\"\")}}function pr(n,t){var e,r={},u={};for(e in n)e in t?r[e]=vr(e)(n[e],t[e]):u[e]=n[e];for(e in t)e in n||(u[e]=t[e]);return function(n){for(e in r)u[e]=r[e](n);return u}}function dr(n,t){var e,r,u,i,a,o=0,c=0,l=[],f=[];for(Ro.lastIndex=0,r=0;e=Ro.exec(t);++r)e.index&&l.push(t.substring(o,c=e.index)),f.push({i:l.length,x:e[0]}),l.push(null),o=Ro.lastIndex;for(o<t.length&&l.push(t.substring(o)),r=0,i=f.length;(e=Ro.exec(n))&&i>r;++r)if(a=f[r],a.x==e[0]){if(a.i)if(l[a.i+1]==null)for(l[a.i-1]+=a.x,l.splice(a.i,1),u=r+1;i>u;++u)f[u].i--;else for(l[a.i-1]+=a.x+l[a.i+1],l.splice(a.i,2),u=r+1;i>u;++u)f[u].i-=2;else if(l[a.i+1]==null)l[a.i]=a.x;else for(l[a.i]=a.x+l[a.i+1],l.splice(a.i+1,1),u=r+1;i>u;++u)f[u].i--;f.splice(r,1),i--,r--}else a.x=hr(parseFloat(e[0]),parseFloat(a.x));for(;i>r;)a=f.pop(),l[a.i+1]==null?l[a.i]=a.x:(l[a.i]=a.x+l[a.i+1],l.splice(a.i+1,1)),i--;return l.length===1?l[0]==null?f[0].x:function(){return t}:function(n){for(r=0;i>r;++r)l[(a=f[r]).i]=a.x(n);return l.join(\"\")}}function mr(n,t){for(var e,r=oa.interpolators.length;--r>=0&&!(e=oa.interpolators[r](n,t)););return e}function vr(n){return\"transform\"==n?gr:mr}function yr(n,t){var e,r=[],u=[],i=n.length,a=t.length,o=Math.min(n.length,t.length);for(e=0;o>e;++e)r.push(mr(n[e],t[e]));for(;i>e;++e)u[e]=n[e];for(;a>e;++e)u[e]=t[e];return function(n){for(e=0;o>e;++e)u[e]=r[e](n);return u}}function Mr(n){return function(t){return 0>=t?0:t>=1?1:n(t)}}function xr(n){return function(t){return 1-n(1-t)}}function br(n){return function(t){return.5*(.5>t?n(2*t):2-n(2-2*t))}}function _r(n){return n*n}function wr(n){return n*n*n}function Sr(n){if(0>=n)return 0;if(n>=1)return 1;var t=n*n,e=t*n;return 4*(.5>n?e:3*(n-t)+e-.75)}function Er(n){return function(t){return Math.pow(t,n)}}function kr(n){return 1-Math.cos(n*La/2)}function Ar(n){return Math.pow(2,10*(n-1))}function qr(n){return 1-Math.sqrt(1-n*n)}function Nr(n,t){var e;return arguments.length<2&&(t=.45),arguments.length?e=t/(2*La)*Math.asin(1/n):(n=1,e=t/4),function(r){return 1+n*Math.pow(2,10*-r)*Math.sin(2*(r-e)*La/t)}}function Tr(n){return n||(n=1.70158),function(t){return t*t*((n+1)*t-n)}}function Cr(n){return 1/2.75>n?7.5625*n*n:2/2.75>n?7.5625*(n-=1.5/2.75)*n+.75:2.5/2.75>n?7.5625*(n-=2.25/2.75)*n+.9375:7.5625*(n-=2.625/2.75)*n+.984375}function zr(n,t){n=oa.hcl(n),t=oa.hcl(t);var e=n.h,r=n.c,u=n.l,i=t.h-e,a=t.c-r,o=t.l-u;return i>180?i-=360:-180>i&&(i+=360),function(n){return B(e+i*n,r+a*n,u+o*n)+\"\"}}function Dr(n,t){n=oa.hsl(n),t=oa.hsl(t);var e=n.h,r=n.s,u=n.l,i=t.h-e,a=t.s-r,o=t.l-u;return i>180?i-=360:-180>i&&(i+=360),function(n){return P(e+i*n,r+a*n,u+o*n)+\"\"}}function jr(n,t){n=oa.lab(n),t=oa.lab(t);var e=n.l,r=n.a,u=n.b,i=t.l-e,a=t.a-r,o=t.b-u;return function(n){return G(e+i*n,r+a*n,u+o*n)+\"\"}}function Lr(n,t){return t-=n,function(e){return Math.round(n+t*e)}}function Fr(n,t){return t=t-(n=+n)?1/(t-n):0,function(e){return(e-n)*t}}function Hr(n,t){return t=t-(n=+n)?1/(t-n):0,function(e){return Math.max(0,Math.min(1,(e-n)*t))}}function Pr(n){for(var t=n.source,e=n.target,r=Or(t,e),u=[t];t!==r;)t=t.parent,u.push(t);for(var i=u.length;e!==r;)u.splice(i,0,e),e=e.parent;return u}function Rr(n){for(var t=[],e=n.parent;null!=e;)t.push(n),n=e,e=e.parent;return t.push(n),t}function Or(n,t){if(n===t)return n;for(var e=Rr(n),r=Rr(t),u=e.pop(),i=r.pop(),a=null;u===i;)a=u,u=e.pop(),i=r.pop();return a}function Yr(n){n.fixed|=2}function Ur(n){n.fixed&=-7}function Ir(n){n.fixed|=4,n.px=n.x,n.py=n.y}function Vr(n){n.fixed&=-5}function Xr(n,t,e){var r=0,u=0;if(n.charge=0,!n.leaf)for(var i,a=n.nodes,o=a.length,c=-1;++c<o;)i=a[c],null!=i&&(Xr(i,t,e),n.charge+=i.charge,r+=i.charge*i.cx,u+=i.charge*i.cy);if(n.point){n.leaf||(n.point.x+=Math.random()-.5,n.point.y+=Math.random()-.5);var l=t*e[n.point.index];n.charge+=n.pointCharge=l,r+=l*n.point.x,u+=l*n.point.y}n.cx=r/n.charge,n.cy=u/n.charge}function Zr(n,t){return oa.rebind(n,t,\"sort\",\"children\",\"value\"),n.nodes=n,n.links=Gr,n}function Br(n){return n.children}function $r(n){return n.value}function Jr(n,t){return t.value-n.value}function Gr(n){return oa.merge(n.map(function(n){return(n.children||[]).map(function(t){return{source:n,target:t}})}))}function Kr(n){return n.x}function Wr(n){return n.y}function Qr(n,t,e){n.y0=t,n.y=e}function nu(n){return oa.range(n.length)}function tu(n){for(var t=-1,e=n[0].length,r=[];++t<e;)r[t]=0;return r}function eu(n){for(var t,e=1,r=0,u=n[0][1],i=n.length;i>e;++e)(t=n[e][1])>u&&(r=e,u=t);return r}function ru(n){return n.reduce(uu,0)}function uu(n,t){return n+t[1]}function iu(n,t){return au(n,Math.ceil(Math.log(t.length)/Math.LN2+1))}function au(n,t){for(var e=-1,r=+n[0],u=(n[1]-r)/t,i=[];++e<=t;)i[e]=u*e+r;return i}function ou(n){return[oa.min(n),oa.max(n)]}function cu(n,t){return n.parent==t.parent?1:2}function lu(n){var t=n.children;return t&&t.length?t[0]:n._tree.thread}function fu(n){var t,e=n.children;return e&&(t=e.length)?e[t-1]:n._tree.thread}function su(n,t){var e=n.children;if(e&&(u=e.length))for(var r,u,i=-1;++i<u;)t(r=su(e[i],t),n)>0&&(n=r);return n}function hu(n,t){return n.x-t.x}function gu(n,t){return t.x-n.x}function pu(n,t){return n.depth-t.depth}function du(n,t){function e(n,r){var u=n.children;if(u&&(a=u.length))for(var i,a,o=null,c=-1;++c<a;)i=u[c],e(i,o),o=i;t(n,r)}e(n,null)}function mu(n){for(var t,e=0,r=0,u=n.children,i=u.length;--i>=0;)t=u[i]._tree,t.prelim+=e,t.mod+=e,e+=t.shift+(r+=t.change)}function vu(n,t,e){n=n._tree,t=t._tree;var r=e/(t.number-n.number);n.change+=r,t.change-=r,t.shift+=e,t.prelim+=e,t.mod+=e}function yu(n,t,e){return n._tree.ancestor.parent==t.parent?n._tree.ancestor:e}function Mu(n,t){return n.value-t.value}function xu(n,t){var e=n._pack_next;n._pack_next=t,t._pack_prev=n,t._pack_next=e,e._pack_prev=t}function bu(n,t){n._pack_next=t,t._pack_prev=n}function _u(n,t){var e=t.x-n.x,r=t.y-n.y,u=n.r+t.r;return u*u-e*e-r*r>.001}function wu(n){function t(n){f=Math.min(n.x-n.r,f),s=Math.max(n.x+n.r,s),h=Math.min(n.y-n.r,h),g=Math.max(n.y+n.r,g)}if((e=n.children)&&(l=e.length)){var e,r,u,i,a,o,c,l,f=1/0,s=-1/0,h=1/0,g=-1/0;if(e.forEach(Su),r=e[0],r.x=-r.r,r.y=0,t(r),l>1&&(u=e[1],u.x=u.r,u.y=0,t(u),l>2))for(i=e[2],Au(r,u,i),t(i),xu(r,i),r._pack_prev=i,xu(i,u),u=r._pack_next,a=3;l>a;a++){Au(r,u,i=e[a]);var p=0,d=1,m=1;for(o=u._pack_next;o!==u;o=o._pack_next,d++)if(_u(o,i)){p=1;break}if(1==p)for(c=r._pack_prev;c!==o._pack_prev&&!_u(c,i);c=c._pack_prev,m++);p?(m>d||d==m&&u.r<r.r?bu(r,u=o):bu(r=c,u),a--):(xu(r,i),u=i,t(i))}var v=(f+s)/2,y=(h+g)/2,M=0;for(a=0;l>a;a++)i=e[a],i.x-=v,i.y-=y,M=Math.max(M,i.r+Math.sqrt(i.x*i.x+i.y*i.y));n.r=M,e.forEach(Eu)}}function Su(n){n._pack_next=n._pack_prev=n}function Eu(n){delete n._pack_next,delete n._pack_prev}function ku(n,t,e,r){var u=n.children;if(n.x=t+=r*n.x,n.y=e+=r*n.y,n.r*=r,u)for(var i=-1,a=u.length;++i<a;)ku(u[i],t,e,r)}function Au(n,t,e){var r=n.r+e.r,u=t.x-n.x,i=t.y-n.y;if(r&&(u||i)){var a=t.r+e.r,o=u*u+i*i;a*=a,r*=r;var c=.5+(r-a)/(2*o),l=Math.sqrt(Math.max(0,2*a*(r+o)-(r-=o)*r-a*a))/(2*o);e.x=n.x+c*u+l*i,e.y=n.y+c*i-l*u}else e.x=n.x+r,e.y=n.y}function qu(n){return 1+oa.max(n,function(n){return n.y})}function Nu(n){return n.reduce(function(n,t){return n+t.x},0)/n.length}function Tu(n){var t=n.children;return t&&t.length?Tu(t[0]):n}function Cu(n){var t,e=n.children;return e&&(t=e.length)?Cu(e[t-1]):n}function zu(n){return{x:n.x,y:n.y,dx:n.dx,dy:n.dy}}function Du(n,t){var e=n.x+t[3],r=n.y+t[0],u=n.dx-t[1]-t[3],i=n.dy-t[0]-t[2];return 0>u&&(e+=u/2,u=0),0>i&&(r+=i/2,i=0),{x:e,y:r,dx:u,dy:i}}function ju(n){var t=n[0],e=n[n.length-1];return e>t?[t,e]:[e,t]}function Lu(n){return n.rangeExtent?n.rangeExtent():ju(n.range())}function Fu(n,t,e,r){var u=e(n[0],n[1]),i=r(t[0],t[1]);return function(n){return i(u(n))}}function Hu(n,t){var e,r=0,u=n.length-1,i=n[r],a=n[u];return i>a&&(e=r,r=u,u=e,e=i,i=a,a=e),(t=t(a-i))&&(n[r]=t.floor(i),n[u]=t.ceil(a)),n}function Pu(n,t,e,r){var u=[],i=[],a=0,o=Math.min(n.length,t.length)-1;for(n[o]<n[0]&&(n=n.slice().reverse(),t=t.slice().reverse());++a<=o;)u.push(e(n[a-1],n[a])),i.push(r(t[a-1],t[a]));return function(t){var e=oa.bisect(n,t,1,o)-1;return i[e](u[e](t))}}function Ru(n,t,e,r){function u(){var u=Math.min(n.length,t.length)>2?Pu:Fu,c=r?Hr:Fr;return a=u(n,t,c,e),o=u(t,n,c,mr),i}function i(n){return a(n)}var a,o;return i.invert=function(n){return o(n)},i.domain=function(t){return arguments.length?(n=t.map(Number),u()):n},i.range=function(n){return arguments.length?(t=n,u()):t},i.rangeRound=function(n){return i.range(n).interpolate(Lr)},i.clamp=function(n){return arguments.length?(r=n,u()):r},i.interpolate=function(n){return arguments.length?(e=n,u()):e},i.ticks=function(t){return Iu(n,t)},i.tickFormat=function(t,e){return Vu(n,t,e)},i.nice=function(){return Hu(n,Yu),u()},i.copy=function(){return Ru(n,t,e,r)},u()}function Ou(n,t){return oa.rebind(n,t,\"range\",\"rangeRound\",\"interpolate\",\"clamp\")}function Yu(n){return n=Math.pow(10,Math.round(Math.log(n)/Math.LN10)-1),n&&{floor:function(t){return Math.floor(t/n)*n},ceil:function(t){return Math.ceil(t/n)*n}}}function Uu(n,t){var e=ju(n),r=e[1]-e[0],u=Math.pow(10,Math.floor(Math.log(r/t)/Math.LN10)),i=t/r*u;return.15>=i?u*=10:.35>=i?u*=5:.75>=i&&(u*=2),e[0]=Math.ceil(e[0]/u)*u,e[1]=Math.floor(e[1]/u)*u+.5*u,e[2]=u,e}function Iu(n,t){return oa.range.apply(oa,Uu(n,t))}function Vu(n,t,e){var r=-Math.floor(Math.log(Uu(n,t)[2])/Math.LN10+.01);return oa.format(e?e.replace(ro,function(n,t,e,u,i,a,o,c,l,f){return[t,e,u,i,a,o,c,l||\".\"+(r-2*(\"%\"===f)),f].join(\"\")}):\",.\"+r+\"f\")}function Xu(n,t,e,r){function u(t){return n(e(t))}return u.invert=function(t){return r(n.invert(t))},u.domain=function(t){return arguments.length?(t[0]<0?(e=$u,r=Ju):(e=Zu,r=Bu),n.domain(t.map(e)),u):n.domain().map(r)},u.base=function(n){return arguments.length?(t=+n,u):t},u.nice=function(){return n.domain(Hu(n.domain(),Gu(t))),u},u.ticks=function(){var u=ju(n.domain()),i=[];if(u.every(isFinite)){var a=Math.log(t),o=Math.floor(u[0]/a),c=Math.ceil(u[1]/a),l=r(u[0]),f=r(u[1]),s=t%1?2:t;if(e===$u)for(i.push(-Math.pow(t,-o));o++<c;)for(var h=s-1;h>0;h--)i.push(-Math.pow(t,-o)*h);else{for(;c>o;o++)for(var h=1;s>h;h++)i.push(Math.pow(t,o)*h);i.push(Math.pow(t,o))}for(o=0;i[o]<l;o++);for(c=i.length;i[c-1]>f;c--);i=i.slice(o,c)}return i},u.tickFormat=function(n,i){if(arguments.length<2&&(i=$o),!arguments.length)return i;var a,o=Math.log(t),c=Math.max(.1,n/u.ticks().length),l=e===$u?(a=-1e-12,Math.floor):(a=1e-12,Math.ceil);return function(n){return n/r(o*l(e(n)/o+a))<=c?i(n):\"\"}},u.copy=function(){return Xu(n.copy(),t,e,r)},Ou(u,n)}function Zu(n){return Math.log(0>n?0:n)}function Bu(n){return Math.exp(n)}function $u(n){return-Math.log(n>0?0:-n)}function Ju(n){return-Math.exp(-n)}function Gu(n){n=Math.log(n);var t={floor:function(t){return Math.floor(t/n)*n},ceil:function(t){return Math.ceil(t/n)*n}};return function(){return t}}function Ku(n,t){function e(t){return n(r(t))}var r=Wu(t),u=Wu(1/t);return e.invert=function(t){return u(n.invert(t))},e.domain=function(t){return arguments.length?(n.domain(t.map(r)),e):n.domain().map(u)},e.ticks=function(n){return Iu(e.domain(),n)},e.tickFormat=function(n,t){return Vu(e.domain(),n,t)},e.nice=function(){return e.domain(Hu(e.domain(),Yu))},e.exponent=function(n){if(!arguments.length)return t;var i=e.domain();return r=Wu(t=n),u=Wu(1/t),e.domain(i)},e.copy=function(){return Ku(n.copy(),t)},Ou(e,n)}function Wu(n){return function(t){return 0>t?-Math.pow(-t,n):Math.pow(t,n)}}function Qu(n,t){function e(t){return a[((i.get(t)||i.set(t,n.push(t)))-1)%a.length]}function r(t,e){return oa.range(n.length).map(function(n){return t+e*n})}var i,a,o;return e.domain=function(r){if(!arguments.length)return n;n=[],i=new u;for(var a,o=-1,c=r.length;++o<c;)i.has(a=r[o])||i.set(a,n.push(a));return e[t.t].apply(e,t.a)},e.range=function(n){return arguments.length?(a=n,o=0,t={t:\"range\",a:arguments},e):a},e.rangePoints=function(u,i){arguments.length<2&&(i=0);var c=u[0],l=u[1],f=(l-c)/(Math.max(1,n.length-1)+i);return a=r(n.length<2?(c+l)/2:c+f*i/2,f),o=0,t={t:\"rangePoints\",a:arguments},e},e.rangeBands=function(u,i,c){arguments.length<2&&(i=0),arguments.length<3&&(c=i);var l=u[1]<u[0],f=u[l-0],s=u[1-l],h=(s-f)/(n.length-i+2*c);return a=r(f+h*c,h),l&&a.reverse(),o=h*(1-i),t={t:\"rangeBands\",a:arguments},e},e.rangeRoundBands=function(u,i,c){arguments.length<2&&(i=0),arguments.length<3&&(c=i);var l=u[1]<u[0],f=u[l-0],s=u[1-l],h=Math.floor((s-f)/(n.length-i+2*c)),g=s-f-(n.length-i)*h;return a=r(f+Math.round(g/2),h),l&&a.reverse(),o=Math.round(h*(1-i)),t={t:\"rangeRoundBands\",a:arguments},e},e.rangeBand=function(){return o},e.rangeExtent=function(){return ju(t.a[0])},e.copy=function(){return Qu(n,t)},e.domain(n)}function ni(n,t){function e(){var e=0,i=t.length;for(u=[];++e<i;)u[e-1]=oa.quantile(n,e/i);return r}function r(n){return isNaN(n=+n)?0/0:t[oa.bisect(u,n)]}var u;return r.domain=function(t){return arguments.length?(n=t.filter(function(n){return!isNaN(n)}).sort(oa.ascending),e()):n},r.range=function(n){return arguments.length?(t=n,e()):t},r.quantiles=function(){return u},r.copy=function(){return ni(n,t)},e()}function ti(n,t,e){function r(t){return e[Math.max(0,Math.min(a,Math.floor(i*(t-n))))]}function u(){return i=e.length/(t-n),a=e.length-1,r}var i,a;return r.domain=function(e){return arguments.length?(n=+e[0],t=+e[e.length-1],u()):[n,t]},r.range=function(n){return arguments.length?(e=n,u()):e},r.copy=function(){return ti(n,t,e)},u()}function ei(n,t){function e(e){return t[oa.bisect(n,e)]}return e.domain=function(t){return arguments.length?(n=t,e):n},e.range=function(n){return arguments.length?(t=n,e):t},e.copy=function(){return ei(n,t)},e}function ri(n){function t(n){return+n}return t.invert=t,t.domain=t.range=function(e){return arguments.length?(n=e.map(t),t):n},t.ticks=function(t){return Iu(n,t)},t.tickFormat=function(t,e){return Vu(n,t,e)},t.copy=function(){return ri(n)},t}function ui(n){return n.innerRadius}function ii(n){return n.outerRadius}function ai(n){return n.startAngle}function oi(n){return n.endAngle}function ci(n){for(var t,e,r,u=-1,i=n.length;++u<i;)t=n[u],e=t[0],r=t[1]+Qo,t[0]=e*Math.cos(r),t[1]=e*Math.sin(r);return n}function li(n){function t(t){function c(){d.push(\"M\",o(n(v),s),f,l(n(m.reverse()),s),\"Z\")}for(var h,g,p,d=[],m=[],v=[],y=-1,M=t.length,x=lt(e),b=lt(u),_=e===r?function(){return g}:lt(r),w=u===i?function(){return p}:lt(i);++y<M;)a.call(this,h=t[y],y)?(m.push([g=+x.call(this,h,y),p=+b.call(this,h,y)]),v.push([+_.call(this,h,y),+w.call(this,h,y)])):m.length&&(c(),m=[],v=[]);return m.length&&c(),d.length?d.join(\"\"):null}var e=ze,r=ze,u=0,i=De,a=Dt,o=je,c=o.key,l=o,f=\"L\",s=.7;return t.x=function(n){return arguments.length?(e=r=n,t):r},t.x0=function(n){return arguments.length?(e=n,t):e},t.x1=function(n){return arguments.length?(r=n,t):r},t.y=function(n){return arguments.length?(u=i=n,t):i},t.y0=function(n){return arguments.length?(u=n,t):u},t.y1=function(n){return arguments.length?(i=n,t):i},t.defined=function(n){return arguments.length?(a=n,t):a},t.interpolate=function(n){return arguments.length?(c=\"function\"==typeof n?o=n:(o=Do.get(n)||je).key,l=o.reverse||o,f=o.closed?\"M\":\"L\",t):c},t.tension=function(n){return arguments.length?(s=n,t):s},t}function fi(n){return n.radius}function si(n){return[n.x,n.y]}function hi(n){return function(){var t=n.apply(this,arguments),e=t[0],r=t[1]+Qo;return[e*Math.cos(r),e*Math.sin(r)]}}function gi(){return 64}function pi(){return\"circle\"}function di(n){var t=Math.sqrt(n/La);return\"M0,\"+t+\"A\"+t+\",\"+t+\" 0 1,1 0,\"+-t+\"A\"+t+\",\"+t+\" 0 1,1 0,\"+t+\"Z\"}function mi(n,t){return Ma(n,ic),n.id=t,n}function vi(n,t,e,r){var u=n.id;return D(n,\"function\"==typeof e?function(n,i,a){n.__transition__[u].tween.set(t,r(e.call(n,n.__data__,i,a)))}:(e=r(e),function(n){n.__transition__[u].tween.set(t,e)}))}function yi(n){return null==n&&(n=\"\"),function(){this.textContent=n}}function Mi(n,t,e,r){var i=n.__transition__||(n.__transition__={active:0,count:0}),a=i[e];if(!a){var o=r.time;return a=i[e]={tween:new u,event:oa.dispatch(\"start\",\"end\"),time:o,ease:r.ease,delay:r.delay,duration:r.duration},++i.count,oa.timer(function(r){function u(r){return i.active>e?l():(i.active=e,h.start.call(n,f,t),a.tween.forEach(function(e,r){(r=r.call(n,f,t))&&d.push(r)}),c(r)||oa.timer(c,0,o),1)}function c(r){if(i.active!==e)return l();for(var u=(r-g)/p,a=s(u),o=d.length;o>0;)d[--o].call(n,a);return u>=1?(l(),h.end.call(n,f,t),1):void 0}function l(){return--i.count?delete i[e]:delete n.__transition__,1}var f=n.__data__,s=a.ease,h=a.event,g=a.delay,p=a.duration,d=[];return r>=g?u(r):oa.timer(u,g,o),1},0,o),a}}function xi(n,t){n.attr(\"transform\",function(n){return\"translate(\"+t(n)+\",0)\"})}function bi(n,t){n.attr(\"transform\",function(n){return\"translate(0,\"+t(n)+\")\"})}function _i(n,t,e){if(r=[],e&&t.length>1){for(var r,u,i,a=ju(n.domain()),o=-1,c=t.length,l=(t[1]-t[0])/++e;++o<c;)for(u=e;--u>0;)(i=+t[o]-u*l)>=a[0]&&r.push(i);for(--o,u=0;++u<e&&(i=+t[o]+u*l)<a[1];)r.push(i)}return r}function wi(){this._=new Date(arguments.length>1?Date.UTC.apply(this,arguments):arguments[0])}function Si(n,t,e){function r(t){var e=n(t),r=i(e,1);return r-t>t-e?e:r}function u(e){return t(e=n(new hc(e-1)),1),e}function i(n,e){return t(n=new hc(+n),e),n}function a(n,r,i){var a=u(n),o=[];if(i>1)for(;r>a;)e(a)%i||o.push(new Date(+a)),t(a,1);else for(;r>a;)o.push(new Date(+a)),t(a,1);return o}function o(n,t,e){try{hc=wi;var r=new wi;return r._=n,a(r,t,e)}finally{hc=Date}}n.floor=n,n.round=r,n.ceil=u,n.offset=i,n.range=a;var c=n.utc=Ei(n);return c.floor=c,c.round=Ei(r),c.ceil=Ei(u),c.offset=Ei(i),c.range=o,n}function Ei(n){return function(t,e){try{hc=wi;var r=new wi;return r._=t,n(r,e)._}finally{hc=Date}}}function ki(n,t,e,r){for(var u,i,a=0,o=t.length,c=e.length;o>a;){if(r>=c)return-1;if(u=t.charCodeAt(a++),37===u){if(i=Tc[t.charAt(a++)],!i||(r=i(n,e,r))<0)return-1}else if(u!=e.charCodeAt(r++))return-1}return r}function Ai(n){return RegExp(\"^(?:\"+n.map(oa.requote).join(\"|\")+\")\",\"i\")}function qi(n){for(var t=new u,e=-1,r=n.length;++e<r;)t.set(n[e].toLowerCase(),e);return t}function Ni(n,t,e){n+=\"\";var r=n.length;return e>r?Array(e-r+1).join(t)+n:n}function Ti(n,t,e){wc.lastIndex=0;var r=wc.exec(t.substring(e));return r?e+=r[0].length:-1}function Ci(n,t,e){_c.lastIndex=0;var r=_c.exec(t.substring(e));return r?e+=r[0].length:-1}function zi(n,t,e){kc.lastIndex=0;var r=kc.exec(t.substring(e));return r?(n.m=Ac.get(r[0].toLowerCase()),e+=r[0].length):-1}function Di(n,t,e){Sc.lastIndex=0;var r=Sc.exec(t.substring(e));return r?(n.m=Ec.get(r[0].toLowerCase()),e+=r[0].length):-1}function ji(n,t,e){return ki(n,\"\"+Nc.c,t,e)}function Li(n,t,e){return ki(n,\"\"+Nc.x,t,e)}function Fi(n,t,e){return ki(n,\"\"+Nc.X,t,e)}function Hi(n,t,e){Cc.lastIndex=0;var r=Cc.exec(t.substring(e,e+4));return r?(n.y=+r[0],e+=r[0].length):-1}function Pi(n,t,e){Cc.lastIndex=0;var r=Cc.exec(t.substring(e,e+2));return r?(n.y=Ri(+r[0]),e+=r[0].length):-1}function Ri(n){return n+(n>68?1900:2e3)}function Oi(n,t,e){Cc.lastIndex=0;var r=Cc.exec(t.substring(e,e+2));return r?(n.m=r[0]-1,e+=r[0].length):-1}function Yi(n,t,e){Cc.lastIndex=0;var r=Cc.exec(t.substring(e,e+2));return r?(n.d=+r[0],e+=r[0].length):-1}function Ui(n,t,e){Cc.lastIndex=0;var r=Cc.exec(t.substring(e,e+2));return r?(n.H=+r[0],e+=r[0].length):-1}function Ii(n,t,e){Cc.lastIndex=0;var r=Cc.exec(t.substring(e,e+2));return r?(n.M=+r[0],e+=r[0].length):-1}function Vi(n,t,e){Cc.lastIndex=0;var r=Cc.exec(t.substring(e,e+2));return r?(n.S=+r[0],e+=r[0].length):-1}function Xi(n,t,e){Cc.lastIndex=0;var r=Cc.exec(t.substring(e,e+3));return r?(n.L=+r[0],e+=r[0].length):-1}function Zi(n,t,e){var r=zc.get(t.substring(e,e+=2).toLowerCase());return null==r?-1:(n.p=r,e)}function Bi(n){var t=n.getTimezoneOffset(),e=t>0?\"-\":\"+\",r=~~(Math.abs(t)/60),u=Math.abs(t)%60;return e+Ni(r,\"0\",2)+Ni(u,\"0\",2)}function $i(n){return n.toISOString()}function Ji(n,t,e){function r(t){return n(t)}return r.invert=function(t){return Ki(n.invert(t))},r.domain=function(t){return arguments.length?(n.domain(t),r):n.domain().map(Ki)},r.nice=function(n){return r.domain(Hu(r.domain(),function(){return n}))},r.ticks=function(e,u){var i=Gi(r.domain());if(\"function\"!=typeof e){var a=i[1]-i[0],o=a/e,c=oa.bisect(jc,o);if(c==jc.length)return t.year(i,e);if(!c)return n.ticks(e).map(Ki);Math.log(o/jc[c-1])<Math.log(jc[c]/o)&&--c,e=t[c],u=e[1],e=e[0].range}return e(i[0],new Date(+i[1]+1),u)},r.tickFormat=function(){return e},r.copy=function(){return Ji(n.copy(),t,e)},oa.rebind(r,n,\"range\",\"rangeRound\",\"interpolate\",\"clamp\")}function Gi(n){var t=n[0],e=n[n.length-1];return e>t?[t,e]:[e,t]}function Ki(n){return new Date(n)}function Wi(n){return function(t){for(var e=n.length-1,r=n[e];!r[1](t);)r=n[--e];return r[0](t)}}function Qi(n){var t=new Date(n,0,1);return t.setFullYear(n),t}function na(n){var t=n.getFullYear(),e=Qi(t),r=Qi(t+1);return t+(n-e)/(r-e)}function ta(n){var t=new Date(Date.UTC(n,0,1));return t.setUTCFullYear(n),t}function ea(n){var t=n.getUTCFullYear(),e=ta(t),r=ta(t+1);return t+(n-e)/(r-e)}function ra(n){return n.responseText}function ua(n){return JSON.parse(n.responseText)}function ia(n){var t=ca.createRange();return t.selectNode(ca.body),t.createContextualFragment(n.responseText)}function aa(n){return n.responseXML}var oa={version:\"3.1.3\"};Date.now||(Date.now=function(){return+new Date});var ca=document,la=window;try{ca.createElement(\"div\").style.setProperty(\"opacity\",0,\"\")}catch(fa){var sa=la.CSSStyleDeclaration.prototype,ha=sa.setProperty;sa.setProperty=function(n,t,e){ha.call(this,n,t+\"\",e)}}oa.ascending=function(n,t){return t>n?-1:n>t?1:n>=t?0:0/0},oa.descending=function(n,t){return n>t?-1:t>n?1:t>=n?0:0/0},oa.min=function(n,t){var e,r,u=-1,i=n.length;if(arguments.length===1){for(;++u<i&&((e=n[u])==null||e!=e);)e=void 0;for(;++u<i;)(r=n[u])!=null&&e>r&&(e=r)}else{for(;++u<i&&((e=t.call(n,n[u],u))==null||e!=e);)e=void 0;for(;++u<i;)(r=t.call(n,n[u],u))!=null&&e>r&&(e=r)}return e},oa.max=function(n,t){var e,r,u=-1,i=n.length;if(arguments.length===1){for(;++u<i&&((e=n[u])==null||e!=e);)e=void 0;for(;++u<i;)(r=n[u])!=null&&r>e&&(e=r)}else{for(;++u<i&&((e=t.call(n,n[u],u))==null||e!=e);)e=void 0;for(;++u<i;)(r=t.call(n,n[u],u))!=null&&r>e&&(e=r)}return e},oa.extent=function(n,t){var e,r,u,i=-1,a=n.length;if(arguments.length===1){for(;++i<a&&((e=u=n[i])==null||e!=e);)e=u=void 0;for(;++i<a;)(r=n[i])!=null&&(e>r&&(e=r),r>u&&(u=r))}else{for(;++i<a&&((e=u=t.call(n,n[i],i))==null||e!=e);)e=void 0;for(;++i<a;)(r=t.call(n,n[i],i))!=null&&(e>r&&(e=r),r>u&&(u=r))}return[e,u]},oa.sum=function(n,t){var e,r=0,u=n.length,i=-1;if(arguments.length===1)for(;++i<u;)isNaN(e=+n[i])||(r+=e);else for(;++i<u;)isNaN(e=+t.call(n,n[i],i))||(r+=e);return r},oa.mean=function(t,e){var r,u=t.length,i=0,a=-1,o=0;if(arguments.length===1)for(;++a<u;)n(r=t[a])&&(i+=(r-i)/++o);else for(;++a<u;)n(r=e.call(t,t[a],a))&&(i+=(r-i)/++o);return o?i:void 0},oa.quantile=function(n,t){var e=(n.length-1)*t+1,r=Math.floor(e),u=+n[r-1],i=e-r;return i?u+i*(n[r]-u):u},oa.median=function(t,e){return arguments.length>1&&(t=t.map(e)),t=t.filter(n),t.length?oa.quantile(t.sort(oa.ascending),.5):void 0},oa.bisector=function(n){return{left:function(t,e,r,u){for(arguments.length<3&&(r=0),arguments.length<4&&(u=t.length);u>r;){var i=r+u>>>1;n.call(t,t[i],i)<e?r=i+1:u=i}return r},right:function(t,e,r,u){for(arguments.length<3&&(r=0),arguments.length<4&&(u=t.length);u>r;){var i=r+u>>>1;e<n.call(t,t[i],i)?u=i:r=i+1}return r}}};var ga=oa.bisector(function(n){return n});oa.bisectLeft=ga.left,oa.bisect=oa.bisectRight=ga.right,oa.shuffle=function(n){for(var t,e,r=n.length;r;)e=Math.random()*r--|0,t=n[r],n[r]=n[e],n[e]=t;return n},oa.permute=function(n,t){for(var e=[],r=-1,u=t.length;++r<u;)e[r]=n[t[r]];return e},oa.zip=function(){if(!(u=arguments.length))return[];for(var n=-1,e=oa.min(arguments,t),r=Array(e);++n<e;)for(var u,i=-1,a=r[n]=Array(u);++i<u;)a[i]=arguments[i][n];return r},oa.transpose=function(n){return oa.zip.apply(oa,n)},oa.keys=function(n){var t=[];for(var e in n)t.push(e);return t},oa.values=function(n){var t=[];for(var e in n)t.push(n[e]);return t},oa.entries=function(n){var t=[];for(var e in n)t.push({key:e,value:n[e]});return t},oa.merge=function(n){return Array.prototype.concat.apply([],n)},oa.range=function(n,t,r){if(arguments.length<3&&(r=1,arguments.length<2&&(t=n,n=0)),1/0===(t-n)/r)throw Error(\"infinite range\");var u,i=[],a=e(Math.abs(r)),o=-1;if(n*=a,t*=a,r*=a,0>r)for(;(u=n+r*++o)>t;)i.push(u/a);else for(;(u=n+r*++o)<t;)i.push(u/a);return i},oa.map=function(n){var t=new u;for(var e in n)t.set(e,n[e]);return t},r(u,{has:function(n){return pa+n in this},get:function(n){return this[pa+n]},set:function(n,t){return this[pa+n]=t},remove:function(n){return n=pa+n,n in this&&delete this[n]},keys:function(){var n=[];return this.forEach(function(t){n.push(t)}),n},values:function(){var n=[];return this.forEach(function(t,e){n.push(e)}),n},entries:function(){var n=[];return this.forEach(function(t,e){n.push({key:t,value:e})}),n},forEach:function(n){for(var t in this)t.charCodeAt(0)===da&&n.call(this,t.substring(1),this[t])}});var pa=\"\\0\",da=pa.charCodeAt(0);oa.nest=function(){function n(t,o,c){if(c>=a.length)return r?r.call(i,o):e?o.sort(e):o;for(var l,f,s,h,g=-1,p=o.length,d=a[c++],m=new u;++g<p;)(h=m.get(l=d(f=o[g])))?h.push(f):m.set(l,[f]);return t?(f=t(),s=function(e,r){f.set(e,n(t,r,c))}):(f={},s=function(e,r){f[e]=n(t,r,c)}),m.forEach(s),f}function t(n,e){if(e>=a.length)return n;var r=[],u=o[e++];return n.forEach(function(n,u){r.push({key:n,values:t(u,e)})}),u?r.sort(function(n,t){return u(n.key,t.key)}):r}var e,r,i={},a=[],o=[];return i.map=function(t,e){return n(e,t,0)},i.entries=function(e){return t(n(oa.map,e,0),0)},i.key=function(n){return a.push(n),i},i.sortKeys=function(n){return o[a.length-1]=n,i},i.sortValues=function(n){return e=n,i},i.rollup=function(n){return r=n,i},i},oa.set=function(n){var t=new i;if(n)for(var e=0;e<n.length;e++)t.add(n[e]);return t},r(i,{has:function(n){return pa+n in this},add:function(n){return this[pa+n]=!0,n},remove:function(n){return n=pa+n,n in this&&delete this[n]},values:function(){var n=[];return this.forEach(function(t){n.push(t)}),n},forEach:function(n){for(var t in this)t.charCodeAt(0)===da&&n.call(this,t.substring(1))}}),oa.behavior={},oa.rebind=function(n,t){for(var e,r=1,u=arguments.length;++r<u;)n[e=arguments[r]]=a(n,t,t[e]);return n},oa.dispatch=function(){for(var n=new o,t=-1,e=arguments.length;++t<e;)n[arguments[t]]=c(n);return n},o.prototype.on=function(n,t){var e=n.indexOf(\".\"),r=\"\";if(e>=0&&(r=n.substring(e+1),n=n.substring(0,e)),n)return arguments.length<2?this[n].on(r):this[n].on(r,t);if(arguments.length===2){if(null==t)for(n in this)this.hasOwnProperty(n)&&this[n].on(r,null);return this}},oa.event=null,oa.mouse=function(n){return h(n,f())};var ma=/WebKit/.test(la.navigator.userAgent)?-1:0,va=p;\n",
        "try{va(ca.documentElement.childNodes)[0].nodeType}catch(ya){va=g}var Ma=[].__proto__?function(n,t){n.__proto__=t}:function(n,t){for(var e in t)n[e]=t[e]};oa.touches=function(n,t){return arguments.length<2&&(t=f().touches),t?va(t).map(function(t){var e=h(n,t);return e.identifier=t.identifier,e}):[]},oa.behavior.drag=function(){function n(){this.on(\"mousedown.drag\",t).on(\"touchstart.drag\",t)}function t(){function n(){var n=o.parentNode;return null!=s?oa.touches(n).filter(function(n){return n.identifier===s})[0]:oa.mouse(n)}function t(){if(!o.parentNode)return u();var t=n(),e=t[0]-h[0],r=t[1]-h[1];g|=e|r,h=t,l(),c({type:\"drag\",x:t[0]+a[0],y:t[1]+a[1],dx:e,dy:r})}function u(){c({type:\"dragend\"}),g&&(l(),oa.event.target===f&&p.on(\"click.drag\",i,!0)),p.on(null!=s?\"touchmove.drag-\"+s:\"mousemove.drag\",null).on(null!=s?\"touchend.drag-\"+s:\"mouseup.drag\",null)}function i(){l(),p.on(\"click.drag\",null)}var a,o=this,c=e.of(o,arguments),f=oa.event.target,s=oa.event.touches?oa.event.changedTouches[0].identifier:null,h=n(),g=0,p=oa.select(la).on(null!=s?\"touchmove.drag-\"+s:\"mousemove.drag\",t).on(null!=s?\"touchend.drag-\"+s:\"mouseup.drag\",u,!0);r?(a=r.apply(o,arguments),a=[a.x-h[0],a.y-h[1]]):a=[0,0],null==s&&l(),c({type:\"dragstart\"})}var e=s(n,\"drag\",\"dragstart\",\"dragend\"),r=null;return n.origin=function(t){return arguments.length?(r=t,n):r},oa.rebind(n,e,\"on\")};var xa=function(n,t){return t.querySelector(n)},ba=function(n,t){return t.querySelectorAll(n)},_a=ca.documentElement,wa=_a.matchesSelector||_a.webkitMatchesSelector||_a.mozMatchesSelector||_a.msMatchesSelector||_a.oMatchesSelector,Sa=function(n,t){return wa.call(n,t)};\"function\"==typeof Sizzle&&(xa=function(n,t){return Sizzle(n,t)[0]||null},ba=function(n,t){return Sizzle.uniqueSort(Sizzle(n,t))},Sa=Sizzle.matchesSelector);var Ea=[];oa.selection=function(){return Ta},oa.selection.prototype=Ea,Ea.select=function(n){var t,e,r,u,i=[];\"function\"!=typeof n&&(n=m(n));for(var a=-1,o=this.length;++a<o;){i.push(t=[]),t.parentNode=(r=this[a]).parentNode;for(var c=-1,l=r.length;++c<l;)(u=r[c])?(t.push(e=n.call(u,u.__data__,c)),e&&\"__data__\"in u&&(e.__data__=u.__data__)):t.push(null)}return d(i)},Ea.selectAll=function(n){var t,e,r=[];\"function\"!=typeof n&&(n=v(n));for(var u=-1,i=this.length;++u<i;)for(var a=this[u],o=-1,c=a.length;++o<c;)(e=a[o])&&(r.push(t=va(n.call(e,e.__data__,o))),t.parentNode=e);return d(r)};var ka={svg:\"http://www.w3.org/2000/svg\",xhtml:\"http://www.w3.org/1999/xhtml\",xlink:\"http://www.w3.org/1999/xlink\",xml:\"http://www.w3.org/XML/1998/namespace\",xmlns:\"http://www.w3.org/2000/xmlns/\"};oa.ns={prefix:ka,qualify:function(n){var t=n.indexOf(\":\"),e=n;return t>=0&&(e=n.substring(0,t),n=n.substring(t+1)),ka.hasOwnProperty(e)?{space:ka[e],local:n}:n}},Ea.attr=function(n,t){if(arguments.length<2){if(\"string\"==typeof n){var e=this.node();return n=oa.ns.qualify(n),n.local?e.getAttributeNS(n.space,n.local):e.getAttribute(n)}for(t in n)this.each(y(t,n[t]));return this}return this.each(y(n,t))},oa.requote=function(n){return n.replace(Aa,\"\\\\$&\")};var Aa=/[\\\\\\^\\$\\*\\+\\?\\|\\[\\]\\(\\)\\.\\{\\}]/g;Ea.classed=function(n,t){if(arguments.length<2){if(\"string\"==typeof n){var e=this.node(),r=(n=n.trim().split(/^|\\s+/g)).length,u=-1;if(t=e.classList){for(;++u<r;)if(!t.contains(n[u]))return!1}else for(t=e.getAttribute(\"class\");++u<r;)if(!x(n[u]).test(t))return!1;return!0}for(t in n)this.each(_(t,n[t]));return this}return this.each(_(n,t))},Ea.style=function(n,t,e){var r=arguments.length;if(3>r){if(\"string\"!=typeof n){2>r&&(t=\"\");for(e in n)this.each(S(e,n[e],t));return this}if(2>r)return la.getComputedStyle(this.node(),null).getPropertyValue(n);e=\"\"}return this.each(S(n,t,e))},Ea.property=function(n,t){if(arguments.length<2){if(\"string\"==typeof n)return this.node()[n];for(t in n)this.each(E(t,n[t]));return this}return this.each(E(n,t))},Ea.text=function(n){return arguments.length?this.each(\"function\"==typeof n?function(){var t=n.apply(this,arguments);this.textContent=null==t?\"\":t}:null==n?function(){this.textContent=\"\"}:function(){this.textContent=n}):this.node().textContent},Ea.html=function(n){return arguments.length?this.each(\"function\"==typeof n?function(){var t=n.apply(this,arguments);this.innerHTML=null==t?\"\":t}:null==n?function(){this.innerHTML=\"\"}:function(){this.innerHTML=n}):this.node().innerHTML},Ea.append=function(n){function t(){return this.appendChild(ca.createElementNS(this.namespaceURI,n))}function e(){return this.appendChild(ca.createElementNS(n.space,n.local))}return n=oa.ns.qualify(n),this.select(n.local?e:t)},Ea.insert=function(n,t){function e(e,r){return this.insertBefore(ca.createElementNS(this.namespaceURI,n),t.call(this,e,r))}function r(e,r){return this.insertBefore(ca.createElementNS(n.space,n.local),t.call(this,e,r))}return n=oa.ns.qualify(n),\"function\"!=typeof t&&(t=m(t)),this.select(n.local?r:e)},Ea.remove=function(){return this.each(function(){var n=this.parentNode;n&&n.removeChild(this)})},Ea.data=function(n,t){function e(n,e){var r,i,a,o=n.length,s=e.length,h=Math.min(o,s),g=Array(s),p=Array(s),d=Array(o);if(t){var m,v=new u,y=new u,M=[];for(r=-1;++r<o;)m=t.call(i=n[r],i.__data__,r),v.has(m)?d[r]=i:v.set(m,i),M.push(m);for(r=-1;++r<s;)m=t.call(e,a=e[r],r),(i=v.get(m))?(g[r]=i,i.__data__=a):y.has(m)||(p[r]=k(a)),y.set(m,a),v.remove(m);for(r=-1;++r<o;)v.has(M[r])&&(d[r]=n[r])}else{for(r=-1;++r<h;)i=n[r],a=e[r],i?(i.__data__=a,g[r]=i):p[r]=k(a);for(;s>r;++r)p[r]=k(e[r]);for(;o>r;++r)d[r]=n[r]}p.update=g,p.parentNode=g.parentNode=d.parentNode=n.parentNode,c.push(p),l.push(g),f.push(d)}var r,i,a=-1,o=this.length;if(!arguments.length){for(n=Array(o=(r=this[0]).length);++a<o;)(i=r[a])&&(n[a]=i.__data__);return n}var c=j([]),l=d([]),f=d([]);if(\"function\"==typeof n)for(;++a<o;)e(r=this[a],n.call(r,r.parentNode.__data__,a));else for(;++a<o;)e(r=this[a],n);return l.enter=function(){return c},l.exit=function(){return f},l},Ea.datum=function(n){return arguments.length?this.property(\"__data__\",n):this.property(\"__data__\")},Ea.filter=function(n){var t,e,r,u=[];\"function\"!=typeof n&&(n=A(n));for(var i=0,a=this.length;a>i;i++){u.push(t=[]),t.parentNode=(e=this[i]).parentNode;for(var o=0,c=e.length;c>o;o++)(r=e[o])&&n.call(r,r.__data__,o)&&t.push(r)}return d(u)},Ea.order=function(){for(var n=-1,t=this.length;++n<t;)for(var e,r=this[n],u=r.length-1,i=r[u];--u>=0;)(e=r[u])&&(i&&i!==e.nextSibling&&i.parentNode.insertBefore(e,i),i=e);return this},Ea.sort=function(n){n=q.apply(this,arguments);for(var t=-1,e=this.length;++t<e;)this[t].sort(n);return this.order()},Ea.on=function(n,t,e){var r=arguments.length;if(3>r){if(\"string\"!=typeof n){2>r&&(t=!1);for(e in n)this.each(T(e,n[e],t));return this}if(2>r)return(r=this.node()[\"__on\"+n])&&r._;e=!1}return this.each(T(n,t,e))};var qa=oa.map({mouseenter:\"mouseover\",mouseleave:\"mouseout\"});qa.forEach(function(n){\"on\"+n in ca&&qa.remove(n)}),Ea.each=function(n){return D(this,function(t,e,r){n.call(t,t.__data__,e,r)})},Ea.call=function(n){var t=va(arguments);return n.apply(t[0]=this,t),this},Ea.empty=function(){return!this.node()},Ea.node=function(){for(var n=0,t=this.length;t>n;n++)for(var e=this[n],r=0,u=e.length;u>r;r++){var i=e[r];if(i)return i}return null};var Na=[];oa.selection.enter=j,oa.selection.enter.prototype=Na,Na.append=Ea.append,Na.insert=Ea.insert,Na.empty=Ea.empty,Na.node=Ea.node,Na.select=function(n){for(var t,e,r,u,i,a=[],o=-1,c=this.length;++o<c;){r=(u=this[o]).update,a.push(t=[]),t.parentNode=u.parentNode;for(var l=-1,f=u.length;++l<f;)(i=u[l])?(t.push(r[l]=e=n.call(u.parentNode,i.__data__,l)),e.__data__=i.__data__):t.push(null)}return d(a)},Ea.transition=function(){var n,t,e=ec||++ac,r=[],u=Object.create(oc);u.time=Date.now();for(var i=-1,a=this.length;++i<a;){r.push(n=[]);for(var o=this[i],c=-1,l=o.length;++c<l;)(t=o[c])&&Mi(t,c,e,u),n.push(t)}return mi(r,e)};var Ta=d([[ca]]);Ta[0].parentNode=_a,oa.select=function(n){return\"string\"==typeof n?Ta.select(n):d([[n]])},oa.selectAll=function(n){return\"string\"==typeof n?Ta.selectAll(n):d([va(n)])},oa.behavior.zoom=function(){function n(){this.on(\"mousedown.zoom\",o).on(\"mousemove.zoom\",f).on(Da+\".zoom\",c).on(\"dblclick.zoom\",h).on(\"touchstart.zoom\",g).on(\"touchmove.zoom\",p).on(\"touchend.zoom\",g)}function t(n){return[(n[0]-_[0])/w,(n[1]-_[1])/w]}function e(n){return[n[0]*w+_[0],n[1]*w+_[1]]}function r(n){w=Math.max(S[0],Math.min(S[1],n))}function u(n,t){t=e(t),_[0]+=n[0]-t[0],_[1]+=n[1]-t[1]}function i(){y&&y.domain(v.range().map(function(n){return(n-_[0])/w}).map(v.invert)),x&&x.domain(M.range().map(function(n){return(n-_[1])/w}).map(M.invert))}function a(n){i(),oa.event.preventDefault(),n({type:\"zoom\",scale:w,translate:_})}function o(){function n(){f=1,u(oa.mouse(i),h),a(o)}function e(){f&&l(),s.on(\"mousemove.zoom\",null).on(\"mouseup.zoom\",null),f&&oa.event.target===c&&s.on(\"click.zoom\",r,!0)}function r(){l(),s.on(\"click.zoom\",null)}var i=this,o=E.of(i,arguments),c=oa.event.target,f=0,s=oa.select(la).on(\"mousemove.zoom\",n).on(\"mouseup.zoom\",e),h=t(oa.mouse(i));la.focus(),l()}function c(){d||(d=t(oa.mouse(this))),r(Math.pow(2,Ca()*.002)*w),u(oa.mouse(this),d),a(E.of(this,arguments))}function f(){d=null}function h(){var n=oa.mouse(this),e=t(n),i=Math.log(w)/Math.LN2;r(Math.pow(2,oa.event.shiftKey?Math.ceil(i)-1:Math.floor(i)+1)),u(n,e),a(E.of(this,arguments))}function g(){var n=oa.touches(this),e=Date.now();if(m=w,d={},n.forEach(function(n){d[n.identifier]=t(n)}),l(),n.length===1){if(500>e-b){var i=n[0],o=t(n[0]);r(2*w),u(i,o),a(E.of(this,arguments))}b=e}}function p(){var n=oa.touches(this),t=n[0],e=d[t.identifier];if(i=n[1]){var i,o=d[i.identifier];t=[(t[0]+i[0])/2,(t[1]+i[1])/2],e=[(e[0]+o[0])/2,(e[1]+o[1])/2],r(oa.event.scale*m)}u(t,e),b=null,a(E.of(this,arguments))}var d,m,v,y,M,x,b,_=[0,0],w=1,S=za,E=s(n,\"zoom\");return n.translate=function(t){return arguments.length?(_=t.map(Number),i(),n):_},n.scale=function(t){return arguments.length?(w=+t,i(),n):w},n.scaleExtent=function(t){return arguments.length?(S=null==t?za:t.map(Number),n):S},n.x=function(t){return arguments.length?(y=t,v=t.copy(),_=[0,0],w=1,n):y},n.y=function(t){return arguments.length?(x=t,M=t.copy(),_=[0,0],w=1,n):x},oa.rebind(n,E,\"on\")};var Ca,za=[0,1/0],Da=\"onwheel\"in ca?(Ca=function(){return-oa.event.deltaY*(oa.event.deltaMode?120:1)},\"wheel\"):\"onmousewheel\"in ca?(Ca=function(){return oa.event.wheelDelta},\"mousewheel\"):(Ca=function(){return-oa.event.detail},\"MozMousePixelScroll\");L.prototype.toString=function(){return this.rgb()+\"\"},oa.hsl=function(n,t,e){return arguments.length===1?n instanceof H?F(n.h,n.s,n.l):ut(\"\"+n,it,F):F(+n,+t,+e)};var ja=H.prototype=new L;ja.brighter=function(n){return n=Math.pow(.7,arguments.length?n:1),F(this.h,this.s,this.l/n)},ja.darker=function(n){return n=Math.pow(.7,arguments.length?n:1),F(this.h,this.s,n*this.l)},ja.rgb=function(){return P(this.h,this.s,this.l)};var La=Math.PI,Fa=1e-6,Ha=La/180,Pa=180/La;oa.hcl=function(n,t,e){return arguments.length===1?n instanceof Z?X(n.h,n.c,n.l):n instanceof J?K(n.l,n.a,n.b):K((n=at((n=oa.rgb(n)).r,n.g,n.b)).l,n.a,n.b):X(+n,+t,+e)};var Ra=Z.prototype=new L;Ra.brighter=function(n){return X(this.h,this.c,Math.min(100,this.l+Oa*(arguments.length?n:1)))},Ra.darker=function(n){return X(this.h,this.c,Math.max(0,this.l-Oa*(arguments.length?n:1)))},Ra.rgb=function(){return B(this.h,this.c,this.l).rgb()},oa.lab=function(n,t,e){return arguments.length===1?n instanceof J?$(n.l,n.a,n.b):n instanceof Z?B(n.l,n.c,n.h):at((n=oa.rgb(n)).r,n.g,n.b):$(+n,+t,+e)};var Oa=18,Ya=.95047,Ua=1,Ia=1.08883,Va=J.prototype=new L;Va.brighter=function(n){return $(Math.min(100,this.l+Oa*(arguments.length?n:1)),this.a,this.b)},Va.darker=function(n){return $(Math.max(0,this.l-Oa*(arguments.length?n:1)),this.a,this.b)},Va.rgb=function(){return G(this.l,this.a,this.b)},oa.rgb=function(n,t,e){return arguments.length===1?n instanceof et?tt(n.r,n.g,n.b):ut(\"\"+n,tt,P):tt(~~n,~~t,~~e)};var Xa=et.prototype=new L;Xa.brighter=function(n){n=Math.pow(.7,arguments.length?n:1);var t=this.r,e=this.g,r=this.b,u=30;return t||e||r?(t&&u>t&&(t=u),e&&u>e&&(e=u),r&&u>r&&(r=u),tt(Math.min(255,Math.floor(t/n)),Math.min(255,Math.floor(e/n)),Math.min(255,Math.floor(r/n)))):tt(u,u,u)},Xa.darker=function(n){return n=Math.pow(.7,arguments.length?n:1),tt(Math.floor(n*this.r),Math.floor(n*this.g),Math.floor(n*this.b))},Xa.hsl=function(){return it(this.r,this.g,this.b)},Xa.toString=function(){return\"#\"+rt(this.r)+rt(this.g)+rt(this.b)};var Za=oa.map({aliceblue:\"#f0f8ff\",antiquewhite:\"#faebd7\",aqua:\"#00ffff\",aquamarine:\"#7fffd4\",azure:\"#f0ffff\",beige:\"#f5f5dc\",bisque:\"#ffe4c4\",black:\"#000000\",blanchedalmond:\"#ffebcd\",blue:\"#0000ff\",blueviolet:\"#8a2be2\",brown:\"#a52a2a\",burlywood:\"#deb887\",cadetblue:\"#5f9ea0\",chartreuse:\"#7fff00\",chocolate:\"#d2691e\",coral:\"#ff7f50\",cornflowerblue:\"#6495ed\",cornsilk:\"#fff8dc\",crimson:\"#dc143c\",cyan:\"#00ffff\",darkblue:\"#00008b\",darkcyan:\"#008b8b\",darkgoldenrod:\"#b8860b\",darkgray:\"#a9a9a9\",darkgreen:\"#006400\",darkgrey:\"#a9a9a9\",darkkhaki:\"#bdb76b\",darkmagenta:\"#8b008b\",darkolivegreen:\"#556b2f\",darkorange:\"#ff8c00\",darkorchid:\"#9932cc\",darkred:\"#8b0000\",darksalmon:\"#e9967a\",darkseagreen:\"#8fbc8f\",darkslateblue:\"#483d8b\",darkslategray:\"#2f4f4f\",darkslategrey:\"#2f4f4f\",darkturquoise:\"#00ced1\",darkviolet:\"#9400d3\",deeppink:\"#ff1493\",deepskyblue:\"#00bfff\",dimgray:\"#696969\",dimgrey:\"#696969\",dodgerblue:\"#1e90ff\",firebrick:\"#b22222\",floralwhite:\"#fffaf0\",forestgreen:\"#228b22\",fuchsia:\"#ff00ff\",gainsboro:\"#dcdcdc\",ghostwhite:\"#f8f8ff\",gold:\"#ffd700\",goldenrod:\"#daa520\",gray:\"#808080\",green:\"#008000\",greenyellow:\"#adff2f\",grey:\"#808080\",honeydew:\"#f0fff0\",hotpink:\"#ff69b4\",indianred:\"#cd5c5c\",indigo:\"#4b0082\",ivory:\"#fffff0\",khaki:\"#f0e68c\",lavender:\"#e6e6fa\",lavenderblush:\"#fff0f5\",lawngreen:\"#7cfc00\",lemonchiffon:\"#fffacd\",lightblue:\"#add8e6\",lightcoral:\"#f08080\",lightcyan:\"#e0ffff\",lightgoldenrodyellow:\"#fafad2\",lightgray:\"#d3d3d3\",lightgreen:\"#90ee90\",lightgrey:\"#d3d3d3\",lightpink:\"#ffb6c1\",lightsalmon:\"#ffa07a\",lightseagreen:\"#20b2aa\",lightskyblue:\"#87cefa\",lightslategray:\"#778899\",lightslategrey:\"#778899\",lightsteelblue:\"#b0c4de\",lightyellow:\"#ffffe0\",lime:\"#00ff00\",limegreen:\"#32cd32\",linen:\"#faf0e6\",magenta:\"#ff00ff\",maroon:\"#800000\",mediumaquamarine:\"#66cdaa\",mediumblue:\"#0000cd\",mediumorchid:\"#ba55d3\",mediumpurple:\"#9370db\",mediumseagreen:\"#3cb371\",mediumslateblue:\"#7b68ee\",mediumspringgreen:\"#00fa9a\",mediumturquoise:\"#48d1cc\",mediumvioletred:\"#c71585\",midnightblue:\"#191970\",mintcream:\"#f5fffa\",mistyrose:\"#ffe4e1\",moccasin:\"#ffe4b5\",navajowhite:\"#ffdead\",navy:\"#000080\",oldlace:\"#fdf5e6\",olive:\"#808000\",olivedrab:\"#6b8e23\",orange:\"#ffa500\",orangered:\"#ff4500\",orchid:\"#da70d6\",palegoldenrod:\"#eee8aa\",palegreen:\"#98fb98\",paleturquoise:\"#afeeee\",palevioletred:\"#db7093\",papayawhip:\"#ffefd5\",peachpuff:\"#ffdab9\",peru:\"#cd853f\",pink:\"#ffc0cb\",plum:\"#dda0dd\",powderblue:\"#b0e0e6\",purple:\"#800080\",red:\"#ff0000\",rosybrown:\"#bc8f8f\",royalblue:\"#4169e1\",saddlebrown:\"#8b4513\",salmon:\"#fa8072\",sandybrown:\"#f4a460\",seagreen:\"#2e8b57\",seashell:\"#fff5ee\",sienna:\"#a0522d\",silver:\"#c0c0c0\",skyblue:\"#87ceeb\",slateblue:\"#6a5acd\",slategray:\"#708090\",slategrey:\"#708090\",snow:\"#fffafa\",springgreen:\"#00ff7f\",steelblue:\"#4682b4\",tan:\"#d2b48c\",teal:\"#008080\",thistle:\"#d8bfd8\",tomato:\"#ff6347\",turquoise:\"#40e0d0\",violet:\"#ee82ee\",wheat:\"#f5deb3\",white:\"#ffffff\",whitesmoke:\"#f5f5f5\",yellow:\"#ffff00\",yellowgreen:\"#9acd32\"});Za.forEach(function(n,t){Za.set(n,ut(t,tt,P))}),oa.functor=lt,oa.xhr=function(n,t,e){function r(){var n=c.status;!n&&c.responseText||n>=200&&300>n||304===n?i.load.call(u,o.call(u,c)):i.error.call(u,c)}var u={},i=oa.dispatch(\"progress\",\"load\",\"error\"),a={},o=ft,c=new(la.XDomainRequest&&/^(http(s)?:)?\\/\\//.test(n)?XDomainRequest:XMLHttpRequest);return\"onload\"in c?c.onload=c.onerror=r:c.onreadystatechange=function(){c.readyState>3&&r()},c.onprogress=function(n){var t=oa.event;oa.event=n;try{i.progress.call(u,c)}finally{oa.event=t}},u.header=function(n,t){return n=(n+\"\").toLowerCase(),arguments.length<2?a[n]:(null==t?delete a[n]:a[n]=t+\"\",u)},u.mimeType=function(n){return arguments.length?(t=null==n?null:n+\"\",u):t},u.response=function(n){return o=n,u},[\"get\",\"post\"].forEach(function(n){u[n]=function(){return u.send.apply(u,[n].concat(va(arguments)))}}),u.send=function(e,r,i){if(arguments.length===2&&\"function\"==typeof r&&(i=r,r=null),c.open(e,n,!0),null==t||\"accept\"in a||(a.accept=t+\",*/*\"),c.setRequestHeader)for(var o in a)c.setRequestHeader(o,a[o]);return null!=t&&c.overrideMimeType&&c.overrideMimeType(t),null!=i&&u.on(\"error\",i).on(\"load\",function(n){i(null,n)}),c.send(null==r?null:r),u},u.abort=function(){return c.abort(),u},oa.rebind(u,i,\"on\"),arguments.length===2&&\"function\"==typeof t&&(e=t,t=null),null==e?u:u.get(st(e))},oa.csv=ht(\",\",\"text/csv\"),oa.tsv=ht(\"\t\",\"text/tab-separated-values\");var Ba,$a,Ja=0,Ga={},Ka=null;oa.timer=function(n,t,e){if(arguments.length<3){if(arguments.length<2)t=0;else if(!isFinite(t))return;e=Date.now()}var r=Ga[n.id];r&&r.callback===n?(r.then=e,r.delay=t):Ga[n.id=++Ja]=Ka={callback:n,then:e,delay:t,next:Ka},Ba||($a=clearTimeout($a),Ba=1,Wa(gt))},oa.timer.flush=function(){for(var n,t=Date.now(),e=Ka;e;)n=t-e.then,e.delay||(e.flush=e.callback(n)),e=e.next;pt()};var Wa=la.requestAnimationFrame||la.webkitRequestAnimationFrame||la.mozRequestAnimationFrame||la.oRequestAnimationFrame||la.msRequestAnimationFrame||function(n){setTimeout(n,17)},Qa=\".\",no=\",\",to=[3,3],eo=[\"y\",\"z\",\"a\",\"f\",\"p\",\"n\",\"\u00b5\",\"m\",\"\",\"k\",\"M\",\"G\",\"T\",\"P\",\"E\",\"Z\",\"Y\"].map(dt);oa.formatPrefix=function(n,t){var e=0;return n&&(0>n&&(n*=-1),t&&(n=oa.round(n,mt(n,t))),e=1+Math.floor(1e-12+Math.log(n)/Math.LN10),e=Math.max(-24,Math.min(24,Math.floor((0>=e?e+1:e-1)/3)*3))),eo[8+e/3]},oa.round=function(n,t){return t?Math.round(n*(t=Math.pow(10,t)))/t:Math.round(n)},oa.format=function(n){var t=ro.exec(n),e=t[1]||\" \",r=t[2]||\">\",u=t[3]||\"\",i=t[4]||\"\",a=t[5],o=+t[6],c=t[7],l=t[8],f=t[9],s=1,h=\"\",g=!1;switch(l&&(l=+l.substring(1)),(a||\"0\"===e&&\"=\"===r)&&(a=e=\"0\",r=\"=\",c&&(o-=Math.floor((o-1)/4))),f){case\"n\":c=!0,f=\"g\";break;case\"%\":s=100,h=\"%\",f=\"f\";break;case\"p\":s=100,h=\"%\",f=\"r\";break;case\"b\":case\"o\":case\"x\":case\"X\":i&&(i=\"0\"+f.toLowerCase());case\"c\":case\"d\":g=!0,l=0;break;case\"s\":s=-1,f=\"r\"}\"#\"===i&&(i=\"\"),\"r\"!=f||l||(f=\"g\"),null!=l&&(\"g\"==f?l=Math.max(1,Math.min(21,l)):(\"e\"==f||\"f\"==f)&&(l=Math.max(0,Math.min(20,l)))),f=uo.get(f)||vt;var p=a&&c;return function(n){if(g&&n%1)return\"\";var t=0>n||0===n&&0>1/n?(n=-n,\"-\"):u;if(0>s){var d=oa.formatPrefix(n,l);n=d.scale(n),h=d.symbol}else n*=s;n=f(n,l),!a&&c&&(n=io(n));var m=i.length+n.length+(p?0:t.length),v=o>m?Array(m=o-m+1).join(e):\"\";return p&&(n=io(v+n)),Qa&&n.replace(\".\",Qa),t+=i,(\"<\"===r?t+n+v:\">\"===r?v+t+n:\"^\"===r?v.substring(0,m>>=1)+t+n+v.substring(m):t+(p?n:v+n))+h}};var ro=/(?:([^{])?([<>=^]))?([+\\- ])?(#)?(0)?(\\d+)?(,)?(\\.-?\\d+)?([a-z%])?/i,uo=oa.map({b:function(n){return n.toString(2)},c:function(n){return String.fromCharCode(n)},o:function(n){return n.toString(8)},x:function(n){return n.toString(16)},X:function(n){return n.toString(16).toUpperCase()},g:function(n,t){return n.toPrecision(t)},e:function(n,t){return n.toExponential(t)},f:function(n,t){return n.toFixed(t)},r:function(n,t){return(n=oa.round(n,mt(n,t))).toFixed(Math.max(0,Math.min(20,mt(n*(1+1e-15),t))))}}),io=ft;if(to){var ao=to.length;io=function(n){for(var t=n.lastIndexOf(\".\"),e=t>=0?\".\"+n.substring(t+1):(t=n.length,\"\"),r=[],u=0,i=to[0];t>0&&i>0;)r.push(n.substring(t-=i,t+i)),i=to[u=(u+1)%ao];return r.reverse().join(no||\"\")+e}}oa.geo={},oa.geo.stream=function(n,t){oo.hasOwnProperty(n.type)?oo[n.type](n,t):yt(n,t)};var oo={Feature:function(n,t){yt(n.geometry,t)},FeatureCollection:function(n,t){for(var e=n.features,r=-1,u=e.length;++r<u;)yt(e[r].geometry,t)}},co={Sphere:function(n,t){t.sphere()},Point:function(n,t){var e=n.coordinates;t.point(e[0],e[1])},MultiPoint:function(n,t){for(var e,r=n.coordinates,u=-1,i=r.length;++u<i;)e=r[u],t.point(e[0],e[1])},LineString:function(n,t){Mt(n.coordinates,t,0)},MultiLineString:function(n,t){for(var e=n.coordinates,r=-1,u=e.length;++r<u;)Mt(e[r],t,0)},Polygon:function(n,t){xt(n.coordinates,t)},MultiPolygon:function(n,t){for(var e=n.coordinates,r=-1,u=e.length;++r<u;)xt(e[r],t)},GeometryCollection:function(n,t){for(var e=n.geometries,r=-1,u=e.length;++r<u;)yt(e[r],t)}};oa.geo.area=function(n){return lo=0,oa.geo.stream(n,ho),lo};var lo,fo,so,ho={sphere:function(){lo+=4*La},point:N,lineStart:N,lineEnd:N,polygonStart:function(){fo=1,so=0,ho.lineStart=bt},polygonEnd:function(){var n=2*Math.atan2(so,fo);lo+=0>n?4*La+n:n,ho.lineStart=ho.lineEnd=ho.point=N}};oa.geo.bounds=_t(ft),oa.geo.centroid=function(n){go=po=mo=vo=yo=0,oa.geo.stream(n,Mo);var t;return po&&Math.abs(t=Math.sqrt(mo*mo+vo*vo+yo*yo))>Fa?[Math.atan2(vo,mo)*Pa,Math.asin(Math.max(-1,Math.min(1,yo/t)))*Pa]:void 0};var go,po,mo,vo,yo,Mo={sphere:function(){2>go&&(go=2,po=mo=vo=yo=0)},point:wt,lineStart:Et,lineEnd:kt,polygonStart:function(){2>go&&(go=2,po=mo=vo=yo=0),Mo.lineStart=St},polygonEnd:function(){Mo.lineStart=Et}},xo=Pt(Dt,It,Xt),bo=1e9;oa.geo.projection=Kt,oa.geo.projectionMutator=Wt,(oa.geo.equirectangular=function(){return Kt(ne)}).raw=ne.invert=ne,oa.geo.rotation=function(n){function t(t){return t=n(t[0]*Ha,t[1]*Ha),t[0]*=Pa,t[1]*=Pa,t}return n=te(n[0]%360*Ha,n[1]*Ha,n.length>2?n[2]*Ha:0),t.invert=function(t){return t=n.invert(t[0]*Ha,t[1]*Ha),t[0]*=Pa,t[1]*=Pa,t},t},oa.geo.circle=function(){function n(){var n=\"function\"==typeof r?r.apply(this,arguments):r,t=te(-n[0]*Ha,-n[1]*Ha,0).invert,u=[];return e(null,null,1,{point:function(n,e){u.push(n=t(n,e)),n[0]*=Pa,n[1]*=Pa}}),{type:\"Polygon\",coordinates:[u]}}var t,e,r=[0,0],u=6;return n.origin=function(t){return arguments.length?(r=t,n):r},n.angle=function(r){return arguments.length?(e=ie((t=+r)*Ha,u*Ha),n):t},n.precision=function(r){return arguments.length?(e=ie(t*Ha,(u=+r)*Ha),n):u},n.angle(90)},oa.geo.distance=function(n,t){var e,r=(t[0]-n[0])*Ha,u=n[1]*Ha,i=t[1]*Ha,a=Math.sin(r),o=Math.cos(r),c=Math.sin(u),l=Math.cos(u),f=Math.sin(i),s=Math.cos(i);return Math.atan2(Math.sqrt((e=s*a)*e+(e=l*f-c*s*o)*e),c*f+l*s*o)},oa.geo.graticule=function(){function n(){return{type:\"MultiLineString\",coordinates:t()}}function t(){return oa.range(Math.ceil(i/m)*m,u,m).map(h).concat(oa.range(Math.ceil(l/v)*v,c,v).map(g)).concat(oa.range(Math.ceil(r/p)*p,e,p).filter(function(n){return Math.abs(n%m)>Fa}).map(f)).concat(oa.range(Math.ceil(o/d)*d,a,d).filter(function(n){return Math.abs(n%v)>Fa}).map(s))}var e,r,u,i,a,o,c,l,f,s,h,g,p=10,d=p,m=90,v=360,y=2.5;return n.lines=function(){return t().map(function(n){return{type:\"LineString\",coordinates:n}})},n.outline=function(){return{type:\"Polygon\",coordinates:[h(i).concat(g(c).slice(1),h(u).reverse().slice(1),g(l).reverse().slice(1))]}},n.extent=function(t){return arguments.length?n.majorExtent(t).minorExtent(t):n.minorExtent()},n.majorExtent=function(t){return arguments.length?(i=+t[0][0],u=+t[1][0],l=+t[0][1],c=+t[1][1],i>u&&(t=i,i=u,u=t),l>c&&(t=l,l=c,c=t),n.precision(y)):[[i,l],[u,c]]},n.minorExtent=function(t){return arguments.length?(r=+t[0][0],e=+t[1][0],o=+t[0][1],a=+t[1][1],r>e&&(t=r,r=e,e=t),o>a&&(t=o,o=a,a=t),n.precision(y)):[[r,o],[e,a]]},n.step=function(t){return arguments.length?n.majorStep(t).minorStep(t):n.minorStep()},n.majorStep=function(t){return arguments.length?(m=+t[0],v=+t[1],n):[m,v]},n.minorStep=function(t){return arguments.length?(p=+t[0],d=+t[1],n):[p,d]},n.precision=function(t){return arguments.length?(y=+t,f=oe(o,a,90),s=ce(r,e,y),h=oe(l,c,90),g=ce(i,u,y),n):y},n.majorExtent([[-180,-90+Fa],[180,90-Fa]]).minorExtent([[-180,-80-Fa],[180,80+Fa]])},oa.geo.greatArc=function(){function n(){return{type:\"LineString\",coordinates:[t||r.apply(this,arguments),e||u.apply(this,arguments)]}}var t,e,r=le,u=fe;return n.distance=function(){return oa.geo.distance(t||r.apply(this,arguments),e||u.apply(this,arguments))},n.source=function(e){return arguments.length?(r=e,t=\"function\"==typeof e?null:e,n):r},n.target=function(t){return arguments.length?(u=t,e=\"function\"==typeof t?null:t,n):u},n.precision=function(){return arguments.length?n:0},n},oa.geo.interpolate=function(n,t){return se(n[0]*Ha,n[1]*Ha,t[0]*Ha,t[1]*Ha)},oa.geo.length=function(n){return _o=0,oa.geo.stream(n,wo),_o};var _o,wo={sphere:N,point:N,lineStart:he,lineEnd:N,polygonStart:N,polygonEnd:N};(oa.geo.conicEqualArea=function(){return ge(pe)}).raw=pe,oa.geo.albersUsa=function(){function n(n){return t(n)(n)}function t(n){var t=n[0],e=n[1];return e>50?a:-140>t?o:21>e?c:i}var e,r,u,i=oa.geo.conicEqualArea().rotate([98,0]).center([0,38]).parallels([29.5,45.5]),a=oa.geo.conicEqualArea().rotate([160,0]).center([0,60]).parallels([55,65]),o=oa.geo.conicEqualArea().rotate([160,0]).center([0,20]).parallels([8,18]),c=oa.geo.conicEqualArea().rotate([60,0]).center([0,10]).parallels([8,18]);return n.invert=function(n){return e(n)||r(n)||u(n)||i.invert(n)},n.scale=function(t){return arguments.length?(i.scale(t),a.scale(.6*t),o.scale(t),c.scale(1.5*t),n.translate(i.translate())):i.scale()},n.translate=function(t){if(!arguments.length)return i.translate();var l=i.scale(),f=t[0],s=t[1];return i.translate(t),a.translate([f-.4*l,s+.17*l]),o.translate([f-.19*l,s+.2*l]),c.translate([f+.58*l,s+.43*l]),e=de(a,[[-180,50],[-130,72]]),r=de(o,[[-164,18],[-154,24]]),u=de(c,[[-67.5,17.5],[-65,19]]),n},n.scale(1e3)};var So,Eo,ko={point:N,lineStart:N,lineEnd:N,polygonStart:function(){Eo=0,ko.lineStart=me},polygonEnd:function(){ko.lineStart=ko.lineEnd=ko.point=N,So+=Math.abs(Eo/2)}},Ao={point:ye,lineStart:Me,lineEnd:xe,polygonStart:function(){Ao.lineStart=be},polygonEnd:function(){Ao.point=ye,Ao.lineStart=Me,Ao.lineEnd=xe}};oa.geo.path=function(){function n(n){return n&&oa.geo.stream(n,r(u.pointRadius(\"function\"==typeof i?+i.apply(this,arguments):i))),u.result()}var t,e,r,u,i=4.5;return n.area=function(n){return So=0,oa.geo.stream(n,r(ko)),So},n.centroid=function(n){return go=mo=vo=yo=0,oa.geo.stream(n,r(Ao)),yo?[mo/yo,vo/yo]:void 0},n.bounds=function(n){return _t(r)(n)},n.projection=function(e){return arguments.length?(r=(t=e)?e.stream||Se(e):ft,n):t},n.context=function(t){return arguments.length?(u=(e=t)==null?new ve:new _e(t),n):e},n.pointRadius=function(t){return arguments.length?(i=\"function\"==typeof t?t:+t,n):i},n.projection(oa.geo.albersUsa()).context(null)},oa.geo.albers=function(){return oa.geo.conicEqualArea().parallels([29.5,45.5]).rotate([98,0]).center([0,38]).scale(1e3)};var qo=Ee(function(n){return Math.sqrt(2/(1+n))},function(n){return 2*Math.asin(n/2)});(oa.geo.azimuthalEqualArea=function(){return Kt(qo)}).raw=qo;var No=Ee(function(n){var t=Math.acos(n);return t&&t/Math.sin(t)},ft);(oa.geo.azimuthalEquidistant=function(){return Kt(No)}).raw=No,(oa.geo.conicConformal=function(){return ge(ke)}).raw=ke,(oa.geo.conicEquidistant=function(){return ge(Ae)}).raw=Ae;var To=Ee(function(n){return 1/n},Math.atan);(oa.geo.gnomonic=function(){return Kt(To)}).raw=To,qe.invert=function(n,t){return[n,2*Math.atan(Math.exp(t))-La/2]},(oa.geo.mercator=function(){return Ne(qe)}).raw=qe;var Co=Ee(function(){return 1},Math.asin);(oa.geo.orthographic=function(){return Kt(Co)}).raw=Co;var zo=Ee(function(n){return 1/(1+n)},function(n){return 2*Math.atan(n)});(oa.geo.stereographic=function(){return Kt(zo)}).raw=zo,Te.invert=function(n,t){return[Math.atan2(U(n),Math.cos(t)),Y(Math.sin(t)/I(n))]},(oa.geo.transverseMercator=function(){return Ne(Te)}).raw=Te,oa.geom={},oa.svg={},oa.svg.line=function(){return Ce(ft)};var Do=oa.map({linear:je,\"linear-closed\":Le,\"step-before\":Fe,\"step-after\":He,basis:Ie,\"basis-open\":Ve,\"basis-closed\":Xe,bundle:Ze,cardinal:Oe,\"cardinal-open\":Pe,\"cardinal-closed\":Re,monotone:We});Do.forEach(function(n,t){t.key=n,t.closed=/-closed$/.test(n)});var jo=[0,2/3,1/3,0],Lo=[0,1/3,2/3,0],Fo=[0,1/6,2/3,1/6];oa.geom.hull=function(n){function t(n){if(n.length<3)return[];var t,u,i,a,o,c,l,f,s,h,g,p,d=lt(e),m=lt(r),v=n.length,y=v-1,M=[],x=[],b=0;if(d===ze&&r===De)t=n;else for(i=0,t=[];v>i;++i)t.push([+d.call(this,u=n[i],i),+m.call(this,u,i)]);for(i=1;v>i;++i)t[i][1]<t[b][1]?b=i:t[i][1]==t[b][1]&&(b=t[i][0]<t[b][0]?i:b);for(i=0;v>i;++i)i!==b&&(c=t[i][1]-t[b][1],o=t[i][0]-t[b][0],M.push({angle:Math.atan2(c,o),index:i}));for(M.sort(function(n,t){return n.angle-t.angle}),g=M[0].angle,h=M[0].index,s=0,i=1;y>i;++i)a=M[i].index,g==M[i].angle?(o=t[h][0]-t[b][0],c=t[h][1]-t[b][1],l=t[a][0]-t[b][0],f=t[a][1]-t[b][1],o*o+c*c>=l*l+f*f?M[i].index=-1:(M[s].index=-1,g=M[i].angle,s=i,h=a)):(g=M[i].angle,s=i,h=a);for(x.push(b),i=0,a=0;2>i;++a)M[a].index!==-1&&(x.push(M[a].index),i++);for(p=x.length;y>a;++a)if(M[a].index!==-1){for(;!Qe(x[p-2],x[p-1],M[a].index,t);)--p;x[p++]=M[a].index}var _=[];for(i=0;p>i;++i)_.push(n[x[i]]);return _}var e=ze,r=De;return arguments.length?t(n):(t.x=function(n){return arguments.length?(e=n,t):e},t.y=function(n){return arguments.length?(r=n,t):r},t)},oa.geom.polygon=function(n){return n.area=function(){for(var t=0,e=n.length,r=n[e-1][1]*n[0][0]-n[e-1][0]*n[0][1];++t<e;)r+=n[t-1][1]*n[t][0]-n[t-1][0]*n[t][1];return.5*r},n.centroid=function(t){var e,r,u=-1,i=n.length,a=0,o=0,c=n[i-1];for(arguments.length||(t=-1/(6*n.area()));++u<i;)e=c,c=n[u],r=e[0]*c[1]-c[0]*e[1],a+=(e[0]+c[0])*r,o+=(e[1]+c[1])*r;return[a*t,o*t]},n.clip=function(t){for(var e,r,u,i,a,o,c=-1,l=n.length,f=n[l-1];++c<l;){for(e=t.slice(),t.length=0,i=n[c],a=e[(u=e.length)-1],r=-1;++r<u;)o=e[r],nr(o,f,i)?(nr(a,f,i)||t.push(tr(a,o,f,i)),t.push(o)):nr(a,f,i)&&t.push(tr(a,o,f,i)),a=o;f=i}return t},n},oa.geom.delaunay=function(n){var t=n.map(function(){return[]}),e=[];return er(n,function(e){t[e.region.l.index].push(n[e.region.r.index])}),t.forEach(function(t,r){var u=n[r],i=u[0],a=u[1];t.forEach(function(n){n.angle=Math.atan2(n[0]-i,n[1]-a)}),t.sort(function(n,t){return n.angle-t.angle});for(var o=0,c=t.length-1;c>o;o++)e.push([u,t[o],t[o+1]])}),e},oa.geom.voronoi=function(n){function t(n){var t,r,a,o=n.map(function(){return[]}),c=lt(u),l=lt(i),f=n.length,s=1e6;if(c===ze&&l===De)t=n;else for(t=[],a=0;f>a;++a)t.push([+c.call(this,r=n[a],a),+l.call(this,r,a)]);if(er(t,function(n){var t,e,r,u,i,a;n.a===1&&n.b>=0?(t=n.ep.r,e=n.ep.l):(t=n.ep.l,e=n.ep.r),n.a===1?(i=t?t.y:-s,r=n.c-n.b*i,a=e?e.y:s,u=n.c-n.b*a):(r=t?t.x:-s,i=n.c-n.a*r,u=e?e.x:s,a=n.c-n.a*u);var c=[r,i],l=[u,a];o[n.region.l.index].push(c,l),o[n.region.r.index].push(c,l)}),o=o.map(function(n,e){var r=t[e][0],u=t[e][1],i=n.map(function(n){return Math.atan2(n[0]-r,n[1]-u)}),a=oa.range(n.length).sort(function(n,t){return i[n]-i[t]});return a.filter(function(n,t){return!t||i[n]-i[a[t-1]]>Fa}).map(function(t){return n[t]})}),o.forEach(function(n,e){var r=n.length;if(!r)return n.push([-s,-s],[-s,s],[s,s],[s,-s]);if(!(r>2)){var u=t[e],i=n[0],a=n[1],o=u[0],c=u[1],l=i[0],f=i[1],h=a[0],g=a[1],p=Math.abs(h-l),d=g-f;if(Math.abs(d)<Fa){var m=f>c?-s:s;n.push([-s,m],[s,m])}else if(Fa>p){var v=l>o?-s:s;n.push([v,-s],[v,s])}else{var m=(l-o)*(g-f)>(h-l)*(f-c)?s:-s,y=Math.abs(d)-p;Math.abs(y)<Fa?n.push([0>d?m:-m,m]):(y>0&&(m*=-1),n.push([-s,m],[s,m]))}}}),e)for(a=0;f>a;++a)e(o[a]);for(a=0;f>a;++a)o[a].point=n[a];return o}var e,r=null,u=ze,i=De;return arguments.length?t(n):(t.x=function(n){return arguments.length?(u=n,t):u},t.y=function(n){return arguments.length?(i=n,t):i},t.size=function(n){return arguments.length?(null==n?e=null:(r=[+n[0],+n[1]],e=oa.geom.polygon([[0,0],[0,r[1]],r,[r[0],0]]).clip),t):r},t.links=function(n){var t,e,r,a=n.map(function(){return[]}),o=[],c=lt(u),l=lt(i),f=n.length;if(c===ze&&l===De)t=n;else for(r=0;f>r;++r)t.push([+c.call(this,e=n[r],r),+l.call(this,e,r)]);return er(t,function(t){var e=t.region.l.index,r=t.region.r.index;a[e][r]||(a[e][r]=a[r][e]=!0,o.push({source:n[e],target:n[r]}))}),o},t.triangles=function(n){if(u===ze&&i===De)return oa.geom.delaunay(n);var t,e,r,a,o,c=lt(u),l=lt(i);for(a=0,t=[],o=n.length;o>a;++a)e=[+c.call(this,r=n[a],a),+l.call(this,r,a)],e.data=r,t.push(e);return oa.geom.delaunay(t).map(function(n){return n.map(function(n){return n.data})})},t)};var Ho={l:\"r\",r:\"l\"};oa.geom.quadtree=function(n,t,e,r,u){function i(n){function i(n,t,e,r,u,i,a,o){if(!isNaN(e)&&!isNaN(r))if(n.leaf){var c=n.x,f=n.y;\n",
        "if(null!=c)if(Math.abs(c-e)+Math.abs(f-r)<.01)l(n,t,e,r,u,i,a,o);else{var s=n.point;n.x=n.y=n.point=null,l(n,s,c,f,u,i,a,o),l(n,t,e,r,u,i,a,o)}else n.x=e,n.y=r,n.point=t}else l(n,t,e,r,u,i,a,o)}function l(n,t,e,r,u,a,o,c){var l=.5*(u+o),f=.5*(a+c),s=e>=l,h=r>=f,g=(h<<1)+s;n.leaf=!1,n=n.nodes[g]||(n.nodes[g]=ir()),s?u=l:o=l,h?a=f:c=f,i(n,t,e,r,u,a,o,c)}var f,s,h,g,p,d,m,v,y,M=lt(o),x=lt(c);if(null!=t)d=t,m=e,v=r,y=u;else if(v=y=-(d=m=1/0),s=[],h=[],p=n.length,a)for(g=0;p>g;++g)f=n[g],f.x<d&&(d=f.x),f.y<m&&(m=f.y),f.x>v&&(v=f.x),f.y>y&&(y=f.y),s.push(f.x),h.push(f.y);else for(g=0;p>g;++g){var b=+M(f=n[g],g),_=+x(f,g);d>b&&(d=b),m>_&&(m=_),b>v&&(v=b),_>y&&(y=_),s.push(b),h.push(_)}var w=v-d,S=y-m;w>S?y=m+w:v=d+S;var E=ir();if(E.add=function(n){i(E,n,+M(n,++g),+x(n,g),d,m,v,y)},E.visit=function(n){ar(n,E,d,m,v,y)},g=-1,null==t){for(;++g<p;)i(E,n[g],s[g],h[g],d,m,v,y);--g}else n.forEach(E.add);return s=h=n=f=null,E}var a,o=ze,c=De;return(a=arguments.length)?(o=rr,c=ur,3===a&&(u=e,r=t,e=t=0),i(n)):(i.x=function(n){return arguments.length?(o=n,i):o},i.y=function(n){return arguments.length?(c=n,i):c},i.size=function(n){return arguments.length?(null==n?t=e=r=u=null:(t=e=0,r=+n[0],u=+n[1]),i):null==t?null:[r,u]},i)},oa.interpolateRgb=or,oa.transform=function(n){var t=ca.createElementNS(oa.ns.prefix.svg,\"g\");return(oa.transform=function(n){t.setAttribute(\"transform\",n);var e=t.transform.baseVal.consolidate();return new cr(e?e.matrix:Po)})(n)},cr.prototype.toString=function(){return\"translate(\"+this.translate+\")rotate(\"+this.rotate+\")skewX(\"+this.skew+\")scale(\"+this.scale+\")\"};var Po={a:1,b:0,c:0,d:1,e:0,f:0};oa.interpolateNumber=hr,oa.interpolateTransform=gr,oa.interpolateObject=pr,oa.interpolateString=dr;var Ro=/[-+]?(?:\\d+\\.?\\d*|\\.?\\d+)(?:[eE][-+]?\\d+)?/g;oa.interpolate=mr,oa.interpolators=[pr,function(n,t){return Array.isArray(t)&&yr(n,t)},function(n,t){return(\"string\"==typeof n||\"string\"==typeof t)&&dr(n+\"\",t+\"\")},function(n,t){return(\"string\"==typeof t?Za.has(t)||/^(#|rgb\\(|hsl\\()/.test(t):t instanceof L)&&or(n,t)},function(n,t){return!isNaN(n=+n)&&!isNaN(t=+t)&&hr(n,t)}],oa.interpolateArray=yr;var Oo=function(){return ft},Yo=oa.map({linear:Oo,poly:Er,quad:function(){return _r},cubic:function(){return wr},sin:function(){return kr},exp:function(){return Ar},circle:function(){return qr},elastic:Nr,back:Tr,bounce:function(){return Cr}}),Uo=oa.map({\"in\":ft,out:xr,\"in-out\":br,\"out-in\":function(n){return br(xr(n))}});oa.ease=function(n){var t=n.indexOf(\"-\"),e=t>=0?n.substring(0,t):n,r=t>=0?n.substring(t+1):\"in\";return e=Yo.get(e)||Oo,r=Uo.get(r)||ft,Mr(r(e.apply(null,Array.prototype.slice.call(arguments,1))))},oa.interpolateHcl=zr,oa.interpolateHsl=Dr,oa.interpolateLab=jr,oa.interpolateRound=Lr,oa.layout={},oa.layout.bundle=function(){return function(n){for(var t=[],e=-1,r=n.length;++e<r;)t.push(Pr(n[e]));return t}},oa.layout.chord=function(){function n(){var n,l,s,h,g,p={},d=[],m=oa.range(i),v=[];for(e=[],r=[],n=0,h=-1;++h<i;){for(l=0,g=-1;++g<i;)l+=u[h][g];d.push(l),v.push(oa.range(i)),n+=l}for(a&&m.sort(function(n,t){return a(d[n],d[t])}),o&&v.forEach(function(n,t){n.sort(function(n,e){return o(u[t][n],u[t][e])})}),n=(2*La-f*i)/n,l=0,h=-1;++h<i;){for(s=l,g=-1;++g<i;){var y=m[h],M=v[y][g],x=u[y][M],b=l,_=l+=x*n;p[y+\"-\"+M]={index:y,subindex:M,startAngle:b,endAngle:_,value:x}}r[y]={index:y,startAngle:s,endAngle:l,value:(l-s)/n},l+=f}for(h=-1;++h<i;)for(g=h-1;++g<i;){var w=p[h+\"-\"+g],S=p[g+\"-\"+h];(w.value||S.value)&&e.push(w.value<S.value?{source:S,target:w}:{source:w,target:S})}c&&t()}function t(){e.sort(function(n,t){return c((n.source.value+n.target.value)/2,(t.source.value+t.target.value)/2)})}var e,r,u,i,a,o,c,l={},f=0;return l.matrix=function(n){return arguments.length?(i=(u=n)&&u.length,e=r=null,l):u},l.padding=function(n){return arguments.length?(f=n,e=r=null,l):f},l.sortGroups=function(n){return arguments.length?(a=n,e=r=null,l):a},l.sortSubgroups=function(n){return arguments.length?(o=n,e=null,l):o},l.sortChords=function(n){return arguments.length?(c=n,e&&t(),l):c},l.chords=function(){return e||n(),e},l.groups=function(){return r||n(),r},l},oa.layout.force=function(){function n(n){return function(t,e,r,u){if(t.point!==n){var i=t.cx-n.x,a=t.cy-n.y,o=1/Math.sqrt(i*i+a*a);if(d>(u-e)*o){var c=t.charge*o*o;return n.px-=i*c,n.py-=a*c,!0}if(t.point&&isFinite(o)){var c=t.pointCharge*o*o;n.px-=i*c,n.py-=a*c}}return!t.charge}}function t(n){n.px=oa.event.x,n.py=oa.event.y,o.resume()}var e,r,u,i,a,o={},c=oa.dispatch(\"start\",\"tick\",\"end\"),l=[1,1],f=.9,s=Io,h=Vo,g=-30,p=.1,d=.8,m=[],v=[];return o.tick=function(){if((r*=.99)<.005)return c.end({type:\"end\",alpha:r=0}),!0;var t,e,o,s,h,d,y,M,x,b=m.length,_=v.length;for(e=0;_>e;++e)o=v[e],s=o.source,h=o.target,M=h.x-s.x,x=h.y-s.y,(d=M*M+x*x)&&(d=r*i[e]*((d=Math.sqrt(d))-u[e])/d,M*=d,x*=d,h.x-=M*(y=s.weight/(h.weight+s.weight)),h.y-=x*y,s.x+=M*(y=1-y),s.y+=x*y);if((y=r*p)&&(M=l[0]/2,x=l[1]/2,e=-1,y))for(;++e<b;)o=m[e],o.x+=(M-o.x)*y,o.y+=(x-o.y)*y;if(g)for(Xr(t=oa.geom.quadtree(m),r,a),e=-1;++e<b;)(o=m[e]).fixed||t.visit(n(o));for(e=-1;++e<b;)o=m[e],o.fixed?(o.x=o.px,o.y=o.py):(o.x-=(o.px-(o.px=o.x))*f,o.y-=(o.py-(o.py=o.y))*f);c.tick({type:\"tick\",alpha:r})},o.nodes=function(n){return arguments.length?(m=n,o):m},o.links=function(n){return arguments.length?(v=n,o):v},o.size=function(n){return arguments.length?(l=n,o):l},o.linkDistance=function(n){return arguments.length?(s=\"function\"==typeof n?n:+n,o):s},o.distance=o.linkDistance,o.linkStrength=function(n){return arguments.length?(h=\"function\"==typeof n?n:+n,o):h},o.friction=function(n){return arguments.length?(f=+n,o):f},o.charge=function(n){return arguments.length?(g=\"function\"==typeof n?n:+n,o):g},o.gravity=function(n){return arguments.length?(p=+n,o):p},o.theta=function(n){return arguments.length?(d=+n,o):d},o.alpha=function(n){return arguments.length?(n=+n,r?r=n>0?n:0:n>0&&(c.start({type:\"start\",alpha:r=n}),oa.timer(o.tick)),o):r},o.start=function(){function n(n,r){for(var u,i=t(e),a=-1,o=i.length;++a<o;)if(!isNaN(u=i[a][n]))return u;return Math.random()*r}function t(){if(!c){for(c=[],r=0;p>r;++r)c[r]=[];for(r=0;d>r;++r){var n=v[r];c[n.source.index].push(n.target),c[n.target.index].push(n.source)}}return c[e]}var e,r,c,f,p=m.length,d=v.length,y=l[0],M=l[1];for(e=0;p>e;++e)(f=m[e]).index=e,f.weight=0;for(e=0;d>e;++e)f=v[e],typeof f.source==\"number\"&&(f.source=m[f.source]),typeof f.target==\"number\"&&(f.target=m[f.target]),++f.source.weight,++f.target.weight;for(e=0;p>e;++e)f=m[e],isNaN(f.x)&&(f.x=n(\"x\",y)),isNaN(f.y)&&(f.y=n(\"y\",M)),isNaN(f.px)&&(f.px=f.x),isNaN(f.py)&&(f.py=f.y);if(u=[],\"function\"==typeof s)for(e=0;d>e;++e)u[e]=+s.call(this,v[e],e);else for(e=0;d>e;++e)u[e]=s;if(i=[],\"function\"==typeof h)for(e=0;d>e;++e)i[e]=+h.call(this,v[e],e);else for(e=0;d>e;++e)i[e]=h;if(a=[],\"function\"==typeof g)for(e=0;p>e;++e)a[e]=+g.call(this,m[e],e);else for(e=0;p>e;++e)a[e]=g;return o.resume()},o.resume=function(){return o.alpha(.1)},o.stop=function(){return o.alpha(0)},o.drag=function(){return e||(e=oa.behavior.drag().origin(ft).on(\"dragstart.force\",Yr).on(\"drag.force\",t).on(\"dragend.force\",Ur)),arguments.length?(this.on(\"mouseover.force\",Ir).on(\"mouseout.force\",Vr).call(e),void 0):e},oa.rebind(o,c,\"on\")};var Io=20,Vo=1;oa.layout.hierarchy=function(){function n(t,a,o){var c=u.call(e,t,a);if(t.depth=a,o.push(t),c&&(l=c.length)){for(var l,f,s=-1,h=t.children=[],g=0,p=a+1;++s<l;)f=n(c[s],p,o),f.parent=t,h.push(f),g+=f.value;r&&h.sort(r),i&&(t.value=g)}else i&&(t.value=+i.call(e,t,a)||0);return t}function t(n,r){var u=n.children,a=0;if(u&&(o=u.length))for(var o,c=-1,l=r+1;++c<o;)a+=t(u[c],l);else i&&(a=+i.call(e,n,r)||0);return i&&(n.value=a),a}function e(t){var e=[];return n(t,0,e),e}var r=Jr,u=Br,i=$r;return e.sort=function(n){return arguments.length?(r=n,e):r},e.children=function(n){return arguments.length?(u=n,e):u},e.value=function(n){return arguments.length?(i=n,e):i},e.revalue=function(n){return t(n,0),n},e},oa.layout.partition=function(){function n(t,e,r,u){var i=t.children;if(t.x=e,t.y=t.depth*u,t.dx=r,t.dy=u,i&&(a=i.length)){var a,o,c,l=-1;for(r=t.value?r/t.value:0;++l<a;)n(o=i[l],e,c=o.value*r,u),e+=c}}function t(n){var e=n.children,r=0;if(e&&(u=e.length))for(var u,i=-1;++i<u;)r=Math.max(r,t(e[i]));return 1+r}function e(e,i){var a=r.call(this,e,i);return n(a[0],0,u[0],u[1]/t(a[0])),a}var r=oa.layout.hierarchy(),u=[1,1];return e.size=function(n){return arguments.length?(u=n,e):u},Zr(e,r)},oa.layout.pie=function(){function n(i){var a=i.map(function(e,r){return+t.call(n,e,r)}),o=+(\"function\"==typeof r?r.apply(this,arguments):r),c=((\"function\"==typeof u?u.apply(this,arguments):u)-o)/oa.sum(a),l=oa.range(i.length);null!=e&&l.sort(e===Xo?function(n,t){return a[t]-a[n]}:function(n,t){return e(i[n],i[t])});var f=[];return l.forEach(function(n){var t;f[n]={data:i[n],value:t=a[n],startAngle:o,endAngle:o+=t*c}}),f}var t=Number,e=Xo,r=0,u=2*La;return n.value=function(e){return arguments.length?(t=e,n):t},n.sort=function(t){return arguments.length?(e=t,n):e},n.startAngle=function(t){return arguments.length?(r=t,n):r},n.endAngle=function(t){return arguments.length?(u=t,n):u},n};var Xo={};oa.layout.stack=function(){function n(o,c){var l=o.map(function(e,r){return t.call(n,e,r)}),f=l.map(function(t){return t.map(function(t,e){return[i.call(n,t,e),a.call(n,t,e)]})}),s=e.call(n,f,c);l=oa.permute(l,s),f=oa.permute(f,s);var h,g,p,d=r.call(n,f,c),m=l.length,v=l[0].length;for(g=0;v>g;++g)for(u.call(n,l[0][g],p=d[g],f[0][g][1]),h=1;m>h;++h)u.call(n,l[h][g],p+=f[h-1][g][1],f[h][g][1]);return o}var t=ft,e=nu,r=tu,u=Qr,i=Kr,a=Wr;return n.values=function(e){return arguments.length?(t=e,n):t},n.order=function(t){return arguments.length?(e=\"function\"==typeof t?t:Zo.get(t)||nu,n):e},n.offset=function(t){return arguments.length?(r=\"function\"==typeof t?t:Bo.get(t)||tu,n):r},n.x=function(t){return arguments.length?(i=t,n):i},n.y=function(t){return arguments.length?(a=t,n):a},n.out=function(t){return arguments.length?(u=t,n):u},n};var Zo=oa.map({\"inside-out\":function(n){var t,e,r=n.length,u=n.map(eu),i=n.map(ru),a=oa.range(r).sort(function(n,t){return u[n]-u[t]}),o=0,c=0,l=[],f=[];for(t=0;r>t;++t)e=a[t],c>o?(o+=i[e],l.push(e)):(c+=i[e],f.push(e));return f.reverse().concat(l)},reverse:function(n){return oa.range(n.length).reverse()},\"default\":nu}),Bo=oa.map({silhouette:function(n){var t,e,r,u=n.length,i=n[0].length,a=[],o=0,c=[];for(e=0;i>e;++e){for(t=0,r=0;u>t;t++)r+=n[t][e][1];r>o&&(o=r),a.push(r)}for(e=0;i>e;++e)c[e]=(o-a[e])/2;return c},wiggle:function(n){var t,e,r,u,i,a,o,c,l,f=n.length,s=n[0],h=s.length,g=[];for(g[0]=c=l=0,e=1;h>e;++e){for(t=0,u=0;f>t;++t)u+=n[t][e][1];for(t=0,i=0,o=s[e][0]-s[e-1][0];f>t;++t){for(r=0,a=(n[t][e][1]-n[t][e-1][1])/(2*o);t>r;++r)a+=(n[r][e][1]-n[r][e-1][1])/o;i+=a*n[t][e][1]}g[e]=c-=u?i/u*o:0,l>c&&(l=c)}for(e=0;h>e;++e)g[e]-=l;return g},expand:function(n){var t,e,r,u=n.length,i=n[0].length,a=1/u,o=[];for(e=0;i>e;++e){for(t=0,r=0;u>t;t++)r+=n[t][e][1];if(r)for(t=0;u>t;t++)n[t][e][1]/=r;else for(t=0;u>t;t++)n[t][e][1]=a}for(e=0;i>e;++e)o[e]=0;return o},zero:tu});oa.layout.histogram=function(){function n(n,i){for(var a,o,c=[],l=n.map(e,this),f=r.call(this,l,i),s=u.call(this,f,l,i),i=-1,h=l.length,g=s.length-1,p=t?1:1/h;++i<g;)a=c[i]=[],a.dx=s[i+1]-(a.x=s[i]),a.y=0;if(g>0)for(i=-1;++i<h;)o=l[i],o>=f[0]&&o<=f[1]&&(a=c[oa.bisect(s,o,1,g)-1],a.y+=p,a.push(n[i]));return c}var t=!0,e=Number,r=ou,u=iu;return n.value=function(t){return arguments.length?(e=t,n):e},n.range=function(t){return arguments.length?(r=lt(t),n):r},n.bins=function(t){return arguments.length?(u=\"number\"==typeof t?function(n){return au(n,t)}:lt(t),n):u},n.frequency=function(e){return arguments.length?(t=!!e,n):t},n},oa.layout.tree=function(){function n(n,u){function i(n,t){var r=n.children,u=n._tree;if(r&&(a=r.length)){for(var a,c,l,f=r[0],s=f,h=-1;++h<a;)l=r[h],i(l,c),s=o(l,c,s),c=l;mu(n);var g=.5*(f._tree.prelim+l._tree.prelim);t?(u.prelim=t._tree.prelim+e(n,t),u.mod=u.prelim-g):u.prelim=g}else t&&(u.prelim=t._tree.prelim+e(n,t))}function a(n,t){n.x=n._tree.prelim+t;var e=n.children;if(e&&(r=e.length)){var r,u=-1;for(t+=n._tree.mod;++u<r;)a(e[u],t)}}function o(n,t,r){if(t){for(var u,i=n,a=n,o=t,c=n.parent.children[0],l=i._tree.mod,f=a._tree.mod,s=o._tree.mod,h=c._tree.mod;o=fu(o),i=lu(i),o&&i;)c=lu(c),a=fu(a),a._tree.ancestor=n,u=o._tree.prelim+s-i._tree.prelim-l+e(o,i),u>0&&(vu(yu(o,n,r),n,u),l+=u,f+=u),s+=o._tree.mod,l+=i._tree.mod,h+=c._tree.mod,f+=a._tree.mod;o&&!fu(a)&&(a._tree.thread=o,a._tree.mod+=s-f),i&&!lu(c)&&(c._tree.thread=i,c._tree.mod+=l-h,r=n)}return r}var c=t.call(this,n,u),l=c[0];du(l,function(n,t){n._tree={ancestor:n,prelim:0,mod:0,change:0,shift:0,number:t?t._tree.number+1:0}}),i(l),a(l,-l._tree.prelim);var f=su(l,gu),s=su(l,hu),h=su(l,pu),g=f.x-e(f,s)/2,p=s.x+e(s,f)/2,d=h.depth||1;return du(l,function(n){n.x=(n.x-g)/(p-g)*r[0],n.y=n.depth/d*r[1],delete n._tree}),c}var t=oa.layout.hierarchy().sort(null).value(null),e=cu,r=[1,1];return n.separation=function(t){return arguments.length?(e=t,n):e},n.size=function(t){return arguments.length?(r=t,n):r},Zr(n,t)},oa.layout.pack=function(){function n(n,u){var i=t.call(this,n,u),a=i[0];a.x=0,a.y=0,du(a,function(n){n.r=Math.sqrt(n.value)}),du(a,wu);var o=r[0],c=r[1],l=Math.max(2*a.r/o,2*a.r/c);if(e>0){var f=e*l/2;du(a,function(n){n.r+=f}),du(a,wu),du(a,function(n){n.r-=f}),l=Math.max(2*a.r/o,2*a.r/c)}return ku(a,o/2,c/2,1/l),i}var t=oa.layout.hierarchy().sort(Mu),e=0,r=[1,1];return n.size=function(t){return arguments.length?(r=t,n):r},n.padding=function(t){return arguments.length?(e=+t,n):e},Zr(n,t)},oa.layout.cluster=function(){function n(n,u){var i,a=t.call(this,n,u),o=a[0],c=0;du(o,function(n){var t=n.children;t&&t.length?(n.x=Nu(t),n.y=qu(t)):(n.x=i?c+=e(n,i):0,n.y=0,i=n)});var l=Tu(o),f=Cu(o),s=l.x-e(l,f)/2,h=f.x+e(f,l)/2;return du(o,function(n){n.x=(n.x-s)/(h-s)*r[0],n.y=(1-(o.y?n.y/o.y:1))*r[1]}),a}var t=oa.layout.hierarchy().sort(null).value(null),e=cu,r=[1,1];return n.separation=function(t){return arguments.length?(e=t,n):e},n.size=function(t){return arguments.length?(r=t,n):r},Zr(n,t)},oa.layout.treemap=function(){function n(n,t){for(var e,r,u=-1,i=n.length;++u<i;)r=(e=n[u]).value*(0>t?0:t),e.area=isNaN(r)||0>=r?0:r}function t(e){var i=e.children;if(i&&i.length){var a,o,c,l=s(e),f=[],h=i.slice(),p=1/0,d=\"slice\"===g?l.dx:\"dice\"===g?l.dy:\"slice-dice\"===g?e.depth&1?l.dy:l.dx:Math.min(l.dx,l.dy);for(n(h,l.dx*l.dy/e.value),f.area=0;(c=h.length)>0;)f.push(a=h[c-1]),f.area+=a.area,\"squarify\"!==g||(o=r(f,d))<=p?(h.pop(),p=o):(f.area-=f.pop().area,u(f,d,l,!1),d=Math.min(l.dx,l.dy),f.length=f.area=0,p=1/0);f.length&&(u(f,d,l,!0),f.length=f.area=0),i.forEach(t)}}function e(t){var r=t.children;if(r&&r.length){var i,a=s(t),o=r.slice(),c=[];for(n(o,a.dx*a.dy/t.value),c.area=0;i=o.pop();)c.push(i),c.area+=i.area,i.z!=null&&(u(c,i.z?a.dx:a.dy,a,!o.length),c.length=c.area=0);r.forEach(e)}}function r(n,t){for(var e,r=n.area,u=0,i=1/0,a=-1,o=n.length;++a<o;)(e=n[a].area)&&(i>e&&(i=e),e>u&&(u=e));return r*=r,t*=t,r?Math.max(t*u*p/r,r/(t*i*p)):1/0}function u(n,t,e,r){var u,i=-1,a=n.length,o=e.x,l=e.y,f=t?c(n.area/t):0;if(t==e.dx){for((r||f>e.dy)&&(f=e.dy);++i<a;)u=n[i],u.x=o,u.y=l,u.dy=f,o+=u.dx=Math.min(e.x+e.dx-o,f?c(u.area/f):0);u.z=!0,u.dx+=e.x+e.dx-o,e.y+=f,e.dy-=f}else{for((r||f>e.dx)&&(f=e.dx);++i<a;)u=n[i],u.x=o,u.y=l,u.dx=f,l+=u.dy=Math.min(e.y+e.dy-l,f?c(u.area/f):0);u.z=!1,u.dy+=e.y+e.dy-l,e.x+=f,e.dx-=f}}function i(r){var u=a||o(r),i=u[0];return i.x=0,i.y=0,i.dx=l[0],i.dy=l[1],a&&o.revalue(i),n([i],i.dx*i.dy/i.value),(a?e:t)(i),h&&(a=u),u}var a,o=oa.layout.hierarchy(),c=Math.round,l=[1,1],f=null,s=zu,h=!1,g=\"squarify\",p=.5*(1+Math.sqrt(5));return i.size=function(n){return arguments.length?(l=n,i):l},i.padding=function(n){function t(t){var e=n.call(i,t,t.depth);return null==e?zu(t):Du(t,\"number\"==typeof e?[e,e,e,e]:e)}function e(t){return Du(t,n)}if(!arguments.length)return f;var r;return s=(f=n)==null?zu:(r=typeof n)==\"function\"?t:\"number\"===r?(n=[n,n,n,n],e):e,i},i.round=function(n){return arguments.length?(c=n?Math.round:Number,i):c!=Number},i.sticky=function(n){return arguments.length?(h=n,a=null,i):h},i.ratio=function(n){return arguments.length?(p=n,i):p},i.mode=function(n){return arguments.length?(g=n+\"\",i):g},Zr(i,o)},oa.random={normal:function(n,t){var e=arguments.length;return 2>e&&(t=1),1>e&&(n=0),function(){var e,r,u;do e=Math.random()*2-1,r=Math.random()*2-1,u=e*e+r*r;while(!u||u>1);return n+t*e*Math.sqrt(-2*Math.log(u)/u)}},logNormal:function(){var n=oa.random.normal.apply(oa,arguments);return function(){return Math.exp(n())}},irwinHall:function(n){return function(){for(var t=0,e=0;n>e;e++)t+=Math.random();return t/n}}},oa.scale={},oa.scale.linear=function(){return Ru([0,1],[0,1],mr,!1)},oa.scale.log=function(){return Xu(oa.scale.linear().domain([0,Math.LN10]),10,Zu,Bu)};var $o=oa.format(\".0e\");oa.scale.pow=function(){return Ku(oa.scale.linear(),1)},oa.scale.sqrt=function(){return oa.scale.pow().exponent(.5)},oa.scale.ordinal=function(){return Qu([],{t:\"range\",a:[[]]})},oa.scale.category10=function(){return oa.scale.ordinal().range(Jo)},oa.scale.category20=function(){return oa.scale.ordinal().range(Go)},oa.scale.category20b=function(){return oa.scale.ordinal().range(Ko)},oa.scale.category20c=function(){return oa.scale.ordinal().range(Wo)};var Jo=[\"#1f77b4\",\"#ff7f0e\",\"#2ca02c\",\"#d62728\",\"#9467bd\",\"#8c564b\",\"#e377c2\",\"#7f7f7f\",\"#bcbd22\",\"#17becf\"],Go=[\"#1f77b4\",\"#aec7e8\",\"#ff7f0e\",\"#ffbb78\",\"#2ca02c\",\"#98df8a\",\"#d62728\",\"#ff9896\",\"#9467bd\",\"#c5b0d5\",\"#8c564b\",\"#c49c94\",\"#e377c2\",\"#f7b6d2\",\"#7f7f7f\",\"#c7c7c7\",\"#bcbd22\",\"#dbdb8d\",\"#17becf\",\"#9edae5\"],Ko=[\"#393b79\",\"#5254a3\",\"#6b6ecf\",\"#9c9ede\",\"#637939\",\"#8ca252\",\"#b5cf6b\",\"#cedb9c\",\"#8c6d31\",\"#bd9e39\",\"#e7ba52\",\"#e7cb94\",\"#843c39\",\"#ad494a\",\"#d6616b\",\"#e7969c\",\"#7b4173\",\"#a55194\",\"#ce6dbd\",\"#de9ed6\"],Wo=[\"#3182bd\",\"#6baed6\",\"#9ecae1\",\"#c6dbef\",\"#e6550d\",\"#fd8d3c\",\"#fdae6b\",\"#fdd0a2\",\"#31a354\",\"#74c476\",\"#a1d99b\",\"#c7e9c0\",\"#756bb1\",\"#9e9ac8\",\"#bcbddc\",\"#dadaeb\",\"#636363\",\"#969696\",\"#bdbdbd\",\"#d9d9d9\"];oa.scale.quantile=function(){return ni([],[])},oa.scale.quantize=function(){return ti(0,1,[0,1])},oa.scale.threshold=function(){return ei([.5],[0,1])},oa.scale.identity=function(){return ri([0,1])},oa.svg.arc=function(){function n(){var n=t.apply(this,arguments),i=e.apply(this,arguments),a=r.apply(this,arguments)+Qo,o=u.apply(this,arguments)+Qo,c=(a>o&&(c=a,a=o,o=c),o-a),l=La>c?\"0\":\"1\",f=Math.cos(a),s=Math.sin(a),h=Math.cos(o),g=Math.sin(o);return c>=nc?n?\"M0,\"+i+\"A\"+i+\",\"+i+\" 0 1,1 0,\"+-i+\"A\"+i+\",\"+i+\" 0 1,1 0,\"+i+\"M0,\"+n+\"A\"+n+\",\"+n+\" 0 1,0 0,\"+-n+\"A\"+n+\",\"+n+\" 0 1,0 0,\"+n+\"Z\":\"M0,\"+i+\"A\"+i+\",\"+i+\" 0 1,1 0,\"+-i+\"A\"+i+\",\"+i+\" 0 1,1 0,\"+i+\"Z\":n?\"M\"+i*f+\",\"+i*s+\"A\"+i+\",\"+i+\" 0 \"+l+\",1 \"+i*h+\",\"+i*g+\"L\"+n*h+\",\"+n*g+\"A\"+n+\",\"+n+\" 0 \"+l+\",0 \"+n*f+\",\"+n*s+\"Z\":\"M\"+i*f+\",\"+i*s+\"A\"+i+\",\"+i+\" 0 \"+l+\",1 \"+i*h+\",\"+i*g+\"L0,0\"+\"Z\"}var t=ui,e=ii,r=ai,u=oi;return n.innerRadius=function(e){return arguments.length?(t=lt(e),n):t},n.outerRadius=function(t){return arguments.length?(e=lt(t),n):e},n.startAngle=function(t){return arguments.length?(r=lt(t),n):r},n.endAngle=function(t){return arguments.length?(u=lt(t),n):u},n.centroid=function(){var n=(t.apply(this,arguments)+e.apply(this,arguments))/2,i=(r.apply(this,arguments)+u.apply(this,arguments))/2+Qo;return[Math.cos(i)*n,Math.sin(i)*n]},n};var Qo=-La/2,nc=2*La-1e-6;oa.svg.line.radial=function(){var n=Ce(ci);return n.radius=n.x,delete n.x,n.angle=n.y,delete n.y,n},Fe.reverse=He,He.reverse=Fe,oa.svg.area=function(){return li(ft)},oa.svg.area.radial=function(){var n=li(ci);return n.radius=n.x,delete n.x,n.innerRadius=n.x0,delete n.x0,n.outerRadius=n.x1,delete n.x1,n.angle=n.y,delete n.y,n.startAngle=n.y0,delete n.y0,n.endAngle=n.y1,delete n.y1,n},oa.svg.chord=function(){function n(n,o){var c=t(this,i,n,o),l=t(this,a,n,o);return\"M\"+c.p0+r(c.r,c.p1,c.a1-c.a0)+(e(c,l)?u(c.r,c.p1,c.r,c.p0):u(c.r,c.p1,l.r,l.p0)+r(l.r,l.p1,l.a1-l.a0)+u(l.r,l.p1,c.r,c.p0))+\"Z\"}function t(n,t,e,r){var u=t.call(n,e,r),i=o.call(n,u,r),a=c.call(n,u,r)+Qo,f=l.call(n,u,r)+Qo;return{r:i,a0:a,a1:f,p0:[i*Math.cos(a),i*Math.sin(a)],p1:[i*Math.cos(f),i*Math.sin(f)]}}function e(n,t){return n.a0==t.a0&&n.a1==t.a1}function r(n,t,e){return\"A\"+n+\",\"+n+\" 0 \"+ +(e>La)+\",1 \"+t}function u(n,t,e,r){return\"Q 0,0 \"+r}var i=le,a=fe,o=fi,c=ai,l=oi;return n.radius=function(t){return arguments.length?(o=lt(t),n):o},n.source=function(t){return arguments.length?(i=lt(t),n):i},n.target=function(t){return arguments.length?(a=lt(t),n):a},n.startAngle=function(t){return arguments.length?(c=lt(t),n):c},n.endAngle=function(t){return arguments.length?(l=lt(t),n):l},n},oa.svg.diagonal=function(){function n(n,u){var i=t.call(this,n,u),a=e.call(this,n,u),o=(i.y+a.y)/2,c=[i,{x:i.x,y:o},{x:a.x,y:o},a];return c=c.map(r),\"M\"+c[0]+\"C\"+c[1]+\" \"+c[2]+\" \"+c[3]}var t=le,e=fe,r=si;return n.source=function(e){return arguments.length?(t=lt(e),n):t},n.target=function(t){return arguments.length?(e=lt(t),n):e},n.projection=function(t){return arguments.length?(r=t,n):r},n},oa.svg.diagonal.radial=function(){var n=oa.svg.diagonal(),t=si,e=n.projection;return n.projection=function(n){return arguments.length?e(hi(t=n)):t},n},oa.svg.symbol=function(){function n(n,r){return(tc.get(t.call(this,n,r))||di)(e.call(this,n,r))}var t=pi,e=gi;return n.type=function(e){return arguments.length?(t=lt(e),n):t},n.size=function(t){return arguments.length?(e=lt(t),n):e},n};var tc=oa.map({circle:di,cross:function(n){var t=Math.sqrt(n/5)/2;return\"M\"+-3*t+\",\"+-t+\"H\"+-t+\"V\"+-3*t+\"H\"+t+\"V\"+-t+\"H\"+3*t+\"V\"+t+\"H\"+t+\"V\"+3*t+\"H\"+-t+\"V\"+t+\"H\"+-3*t+\"Z\"},diamond:function(n){var t=Math.sqrt(n/(2*uc)),e=t*uc;return\"M0,\"+-t+\"L\"+e+\",0\"+\" 0,\"+t+\" \"+-e+\",0\"+\"Z\"},square:function(n){var t=Math.sqrt(n)/2;return\"M\"+-t+\",\"+-t+\"L\"+t+\",\"+-t+\" \"+t+\",\"+t+\" \"+-t+\",\"+t+\"Z\"},\"triangle-down\":function(n){var t=Math.sqrt(n/rc),e=t*rc/2;return\"M0,\"+e+\"L\"+t+\",\"+-e+\" \"+-t+\",\"+-e+\"Z\"},\"triangle-up\":function(n){var t=Math.sqrt(n/rc),e=t*rc/2;return\"M0,\"+-e+\"L\"+t+\",\"+e+\" \"+-t+\",\"+e+\"Z\"}});oa.svg.symbolTypes=tc.keys();var ec,rc=Math.sqrt(3),uc=Math.tan(30*Ha),ic=[],ac=0,oc={ease:Sr,delay:0,duration:250};ic.call=Ea.call,ic.empty=Ea.empty,ic.node=Ea.node,oa.transition=function(n){return arguments.length?ec?n.transition():n:Ta.transition()},oa.transition.prototype=ic,ic.select=function(n){var t,e,r,u=this.id,i=[];\"function\"!=typeof n&&(n=m(n));for(var a=-1,o=this.length;++a<o;){i.push(t=[]);for(var c=this[a],l=-1,f=c.length;++l<f;)(r=c[l])&&(e=n.call(r,r.__data__,l))?(\"__data__\"in r&&(e.__data__=r.__data__),Mi(e,l,u,r.__transition__[u]),t.push(e)):t.push(null)}return mi(i,u)},ic.selectAll=function(n){var t,e,r,u,i,a=this.id,o=[];\"function\"!=typeof n&&(n=v(n));for(var c=-1,l=this.length;++c<l;)for(var f=this[c],s=-1,h=f.length;++s<h;)if(r=f[s]){i=r.__transition__[a],e=n.call(r,r.__data__,s),o.push(t=[]);for(var g=-1,p=e.length;++g<p;)Mi(u=e[g],g,a,i),t.push(u)}return mi(o,a)},ic.filter=function(n){var t,e,r,u=[];\"function\"!=typeof n&&(n=A(n));for(var i=0,a=this.length;a>i;i++){u.push(t=[]);for(var e=this[i],o=0,c=e.length;c>o;o++)(r=e[o])&&n.call(r,r.__data__,o)&&t.push(r)}return mi(u,this.id,this.time).ease(this.ease())},ic.tween=function(n,t){var e=this.id;return arguments.length<2?this.node().__transition__[e].tween.get(n):D(this,null==t?function(t){t.__transition__[e].tween.remove(n)}:function(r){r.__transition__[e].tween.set(n,t)})},ic.attr=function(n,t){function e(){this.removeAttribute(i)}function r(){this.removeAttributeNS(i.space,i.local)}if(arguments.length<2){for(t in n)this.attr(t,n[t]);return this}var u=vr(n),i=oa.ns.qualify(n);return vi(this,\"attr.\"+n,t,function(n){function t(){var t,e=this.getAttribute(i);return e!==n&&(t=u(e,n),function(n){this.setAttribute(i,t(n))})}function a(){var t,e=this.getAttributeNS(i.space,i.local);return e!==n&&(t=u(e,n),function(n){this.setAttributeNS(i.space,i.local,t(n))})}return null==n?i.local?r:e:(n+=\"\",i.local?a:t)})},ic.attrTween=function(n,t){function e(n,e){var r=t.call(this,n,e,this.getAttribute(u));return r&&function(n){this.setAttribute(u,r(n))}}function r(n,e){var r=t.call(this,n,e,this.getAttributeNS(u.space,u.local));return r&&function(n){this.setAttributeNS(u.space,u.local,r(n))}}var u=oa.ns.qualify(n);return this.tween(\"attr.\"+n,u.local?r:e)},ic.style=function(n,t,e){function r(){this.style.removeProperty(n)}var u=arguments.length;if(3>u){if(\"string\"!=typeof n){2>u&&(t=\"\");for(e in n)this.style(e,n[e],t);return this}e=\"\"}var i=vr(n);return vi(this,\"style.\"+n,t,function(t){function u(){var r,u=la.getComputedStyle(this,null).getPropertyValue(n);return u!==t&&(r=i(u,t),function(t){this.style.setProperty(n,r(t),e)})}return null==t?r:(t+=\"\",u)})},ic.styleTween=function(n,t,e){return arguments.length<3&&(e=\"\"),this.tween(\"style.\"+n,function(r,u){var i=t.call(this,r,u,la.getComputedStyle(this,null).getPropertyValue(n));return i&&function(t){this.style.setProperty(n,i(t),e)}})},ic.text=function(n){return vi(this,\"text\",n,yi)},ic.remove=function(){return this.each(\"end.transition\",function(){var n;!this.__transition__&&(n=this.parentNode)&&n.removeChild(this)})},ic.ease=function(n){var t=this.id;return arguments.length<1?this.node().__transition__[t].ease:(\"function\"!=typeof n&&(n=oa.ease.apply(oa,arguments)),D(this,function(e){e.__transition__[t].ease=n}))},ic.delay=function(n){var t=this.id;return D(this,\"function\"==typeof n?function(e,r,u){e.__transition__[t].delay=n.call(e,e.__data__,r,u)|0}:(n|=0,function(e){e.__transition__[t].delay=n}))},ic.duration=function(n){var t=this.id;return D(this,\"function\"==typeof n?function(e,r,u){e.__transition__[t].duration=Math.max(1,n.call(e,e.__data__,r,u)|0)}:(n=Math.max(1,0|n),function(e){e.__transition__[t].duration=n}))},ic.each=function(n,t){var e=this.id;if(arguments.length<2){var r=oc,u=ec;ec=e,D(this,function(t,r,u){oc=t.__transition__[e],n.call(t,t.__data__,r,u)}),oc=r,ec=u}else D(this,function(r){r.__transition__[e].event.on(n,t)});return this},ic.transition=function(){for(var n,t,e,r,u=this.id,i=++ac,a=[],o=0,c=this.length;c>o;o++){a.push(n=[]);for(var t=this[o],l=0,f=t.length;f>l;l++)(e=t[l])&&(r=Object.create(e.__transition__[u]),r.delay+=r.duration,Mi(e,l,i,r)),n.push(e)}return mi(a,i)},oa.svg.axis=function(){function n(n){n.each(function(){var n,s=oa.select(this),h=null==l?e.ticks?e.ticks.apply(e,c):e.domain():l,g=null==t?e.tickFormat?e.tickFormat.apply(e,c):String:t,p=_i(e,h,f),d=s.selectAll(\".tick.minor\").data(p,String),m=d.enter().insert(\"line\",\".tick\").attr(\"class\",\"tick minor\").style(\"opacity\",1e-6),v=oa.transition(d.exit()).style(\"opacity\",1e-6).remove(),y=oa.transition(d).style(\"opacity\",1),M=s.selectAll(\".tick.major\").data(h,String),x=M.enter().insert(\"g\",\"path\").attr(\"class\",\"tick major\").style(\"opacity\",1e-6),b=oa.transition(M.exit()).style(\"opacity\",1e-6).remove(),_=oa.transition(M).style(\"opacity\",1),w=Lu(e),S=s.selectAll(\".domain\").data([0]),E=(S.enter().append(\"path\").attr(\"class\",\"domain\"),oa.transition(S)),k=e.copy(),A=this.__chart__||k;this.__chart__=k,x.append(\"line\"),x.append(\"text\");var q=x.select(\"line\"),N=_.select(\"line\"),T=M.select(\"text\").text(g),C=x.select(\"text\"),z=_.select(\"text\");switch(r){case\"bottom\":n=xi,m.attr(\"y2\",i),y.attr(\"x2\",0).attr(\"y2\",i),q.attr(\"y2\",u),C.attr(\"y\",Math.max(u,0)+o),N.attr(\"x2\",0).attr(\"y2\",u),z.attr(\"x\",0).attr(\"y\",Math.max(u,0)+o),T.attr(\"dy\",\".71em\").style(\"text-anchor\",\"middle\"),E.attr(\"d\",\"M\"+w[0]+\",\"+a+\"V0H\"+w[1]+\"V\"+a);break;case\"top\":n=xi,m.attr(\"y2\",-i),y.attr(\"x2\",0).attr(\"y2\",-i),q.attr(\"y2\",-u),C.attr(\"y\",-(Math.max(u,0)+o)),N.attr(\"x2\",0).attr(\"y2\",-u),z.attr(\"x\",0).attr(\"y\",-(Math.max(u,0)+o)),T.attr(\"dy\",\"0em\").style(\"text-anchor\",\"middle\"),E.attr(\"d\",\"M\"+w[0]+\",\"+-a+\"V0H\"+w[1]+\"V\"+-a);break;case\"left\":n=bi,m.attr(\"x2\",-i),y.attr(\"x2\",-i).attr(\"y2\",0),q.attr(\"x2\",-u),C.attr(\"x\",-(Math.max(u,0)+o)),N.attr(\"x2\",-u).attr(\"y2\",0),z.attr(\"x\",-(Math.max(u,0)+o)).attr(\"y\",0),T.attr(\"dy\",\".32em\").style(\"text-anchor\",\"end\"),E.attr(\"d\",\"M\"+-a+\",\"+w[0]+\"H0V\"+w[1]+\"H\"+-a);break;case\"right\":n=bi,m.attr(\"x2\",i),y.attr(\"x2\",i).attr(\"y2\",0),q.attr(\"x2\",u),C.attr(\"x\",Math.max(u,0)+o),N.attr(\"x2\",u).attr(\"y2\",0),z.attr(\"x\",Math.max(u,0)+o).attr(\"y\",0),T.attr(\"dy\",\".32em\").style(\"text-anchor\",\"start\"),E.attr(\"d\",\"M\"+a+\",\"+w[0]+\"H0V\"+w[1]+\"H\"+a)}if(e.ticks)x.call(n,A),_.call(n,k),b.call(n,k),m.call(n,A),y.call(n,k),v.call(n,k);else{var D=k.rangeBand()/2,j=function(n){return k(n)+D};x.call(n,j),_.call(n,j)}})}var t,e=oa.scale.linear(),r=cc,u=6,i=6,a=6,o=3,c=[10],l=null,f=0;return n.scale=function(t){return arguments.length?(e=t,n):e},n.orient=function(t){return arguments.length?(r=t in lc?t+\"\":cc,n):r},n.ticks=function(){return arguments.length?(c=arguments,n):c},n.tickValues=function(t){return arguments.length?(l=t,n):l},n.tickFormat=function(e){return arguments.length?(t=e,n):t},n.tickSize=function(t,e){if(!arguments.length)return u;var r=arguments.length-1;return u=+t,i=r>1?+e:u,a=r>0?+arguments[r]:u,n},n.tickPadding=function(t){return arguments.length?(o=+t,n):o},n.tickSubdivide=function(t){return arguments.length?(f=+t,n):f},n};var cc=\"bottom\",lc={top:1,right:1,bottom:1,left:1};oa.svg.brush=function(){function n(i){i.each(function(){var i,a=oa.select(this),l=a.selectAll(\".background\").data([0]),s=a.selectAll(\".extent\").data([0]),h=a.selectAll(\".resize\").data(f,String);a.style(\"pointer-events\",\"all\").on(\"mousedown.brush\",u).on(\"touchstart.brush\",u),l.enter().append(\"rect\").attr(\"class\",\"background\").style(\"visibility\",\"hidden\").style(\"cursor\",\"crosshair\"),s.enter().append(\"rect\").attr(\"class\",\"extent\").style(\"cursor\",\"move\"),h.enter().append(\"g\").attr(\"class\",function(n){return\"resize \"+n}).style(\"cursor\",function(n){return fc[n]}).append(\"rect\").attr(\"x\",function(n){return/[ew]$/.test(n)?-3:null}).attr(\"y\",function(n){return/^[ns]/.test(n)?-3:null}).attr(\"width\",6).attr(\"height\",6).style(\"visibility\",\"hidden\"),h.style(\"display\",n.empty()?\"none\":null),h.exit().remove(),o&&(i=Lu(o),l.attr(\"x\",i[0]).attr(\"width\",i[1]-i[0]),e(a)),c&&(i=Lu(c),l.attr(\"y\",i[0]).attr(\"height\",i[1]-i[0]),r(a)),t(a)})}function t(n){n.selectAll(\".resize\").attr(\"transform\",function(n){return\"translate(\"+h[+/e$/.test(n)][0]+\",\"+h[+/^s/.test(n)][1]+\")\"})}function e(n){n.select(\".extent\").attr(\"x\",h[0][0]),n.selectAll(\".extent,.n>rect,.s>rect\").attr(\"width\",h[1][0]-h[0][0])}function r(n){n.select(\".extent\").attr(\"y\",h[0][1]),n.selectAll(\".extent,.e>rect,.w>rect\").attr(\"height\",h[1][1]-h[0][1])}function u(){function u(){var n=oa.event.changedTouches;return n?oa.touches(y,n)[0]:oa.mouse(y)}function f(){oa.event.keyCode==32&&(E||(m=null,k[0]-=h[1][0],k[1]-=h[1][1],E=2),l())}function s(){oa.event.keyCode==32&&2==E&&(k[0]+=h[1][0],k[1]+=h[1][1],E=0,l())}function g(){var n=u(),i=!1;v&&(n[0]+=v[0],n[1]+=v[1]),E||(oa.event.altKey?(m||(m=[(h[0][0]+h[1][0])/2,(h[0][1]+h[1][1])/2]),k[0]=h[+(n[0]<m[0])][0],k[1]=h[+(n[1]<m[1])][1]):m=null),w&&p(n,o,0)&&(e(b),i=!0),S&&p(n,c,1)&&(r(b),i=!0),i&&(t(b),x({type:\"brush\",mode:E?\"move\":\"resize\"}))}function p(n,t,e){var r,u,a=Lu(t),o=a[0],c=a[1],l=k[e],f=h[1][e]-h[0][e];return E&&(o-=l,c-=f+l),r=Math.max(o,Math.min(c,n[e])),E?u=(r+=l)+f:(m&&(l=Math.max(o,Math.min(c,2*m[e]-r))),r>l?(u=r,r=l):u=l),h[0][e]!==r||h[1][e]!==u?(i=null,h[0][e]=r,h[1][e]=u,!0):void 0}function d(){g(),b.style(\"pointer-events\",\"all\").selectAll(\".resize\").style(\"display\",n.empty()?\"none\":null),oa.select(\"body\").style(\"cursor\",null),A.on(\"mousemove.brush\",null).on(\"mouseup.brush\",null).on(\"touchmove.brush\",null).on(\"touchend.brush\",null).on(\"keydown.brush\",null).on(\"keyup.brush\",null),x({type:\"brushend\"}),l()}var m,v,y=this,M=oa.select(oa.event.target),x=a.of(y,arguments),b=oa.select(y),_=M.datum(),w=!/^(n|s)$/.test(_)&&o,S=!/^(e|w)$/.test(_)&&c,E=M.classed(\"extent\"),k=u(),A=oa.select(la).on(\"mousemove.brush\",g).on(\"mouseup.brush\",d).on(\"touchmove.brush\",g).on(\"touchend.brush\",d).on(\"keydown.brush\",f).on(\"keyup.brush\",s);if(E)k[0]=h[0][0]-k[0],k[1]=h[0][1]-k[1];else if(_){var q=+/w$/.test(_),N=+/^n/.test(_);v=[h[1-q][0]-k[0],h[1-N][1]-k[1]],k[0]=h[q][0],k[1]=h[N][1]}else oa.event.altKey&&(m=k.slice());b.style(\"pointer-events\",\"none\").selectAll(\".resize\").style(\"display\",null),oa.select(\"body\").style(\"cursor\",M.style(\"cursor\")),x({type:\"brushstart\"}),g(),l()\n",
        "}var i,a=s(n,\"brushstart\",\"brush\",\"brushend\"),o=null,c=null,f=sc[0],h=[[0,0],[0,0]];return n.x=function(t){return arguments.length?(o=t,f=sc[!o<<1|!c],n):o},n.y=function(t){return arguments.length?(c=t,f=sc[!o<<1|!c],n):c},n.extent=function(t){var e,r,u,a,l;return arguments.length?(i=[[0,0],[0,0]],o&&(e=t[0],r=t[1],c&&(e=e[0],r=r[0]),i[0][0]=e,i[1][0]=r,o.invert&&(e=o(e),r=o(r)),e>r&&(l=e,e=r,r=l),h[0][0]=0|e,h[1][0]=0|r),c&&(u=t[0],a=t[1],o&&(u=u[1],a=a[1]),i[0][1]=u,i[1][1]=a,c.invert&&(u=c(u),a=c(a)),u>a&&(l=u,u=a,a=l),h[0][1]=0|u,h[1][1]=0|a),n):(t=i||h,o&&(e=t[0][0],r=t[1][0],i||(e=h[0][0],r=h[1][0],o.invert&&(e=o.invert(e),r=o.invert(r)),e>r&&(l=e,e=r,r=l))),c&&(u=t[0][1],a=t[1][1],i||(u=h[0][1],a=h[1][1],c.invert&&(u=c.invert(u),a=c.invert(a)),u>a&&(l=u,u=a,a=l))),o&&c?[[e,u],[r,a]]:o?[e,r]:c&&[u,a])},n.clear=function(){return i=null,h[0][0]=h[0][1]=h[1][0]=h[1][1]=0,n},n.empty=function(){return o&&h[0][0]===h[1][0]||c&&h[0][1]===h[1][1]},oa.rebind(n,a,\"on\")};var fc={n:\"ns-resize\",e:\"ew-resize\",s:\"ns-resize\",w:\"ew-resize\",nw:\"nwse-resize\",ne:\"nesw-resize\",se:\"nwse-resize\",sw:\"nesw-resize\"},sc=[[\"n\",\"e\",\"s\",\"w\",\"nw\",\"ne\",\"se\",\"sw\"],[\"e\",\"w\"],[\"n\",\"s\"],[]];oa.time={};var hc=Date,gc=[\"Sunday\",\"Monday\",\"Tuesday\",\"Wednesday\",\"Thursday\",\"Friday\",\"Saturday\"];wi.prototype={getDate:function(){return this._.getUTCDate()},getDay:function(){return this._.getUTCDay()},getFullYear:function(){return this._.getUTCFullYear()},getHours:function(){return this._.getUTCHours()},getMilliseconds:function(){return this._.getUTCMilliseconds()},getMinutes:function(){return this._.getUTCMinutes()},getMonth:function(){return this._.getUTCMonth()},getSeconds:function(){return this._.getUTCSeconds()},getTime:function(){return this._.getTime()},getTimezoneOffset:function(){return 0},valueOf:function(){return this._.valueOf()},setDate:function(){pc.setUTCDate.apply(this._,arguments)},setDay:function(){pc.setUTCDay.apply(this._,arguments)},setFullYear:function(){pc.setUTCFullYear.apply(this._,arguments)},setHours:function(){pc.setUTCHours.apply(this._,arguments)},setMilliseconds:function(){pc.setUTCMilliseconds.apply(this._,arguments)},setMinutes:function(){pc.setUTCMinutes.apply(this._,arguments)},setMonth:function(){pc.setUTCMonth.apply(this._,arguments)},setSeconds:function(){pc.setUTCSeconds.apply(this._,arguments)},setTime:function(){pc.setTime.apply(this._,arguments)}};var pc=Date.prototype,dc=\"%a %b %e %X %Y\",mc=\"%m/%d/%Y\",vc=\"%H:%M:%S\",yc=[\"Sunday\",\"Monday\",\"Tuesday\",\"Wednesday\",\"Thursday\",\"Friday\",\"Saturday\"],Mc=[\"Sun\",\"Mon\",\"Tue\",\"Wed\",\"Thu\",\"Fri\",\"Sat\"],xc=[\"January\",\"February\",\"March\",\"April\",\"May\",\"June\",\"July\",\"August\",\"September\",\"October\",\"November\",\"December\"],bc=[\"Jan\",\"Feb\",\"Mar\",\"Apr\",\"May\",\"Jun\",\"Jul\",\"Aug\",\"Sep\",\"Oct\",\"Nov\",\"Dec\"];oa.time.year=Si(function(n){return n=oa.time.day(n),n.setMonth(0,1),n},function(n,t){n.setFullYear(n.getFullYear()+t)},function(n){return n.getFullYear()}),oa.time.years=oa.time.year.range,oa.time.years.utc=oa.time.year.utc.range,oa.time.day=Si(function(n){var t=new hc(1970,0);return t.setFullYear(n.getFullYear(),n.getMonth(),n.getDate()),t},function(n,t){n.setDate(n.getDate()+t)},function(n){return n.getDate()-1}),oa.time.days=oa.time.day.range,oa.time.days.utc=oa.time.day.utc.range,oa.time.dayOfYear=function(n){var t=oa.time.year(n);return Math.floor((n-t-(n.getTimezoneOffset()-t.getTimezoneOffset())*6e4)/864e5)},gc.forEach(function(n,t){n=n.toLowerCase(),t=7-t;var e=oa.time[n]=Si(function(n){return(n=oa.time.day(n)).setDate(n.getDate()-(n.getDay()+t)%7),n},function(n,t){n.setDate(n.getDate()+Math.floor(t)*7)},function(n){var e=oa.time.year(n).getDay();return Math.floor((oa.time.dayOfYear(n)+(e+t)%7)/7)-(e!==t)});oa.time[n+\"s\"]=e.range,oa.time[n+\"s\"].utc=e.utc.range,oa.time[n+\"OfYear\"]=function(n){var e=oa.time.year(n).getDay();return Math.floor((oa.time.dayOfYear(n)+(e+t)%7)/7)}}),oa.time.week=oa.time.sunday,oa.time.weeks=oa.time.sunday.range,oa.time.weeks.utc=oa.time.sunday.utc.range,oa.time.weekOfYear=oa.time.sundayOfYear,oa.time.format=function(n){function t(t){for(var r,u,i,a=[],o=-1,c=0;++o<e;)n.charCodeAt(o)===37&&(a.push(n.substring(c,o)),(u=qc[r=n.charAt(++o)])!=null&&(r=n.charAt(++o)),(i=Nc[r])&&(r=i(t,null==u?\"e\"===r?\" \":\"0\":u)),a.push(r),c=o+1);return a.push(n.substring(c,o)),a.join(\"\")}var e=n.length;return t.parse=function(t){var e={y:1900,m:0,d:1,H:0,M:0,S:0,L:0},r=ki(e,n,t,0);if(r!=t.length)return null;\"p\"in e&&(e.H=e.H%12+e.p*12);var u=new hc;return u.setFullYear(e.y,e.m,e.d),u.setHours(e.H,e.M,e.S,e.L),u},t.toString=function(){return n},t};var _c=Ai(yc),wc=Ai(Mc),Sc=Ai(xc),Ec=qi(xc),kc=Ai(bc),Ac=qi(bc),qc={\"-\":\"\",_:\" \",0:\"0\"},Nc={a:function(n){return Mc[n.getDay()]},A:function(n){return yc[n.getDay()]},b:function(n){return bc[n.getMonth()]},B:function(n){return xc[n.getMonth()]},c:oa.time.format(dc),d:function(n,t){return Ni(n.getDate(),t,2)},e:function(n,t){return Ni(n.getDate(),t,2)},H:function(n,t){return Ni(n.getHours(),t,2)},I:function(n,t){return Ni(n.getHours()%12||12,t,2)},j:function(n,t){return Ni(1+oa.time.dayOfYear(n),t,3)},L:function(n,t){return Ni(n.getMilliseconds(),t,3)},m:function(n,t){return Ni(n.getMonth()+1,t,2)},M:function(n,t){return Ni(n.getMinutes(),t,2)},p:function(n){return n.getHours()>=12?\"PM\":\"AM\"},S:function(n,t){return Ni(n.getSeconds(),t,2)},U:function(n,t){return Ni(oa.time.sundayOfYear(n),t,2)},w:function(n){return n.getDay()},W:function(n,t){return Ni(oa.time.mondayOfYear(n),t,2)},x:oa.time.format(mc),X:oa.time.format(vc),y:function(n,t){return Ni(n.getFullYear()%100,t,2)},Y:function(n,t){return Ni(n.getFullYear()%1e4,t,4)},Z:Bi,\"%\":function(){return\"%\"}},Tc={a:Ti,A:Ci,b:zi,B:Di,c:ji,d:Yi,e:Yi,H:Ui,I:Ui,L:Xi,m:Oi,M:Ii,p:Zi,S:Vi,x:Li,X:Fi,y:Pi,Y:Hi},Cc=/^\\s*\\d+/,zc=oa.map({am:0,pm:1});oa.time.format.utc=function(n){function t(n){try{hc=wi;var t=new hc;return t._=n,e(t)}finally{hc=Date}}var e=oa.time.format(n);return t.parse=function(n){try{hc=wi;var t=e.parse(n);return t&&t._}finally{hc=Date}},t.toString=e.toString,t};var Dc=oa.time.format.utc(\"%Y-%m-%dT%H:%M:%S.%LZ\");oa.time.format.iso=Date.prototype.toISOString&&+new Date(\"2000-01-01T00:00:00.000Z\")?$i:Dc,$i.parse=function(n){var t=new Date(n);return isNaN(t)?null:t},$i.toString=Dc.toString,oa.time.second=Si(function(n){return new hc(Math.floor(n/1e3)*1e3)},function(n,t){n.setTime(n.getTime()+Math.floor(t)*1e3)},function(n){return n.getSeconds()}),oa.time.seconds=oa.time.second.range,oa.time.seconds.utc=oa.time.second.utc.range,oa.time.minute=Si(function(n){return new hc(Math.floor(n/6e4)*6e4)},function(n,t){n.setTime(n.getTime()+Math.floor(t)*6e4)},function(n){return n.getMinutes()}),oa.time.minutes=oa.time.minute.range,oa.time.minutes.utc=oa.time.minute.utc.range,oa.time.hour=Si(function(n){var t=n.getTimezoneOffset()/60;return new hc((Math.floor(n/36e5-t)+t)*36e5)},function(n,t){n.setTime(n.getTime()+Math.floor(t)*36e5)},function(n){return n.getHours()}),oa.time.hours=oa.time.hour.range,oa.time.hours.utc=oa.time.hour.utc.range,oa.time.month=Si(function(n){return n=oa.time.day(n),n.setDate(1),n},function(n,t){n.setMonth(n.getMonth()+t)},function(n){return n.getMonth()}),oa.time.months=oa.time.month.range,oa.time.months.utc=oa.time.month.utc.range;var jc=[1e3,5e3,15e3,3e4,6e4,3e5,9e5,18e5,36e5,108e5,216e5,432e5,864e5,1728e5,6048e5,2592e6,7776e6,31536e6],Lc=[[oa.time.second,1],[oa.time.second,5],[oa.time.second,15],[oa.time.second,30],[oa.time.minute,1],[oa.time.minute,5],[oa.time.minute,15],[oa.time.minute,30],[oa.time.hour,1],[oa.time.hour,3],[oa.time.hour,6],[oa.time.hour,12],[oa.time.day,1],[oa.time.day,2],[oa.time.week,1],[oa.time.month,1],[oa.time.month,3],[oa.time.year,1]],Fc=[[oa.time.format(\"%Y\"),Dt],[oa.time.format(\"%B\"),function(n){return n.getMonth()}],[oa.time.format(\"%b %d\"),function(n){return n.getDate()!=1}],[oa.time.format(\"%a %d\"),function(n){return n.getDay()&&n.getDate()!=1}],[oa.time.format(\"%I %p\"),function(n){return n.getHours()}],[oa.time.format(\"%I:%M\"),function(n){return n.getMinutes()}],[oa.time.format(\":%S\"),function(n){return n.getSeconds()}],[oa.time.format(\".%L\"),function(n){return n.getMilliseconds()}]],Hc=oa.scale.linear(),Pc=Wi(Fc);Lc.year=function(n,t){return Hc.domain(n.map(na)).ticks(t).map(Qi)},oa.time.scale=function(){return Ji(oa.scale.linear(),Lc,Pc)};var Rc=Lc.map(function(n){return[n[0].utc,n[1]]}),Oc=[[oa.time.format.utc(\"%Y\"),Dt],[oa.time.format.utc(\"%B\"),function(n){return n.getUTCMonth()}],[oa.time.format.utc(\"%b %d\"),function(n){return n.getUTCDate()!=1}],[oa.time.format.utc(\"%a %d\"),function(n){return n.getUTCDay()&&n.getUTCDate()!=1}],[oa.time.format.utc(\"%I %p\"),function(n){return n.getUTCHours()}],[oa.time.format.utc(\"%I:%M\"),function(n){return n.getUTCMinutes()}],[oa.time.format.utc(\":%S\"),function(n){return n.getUTCSeconds()}],[oa.time.format.utc(\".%L\"),function(n){return n.getUTCMilliseconds()}]],Yc=Wi(Oc);return Rc.year=function(n,t){return Hc.domain(n.map(ea)).ticks(t).map(ta)},oa.time.scale.utc=function(){return Ji(oa.scale.linear(),Rc,Yc)},oa.text=function(){return oa.xhr.apply(oa,arguments).response(ra)},oa.json=function(n,t){return oa.xhr(n,\"application/json\",t).response(ua)},oa.html=function(n,t){return oa.xhr(n,\"text/html\",t).response(ia)},oa.xml=function(){return oa.xhr.apply(oa,arguments).response(aa)},oa}();</script>"
       ],
       "metadata": {},
       "output_type": "display_data"
      },
      {
       "html": [
        "<script charset=\"utf-8\">\n",
        "// Construct a callback for toggling geometries on/off using color groupings.\n",
        "//\n",
        "// Args:\n",
        "//   colorclass: class names assigned to geometries belonging to a paricular\n",
        "//               color group.\n",
        "//\n",
        "// Returns:\n",
        "//   A callback function.\n",
        "//\n",
        "var guide_toggle_color = function(parent_id, colorclass) {\n",
        "    var visible = true;\n",
        "    return (function() {\n",
        "        if (visible) {\n",
        "            d3.select(this)\n",
        "              .transition()\n",
        "              .duration(250)\n",
        "              .style(\"opacity\", 0.5);\n",
        "            d3.select(parent_id)\n",
        "              .selectAll(\".geometry.\" + colorclass)\n",
        "              .transition()\n",
        "              .duration(250)\n",
        "              .style(\"opacity\", 0);\n",
        "            visible = false;\n",
        "        } else {\n",
        "            d3.select(this)\n",
        "              .transition()\n",
        "              .duration(250)\n",
        "              .style(\"opacity\", 1.0);\n",
        "            d3.select(parent_id)\n",
        "              .selectAll(\".geometry.\" + colorclass)\n",
        "              .transition()\n",
        "              .duration(250)\n",
        "              .style(\"opacity\", 1.0);\n",
        "            visible = true;\n",
        "        }\n",
        "    });\n",
        "};\n",
        "\n",
        "\n",
        "// Construct a callback used to toggle highly-visibility grid lines.\n",
        "//\n",
        "// Args:\n",
        "//   color: Faded-in/faded-out color, respectively.\n",
        "//\n",
        "// Returns:\n",
        "//   Callback function.\n",
        "//\n",
        "var guide_background_mouseover = function(parent_id, color) {\n",
        "    return (function () {\n",
        "        d3.select(parent_id)\n",
        "          .selectAll(\".xgridlines, .ygridlines\")\n",
        "          .transition()\n",
        "          .duration(250)\n",
        "          .attr(\"stroke\", color);\n",
        "    });\n",
        "};\n",
        "\n",
        "var guide_background_mouseout = function(parent_id, color) {\n",
        "    return (function () {\n",
        "        d3.select(parent_id)\n",
        "          .selectAll(\".xgridlines, .ygridlines\")\n",
        "          .transition()\n",
        "          .duration(250)\n",
        "          .attr(\"stroke\", color);\n",
        "    });\n",
        "};\n",
        "\n",
        "\n",
        "// Construct a call back used for mouseover effects in the point geometry.\n",
        "//\n",
        "// Args:\n",
        "//   lw: Stroke width to transition to.\n",
        "//\n",
        "// Returns:\n",
        "//  Callback function.\n",
        "//\n",
        "var geom_point_mouseover = function(lw) {\n",
        "    return (function() {\n",
        "        d3.select(this)\n",
        "          .transition()\n",
        "          .duration(100)\n",
        "          .attr(\"stroke-width\", lw);\n",
        "    });\n",
        "};\n",
        "\n",
        "\n",
        "\n",
        "// Translate and scale geometry while trying to maintain scale invariance for\n",
        "// certain ellements.\n",
        "//\n",
        "// Args:\n",
        "//   parent_id: Id of the parent element containing the svg element.\n",
        "//   t: A transform of the form {\"scale\": scale}\n",
        "//   old_scale: The scaling factor applied prior to t.scale.\n",
        "//\n",
        "var set_geometry_transform = function(parent_id, t, old_scale) {\n",
        "    // transform geometries\n",
        "    d3.select(parent_id)\n",
        "      .selectAll(\".geometry\")\n",
        "      .attr(\"transform\", function() {\n",
        "          return \"translate(\" + [t.x, t.y] + \") \" +\n",
        "                 \"scale(\" + t.scale + \")\";\n",
        "      });\n",
        "\n",
        "    // unscale geometry widths, radiuses, etc.\n",
        "    var size_attribs = [\"r\"];\n",
        "    d3.select(parent_id)\n",
        "      .selectAll(\".geometry\")\n",
        "      .each(function() {\n",
        "          this_selection = d3.select(this);\n",
        "          for (var i in size_attribs) {\n",
        "              var attrib = size_attribs[i];\n",
        "              this_selection.attr(attrib,\n",
        "                  old_scale / t.scale * this_selection.attr(attrib));\n",
        "          }\n",
        "      });\n",
        "\n",
        "    // TODO:\n",
        "    // Is this going to work when we do things other than circles. Suppose we\n",
        "    // have plots where we have a path drawing some sort of symbol which we want\n",
        "    // to remain size-invariant. Should we be trying to place things using\n",
        "    // translate?\n",
        "\n",
        "    // transform gridlines\n",
        "    d3.select(parent_id)\n",
        "      .selectAll(\".xgridlines\")\n",
        "      .attr(\"transform\", function() {\n",
        "        return \"translate(\" + [t.x, 0.0] + \") \" +\n",
        "               \"scale(\" + [t.scale, 1.0] + \")\";\n",
        "      });\n",
        "\n",
        "      d3.select(parent_id)\n",
        "        .selectAll(\".ygridlines\")\n",
        "        .attr(\"transform\", function() {\n",
        "          return \"translate(\" + [0.0, t.y] + \") \" +\n",
        "                 \"scale(\" + [1.0, t.scale] + \")\";\n",
        "      });\n",
        "\n",
        "    // unscale gridline widths\n",
        "    d3.select(parent_id)\n",
        "      .selectAll(\".xgridlines,.ygridlines\")\n",
        "      .each(function() {\n",
        "          d3.select(this).attr(\"stroke-width\",\n",
        "              old_scale / t.scale * d3.select(this).attr(\"stroke-width\"));\n",
        "      });\n",
        "\n",
        "    // move labels around\n",
        "    d3.select(parent_id)\n",
        "      .selectAll(\".xlabels\")\n",
        "      .attr(\"transform\", function() {\n",
        "          return \"translate(\" + [t.x, 0.0] + \")\";\n",
        "      })\n",
        "      .selectAll(\"text\")\n",
        "        .each(function() {\n",
        "            d3.select(this).attr(\"x\",\n",
        "                t.scale / old_scale * d3.select(this).attr(\"x\"));\n",
        "        });\n",
        "\n",
        "    d3.select(parent_id)\n",
        "      .selectAll(\".ylabels\")\n",
        "      .attr(\"transform\", function() {\n",
        "          return \"translate(\" + [0.0, t.y] + \")\";\n",
        "      })\n",
        "      .selectAll(\"text\")\n",
        "        .each(function() {\n",
        "            d3.select(this).attr(\"y\",\n",
        "                t.scale / old_scale * d3.select(this).attr(\"y\"));\n",
        "        });\n",
        "};\n",
        "\n",
        "\n",
        "// Construct a callback used for zoombehavior.\n",
        "//\n",
        "// Args:\n",
        "//   parent_id: Id of the parent element containing the svg element.\n",
        "//   t: A transform of the form {\"scale\": scale} to close arround.\n",
        "//\n",
        "// Returns:\n",
        "//   A zoom behavior.\n",
        "//\n",
        "var zoom_behavior = function(parent_id, t) {\n",
        "    var zm = d3.behavior.zoom();\n",
        "    zm.scaleExtent([1.0/3.0, 10.0])\n",
        "      .on(\"zoom\", function(d, i) {\n",
        "        old_scale = t.scale;\n",
        "        t.scale = d3.event.scale;\n",
        "        var bbox = d3.select(parent_id)\n",
        "                     .select(\".guide.background\")\n",
        "                     .select(\"path\").node().getBBox();\n",
        "\n",
        "        var x_min = -bbox.width * t.scale - (t.scale * bbox.width - bbox.width);\n",
        "        var x_max = bbox.width * t.scale;\n",
        "        var y_min = -bbox.height * t.scale - (t.scale * bbox.height - bbox.height);\n",
        "        var y_max = bbox.height * t.scale;\n",
        "\n",
        "        var x0 = bbox.x - t.scale * bbox.x;\n",
        "        var y0 = bbox.y - t.scale * bbox.y;\n",
        "\n",
        "        var tx = Math.max(Math.min(d3.event.translate[0] - x0, x_max), x_min);\n",
        "        var ty = Math.max(Math.min(d3.event.translate[1] - y0, y_max), y_min);\n",
        "\n",
        "        tx += x0;\n",
        "        ty += y0;\n",
        "\n",
        "        set_geometry_transform(\n",
        "            parent_id,\n",
        "            {\"x\": tx,\n",
        "             \"y\": ty,\n",
        "             \"scale\": t.scale}, old_scale);\n",
        "        zm.translate([tx, ty]);\n",
        "    });\n",
        "    return zm;\n",
        "};\n",
        "\n",
        "\n",
        "</script>"
       ],
       "metadata": {},
       "output_type": "display_data"
      },
      {
       "output_type": "stream",
       "stream": "stderr",
       "text": [
        "Warning: using Base.Stat in module Stat conflicts with an existing identifier.\n"
       ]
      }
     ],
     "prompt_number": 28
    },
    {
     "cell_type": "code",
     "collapsed": false,
     "input": [
      "x = rand(Gamma(3, 3), 100_000)"
     ],
     "language": "python",
     "metadata": {},
     "outputs": [
      {
       "metadata": {},
       "output_type": "pyout",
       "prompt_number": 29,
       "text": [
        "100000-element Array{Float64,1}:\n",
        "  1.61993\n",
        " 13.2547 \n",
        "  9.7641 \n",
        "  1.92744\n",
        " 15.3583 \n",
        "  9.9185 \n",
        "  4.90103\n",
        "  4.34737\n",
        " 20.1414 \n",
        " 11.8634 \n",
        " 10.5974 \n",
        " 14.0302 \n",
        " 11.6773 \n",
        "  \u22ee      \n",
        " 14.4165 \n",
        "  3.3993 \n",
        "  6.70712\n",
        " 11.1975 \n",
        " 14.8757 \n",
        "  5.84021\n",
        " 14.8284 \n",
        " 15.476  \n",
        "  6.18352\n",
        " 11.486  \n",
        "  6.63883\n",
        "  3.89843"
       ]
      }
     ],
     "prompt_number": 29
    },
    {
     "cell_type": "code",
     "collapsed": false,
     "input": [
      "k = kde(x)"
     ],
     "language": "python",
     "metadata": {},
     "outputs": [
      {
       "metadata": {},
       "output_type": "pyout",
       "prompt_number": 30,
       "text": [
        "UnivariateKDE([-1.2114170256521095,-1.1861566047777305,-1.1608961839033514,-1.1356357630289724,-1.1103753421545934,-1.0851149212802143,-1.0598545004058353,-1.0345940795314563,-1.0093336586570771,-0.9840732377826982  \u2026  50.26932071633238,50.29458113720676,50.31984155808114,50.34510197895552,50.370362399829894,50.395622820704276,50.42088324157866,50.44614366245303,50.471404083327414,50.49666450420179],[1.8016617469498314e-6,2.162544136798117e-6,2.6013362951545632e-6,3.1314963248544464e-6,3.7686815578547722e-6,4.531028685986205e-6,5.439459594728038e-6,6.518013536779832e-6,7.794205974586549e-6,9.299414061718012e-6  \u2026  6.449342229844295e-7,6.374661847579797e-7,6.487608728149871e-7,6.808730111365266e-7,7.364014935649715e-7,8.185827680873726e-7,9.313962934454014e-7,1.0796835049726398e-6,1.269281780339951e-6,1.5071749298759885e-6])"
       ]
      }
     ],
     "prompt_number": 30
    },
    {
     "cell_type": "code",
     "collapsed": false,
     "input": [
      "names(Distributions.UnivariateKDE)"
     ],
     "language": "python",
     "metadata": {},
     "outputs": [
      {
       "metadata": {},
       "output_type": "pyout",
       "prompt_number": 31,
       "text": [
        "2-element Array{Any,1}:\n",
        " :x      \n",
        " :density"
       ]
      }
     ],
     "prompt_number": 31
    },
    {
     "cell_type": "code",
     "collapsed": false,
     "input": [
      "plot(x = k.x, y = k.density, Geom.line)"
     ],
     "language": "python",
     "metadata": {},
     "outputs": [
      {
       "html": [
        "<div id=\"gadflyplot-qecceRC3xfFRH6Z6es4O\"></div>\n",
        "<script>\n",
        "function draw_with_data(data, parent_id) {\n",
        "  var g = d3.select(parent_id)\n",
        "            .append(\"svg\")\n",
        "              .attr(\"width\", \"120mm\")\n",
        "              .attr(\"height\", \"80mm\")\n",
        "              .attr(\"viewBox\", \"0 0 120 80\")\n",
        "              .attr(\"stroke-width\", \"0.5\")\n",
        "              .attr(\"style\", \"stroke:black;fill:black\");\n",
        "  g.append(\"defs\");\n",
        "  var t = {\"scale\": 1.0};\n",
        "(function (g) {\n",
        "  d3.select(\"defs\")\n",
        "  .append(\"svg:clipPath\")\n",
        "    .attr(\"id\", parent_id + \"_clippath0\")\n",
        "    .append(\"svg:path\")\n",
        "      .attr(\"d\", \" M5,0 L 27.31 0 27.31 66.44 5 66.44 z\");g.attr(\"clip-path\", \"url(#\" + parent_id + \"_clippath0)\");\n",
        "  (function (g) {\n",
        "    g.attr(\"stroke\", \"none\")\n",
        "     .attr(\"fill\", \"#4C404B\")\n",
        "     .attr(\"font-family\", \"PT Sans,Helvetica Neue,Helvetica,sans\")\n",
        "     .attr(\"font-size\", \"3.18\")\n",
        "     .attr(\"class\", \"guide ylabels\");\n",
        "    g.append(\"svg:text\")\n",
        "       .attr(\"x\", 26.31)\n",
        "       .attr(\"y\", -4.05)\n",
        "       .attr(\"text-anchor\", \"end\")\n",
        "       .style(\"dominant-baseline\", \"central\")\n",
        "    .call(function(text) {\n",
        "  text.text(\"0.12\");\n",
        "})\n",
        ";\n",
        "    g.append(\"svg:text\")\n",
        "       .attr(\"x\", 26.31)\n",
        "       .attr(\"y\", 6.6)\n",
        "       .attr(\"text-anchor\", \"end\")\n",
        "       .style(\"dominant-baseline\", \"central\")\n",
        "    .call(function(text) {\n",
        "  text.text(\"0.1\");\n",
        "})\n",
        ";\n",
        "    g.append(\"svg:text\")\n",
        "       .attr(\"x\", 26.31)\n",
        "       .attr(\"y\", -36)\n",
        "       .attr(\"text-anchor\", \"end\")\n",
        "       .style(\"dominant-baseline\", \"central\")\n",
        "    .call(function(text) {\n",
        "  text.text(\"0.18\");\n",
        "})\n",
        ";\n",
        "    g.append(\"svg:text\")\n",
        "       .attr(\"x\", 26.31)\n",
        "       .attr(\"y\", 70.49)\n",
        "       .attr(\"text-anchor\", \"end\")\n",
        "       .style(\"dominant-baseline\", \"central\")\n",
        "    .call(function(text) {\n",
        "  text.text(\"-0.02\");\n",
        "})\n",
        ";\n",
        "    g.append(\"svg:text\")\n",
        "       .attr(\"x\", 26.31)\n",
        "       .attr(\"y\", -14.7)\n",
        "       .attr(\"text-anchor\", \"end\")\n",
        "       .style(\"dominant-baseline\", \"central\")\n",
        "    .call(function(text) {\n",
        "  text.text(\"0.14\");\n",
        "})\n",
        ";\n",
        "    g.append(\"svg:text\")\n",
        "       .attr(\"x\", 26.31)\n",
        "       .attr(\"y\", 123.74)\n",
        "       .attr(\"text-anchor\", \"end\")\n",
        "       .style(\"dominant-baseline\", \"central\")\n",
        "    .call(function(text) {\n",
        "  text.text(\"-0.12\");\n",
        "})\n",
        ";\n",
        "    g.append(\"svg:text\")\n",
        "       .attr(\"x\", 26.31)\n",
        "       .attr(\"y\", -57.3)\n",
        "       .attr(\"text-anchor\", \"end\")\n",
        "       .style(\"dominant-baseline\", \"central\")\n",
        "    .call(function(text) {\n",
        "  text.text(\"0.22\");\n",
        "})\n",
        ";\n",
        "    g.append(\"svg:text\")\n",
        "       .attr(\"x\", 26.31)\n",
        "       .attr(\"y\", 17.25)\n",
        "       .attr(\"text-anchor\", \"end\")\n",
        "       .style(\"dominant-baseline\", \"central\")\n",
        "    .call(function(text) {\n",
        "  text.text(\"0.08\");\n",
        "})\n",
        ";\n",
        "    g.append(\"svg:text\")\n",
        "       .attr(\"x\", 26.31)\n",
        "       .attr(\"y\", 38.54)\n",
        "       .attr(\"text-anchor\", \"end\")\n",
        "       .style(\"dominant-baseline\", \"central\")\n",
        "    .call(function(text) {\n",
        "  text.text(\"0.04\");\n",
        "})\n",
        ";\n",
        "    g.append(\"svg:text\")\n",
        "       .attr(\"x\", 26.31)\n",
        "       .attr(\"y\", -25.35)\n",
        "       .attr(\"text-anchor\", \"end\")\n",
        "       .style(\"dominant-baseline\", \"central\")\n",
        "    .call(function(text) {\n",
        "  text.text(\"0.16\");\n",
        "})\n",
        ";\n",
        "    g.append(\"svg:text\")\n",
        "       .attr(\"x\", 26.31)\n",
        "       .attr(\"y\", 59.84)\n",
        "       .attr(\"text-anchor\", \"end\")\n",
        "       .style(\"dominant-baseline\", \"central\")\n",
        "    .call(function(text) {\n",
        "  text.text(\"0\");\n",
        "})\n",
        ";\n",
        "    g.append(\"svg:text\")\n",
        "       .attr(\"x\", 26.31)\n",
        "       .attr(\"y\", 113.09)\n",
        "       .attr(\"text-anchor\", \"end\")\n",
        "       .style(\"dominant-baseline\", \"central\")\n",
        "    .call(function(text) {\n",
        "  text.text(\"-0.1\");\n",
        "})\n",
        ";\n",
        "    g.append(\"svg:text\")\n",
        "       .attr(\"x\", 26.31)\n",
        "       .attr(\"y\", 27.9)\n",
        "       .attr(\"text-anchor\", \"end\")\n",
        "       .style(\"dominant-baseline\", \"central\")\n",
        "    .call(function(text) {\n",
        "  text.text(\"0.06\");\n",
        "})\n",
        ";\n",
        "    g.append(\"svg:text\")\n",
        "       .attr(\"x\", 26.31)\n",
        "       .attr(\"y\", -46.65)\n",
        "       .attr(\"text-anchor\", \"end\")\n",
        "       .style(\"dominant-baseline\", \"central\")\n",
        "    .call(function(text) {\n",
        "  text.text(\"0.2\");\n",
        "})\n",
        ";\n",
        "    g.append(\"svg:text\")\n",
        "       .attr(\"x\", 26.31)\n",
        "       .attr(\"y\", 102.44)\n",
        "       .attr(\"text-anchor\", \"end\")\n",
        "       .style(\"dominant-baseline\", \"central\")\n",
        "    .call(function(text) {\n",
        "  text.text(\"-0.08\");\n",
        "})\n",
        ";\n",
        "    g.append(\"svg:text\")\n",
        "       .attr(\"x\", 26.31)\n",
        "       .attr(\"y\", 49.19)\n",
        "       .attr(\"text-anchor\", \"end\")\n",
        "       .style(\"dominant-baseline\", \"central\")\n",
        "    .call(function(text) {\n",
        "  text.text(\"0.02\");\n",
        "})\n",
        ";\n",
        "    g.append(\"svg:text\")\n",
        "       .attr(\"x\", 26.31)\n",
        "       .attr(\"y\", 91.79)\n",
        "       .attr(\"text-anchor\", \"end\")\n",
        "       .style(\"dominant-baseline\", \"central\")\n",
        "    .call(function(text) {\n",
        "  text.text(\"-0.06\");\n",
        "})\n",
        ";\n",
        "    g.append(\"svg:text\")\n",
        "       .attr(\"x\", 26.31)\n",
        "       .attr(\"y\", 81.14)\n",
        "       .attr(\"text-anchor\", \"end\")\n",
        "       .style(\"dominant-baseline\", \"central\")\n",
        "    .call(function(text) {\n",
        "  text.text(\"-0.04\");\n",
        "})\n",
        ";\n",
        "  }(g.append(\"g\")));\n",
        "  (function (g) {\n",
        "    g.attr(\"stroke\", \"none\")\n",
        "     .attr(\"fill\", \"#362A35\")\n",
        "     .attr(\"font-family\", \"PT Sans,Helvetica Neue,Helvetica,sans\")\n",
        "     .attr(\"font-size\", \"3.88\");\n",
        "    g.append(\"svg:text\")\n",
        "       .attr(\"x\", 8.63)\n",
        "       .attr(\"y\", 33.22)\n",
        "       .attr(\"text-anchor\", \"middle\")\n",
        "       .style(\"dominant-baseline\", \"central\")\n",
        "       .attr(\"transform\", \"rotate(-90, 8.63, 33.22)\")\n",
        "    .call(function(text) {\n",
        "  text.text(\"18016617469498314e-22\\n2162544136798117e-21\\n26013362951545632e-22\\n31314963248544464e-22\\n37686815578547722e-22\\n4531028685986205e-21\\n5439459594728038e-21\\n6518013536779832e-21\\n7794205974586549e-21\\n9299414061718012e-21\\n11069288322822918e-21\\n13144189631261738e-21\\n155696500752419e-19\\n18396855752646213e-21\\n2168314894460295e-20\\n25492546500265403e-21\\n29896270624706604e-21\\n3497328761230175e-20\\n408108494213777e-19\\n47505032354657595e-21\\n5516126651117372e-20\\n6389484912291098e-20\\n7383143440074214e-20\\n8510749210568773e-20\\n9787072674734588e-20\\n.00011228044910938293\\n.0001285078917225437\\n.0001467364599624732\\n.00016716191065069117\\n.0001899924503886432\\n.0002154487463597309\\n.00024376384299157786\\n.0002751829786764862\\n.0003099632976921269\\n.00034837345353678676\\n.00039069310107622357\\n.0004372122761736018\\n.00048823066281894435\\n.0005440567491638946\\n.0006050068752773149\\n.0006714041768389736\\n.0007435774303571551\\n.0008218598068035964\\n.0009065875417841127\\n.0009980985314806843\\n.0010967308645952391\\n.0012028213013785074\\n.0013167037115316992\\n.001438707483314156\\n.0015691559165771523\\n.0017083646126732036\\n.001856639874267407\\n.002014277128012498\\n.0021815593828539937\\n.0023587557364197365\\n.002546119941535807\\n.002743889044410971\\n.0029522821054626613\\n.0031714990131286253\\n.003401719400332971\\n.0036431016725609862\\n.0038957821557468507\\n.0041598743713968725\\n.0044354684455515225\\n.004722630657331648\\n.005021403131905627\\n.005331803681748648\\n.005653825799029106\\n.005987438800841882\\n.006332588127802713\\n.006689195795216931\\n.007057160994634597\\n.007436360842105113\\n.007826651267854628\\n.00822786804044204\\n.00863982791672506\\n.00906232990721249\\n.009495156644628352\\n.009938075841803912\\n.010390841823393506\\n.010853197114424461\\n.011324874067391105\\n.011805596508540487\\n.01229508138321814\\n.012793040379693057\\n.013299181510800603\\n.013813210633059163\\n.014334832883654568\\n.014863754016852044\\n.01539968162298925\\n.01594232621520674\\n.01649140217145628\\n.0170466285220505\\n.017607729576023353\\n.018174435382796388\\n.01874648202901409\\n.019323611773843466\\n.019905573029440415\\n.0204921201965836\\n.02108301336857705\\n.021678017919344858\\n.022276903994110146\\n.02287944592309846\\n.02348542158027976\\n.024094611710220284\\n.0247067992466288\\n.025321768646137277\\n.02593930526025724\\n.02655919476731355\\n.0271812226845105\\n.027805173978168368\\n.028430832787638475\\n.029057982275517723\\n.029686404613610388\\n.030315881110694193\\n.030946192484614672\\n.03157711927762979\\n.03220844241032968\\n.03283994386593368\\n.0334714074933868\\n.03410261991450171\\n.03473337151748092\\n.035363457516558075\\n.03599267905526707\\n.03662084432902821\\n.0372477697013686\\n.03787328078720768\\n.03849721347626511\\n.039119414869816474\\n.039739744104748106\\n.040358073040162576\\n.04097428678366598\\n.04158828403692316\\n.042199977243086745\\n.042809292522263745\\n.043416169385241885\\n.04402056022020476\\n.0446224295520512\\n.04522175307911614\\n.045818516497467876\\n.04641271412841216\\n.047004347370241506\\n.04759342300048247\\n.048179951359770164\\n.04876394445286053\\n.04934541400602553\\n.049924369523015696\\n.05050081638378174\\n.051074754031100913\\n.05164617429005892\\n.05221505986392194\\n.05278138304726111\\n.053345104693261265\\n.05390617346699887\\n.054464525410189354\\n.05502008383560567\\n.05557275956122156\\n.05612245148533253\\n.05666904749469201\\n.05721242568832538\\n.05775245589043421\\n.058289001416962326\\n.05882192105225895\\n.059351071185121784\\n.059876308047595854\\n.06039748999547872\\n.060914479766727744\\n.061427146653032484\\n.06193536852079183\\n.06243903362065774\\n.06293804212964121\\n.06343230737642852\\n.06392175670886718\\n.06440633197233553\\n.06488598957863423\\n.06536070015681875\\n.06583044778967295\\n.06629522885193226\\n.06675505047850985\\n.06720992870247636\\n.067659886313018\\n.0681049504927119\\n.06854515030090028\\n.0689805140754747\\n.06941106682879797\\n.06983682771468039\\n.07025780764223205\\n.07067400710906249\\n.07108541432078944\\n.07149200365632077\\n.07189373452912007\\n.07229055068394757\\n.07268237995672308\\n.07306913451255147\\n.07345071156398322\\n.07382699455864432\\n.0741978548128579\\n.07456315355616641\\n.07492274434108391\\n.07527647576326243\\n.07562419442978358\\n.07596574810766887\\n.0763009889810571\\n.0766297769438688\\n.07695198285515384\\n.07726749168660799\\n.0775762054958104\\n.07787804616437694\\n.07817295784720892\\n.07846090908706739\\n.07874189455752972\\n.07901593640667977\\n.07928308518334604\\n.0795434203370393\\n.07979705029168703\\n.08004411210157629\\n.08028477070540274\\n.0805192178008235\\n.0807476703673209\\n.08097036886943854\\n.08118757517554442\\n.08139957022923758\\n.08160665151142268\\n.08180913033104042\\n.0820073289816008\\n.08220157779917851\\n.08239221215557017\\n.08257956941805344\\n.0827639859048024\\n.08294579386265793\\n.08312531849176534\\n.08330287503968897\\n.08347876598607573\\n.08365327833781805\\n.08382668105397753\\n.08399922261945292\\n.08417112878645708\\n.08434260050322893\\n.0845138120499335\\n.08468490940227519\\n.08485600884382057\\n.08502719584825168\\n.08519852425260344\\n.08537001574184289\\n.0855416596638011\\n.08571341319137643\\n.08588520184602054\\n.08605692039276308\\n.08622843411242817\\n.08639958045129412\\n.08657017104232195\\n.08673999408535704\\n.08690881706654144\\n.08707638978975521\\n.08724244768544072\\n.08740671535488728\\n.08756891030120433\\n.08772874679202643\\n.08788593979370815\\n.08804020891259355\\n.08819128227607055\\n.08833890028470098\\n.0884828191668641\\n.08862281426913265\\n.088758683019033\\n.08889024750189166\\n.08901735660005212\\n.08913988765072568\\n.08925774758793349\\n.08937087354418857\\n.08947923289849478\\n.08958282276863222\\n.08968166895725546\\n.08977582437275144\\n.08986536695679175\\n.08995039716078118\\n.09003103502268942\\n.09010741690382193\\n.09017969195174308\\n.09024801836065546\\n.09031255950395728\\n.09037348001538519\\n.09043094189509573\\n.0904851007152802\\n.09053610199653361\\n.09058407782133325\\n.09062914374478928\\n.09067139605550167\\n.09071090943111573\\n.09074773502423895\\n.09078189900501538\\n.09081340157708627\\n.09084221647414249\\n.09086829093501331\\n.09089154614645187\\n.09091187813464806\\n.09092915907918317\\n.09094323901676303\\n.0909539478967172\\n.09096109794599191\\n.0909644862982176\\n.09096389783938742\\n.09095910822170747\\n.09094988699720054\\n.09093600082357706\\n.09091721669661729\\n.09089330516571499\\n.09086404349217944\\n.09082921871324065\\n.0907886305783176\\n.090742094327853\\n.09068944328877623\\n.09063053126431214\\n.09056523469932568\\n.09049345460560315\\n.09041511823437472\\n.0903301804859521\\n.0902386250485838\\n.09014046526053335\\n.09003574469099676\\n.08992453743684506\\n.08980694813336289\\n.08968311167823069\\n.0895531926690346\\n.08941738455566252\\n.08927590851012676\\n.08912901201770636\\n.08897696719487899\\n.08882006884135331\\n.08865863223564124\\n.08849299068603816\\n.08832349285159254\\n.0881504998506283\\n.08797438217758559\\n.08779551645231778\\n.0876142820294536\\n.08743105749892735\\n.08724621711220648\\n.08706012717201433\\n.08687314242635663\\n.08668560251031604\\n.08649782848128043\\n.08631011949492247\\n.08612274967025893\\n.08593596519240336\\n.08574998170110988\\n.08556498201182128\\n.08538111421363012\\n.08519849018529674\\n.08501718456622079\\n.0848372342140316\\n.08465863817426385\\n.08448135818046355\\n.0843053196950895\\n.08413041349283781\\n.08395649777864048\\n.08378340082272981\\n.08361092408499836\\n.08343884579062519\\n.08326692490881613\\n.08309490547676529\\n.0829225212018519\\n.08274950026690794\\n.08257557025639692\\n.08240046311578557\\n.08222392005251095\\n.08204569628494338\\n.08186556554579702\\n.08168332424865779\\n.08149879523074766\\n.08131183099172742\\n.08112231635718953\\n.08093017050637329\\n.08073534831634636\\n.08053784098916686\\n.08033767594404376\\n.08013491597286732\\n.07992965767426506\\n.07972202919810224\\n.07951218734862162\\n.07930031410974553\\n.07908661266998888\\n.07887130303654746\\n.07865461733805276\\n.07843679492292363\\n.07821807736494996\\n.07799870348956656\\n.07777890453314273\\n.07755889954354894\\n.07733889112338\\n.0771190616077126\\n.07689956975643691\\n.07668054802737709\\n.07646210048101951\\n.07624430135115379\\n.07602719429859081\\n.07581079234785312\\n.07559507848983682\\n.07538000691739577\\n.07516550484604562\\n.07495147485892081\\n.07473779770407737\\n.07452433546348192\\n.07431093500675326\\n.07409743163902975\\n.07388365285125355\\n.07366942208262979\\n.07345456240890876\\n.07323890007624434\\n.07302226780844569\\n.07280450782514225\\n.0725854745193773\\n.07236503675505061\\n.07214307975705574\\n.0719195065795081\\n.07169423914975281\\n.07146721889751972\\n.07123840698932533\\n.07100778419772572\\n.07077535044306124\\n.07054112405171897\\n.07030514077954861\\n.07006745265183198\\n.0698281266721199\\n.06958724345136164\\n.06934489580616572\\n.06910118737090144\\n.06885623126287244\\n.06861014883320443\\n.06836306852864998\\n.06811512488150623\\n.0678664576365641\\n.06761721101575463\\n.06736753311322159\\n.06711757540620522\\n.06686749236062288\\n.0666174411047984\\n.06636758114061102\\n.06611807405854658\\n.06586908322183607\\n.06562077338510365\\n.06537331021471687\\n.065126859681279\\n.06488158729932447\\n.06463765719512601\\n.06439523099040476\\n.06415446649743001\\n.06391551622924843\\n.06367852573732308\\n.06344363179740299\\n.06321096047269953\\n.06298062509113005\\n.06275272418023894\\n.0625273394091721\\n.062304533591550956\\n.0620843488060853\\n.06186680469314709\\n.06165189698520803\\n.06143959632698251\\n.061229847437324306\\n.06102256865946075\\n.06081765193912113\\n.06061496326168203\\n.0604143435698093\\n.06021561017245697\\n.060018558644753014\\n.05982296520654678\\n.05962858955551788\\n.05943517811906038\\n.059242467677971616\\n.0590501893045918\\n.05885807254874632\\n.058665849796895556\\n.05847326072352978\\n.05828005674925003\\n.058086005417300135\\n.05789089459966357\\n.0576945364452624\\n.05749677098629706\\n.05729746932428767\\n.0570965363248209\\n.05689391275920892\\n.05668957684203152\\n.05648354512561145\\n.05627587272558556\\n.056066652865571956\\n.05585601574316139\\n.05564412673373771\\n.05543118396260753\\n.05521741528925195\\n.055003074759876446\\n.05478843859552515\\n.05457380079257523\\n.05435946842020327\\n.054145756705240036\\n.05393298399856809\\n.05372146671879666\\n.053511514368350145\\n.05330342471437119\\n.05309747922206159\\n.05289393882141214\\n.052693040079901984\\n.052494991843913826\\n.05229997240058665\\n.05210812719990395\\n.05191956716430886\\n.05173436760036249\\n.05155256771423825\\n.05137417072047567\\n.051199144521689145\\n.051027422926100685\\n.05085890736006402\\n.05069346902436425\\n.050530951436154714\\n.050371173293039126\\n.050213931592080006\\n.050059004934431314\\n.04990615694582938\\n.04975513974426744\\n.04960569738872796\\n.0494575692467246\\n.049310493223458735\\n.04916420880145135\\n.049018459846381326\\n.048872997142350834\\n.048727580627705824\\n.04858198131066758\\n.048435982852184145\\n.04828938281140631\\n.04814199355685818\\n.04799364285355301\\n.0478441741428623\\n.04769344653776183\\n.04754133456105666\\n.047387727658251444\\n.047232529519833144\\n.04707565724983814\\n.04691704041868151\\n.046756620038345444\\n.046594347497195245\\n.046430183489971744\\n.04626409697597201\\n.04609606419517161\\n.045926067768163305\\n.04575409590141202\\n.04558014171457905\\n.045404202701683646\\n.04522628033278603\\n.04504637979782602\\n.044864509889370116\\n.044680683016430744\\n.044494915337340374\\n.04430722699599044\\n.044117642442668026\\n.043926190818307294\\n.043732906379268674\\n.0435378289387927\\n.043341004301053865\\n.0431424846642509\\n.042942328970376066\\n.04274060318115842\\n.04253738046210169\\n.042332741259454854\\n.042126773258265866\\n.04191957121327175\\n.041711236648162175\\n.041501877422604444\\n.04129160717022613\\n.04108054461440684\\n.04086881277213417\\n.04065653805923837\\n.04044384931295521\\n.04023087674991359\\n.040017750879251\\n.0398046013915946\\n.0395915560450904\\n.039378739569521315\\n.039166272608843034\\n.03895427072122197\\n.03874284345393156\\n.03853209350831642\\n.03832211600754412\\n.038112997877118096\\n.0379048173452128\\n.037697643566910646\\n.03749153637346555\\n.03728654614488365\\n.03708271380148577\\n.0368800709077793\\n.03667863987998485\\n.03647843428699259\\n.036279459233399154\\n.03608171181262251\\n.03588518161791002\\n.035689851299327655\\n.035495697155515704\\n.035302689750062\\n.0351107945437196\\n.03491997253529758\\n.034730180905798866\\n.034541373662172956\\n.034353502278799214\\n.03416651633642559\\n.03398036415967099\\n.03379499345527888\\n.033610351954021706\\n.033426388059451424\\n.03324305150654132\\n.0330602940326595\\n.03287807006226619\\n.03269633740526878\\n.03251505796715386\\n.032334198466916333\\n.03215373115651149\\n.03197363453316607\\n.0317938940335133\\n.031614502696276414\\n.031435461778235405\\n.031256781306582014\\n.03107848054960364\\n.03090058838702736\\n.030723143561373414\\n.03054619479236786\\n.030369800737873445\\n.030194029786923746\\n.03001895967326429\\n.029844676901269244\\n.02967127598014137\\n.029498858466816786\\n.029327531822872212\\n.029157408095830093\\n.028988602440433584\\n.028821231500555985\\n.028655411677260906\\n.02849125731297508\\n.028328878825624022\\n.028168380829765895\\n.02800986028411375\\n.027853404706254355\\n.02769909049576693\\n.027546981406264947\\n.027397127205098203\\n.02724956255656836\\n.02710430616056466\\n.02696136017358576\\n.026820709933279667\\n.0266823240010321\\n.026546154529922386\\n.026412137957716297\\n.02628019601667745\\n.026150237044054257\\n.026022157569357697\\n.02589584414719759\\n.025771175397706667\\n.025648024210650208\\n.02552626006437817\\n.02540575140698744\\n.025286368044555432\\n.025167983480182017\\n.025050477147897876\\n.02493373648728584\\n.024817658807900517\\n.024702152897198744\\n.02458714033161045\\n.02447255645744327\\n.024358351016351885\\n.02424448839890577\\n.02413094751912546\\n.024017721312476745\\n.023904815869451056\\n.023792249226255068\\n.023680049843018136\\n.023568254808057687\\n.023456907813890097\\n.023346056956635962\\n.02323575241508072\\n.023126044068782957\\n.023016979116192497\\n.022908599753706675\\n.022800940974967515\\n.022694028546536092\\n.022587877211473983\\n.02248248916645313\\n.022377852850980737\\n.022273942079369155\\n.02217071553743126\\n.02206811665678293\\n.02196607387033806\\n.02186450124334066\\n.021763299465336658\\n.021662357180076287\\n.021561552622663432\\n.021460755526514424\\n.02135982925700521\\n.021258633124188978\\n.021157024823734123\\n.021054862953308676\\n.020952009551023797\\n.020848332603213966\\n.020743708470713395\\n.02063802418578636\\n.020531179575869023\\n.020423089175135634\\n.020313683890458185\\n.020202912394415667\\n.020090742224455956\\n.019977160573942682\\n.0198621747674672\\n.019745812419306986\\n.019628121280123485\\n.019509168782781344\\n.01938904130342569\\n.019267843158584052\\n.019145695362993112\\n.019022734176043197\\n.018899109467157203\\n.018774982932074108\\n.018650526192905567\\n.018525918815011665\\n.01840134627324987\\n.018276997899052152\\n.018153064838155538\\n.018029738046730134\\n.017907206351206188\\n.017785654594383526\\n.017665261887503027\\n.01754619998495292\\n.01742863179525304\\n.01731271003897701\\n.017198576061400055\\n.017086358804947452\\n.016976173944009975\\n.016868123182416612\\n.016762293711829912\\n.01665875782756873\\n.016557572696862644\\n.01645878027329858\\n.01636240735021677\\n.016268465745032084\\n.016176952605875712\\n.01608785083154682\\n.016001129595508725\\n.01591674496453591\\n.015834640602592858\\n.0157547485505841\\n.015676990072737308\\n.015601276560554066\\n.015527510485472143\\n.015455586391620015\\n.015385391920298572\\n.015316808858092102\\n.015249714200782572\\n.015183981225512833\\n.015119480563911603\\n.0150560812691465\\n.014993651870109127\\n.014932061406147754\\n.014871180435946388\\n.01481088201429501\\n.014751042630604293\\n.014691543103085621\\n.01463226942254655\\n.014573113539749188\\n.014513974090253193\\n.014454757050633673\\n.014395376319944888\\n.014335754220320168\\n.014275821910684418\\n.014215519707740619\\n.014154797308708507\\n.014093613910775734\\n.014031938222900133\\n.013969748366502326\\n.013907031662731068\\n.013843784305379542\\n.013780010920180923\\n.013715724013101387\\n.013650943312354825\\n.013585695011144247\\n.013520010920536757\\n.013453927544335487\\n.013387485090243269\\n.013320726433932631\\n.013253696054749652\\n.013186438963589148\\n.0131189996448908\\n.013051421035629857\\n.012983743564532722\\n.012916004274473016\\n.0128482360500499\\n.012780466970693256\\n.012712719807280566\\n.012645011677213217\\n.012577353869239822\\n.012509751845111824\\n.012442205420516887\\n.012374709122790161\\n.012307252717795661\\n.012239821893267364\\n.012172399080968423\\n.01210496439544309\\n.012037496663068144\\n.011969974511715963\\n.011902377488762213\\n.011834687173523633\\n.011766888249582868\\n.011698969502904652\\n.011630924713185099\\n.011562753408486455\\n.011494461456830404\\n.011426061472957924\\n.01135757302377928\\n.011289022621971217\\n.011220443503537795\\n.011151875191733617\\n.011083362856327827\\n.011014956483547673\\n.010946709877960873\\n.01087867952283397\\n.01081092332995822\\n.01074349931341035\\n.010676464224095822\\n.01060987218312566\\n.010543773352070143\\n.01047821267691857\\n.010413228740208048\\n.010348852752355107\\n.010285107708866398\\n.010222007734980158\\n.010159557633588053\\n.01009775264621721\\n.010036578430630553\\n.009976011252450064\\n.009916018382334923\\n.009856558684847517\\n.009797583380391835\\n.00973903695764862\\n.009680858210871487\\n.009622981374314159\\n.00956533732496135\\n.009507854824621933\\n.009450461773263079\\n.009393086447131039\\n.00933565869760273\\n.00927811108970068\\n.00922037996262294\\n.009162406398322474\\n.009104137087944619\\n.009045525089632857\\n.008986530474690077\\n.008927120862200868\\n.008867271844874024\\n.008806967310971374\\n.00874619966870447\\n.00868496998038548\\n.008623288013931609\\n.008561172219088831\\n.008498649635032733\\n.008435755734916337\\n.008372534211579078\\n.008309036707127211\\n.008245322487570005\\n.00818145806227057\\n.00811751674675932\\n.008053578166559503\\n.007989727699172557\\n.007926055851317115\\n.007862657568948406\\n.0077996314785035645\\n.007737079059204366\\n.007675103748053589\\n.007613809981312371\\n.007553302178655161\\n.00749368367875646\\n.007435055637655485\\n.007377515903746178\\n.007321157885530392\\n.007266069430233637\\n.007212331732911402\\n.00716001829667787\\n.0071091939650989745\\n.007059914047558543\\n.007012223557506143\\n.006966156581931247\\n.006921735798205982\\n.0068789721516520075\\n.006837864703889581\\n.006798400658314279\\n.006760555565029464\\n.006724293703364585\\n.006689568635861591\\n.006656323923448219\\n.006624493987571185\\n.0065940051014580555\\n.006564776489532678\\n.006536721511422193\\n.006509748905048209\\n.006483764062053081\\n.006458670308309605\\n.006434370162517713\\n.006410766546891813\\n.006387763925655985\\n.006365269349433499\\n.006343193386567771\\n.006321450925845724\\n.006299961838907117\\n.006278651494689808\\n.006257451122457873\\n.00623629802415495\\n.006215135640891484\\n.0061939134821898546\\n.006172586930061483\\n.006151116932976565\\n.006129469607226656\\n.0061076157650076695\\n.006085530389725065\\n.006063192079520207\\n.006040582479840352\\n.006017685725047367\\n.005994487907626329\\n.005970976591579007\\n.005947140384149297\\n.005922968577222364\\n.00589845086667077\\n.005873577154702195\\n.005848337437004881\\n.005822721773305097\\n.005796720336948179\\n.005770323536391977\\n.0057435221991422114\\n.005716307806733792\\n.005688672767923201\\n.005660610716338724\\n.005632116818450484\\n.005603188077866528\\n.005573823622609059\\n.005544024963133695\\n.00551379621036706\\n.0054831442448824525\\n.0054520788304279096\\n.00542061266728012\\n.005388761383226591\\n.005356543462291503\\n.005323980113525446\\n.005291095084201438\\n.005257914423526185\\n.005224466204430147\\n.005190780212101685\\n.005156887608648915\\n.005122820583600752\\n.0050886119998986385\\n.0050542950446043405\\n.005019902892792945\\n.004985468392059574\\n.0049510237738019484\\n.004916600396012511\\n.004882228520793504\\n.004847937128264319\\n.0048137537670333\\n.0047797044400178755\\n.004745813523174224\\n.0047121037136878255\\n.0046785960034130165\\n.0046453096728569674\\n.004612262300789342\\n.004579469784618942\\n.00454694636699648\\n.004514704664647363\\n.004482755696172756\\n.004451108906432192\\n.004419772186084608\\n.004388751885860176\\n.004358052826107734\\n.004327678303055303\\n.004297630093989404\\n.004267908464156877\\n.004238512178591081\\n.004209438522240505\\n.004180683331720205\\n.0041522410417197935\\n.004124104748596998\\n.004096266292989147\\n.004068716362420817\\n.0040414446139162225\\n.004014439815588652\\n.0039876900051294805\\n.00396118266210781\\n.003934904890072425\\n.003908843603669279\\n.0038829857153904277\\n.003857318316192788\\n.0038318288440888724\\n.0038065052349341775\\n.003781336050019196\\n.0037563105757106455\\n.003731418891256603\\n.0037066519019457794\\n.003682001336050674\\n.0036574597053451456\\n.0036330202304131884\\n.0036086767334048307\\n.003584423502288517\\n.0035602551319407366\\n.0035361663485508257\\n.0035121518247536875\\n.003488205993592763\\n.0034643228698310606\\n.0034404958872426027\\n.003416717760321524\\n.0033929803783386146\\n.0033692747388661915\\n.0033455909268032425\\n.003321918143594752\\n.0032982447897937093\\n.003274558602407997\\n.0032508468466638596\\n.003227096559959886\\n.00320329484394233\\n.00317942919886559\\n.003155487892768627\\n.0031314603565572472\\n.003107337594879441\\n.003083112601762972\\n.0030587807693797375\\n.0030343402780382746\\n.003009792455592214\\n.0029851420948926056\\n.0029603977186949005\\n.0029355717825351995\\n.0029106808074848764\\n.002885745436336804\\n.0028607904086219854\\n.0028358444518474003\\n.002810940088427189\\n.002786113359886367\\n.0027614034719900885\\n.0027368523664312843\\n.002712504226539226\\n.002688404926102157\\n.002664601431783835\\n.0026411411707224384\\n.002618071375705648\\n.0025954384208001493\\n.0025732871604742386\\n.0025516602850897256\\n.0025305977051702944\\n.002510135976097329\\n.002490307773872518\\n.0024711414313533108\\n.0024526605429533426\\n.0024348836442487243\\n.0024178239712856864\\n.0024014893026925227\\n.002385881885998727\\n.0023709984479004377\\n.002356830286616138\\n.0023433634429859845\\n.002330578945604354\\n.0023184531240624893\\n.0023069579833301227\\n.0022960616314329748\\n.0022857287518907015\\n.0022759211118706965\\n.0022665980966810415\\n.002257717261067869\\n.0022492348877883985\\n.002241106544091462\\n.002233287627041801\\n.0022257338890614444\\n.0022184019356178628\\n.002211249687655429\\n.0022042368021293894\\n.0021973250448511384\\n.002190478610777337\\n.002183664387862324\\n.0021768521616309646\\n.0021700147587055746\\n.002163128128620734\\n.0021561713643712946\\n.002149126663242836\\n.002141979230555712\\n.002134717129994148\\n.002127331085171792\\n.002119814237985307\\n.0021121618701101623\\n.0021043710946761288\\n.0020964405257106913\\n.002088369933338034\\n.0020801598929591205\\n.002071811436703693\\n.0020633257153336785\\n.002054703678486533\\n.0020459457806812926\\n.0020370517198753054\\n.0020280202145710126\\n.0020188488245429076\\n.00200953381920922\\n.002000070096532912\\n.0019904511541303425\\n.001980669113022546\\n.0019707147932138767\\n.0019605778390563333\\n.001950246891185792\\n.0019397098007270103\\n.00192895388048402\\n.0019179661869852815\\n.0019067338265577457\\n.001895244278077358\\n.001883485724695681\\n.001871447386680069\\n.0018591198475305009\\n.0018464953657445831\\n.0018335681649884615\\n.001820334695980792\\n.0018067938640961827\\n.0017929472175223734\\n.0017787990917423066\\n.0017643567071321449\\n.0017496302175453002\\n.0017346327088636052\\n.0017193801476135767\\n.001703891280841593\\n.0016881874894929426\\n.0016722925985205115\\n.0016562326478393435\\n.0016400356290234837\\n.001623731193295395\\n.0016073503368722293\\n.0015909250700984331\\n.0015744880770034407\\n.001558072371975183\\n.0015417109601350322\\n.001525436507743453\\n.0015092810285658289\\n.0014932755915972465\\n.001477450054897098\\n.0014618328295381974\\n.001446450676849221\\n.001431328541245871\\n.0014164894200284443\\n.0014019542705937232\\n.0013877419545929841\\n.001373869217686694\\n.001360350702723682\\n.0013471989934286319\\n.0013344246850340137\\n.0013220364777587323\\n.00131004128862616\\n.0012984443768405563\\n.0012872494778065928\\n.00127645894088482\\n.001266073866124054\\n.0012560942354934608\\n.0012465190345426654\\n.0012373463609357174\\n.0012285735169158749\\n.0012201970834456923\\n.0012122129745092466\\n.0012046164708380096\\n.001197402233105646\\n.0011905642954059808\\n.0011840960405605817\\n.001177990159474113\\n.0011722385973487511\\n.0011668324900641278\\n.0011617620944128475\\n.001157016716141308\\n.0011525846398745994\\n.001148453064997933\\n.0011446080514261481\\n.0011410344789224217\\n.0011377160232346611\\n.0011346351518165196\\n.0011317731413044534\\n.0011291101182524972\\n.0011266251239018341\\n.001124296203007984\\n.0011221005159865564\\n.0011200144728948699\\n.0011180138870646207\\n.0011160741455639046\\n.001114170393115151\\n.0011122777256488327\\n.0011103713893453344\\n.001108426980820908\\n.0011064206440553354\\n.0011043292597420484\\n.001102130622963134\\n.0010998036054454818\\n.0010973282991295578\\n.0010946861383629696\\n.0010918599986968862\\n.0010888342709944182\\n.0010855949103277546\\n.0010821294599226792\\n.0010784270511737092\\n.0010744783814772268\\n.001070275672285445\\n.001065812610348672\\n.001061084275566903\\n.0010560870591977637\\n.0010508185763542632\\n.0010452775767676222\\n.0010394638576842266\\n.0010333781825182468\\n.0010270222085002369\\n.0010203984260637195\\n.0010135101121131855\\n.001006361298643543\\n.0009989567574558832\\n.0009913020009667383\\n.0009834032983645664\\n.0009752677056567866\\n.0009669031074980156\\n.0009583182681203485\\n.0009495228882184722\\n.0009405276642928569\\n.0009313443467333198\\n.0009219857928414212\\n.0009124660110407246\\n.0009028001927080809\\n.0008930047283660439\\n.000883097205393514\\n.0008730963849216122\\n.0008630221561658734\\n.0008528954670821917\\n.0008427382308999511\\n.0008325732087605883\\n.0008224238693500495\\n.0008123142270424349\\n.0008022686606489228\\n.000792311715380082\\n.0007824678910664448\\n.000772761420035701\\n.0007632160383103555\\n.0007538547539641879\\n.00074469961656249\\n.0007357714916112548\\n.0007270898438626466\\n.0007186725331707541\\n.0007105356263751444\\n.0007026932284140176\\n.0006951573355447188\\n.0006879377131822767\\n.0006810418004659785\\n.000674474643233617\\n.0006682388566311599\\n.0006623346181159583\\n.0006567596911302778\\n.0006515094792327314\\n.0006465771099854606\\n.000641953547407103\\n.0006376277313256025\\n.0006335867415046513\\n.0006298159839833728\\n.0006262993966675949\\n.0006230196708536112\\n.0006199584850603429\\n.000617096747303085\\n.0006144148417713616\\n.0006118928757823626\\n.0006095109228763905\\n.0006072492580077755\\n.0006050885809644885\\n.0006030102244220722\\n.0006009963433990378\\n.0005990300833250105\\n.0005970957244470464\\n.0005951788008745698\\n.0005932661931793079\\n.0005913461941085239\\n.0005894085476168542\\n.0005874444620545087\\n.0005854465989470516\\n.0005834090393458426\\n.0005813272302000565\\n.0005791979135869561\\n.0005770190419236085\\n.0005747896824632968\\n.0005725099144477143\\n.0005701807222430189\\n.0005678038876357136\\n.0005653818842131265\\n.0005629177764127323\\n.0005604151254098369\\n.0005578779035421665\\n.0005553104184592532\\n.0005527172476563098\\n.0005501031835250941\\n.0005474731885472921\\n.0005448323597882845\\n.0005421859014353644\\n.0005395391037788487\\n.0005368973267685026\\n.0005342659860955931\\n.0005316505396616086\\n.0005290564722943668\\n.0005264892766618026\\n.0005239544285069835\\n.0005214573545770651\\n.0005190033919345131\\n.0005165977377100672\\n.0005142453887695374\\n.0005119510712091428\\n.000509719160051731\\n.0005075535899748407\\n.000505457758349849\\n.0005034344222940509\\n.0005014855918254006\\n.0004996124215497048\\n.0004978151035948848\\n.0004960927647266467\\n.0004944433707293854\\n.0004928636412076491\\n.0004913489779563331\\n.000489893409955644\\n.000488489557873166\\n.00048712862069650795\\n.0004858003867829995\\n.0004844932711978063\\n.00048319438072836826\\n.00048188960741709155\\n.00048056375085570036\\n.00047920066884737933\\n.0004777834553767457\\n.0004762946441510471\\n.0004747164353026724\\n.00047303094219161915\\n.0004712204546330305\\n.00046926771431886685\\n.0004671561977202636\\n.00046487040136327165\\n.00046239612408319197\\n.00045972074068975285\\n.00045683346143041495\\n.0004537255717251658\\n.0004503906468691435\\n.00044682473675515186\\n.0004430265161543545\\n.00043899739669868085\\n.0004347415974214029\\n.0004302661715154116\\n.0004255809878423965\\n.00042069866664896233\\n.00041563446989202266\\n.0004104061475221493\\n.00040503374199379535\\n.00039953935414023187\\n.00039394687434663594\\n.0003882816836553657\\n.0003825703300252524\\n.0003768401854278361\\n.0003711190897876561\\n.0003654349879552085\\n.00035981556593858363\\n.0003542878925175928\\n.00034887807212758554\\n.00034361091454378906\\n.0003385096264322679\\n.0003335955292799765\\n.0003288878075932977\\n.0003244032905791311\\n.0003201562698209315\\n.00031615835474787385\\n.00031241836699262907\\n.0003089422740552121\\n.00030573316205316503\\n.00030279124675237565\\n.000300113921547579\\n.00029769584060055504\\n.0002955290349511662\\n.00029360305909007303\\n.00029190516521853185\\n.00029042050221726734\\n.00028913233619340395\\n.0002880222893681117\\n.00028707059399793976\\n.0002862563579833742\\n.0002855578388043876\\n.00028495272242711964\\n.00028441840384734775\\n.000283932265971832\\n.0002834719535896781\\n.00028301563925214705\\n.00028254227796677654\\n.0002820318477215096\\n.000281465572993864\\n.0002808261285722896\\n.00028009782122688336\\n.0002792667470175401\\n.00027832092232207145\\n.00027725038700373607\\n.00027604727851729405\\n.0002747058761686221\\n.00027322261519117583\\n.0002715960707731658\\n.00026982691265330615\\n.000267917831387611\\n.0002658734378645448\\n.000263700138094871\\n.00026140598571664474\\n.0002590005150199387\\n.0002564945576018357\\n.0002539000459998303\\n.00025122980781543125\\n.0002484973539251308\\n.00024571666438229917\\n.00024290197554203107\\n.00024006757179653032\\n.00023722758509642054\\n.00023439580516428776\\n.00023158550298812107\\n.00022880926982801926\\n.00022607887358884644\\n.00022340513401836355\\n.00022079781779341112\\n.0002182655541683419\\n.00021581577148668818\\n.00021345465450800863\\n.00021118712218040105\\n.0002090168252000743\\n.00020694616244461457\\n.00020497631514376433\\n.00020310729746444642\\n.00020133802202763375\\n.00019966637874538166\\n.00019808932526198947\\n.0001966029872006031\\n.00019520276635498143\\n.00019388345492169987\\n.00019263935384190162\\n.00019146439331128168\\n.00019035225352592028\\n.00018929648375768\\n.00018829061790214333\\n.0001873282847129603\\n.00018640331103387392\\n.00018550981646447452\\n.00018464229804944499\\n.00018379570376381854\\n.00018296549377889298\\n.00018214768873135723\\n.00018133890448043463\\n.00018053637311745904\\n.00017973795028516926\\n.0001789421091607929\\n.00017814792175162297\\n.00017735502843258671\\n.0001765635969166214\\n.00017577427207743357\\n.00017498811823664882\\n.0001742065556717895\\n.00017343129319541233\\n.00017266425869296234\\n.0001719075294859991\\n.0001711632643084434\\n.00017043363854854499\\n.00016972078422256356\\n.00016902673591533482\\n.00016835338365468744\\n.00016770243339338936\\n.0001670753754632083\\n.0001664734610539731\\n.000165897686467964\\n.00016534878461893845\\n.00016482722299597172\\n.00016433320710601204\\n.00016386668825318224\\n.0001634273744133552\\n.00016301474292402043\\n.0001626280537317809\\n.0001622663620236449\\n.00016192852920646553\\n.00016161323138838904\\n.00016131896474583587\\n.0001610440474193696\\n.00016078661786092172\\n.00016054462983812814\\n.00016031584457862\\n.00016009782079135643\\n.00015988790352536655\\n.0001596832130028522\\n.00015948063468899584\\n.0001592768119245032\\n.00015906814244594225\\n.00015885078005237196\\n.000158620642543926\\n.00015837342686553235\\n.00015810463214132459\\n.00015780959099357186\\n.00015748350921522547\\n.00015712151351959108\\n.00015671870674015612\\n.00015627022951067437\\n.00015577132713739603\\n.00015521742009284856\\n.00015460417632903387\\n.0001539275834359019\\n.00015318401856766195\\n.0001523703140314074\\n.00015148381648022805\\n.0001505224377788758\\n.00014948469580872495\\n.00014836974374516504\\n.00014717738666561453\\n.00014590808471840952\\n.0001445629424902499\\n.0001431436846361274\\n.00014165261826869224\\n.00014009258302485547\\n.00013846689012542504\\n.00013677925210031291\\n.00013503370515911134\\n.00013323452643066933\\n.00013138614846931046\\n.00012949307352372666\\n.0001275597900818569\\n.00012559069414510085\\n.0001235900175453504\\n.00012156176540738944\\n.00011950966458180307\\n.0001174371245400152\\n.00011534721184378385\\n.00011324263888840003\\n.0001111257671853258\\n.00010899862500853702\\n.00010686293879390296\\n.00010472017726369243\\n.00010257160686309719\\n.00010041835675059924\\n9826149129148198e-20\\n9610208776943824e-20\\n9394131686216167e-20\\n9178052332717984e-20\\n896213043151857e-19\\n8746558277155508e-20\\n853156734987627e-19\\n8317433963119306e-20\\n810448375131792e-19\\n7893094826388197e-20\\n7683699465223584e-20\\n747678422803634e-19\\n7272888447656944e-20\\n7072601071719808e-20\\n6876555882185525e-20\\n6685425158388034e-20\\n6499911890237367e-20\\n6320740685922949e-20\\n6148647552679104e-20\\n59843687592295997e-21\\n5828629013367864e-20\\n5682129207541797e-20\\n5545533998593116e-20\\n5419459494807738e-20\\n5304461323940926e-20\\n52010233500432435e-21\\n5109547294724487e-20\\n5030343500450618e-20\\n49636230499132405e-21\\n4909491427078361e-20\\n4867943872915309e-20\\n4838862552721673e-20\\n4822015613387132e-20\\n48170581686386715e-21\\n48235352093133066e-21\\n48408863949293834e-21\\n4868452643091645e-20\\n4905484395705678e-20\\n4951151406101112e-20\\n5004553860027752e-20\\n5064734616562136e-20\\n5130692332932715e-20\\n52013952205332004e-21\\n5275795168284067e-20\\n53528419642633746e-21\\n5431497347160516e-20\\n55107486255895344e-21\\n5589621615438231e-20\\n5667192662821979e-20\\n57425995425661874e-21\\n58150510486482815e-21\\n5883835123351652e-20\\n5948325404995722e-20\\n6007986109392294e-20\\n6062375196709546e-20\\n6111145812356597e-20\\n6154046026973087e-20\\n619091693568885e-19\\n6221689209839551e-20\\n6246378224314397e-20\\n626507791023391e-19\\n6277953504920525e-20\\n628523338881172e-19\\n6287200211685384e-20\\n6284181518078497e-20\\n6276540084143925e-20\\n626466417535769e-19\\n6248957926759113e-20\\n6229832035178559e-20\\n6207694936502528e-20\\n618294462127536e-19\\n6155961219210526e-20\\n6127100458535456e-20\\n609668807996927e-19\\n6065015258632095e-20\\n6032335060804708e-20\\n59988599371344625e-21\\n5964760230147553e-20\\n5930163652532669e-20\\n5895155673845548e-20\\n58597807377356453e-21\\n5824044219530575e-20\\n57879150252238e-18\\n57513287277030645e-21\\n5714191134149893e-20\\n5676382179829742e-20\\n5637760047607493e-20\\n55981654190781494e-21\\n555742577169685e-19\\n55153596462881316e-21\\n5471780820275052e-20\\n5426502333301386e-20\\n5379340323324183e-20\\n5330117642012716e-20\\n52786672283436364e-21\\n5224835227985586e-20\\n5168483853397465e-20\\n510949398531968e-19\\n5047767520356683e-20\\n49832294717451486e-21\\n4915829831173696e-20\\n48455451989372345e-21\\n4772380187711284e-20\\n4696368602534473e-20\\n4617574395867491e-20\\n4536092392778274e-20\\n4452048777140588e-20\\n43656013259993354e-21\\n4276939375823241e-20\\n41862835017843214e-21\\n409388488956941e-19\\n400002437862812e-19\\n39050111565103185e-21\\n3809181085948771e-20\\n3712894649649662e-20\\n36165345024284645e-21\\n3520502626110783e-20\\n342521708959001e-19\\n33311084241705036e-21\\n3238615632932679e-20\\n314818186176527e-19\\n30602497689428965e-21\\n2975256639280166e-20\\n2893629297673339e-20\\n28157788850874388e-21\\n27420955674165026e-21\\n26729432538487308e-21\\n26086544063566586e-21\\n25495250253283752e-21\\n2495809898103024e-20\\n24477181971294115e-21\\n2405409512595824e-20\\n236899040056901e-19\\n2338511522065323e-20\\n23139654409788657e-21\\n22952851397133045e-21\\n22823433006566307e-21\\n22749523896171964e-21\\n2272865564282439e-20\\n22757784167444506e-21\\n2283331544664091e-20\\n22951139308176327e-21\\n2310667096161456e-20\\n2329489977070942e-20\\n23510444638989714e-21\\n23747615252228682e-21\\n24000478308111584e-21\\n2426292776450817e-20\\n24528758055676614e-21\\n247917391646979e-19\\n25045692397529518e-21\\n2528456568551274e-20\\n2550250724437514e-20\\n2569393644304835e-20\\n25853610781625957e-21\\n25976687945197807e-21\\n26058781986658397e-21\\n26096012796981982e-21\\n26085048140583877e-21\\n26023137667766094e-21\\n2590813845936013e-20\\n25738531810287624e-21\\n25513431114530805e-21\\n25232580870310217e-21\\n24896346979670636e-21\\n24505698665938658e-21\\n2406218247395786e-20\\n23567888948645976e-21\\n2302541270406827e-20\\n2243780669642509e-20\\n21808531597618253e-21\\n21141401230842516e-21\\n2044052507287064e-20\\n19710248852014556e-21\\n18955094273034878e-21\\n181796988824659e-19\\n17388757050741666e-21\\n1658696299177559e-20\\n15778956668738298e-21\\n14969273347646694e-21\\n14162297461720041e-21\\n13362221340573743e-21\\n12573009241817479e-21\\n11798367003428012e-21\\n1104171751206695e-20\\n10306182062824742e-21\\n9594567568015078e-21\\n8909359462135058e-21\\n8252720046536544e-21\\n76264919254206975e-22\\n7032206102874916e-21\\n64710942427187446e-22\\n59441045379624025e-22\\n5451920596526161e-21\\n4994982723494079e-21\\n4573510968469696e-21\\n4187529308613547e-21\\n3836890353062228e-21\\n3521299981636139e-21\\n32403413697396077e-22\\n29934978991591477e-22\\n2780174511787803e-21\\n2599717127307888e-21\\n2451429815635009e-21\\n23345894882148555e-22\\n2248457948682281e-21\\n2192291221267406e-21\\n21653461507731286e-22\\n2166884343707265e-21\\n219617359088764e-20\\n22524869783407953e-22\\n23350999532184558e-22\\n24432856643996637e-22\\n2576308940925587e-21\\n2733419305948892e-21\\n2913843446604447e-21\\n3116777572656493e-21\\n33413800953133177e-22\\n3586765045610063e-21\\n3851996625205134e-21\\n41360852441746365e-22\\n4437985350679019e-21\\n4756595295224431e-21\\n5090759401332745e-21\\n5439272334768763e-21\\n5800885777354492e-21\\n617431732231194e-20\\n6558261415864908e-21\\n6951402081643854e-21\\n7352427078610724e-21\\n776004306644179e-20\\n817299128634541e-20\\n859006321223682e-20\\n901011559166498e-20\\n943208427790776e-20\\n9854996258967796e-21\\n102779793120511e-19\\n10700268761223986e-21\\n11121210882626686e-21\\n11540262592132922e-21\\n11956987157543675e-21\\n12371045801685965e-21\\n12782185198512153e-21\\n13190221009082292e-21\\n13595017751506788e-21\\n13996465445934025e-21\\n14394453613682245e-21\\n14788843337304458e-21\\n15179438197079897e-21\\n15565954986695996e-21\\n159479951711769e-19\\n1632501808108977e-20\\n16696316835783376e-21\\n17060997952865475e-21\\n1741796553326319e-20\\n17765910809611207e-21\\n18103307714179007e-21\\n18428414964924422e-21\\n1873928498708627e-20\\n19033779791552408e-21\\n19309593723260132e-21\\n19564282782158493e-21\\n19795300011768435e-21\\n20000036253617348e-21\\n20175865386100333e-21\\n20320193011000298e-21\\n2043050742429886e-20\\n20504431616129304e-21\\n2053977498889248e-20\\n2053458346778364e-20\\n20487186702722315e-21\\n20396241124695513e-21\\n20260767722088402e-21\\n2008018353837071e-20\\n19854326058790783e-21\\n1958346984381326e-20\\n19268334975022783e-21\\n18910087098637784e-21\\n18510329074392096e-21\\n18071084458393116e-21\\n1759477325723874e-20\\n1708418058516542e-20\\n1654241902637743e-20\\n15972885649757906e-21\\n15379214735947166e-21\\n14765227357577126e-21\\n14134878998768585e-21\\n13492206410475882e-21\\n12841274874837716e-21\\n12186126996382995e-21\\n1153073405337629e-20\\n10878950832848844e-21\\n10234474742590316e-21\\n9600809846903313e-21\\n8981236315389052e-21\\n837878561195382e-20\\n7796221586711671e-21\\n7236027475245044e-21\\n6700398658257556e-21\\n6191240897263084e-21\\n5710173638345806e-21\\n525853787269881e-20\\n4837407957425377e-21\\n444760673744965e-20\\n4089723267181045e-21\\n3764132410821741e-21\\n34710156000816728e-22\\n32103820486600876e-22\\n2982089758969686e-21\\n27858657116672236e-22\\n2621324693224958e-21\\n24879862962207122e-22\\n23852897122131345e-22\\n23126060296890794e-22\\n22692478454863774e-22\\n22544760947956766e-22\\n22675041005393304e-22\\n2307498934941976e-21\\n23735802735236344e-22\\n2464817000565056e-21\\n25802218963782986e-22\\n27187447969104217e-22\\n28792646653563736e-22\\n30605810512687737e-22\\n32614054368829137e-22\\n34803529785978893e-22\\n3715935147911853e-21\\n3966553757187019e-21\\n42304968236248075e-22\\n4505936679374822e-21\\n4790930679378358e-21\\n5083424789775748e-21\\n5381260263073728e-21\\n5682183521565909e-21\\n59838592809738356e-22\\n6283886852954945e-21\\n6579819472316006e-21\\n6869186403017646e-21\\n71495174905691905e-22\\n74183697488239275e-22\\n7673355499220047e-21\\n7912171521989864e-21\\n8132628635082462e-21\\n8332681086187232e-21\\n851045513130394e-20\\n8664276176531538e-21\\n8792693881043423e-21\\n8894504657082358e-21\\n896877105541899e-20\\n9014837592691283e-21\\n9032342656312142e-21\\n902122621185969e-20\\n898173313424594e-20\\n8914412084608248e-21\\n8820109955960664e-21\\n869996201005585e-20\\n8555377922714325e-21\\n8388024040142938e-21\\n8199802225519054e-21\\n7992825737955511e-21\\n776939263513049e-20\\n75319572246553e-19\\n7283100106933449e-21\\n7025497354699872e-21\\n67618893606173625e-22\\n6495049857578594e-21\\n6227755576126981e-21\\n5962756953113019e-21\\n5702750247631172e-21\\n54503513557679906e-22\\n5208071549502036e-21\\n4978295297559943e-21\\n47632602617406206e-22\\n45650395031418545e-22\\n4385525878641827e-21\\n42264185657787945e-22\\n4089211618717864e-21\\n39751844354632415e-22\\n38853940044353275e-22\\n3820668796915283e-21\\n378160418106413e-20\\n3768559251604575e-21\\n3781654993921524e-21\\n3820773733304722e-21\\n3885559854272663e-21\\n3975421810679947e-21\\n408953548223373e-20\\n4226848964051372e-21\\n4386088901724844e-21\\n4565768502759471e-21\\n476419736421263e-20\\n4979493255730105e-21\\n520959598518389e-20\\n545228345108506e-20\\n5705189952298628e-21\\n5965826781473282e-21\\n6231605075800867e-21\\n6499860838504734e-21\\n67678819799903145e-22\\n7032937158507613e-21\\n7292306133242776e-21\\n7543311275972492e-21\\n7783349826769037e-21\\n8009926426716385e-21\\n8220685415689238e-21\\n8413442353139011e-21\\n8586214200382788e-21\\n873724759979655e-20\\n8865044697615662e-21\\n8968385983321517e-21\\n904634966073653e-20\\n9098327120055788e-21\\n9124034148415977e-21\\n9123517593783576e-21\\n9097157282880741e-21\\n904566308553359e-20\\n897006711193804e-20\\n887171112397278e-20\\n87522293337923e-19\\n8613526849741981e-21\\n8457754109795351e-21\\n8287277712876184e-21\\n8104648118885047e-21\\n7912564735656352e-21\\n7713838947272234e-21\\n7511355660847971e-21\\n7308033959499416e-21\\n7106787448259155e-21\\n69104848676414254e-22\\n672191152817532e-20\\n654373208998707e-20\\n63784551754438035e-22\\n622840026193866e-20\\n60956672578195426e-22\\n59821091178448305e-22\\n5889307807451644e-21\\n5818553877531829e-21\\n5770829865473642e-21\\n57467976919264516e-22\\n5746790179231992e-21\\n577080677399526e-20\\n5818513514144717e-21\\n58892472390003475e-22\\n5982023999226947e-21\\n6095551580880161e-21\\n6228246015001389e-21\\n6378251899149569e-21\\n6543466312040544e-21\\n6721566055141459e-21\\n6910037907714023e-21\\n71062115338700604e-22\\n730729463324295e-20\\n7510409882520788e-21\\n7712633173216979e-21\\n791103261499641e-20\\n8102707743867267e-21\\n8284828353100852e-21\\n8454672352132056e-21\\n8609662058340142e-21\\n8747398336398943e-21\\n8865692024216405e-21\\n8962592120110701e-21\\n9036410255646322e-21\\n9085741039466591e-21\\n9109477930683077e-21\\n9106824382319398e-21\\n9077300085591489e-21\\n9020742242175049e-21\\n8937301889679582e-21\\n8827435406097775e-21\\n8691891415582315e-21\\n8531693410127484e-21\\n8348118487120975e-21\\n8142672676719818e-21\\n79170633964969e-19\\n7673169619793613e-21\\n74130103785475816e-22\\n7138712240742579e-21\\n6852476405196008e-21\\n65565460448612466e-22\\n6253174502645958e-21\\n5944594903829021e-21\\n5632991697753853e-21\\n53204745795395764e-22\\n50090551748809865e-22\\n4700626796656521e-21\\n4396947506950005e-21\\n4099626642016139e-21\\n38101148850608617e-22\\n35296979037290023e-22\\n32594935081280032e-22\\n30004522336693137e-22\\n2753361211118015e-21\\n25188511567892204e-22\\n22974062983244746e-22\\n2089377047728583e-21\\n18949952420331062e-22\\n17143917952905374e-22\\n15476166402320036e-22\\n13946608868359734e-22\\n12554811837022862e-22\\n11300263397399707e-22\\n10182663428410209e-22\\n9202240018936513e-22\\n8360095343732266e-22\\n7658585243462159e-22\\n7101737830746938e-22\\n6695717548179866e-22\\n6449342229844295e-22\\n6374661847579797e-22\\n6487608728149871e-22\\n6808730111365266e-22\\n7364014935649715e-22\\n8185827680873726e-22\\n9313962934454014e-22\\n10796835049726398e-22\\n1269281780339951e-21\\n15071749298759885e-22\\n\");\n",
        "})\n",
        ";\n",
        "  }(g.append(\"g\")));\n",
        "}(g.append(\"g\")));\n",
        "(function (g) {\n",
        "  d3.select(\"defs\")\n",
        "  .append(\"svg:clipPath\")\n",
        "    .attr(\"id\", parent_id + \"_clippath1\")\n",
        "    .append(\"svg:path\")\n",
        "      .attr(\"d\", \" M22.31,61.44 L 120 61.44 120 75 22.31 75 z\");g.attr(\"clip-path\", \"url(#\" + parent_id + \"_clippath1)\");\n",
        "  (function (g) {\n",
        "    g.attr(\"stroke\", \"none\")\n",
        "     .attr(\"fill\", \"#4C404B\")\n",
        "     .attr(\"font-family\", \"PT Sans,Helvetica Neue,Helvetica,sans\")\n",
        "     .attr(\"font-size\", \"3.18\")\n",
        "     .attr(\"class\", \"guide xlabels\");\n",
        "    g.append(\"svg:text\")\n",
        "       .attr(\"x\", -11.57)\n",
        "       .attr(\"y\", 65.74)\n",
        "       .attr(\"text-anchor\", \"middle\")\n",
        "    .call(function(text) {\n",
        "  text.text(\"-60\");\n",
        "})\n",
        ";\n",
        "    g.append(\"svg:text\")\n",
        "       .attr(\"x\", 112.52)\n",
        "       .attr(\"y\", 65.74)\n",
        "       .attr(\"text-anchor\", \"middle\")\n",
        "    .call(function(text) {\n",
        "  text.text(\"60\");\n",
        "})\n",
        ";\n",
        "    g.append(\"svg:text\")\n",
        "       .attr(\"x\", 195.25)\n",
        "       .attr(\"y\", 65.74)\n",
        "       .attr(\"text-anchor\", \"middle\")\n",
        "    .call(function(text) {\n",
        "  text.text(\"140\");\n",
        "})\n",
        ";\n",
        "    g.append(\"svg:text\")\n",
        "       .attr(\"x\", -73.62)\n",
        "       .attr(\"y\", 65.74)\n",
        "       .attr(\"text-anchor\", \"middle\")\n",
        "    .call(function(text) {\n",
        "  text.text(\"-120\");\n",
        "})\n",
        ";\n",
        "    g.append(\"svg:text\")\n",
        "       .attr(\"x\", 71.15)\n",
        "       .attr(\"y\", 65.74)\n",
        "       .attr(\"text-anchor\", \"middle\")\n",
        "    .call(function(text) {\n",
        "  text.text(\"20\");\n",
        "})\n",
        ";\n",
        "    g.append(\"svg:text\")\n",
        "       .attr(\"x\", -32.26)\n",
        "       .attr(\"y\", 65.74)\n",
        "       .attr(\"text-anchor\", \"middle\")\n",
        "    .call(function(text) {\n",
        "  text.text(\"-80\");\n",
        "})\n",
        ";\n",
        "    g.append(\"svg:text\")\n",
        "       .attr(\"x\", 91.84)\n",
        "       .attr(\"y\", 65.74)\n",
        "       .attr(\"text-anchor\", \"middle\")\n",
        "    .call(function(text) {\n",
        "  text.text(\"40\");\n",
        "})\n",
        ";\n",
        "    g.append(\"svg:text\")\n",
        "       .attr(\"x\", 153.88)\n",
        "       .attr(\"y\", 65.74)\n",
        "       .attr(\"text-anchor\", \"middle\")\n",
        "    .call(function(text) {\n",
        "  text.text(\"100\");\n",
        "})\n",
        ";\n",
        "    g.append(\"svg:text\")\n",
        "       .attr(\"x\", 9.11)\n",
        "       .attr(\"y\", 65.74)\n",
        "       .attr(\"text-anchor\", \"middle\")\n",
        "    .call(function(text) {\n",
        "  text.text(\"-40\");\n",
        "})\n",
        ";\n",
        "    g.append(\"svg:text\")\n",
        "       .attr(\"x\", 50.47)\n",
        "       .attr(\"y\", 65.74)\n",
        "       .attr(\"text-anchor\", \"middle\")\n",
        "    .call(function(text) {\n",
        "  text.text(\"0\");\n",
        "})\n",
        ";\n",
        "    g.append(\"svg:text\")\n",
        "       .attr(\"x\", 29.79)\n",
        "       .attr(\"y\", 65.74)\n",
        "       .attr(\"text-anchor\", \"middle\")\n",
        "    .call(function(text) {\n",
        "  text.text(\"-20\");\n",
        "})\n",
        ";\n",
        "    g.append(\"svg:text\")\n",
        "       .attr(\"x\", 174.56)\n",
        "       .attr(\"y\", 65.74)\n",
        "       .attr(\"text-anchor\", \"middle\")\n",
        "    .call(function(text) {\n",
        "  text.text(\"120\");\n",
        "})\n",
        ";\n",
        "    g.append(\"svg:text\")\n",
        "       .attr(\"x\", 215.93)\n",
        "       .attr(\"y\", 65.74)\n",
        "       .attr(\"text-anchor\", \"middle\")\n",
        "    .call(function(text) {\n",
        "  text.text(\"160\");\n",
        "})\n",
        ";\n",
        "    g.append(\"svg:text\")\n",
        "       .attr(\"x\", 133.2)\n",
        "       .attr(\"y\", 65.74)\n",
        "       .attr(\"text-anchor\", \"middle\")\n",
        "    .call(function(text) {\n",
        "  text.text(\"80\");\n",
        "})\n",
        ";\n",
        "    g.append(\"svg:text\")\n",
        "       .attr(\"x\", -52.94)\n",
        "       .attr(\"y\", 65.74)\n",
        "       .attr(\"text-anchor\", \"middle\")\n",
        "    .call(function(text) {\n",
        "  text.text(\"-100\");\n",
        "})\n",
        ";\n",
        "  }(g.append(\"g\")));\n",
        "  (function (g) {\n",
        "    g.attr(\"stroke\", \"none\")\n",
        "     .attr(\"fill\", \"#362A35\")\n",
        "     .attr(\"font-family\", \"PT Sans,Helvetica Neue,Helvetica,sans\")\n",
        "     .attr(\"font-size\", \"3.88\");\n",
        "    g.append(\"svg:text\")\n",
        "       .attr(\"x\", 71.15)\n",
        "       .attr(\"y\", 73)\n",
        "       .attr(\"text-anchor\", \"middle\")\n",
        "    .call(function(text) {\n",
        "  text.text(\"-1.2114170256521095\\n-1.1861566047777305\\n-1.1608961839033514\\n-1.1356357630289724\\n-1.1103753421545934\\n-1.0851149212802143\\n-1.0598545004058353\\n-1.0345940795314563\\n-1.0093336586570771\\n-.9840732377826982\\n-.9588128169083191\\n-.93355239603394\\n-.9082919751595611\\n-.8830315542851819\\n-.8577711334108029\\n-.8325107125364238\\n-.8072502916620448\\n-.7819898707876658\\n-.7567294499132867\\n-.7314690290389076\\n-.7062086081645287\\n-.6809481872901496\\n-.6556877664157705\\n-.6304273455413915\\n-.6051669246670125\\n-.5799065037926334\\n-.5546460829182543\\n-.5293856620438754\\n-.5041252411694963\\n-.47886482029511723\\n-.45360439942073816\\n-.4283439785463592\\n-.4030835576719801\\n-.37782313679760104\\n-.3525627159232221\\n-.327302295048843\\n-.30204187417446393\\n-.27678145330008486\\n-.2515210324257059\\n-.22626061155132682\\n-.20100019067694785\\n-.17573976980256867\\n-.1504793489281897\\n-.12521892805381074\\n-.09995850717943155\\n-.07469808630505259\\n-.049437665430673405\\n-.02417724455629444\\n.0010831763180845222\\n.026343597192463708\\n.05160401806684267\\n.07686443894122164\\n.10212485981560082\\n.12738528068997979\\n.15264570156435875\\n.17790612243873793\\n.2031665433131169\\n.22842696418749586\\n.25368738506187505\\n.278947805936254\\n.3042082268106332\\n.32946864768501216\\n.3547290685593911\\n.3799894894337703\\n.4052499103081493\\n.43051033118252824\\n.4557707520569074\\n.4810311729312864\\n.5062915938056654\\n.5315520146800445\\n.5568124355544235\\n.5820728564288027\\n.6073332773031817\\n.6325936981775606\\n.6578541190519398\\n.6831145399263188\\n.7083749608006977\\n.7336353816750769\\n.7588958025494559\\n.7841562234238348\\n.8094166442982138\\n.834677065172593\\n.8599374860469722\\n.8851979069213509\\n.9104583277957301\\n.9357187486701093\\n.960979169544488\\n.9862395904188672\\n1.0115000112932464\\n1.0367604321676251\\n1.0620208530420043\\n1.0872812739163835\\n1.1125416947907627\\n1.1378021156651414\\n1.1630625365395206\\n1.1883229574138998\\n1.2135833782882786\\n1.2388437991626577\\n1.264104220037037\\n1.2893646409114157\\n1.3146250617857949\\n1.339885482660174\\n1.3651459035345528\\n1.390406324408932\\n1.4156667452833112\\n1.44092716615769\\n1.466187587032069\\n1.4914480079064483\\n1.516708428780827\\n1.5419688496552062\\n1.5672292705295854\\n1.5924896914039641\\n1.6177501122783433\\n1.6430105331527225\\n1.6682709540271012\\n1.6935313749014804\\n1.7187917957758596\\n1.7440522166502388\\n1.7693126375246175\\n1.7945730583989967\\n1.819833479273376\\n1.8450939001477547\\n1.8703543210221338\\n1.895614741896513\\n1.9208751627708918\\n1.946135583645271\\n1.9713960045196501\\n1.9966564253940289\\n2.0219168462684083\\n2.0471772671427875\\n2.0724376880171658\\n2.097698108891545\\n2.122958529765924\\n2.1482189506403033\\n2.1734793715146825\\n2.1987397923890617\\n2.22400021326344\\n2.249260634137819\\n2.2745210550121984\\n2.2997814758865776\\n2.3250418967609567\\n2.350302317635336\\n2.375562738509715\\n2.4008231593840934\\n2.4260835802584726\\n2.451344001132852\\n2.476604422007231\\n2.50186484288161\\n2.5271252637559893\\n2.5523856846303676\\n2.577646105504747\\n2.602906526379126\\n2.628166947253505\\n2.6534273681278844\\n2.6786877890022636\\n2.703948209876642\\n2.729208630751021\\n2.7544690516254002\\n2.7797294724997794\\n2.8049898933741586\\n2.830250314248537\\n2.855510735122916\\n2.8807711559972953\\n2.9060315768716745\\n2.9312919977460536\\n2.956552418620433\\n2.981812839494811\\n3.0070732603691903\\n3.0323336812435695\\n3.0575941021179487\\n3.082854522992328\\n3.108114943866707\\n3.1333753647410854\\n3.1586357856154645\\n3.1838962064898437\\n3.209156627364223\\n3.234417048238602\\n3.2596774691129813\\n3.2849378899873596\\n3.3101983108617388\\n3.335458731736118\\n3.360719152610497\\n3.3859795734848763\\n3.4112399943592555\\n3.4365004152336347\\n3.461760836108013\\n3.487021256982392\\n3.5122816778567714\\n3.5375420987311506\\n3.5628025196055297\\n3.588062940479909\\n3.613323361354287\\n3.6385837822286664\\n3.6638442031030456\\n3.689104623977425\\n3.714365044851804\\n3.739625465726183\\n3.7648858866005614\\n3.7901463074749406\\n3.81540672834932\\n3.840667149223699\\n3.865927570098078\\n3.8911879909724574\\n3.9164484118468357\\n3.941708832721215\\n3.966969253595594\\n3.9922296744699732\\n4.017490095344352\\n4.042750516218732\\n4.068010937093111\\n4.093271357967489\\n4.118531778841868\\n4.1437921997162475\\n4.169052620590627\\n4.194313041465006\\n4.219573462339385\\n4.244833883213763\\n4.2700943040881425\\n4.295354724962522\\n4.320615145836901\\n4.34587556671128\\n4.371135987585659\\n4.3963964084600375\\n4.421656829334417\\n4.446917250208796\\n4.472177671083175\\n4.497438091957554\\n4.5226985128319335\\n4.547958933706312\\n4.573219354580691\\n4.59847977545507\\n4.623740196329449\\n4.6490006172038285\\n4.674261038078208\\n4.699521458952587\\n4.724781879826965\\n4.750042300701344\\n4.7753027215757236\\n4.800563142450103\\n4.825823563324482\\n4.851083984198861\\n4.876344405073239\\n4.901604825947619\\n4.926865246821998\\n4.952125667696377\\n4.977386088570756\\n5.002646509445135\\n5.027906930319514\\n5.053167351193893\\n5.078427772068272\\n5.103688192942651\\n5.12894861381703\\n5.15420903469141\\n5.179469455565788\\n5.204729876440167\\n5.229990297314546\\n5.255250718188925\\n5.280511139063305\\n5.305771559937684\\n5.331031980812063\\n5.356292401686441\\n5.3815528225608205\\n5.4068132434352\\n5.432073664309579\\n5.457334085183958\\n5.482594506058337\\n5.5078549269327155\\n5.533115347807095\\n5.558375768681474\\n5.583636189555853\\n5.608896610430232\\n5.634157031304611\\n5.65941745217899\\n5.684677873053369\\n5.709938293927748\\n5.735198714802127\\n5.7604591356765065\\n5.785719556550886\\n5.810979977425264\\n5.836240398299643\\n5.861500819174022\\n5.8867612400484015\\n5.912021660922781\\n5.93728208179716\\n5.962542502671539\\n5.987802923545917\\n6.0130633444202966\\n6.038323765294676\\n6.063584186169055\\n6.088844607043434\\n6.114105027917813\\n6.139365448792192\\n6.164625869666571\\n6.18988629054095\\n6.215146711415329\\n6.240407132289708\\n6.2656675531640875\\n6.290927974038466\\n6.316188394912845\\n6.341448815787224\\n6.366709236661603\\n6.391969657535983\\n6.417230078410362\\n6.44249049928474\\n6.467750920159119\\n6.493011341033498\\n6.518271761907878\\n6.543532182782257\\n6.568792603656636\\n6.594053024531015\\n6.6193134454053935\\n6.644573866279773\\n6.669834287154152\\n6.695094708028531\\n6.72035512890291\\n6.745615549777289\\n6.770875970651668\\n6.796136391526047\\n6.821396812400427\\n6.846657233274805\\n6.8719176541491835\\n6.897178075023564\\n6.922438495897942\\n6.947698916772322\\n6.9729593376467\\n6.998219758521079\\n7.023480179395459\\n7.048740600269837\\n7.074001021144217\\n7.099261442018595\\n7.124521862892975\\n7.149782283767354\\n7.175042704641732\\n7.200303125516112\\n7.22556354639049\\n7.25082396726487\\n7.276084388139249\\n7.301344809013629\\n7.326605229888007\\n7.351865650762385\\n7.3771260716367655\\n7.402386492511144\\n7.427646913385524\\n7.452907334259902\\n7.4781677551342804\\n7.5034281760086605\\n7.528688596883039\\n7.553949017757419\\n7.579209438631797\\n7.604469859506177\\n7.629730280380556\\n7.654990701254934\\n7.680251122129314\\n7.705511543003692\\n7.730771963878072\\n7.756032384752451\\n7.781292805626829\\n7.806553226501209\\n7.831813647375587\\n7.857074068249967\\n7.882334489124346\\n7.907594909998726\\n7.932855330873104\\n7.958115751747482\\n7.983376172621862\\n8.008636593496242\\n8.033897014370622\\n8.059157435245\\n8.08441785611938\\n8.109678276993758\\n8.134938697868137\\n8.160199118742517\\n8.185459539616895\\n8.210719960491275\\n8.235980381365653\\n8.261240802240032\\n8.286501223114412\\n8.31176164398879\\n8.33702206486317\\n8.362282485737548\\n8.387542906611928\\n8.412803327486307\\n8.438063748360685\\n8.463324169235065\\n8.488584590109443\\n8.513845010983824\\n8.539105431858202\\n8.564365852732582\\n8.58962627360696\\n8.614886694481338\\n8.640147115355719\\n8.665407536230097\\n8.690667957104477\\n8.715928377978855\\n8.741188798853234\\n8.766449219727614\\n8.791709640601992\\n8.816970061476372\\n8.84223048235075\\n8.86749090322513\\n8.892751324099509\\n8.918011744973887\\n8.943272165848267\\n8.968532586722645\\n8.993793007597025\\n9.019053428471404\\n9.044313849345782\\n9.069574270220162\\n9.09483469109454\\n9.12009511196892\\n9.145355532843299\\n9.170615953717679\\n9.195876374592057\\n9.221136795466435\\n9.246397216340815\\n9.271657637215194\\n9.296918058089574\\n9.322178478963952\\n9.347438899838332\\n9.37269932071271\\n9.397959741587089\\n9.423220162461469\\n9.448480583335847\\n9.473741004210227\\n9.499001425084606\\n9.524261845958984\\n9.549522266833364\\n9.574782687707742\\n9.600043108582122\\n9.6253035294565\\n9.65056395033088\\n9.675824371205259\\n9.701084792079637\\n9.726345212954017\\n9.751605633828396\\n9.776866054702776\\n9.802126475577154\\n9.827386896451534\\n9.852647317325912\\n9.87790773820029\\n9.90316815907467\\n9.928428579949049\\n9.953689000823429\\n9.978949421697807\\n10.004209842572186\\n10.029470263446566\\n10.054730684320944\\n10.079991105195324\\n10.105251526069702\\n10.130511946944083\\n10.15577236781846\\n10.18103278869284\\n10.20629320956722\\n10.231553630441597\\n10.256814051315978\\n10.282074472190356\\n10.307334893064734\\n10.332595313939114\\n10.357855734813493\\n10.383116155687873\\n10.408376576562251\\n10.433636997436631\\n10.45889741831101\\n10.484157839185388\\n10.509418260059768\\n10.534678680934146\\n10.559939101808526\\n10.585199522682904\\n10.610459943557284\\n10.635720364431663\\n10.660980785306041\\n10.686241206180421\\n10.7115016270548\\n10.73676204792918\\n10.762022468803558\\n10.787282889677936\\n10.812543310552316\\n10.837803731426694\\n10.863064152301074\\n10.888324573175453\\n10.913584994049833\\n10.938845414924211\\n10.96410583579859\\n10.98936625667297\\n11.014626677547348\\n11.039887098421728\\n11.065147519296106\\n11.090407940170486\\n11.115668361044865\\n11.140928781919243\\n11.166189202793623\\n11.191449623668001\\n11.216710044542381\\n11.24197046541676\\n11.267230886291138\\n11.292491307165518\\n11.317751728039896\\n11.343012148914276\\n11.368272569788655\\n11.393532990663035\\n11.418793411537413\\n11.444053832411791\\n11.469314253286171\\n11.49457467416055\\n11.51983509503493\\n11.545095515909308\\n11.570355936783686\\n11.595616357658066\\n11.620876778532445\\n11.646137199406825\\n11.671397620281203\\n11.696658041155583\\n11.721918462029961\\n11.74717888290434\\n11.77243930377872\\n11.797699724653098\\n11.822960145527478\\n11.848220566401857\\n11.873480987276237\\n11.898741408150615\\n11.924001829024993\\n11.949262249899373\\n11.974522670773752\\n11.999783091648132\\n12.02504351252251\\n12.050303933396888\\n12.075564354271268\\n12.100824775145647\\n12.126085196020027\\n12.151345616894405\\n12.176606037768785\\n12.201866458643163\\n12.227126879517542\\n12.252387300391922\\n12.2776477212663\\n12.30290814214068\\n12.328168563015058\\n12.353428983889437\\n12.378689404763817\\n12.403949825638195\\n12.429210246512575\\n12.454470667386953\\n12.479731088261333\\n12.504991509135712\\n12.53025193001009\\n12.55551235088447\\n12.580772771758848\\n12.606033192633229\\n12.631293613507607\\n12.656554034381987\\n12.681814455256365\\n12.707074876130743\\n12.732335297005124\\n12.757595717879502\\n12.782856138753882\\n12.80811655962826\\n12.833376980502639\\n12.858637401377019\\n12.883897822251397\\n12.909158243125777\\n12.934418664000155\\n12.959679084874535\\n12.984939505748914\\n13.010199926623292\\n13.035460347497672\\n13.06072076837205\\n13.08598118924643\\n13.111241610120809\\n13.136502030995189\\n13.161762451869567\\n13.187022872743945\\n13.212283293618325\\n13.237543714492704\\n13.262804135367084\\n13.288064556241462\\n13.31332497711584\\n13.33858539799022\\n13.363845818864599\\n13.389106239738979\\n13.414366660613357\\n13.439627081487737\\n13.464887502362116\\n13.490147923236494\\n13.515408344110874\\n13.540668764985252\\n13.565929185859632\\n13.59118960673401\\n13.616450027608389\\n13.641710448482769\\n13.666970869357147\\n13.692231290231527\\n13.717491711105906\\n13.742752131980286\\n13.768012552854664\\n13.793272973729042\\n13.818533394603422\\n13.8437938154778\\n13.86905423635218\\n13.894314657226559\\n13.919575078100939\\n13.944835498975317\\n13.970095919849696\\n13.995356340724076\\n14.020616761598454\\n14.045877182472834\\n14.071137603347212\\n14.09639802422159\\n14.12165844509597\\n14.146918865970349\\n14.17217928684473\\n14.197439707719107\\n14.222700128593488\\n14.247960549467866\\n14.273220970342244\\n14.298481391216624\\n14.323741812091003\\n14.349002232965383\\n14.37426265383976\\n14.399523074714141\\n14.42478349558852\\n14.450043916462898\\n14.475304337337278\\n14.500564758211656\\n14.525825179086036\\n14.551085599960414\\n14.576346020834793\\n14.601606441709173\\n14.626866862583551\\n14.652127283457931\\n14.67738770433231\\n14.70264812520669\\n14.727908546081068\\n14.753168966955446\\n14.778429387829826\\n14.803689808704204\\n14.828950229578583\\n14.854210650452965\\n14.879471071327343\\n14.904731492201721\\n14.9299919130761\\n14.955252333950478\\n14.98051275482486\\n15.005773175699238\\n15.031033596573616\\n15.056294017447994\\n15.081554438322373\\n15.106814859196755\\n15.132075280071133\\n15.157335700945511\\n15.18259612181989\\n15.207856542694268\\n15.23311696356865\\n15.258377384443028\\n15.283637805317406\\n15.308898226191785\\n15.334158647066166\\n15.359419067940545\\n15.384679488814923\\n15.409939909689301\\n15.43520033056368\\n15.460460751438061\\n15.48572117231244\\n15.510981593186818\\n15.536242014061196\\n15.561502434935575\\n15.586762855809956\\n15.612023276684335\\n15.637283697558713\\n15.662544118433091\\n15.68780453930747\\n15.713064960181852\\n15.73832538105623\\n15.763585801930608\\n15.788846222804986\\n15.814106643679368\\n15.839367064553747\\n15.864627485428125\\n15.889887906302503\\n15.915148327176881\\n15.940408748051263\\n15.965669168925642\\n15.99092958980002\\n16.016190010674396\\n16.041450431548775\\n16.066710852423157\\n16.091971273297535\\n16.117231694171913\\n16.14249211504629\\n16.16775253592067\\n16.19301295679505\\n16.21827337766943\\n16.243533798543808\\n16.268794219418186\\n16.29405464029257\\n16.319315061166947\\n16.344575482041325\\n16.369835902915703\\n16.39509632379008\\n16.420356744664463\\n16.44561716553884\\n16.47087758641322\\n16.4961380072876\\n16.521398428161977\\n16.54665884903636\\n16.571919269910737\\n16.597179690785115\\n16.622440111659493\\n16.64770053253387\\n16.672960953408253\\n16.69822137428263\\n16.72348179515701\\n16.74874221603139\\n16.774002636905767\\n16.79926305778015\\n16.824523478654527\\n16.849783899528905\\n16.875044320403283\\n16.900304741277665\\n16.925565162152044\\n16.950825583026422\\n16.9760860039008\\n17.00134642477518\\n17.02660684564956\\n17.05186726652394\\n17.077127687398317\\n17.102388108272695\\n17.127648529147073\\n17.152908950021455\\n17.178169370895834\\n17.203429791770212\\n17.22869021264459\\n17.25395063351897\\n17.27921105439335\\n17.30447147526773\\n17.329731896142107\\n17.354992317016485\\n17.380252737890867\\n17.405513158765245\\n17.430773579639624\\n17.456034000514002\\n17.48129442138838\\n17.506554842262762\\n17.53181526313714\\n17.55707568401152\\n17.582336104885897\\n17.607596525760275\\n17.632856946634657\\n17.658117367509035\\n17.683377788383414\\n17.708638209257792\\n17.73389863013217\\n17.759159051006552\\n17.78441947188093\\n17.80967989275531\\n17.834940313629687\\n17.86020073450407\\n17.885461155378447\\n17.910721576252826\\n17.935981997127204\\n17.961242418001582\\n17.986502838875964\\n18.011763259750342\\n18.03702368062472\\n18.0622841014991\\n18.087544522373477\\n18.11280494324786\\n18.138065364122237\\n18.163325784996616\\n18.188586205870994\\n18.213846626745372\\n18.239107047619754\\n18.264367468494132\\n18.28962788936851\\n18.31488831024289\\n18.34014873111727\\n18.36540915199165\\n18.390669572866027\\n18.415929993740406\\n18.441190414614784\\n18.466450835489166\\n18.491711256363544\\n18.516971677237922\\n18.5422320981123\\n18.56749251898668\\n18.59275293986106\\n18.61801336073544\\n18.643273781609818\\n18.668534202484196\\n18.693794623358574\\n18.719055044232956\\n18.744315465107334\\n18.769575885981713\\n18.79483630685609\\n18.82009672773047\\n18.84535714860485\\n18.87061756947923\\n18.895877990353608\\n18.921138411227986\\n18.946398832102368\\n18.971659252976746\\n18.996919673851124\\n19.022180094725503\\n19.04744051559988\\n19.072700936474263\\n19.09796135734864\\n19.12322177822302\\n19.148482199097398\\n19.173742619971776\\n19.199003040846158\\n19.224263461720536\\n19.249523882594914\\n19.274784303469293\\n19.30004472434367\\n19.325305145218053\\n19.35056556609243\\n19.37582598696681\\n19.401086407841188\\n19.42634682871557\\n19.451607249589948\\n19.476867670464326\\n19.502128091338705\\n19.527388512213083\\n19.552648933087465\\n19.577909353961843\\n19.60316977483622\\n19.6284301957106\\n19.653690616584978\\n19.67895103745936\\n19.704211458333738\\n19.729471879208116\\n19.754732300082495\\n19.779992720956873\\n19.805253141831255\\n19.830513562705633\\n19.85577398358001\\n19.88103440445439\\n19.90629482532877\\n19.93155524620315\\n19.956815667077528\\n19.982076087951906\\n20.007336508826285\\n20.032596929700667\\n20.057857350575045\\n20.083117771449423\\n20.1083781923238\\n20.13363861319818\\n20.15889903407256\\n20.18415945494694\\n20.209419875821318\\n20.234680296695696\\n20.259940717570075\\n20.285201138444457\\n20.310461559318835\\n20.335721980193213\\n20.36098240106759\\n20.386242821941973\\n20.41150324281635\\n20.43676366369073\\n20.46202408456511\\n20.487284505439487\\n20.51254492631387\\n20.537805347188247\\n20.563065768062625\\n20.588326188937003\\n20.61358660981138\\n20.638847030685763\\n20.66410745156014\\n20.68936787243452\\n20.7146282933089\\n20.739888714183277\\n20.76514913505766\\n20.790409555932037\\n20.815669976806415\\n20.840930397680793\\n20.866190818555175\\n20.891451239429554\\n20.916711660303932\\n20.94197208117831\\n20.96723250205269\\n20.99249292292707\\n21.01775334380145\\n21.043013764675827\\n21.068274185550205\\n21.093534606424583\\n21.118795027298965\\n21.144055448173344\\n21.169315869047722\\n21.1945762899221\\n21.21983671079648\\n21.24509713167086\\n21.27035755254524\\n21.295617973419617\\n21.320878394293995\\n21.346138815168374\\n21.371399236042755\\n21.396659656917134\\n21.421920077791512\\n21.44718049866589\\n21.472440919540272\\n21.49770134041465\\n21.52296176128903\\n21.548222182163407\\n21.573482603037785\\n21.598743023912167\\n21.624003444786545\\n21.649263865660924\\n21.674524286535302\\n21.69978470740968\\n21.725045128284062\\n21.75030554915844\\n21.77556597003282\\n21.800826390907197\\n21.826086811781575\\n21.851347232655957\\n21.876607653530336\\n21.901868074404714\\n21.927128495279092\\n21.952388916153474\\n21.977649337027852\\n22.00290975790223\\n22.02817017877661\\n22.053430599650987\\n22.07869102052537\\n22.103951441399747\\n22.129211862274126\\n22.154472283148504\\n22.179732704022882\\n22.204993124897264\\n22.230253545771642\\n22.25551396664602\\n22.2807743875204\\n22.306034808394777\\n22.33129522926916\\n22.356555650143537\\n22.381816071017916\\n22.407076491892294\\n22.432336912766676\\n22.457597333641054\\n22.482857754515432\\n22.50811817538981\\n22.53337859626419\\n22.55863901713857\\n22.58389943801295\\n22.609159858887327\\n22.634420279761706\\n22.659680700636084\\n22.684941121510466\\n22.710201542384844\\n22.735461963259223\\n22.7607223841336\\n22.78598280500798\\n22.81124322588236\\n22.83650364675674\\n22.861764067631118\\n22.887024488505496\\n22.912284909379878\\n22.937545330254256\\n22.962805751128634\\n22.988066172003013\\n23.01332659287739\\n23.038587013751773\\n23.06384743462615\\n23.08910785550053\\n23.114368276374908\\n23.139628697249286\\n23.164889118123668\\n23.190149538998046\\n23.215409959872424\\n23.240670380746803\\n23.26593080162118\\n23.291191222495563\\n23.31645164336994\\n23.34171206424432\\n23.366972485118698\\n23.39223290599308\\n23.417493326867458\\n23.442753747741836\\n23.468014168616214\\n23.493274589490593\\n23.518535010364975\\n23.543795431239353\\n23.56905585211373\\n23.59431627298811\\n23.619576693862488\\n23.64483711473687\\n23.670097535611248\\n23.695357956485626\\n23.720618377360005\\n23.745878798234383\\n23.771139219108765\\n23.796399639983143\\n23.82166006085752\\n23.8469204817319\\n23.872180902606278\\n23.89744132348066\\n23.922701744355038\\n23.947962165229416\\n23.973222586103795\\n23.998483006978176\\n24.023743427852555\\n24.049003848726933\\n24.07426426960131\\n24.09952469047569\\n24.12478511135007\\n24.15004553222445\\n24.175305953098828\\n24.200566373973206\\n24.225826794847585\\n24.251087215721967\\n24.276347636596345\\n24.301608057470723\\n24.3268684783451\\n24.35212889921948\\n24.37738932009386\\n24.40264974096824\\n24.427910161842618\\n24.453170582716997\\n24.47843100359138\\n24.503691424465757\\n24.528951845340135\\n24.554212266214513\\n24.57947268708889\\n24.604733107963273\\n24.62999352883765\\n24.65525394971203\\n24.68051437058641\\n24.705774791460787\\n24.73103521233517\\n24.756295633209547\\n24.781556054083925\\n24.806816474958303\\n24.83207689583268\\n24.857337316707063\\n24.882597737581442\\n24.90785815845582\\n24.9331185793302\\n24.95837900020458\\n24.98363942107896\\n25.008899841953337\\n25.034160262827715\\n25.059420683702093\\n25.084681104576475\\n25.109941525450854\\n25.135201946325232\\n25.16046236719961\\n25.18572278807399\\n25.21098320894837\\n25.23624362982275\\n25.261504050697127\\n25.286764471571505\\n25.312024892445883\\n25.337285313320265\\n25.362545734194644\\n25.387806155069022\\n25.4130665759434\\n25.438326996817782\\n25.46358741769216\\n25.48884783856654\\n25.514108259440917\\n25.539368680315295\\n25.564629101189677\\n25.589889522064055\\n25.615149942938434\\n25.640410363812812\\n25.66567078468719\\n25.690931205561572\\n25.71619162643595\\n25.74145204731033\\n25.766712468184707\\n25.791972889059085\\n25.817233309933467\\n25.842493730807846\\n25.867754151682224\\n25.893014572556602\\n25.91827499343098\\n25.943535414305362\\n25.96879583517974\\n25.99405625605412\\n26.019316676928497\\n26.04457709780288\\n26.069837518677257\\n26.095097939551636\\n26.120358360426014\\n26.145618781300392\\n26.170879202174774\\n26.196139623049152\\n26.22140004392353\\n26.24666046479791\\n26.271920885672287\\n26.29718130654667\\n26.322441727421047\\n26.347702148295426\\n26.372962569169804\\n26.398222990044182\\n26.423483410918564\\n26.448743831792942\\n26.47400425266732\\n26.4992646735417\\n26.52452509441608\\n26.54978551529046\\n26.575045936164837\\n26.600306357039216\\n26.625566777913594\\n26.650827198787976\\n26.676087619662354\\n26.701348040536732\\n26.72660846141111\\n26.75186888228549\\n26.77712930315987\\n26.80238972403425\\n26.827650144908628\\n26.852910565783006\\n26.878170986657384\\n26.903431407531766\\n26.928691828406144\\n26.953952249280523\\n26.9792126701549\\n27.004473091029283\\n27.02973351190366\\n27.05499393277804\\n27.080254353652418\\n27.105514774526796\\n27.130775195401178\\n27.156035616275556\\n27.181296037149934\\n27.206556458024313\\n27.23181687889869\\n27.257077299773073\\n27.28233772064745\\n27.30759814152183\\n27.332858562396208\\n27.358118983270586\\n27.383379404144968\\n27.408639825019346\\n27.433900245893724\\n27.459160666768103\\n27.484421087642485\\n27.509681508516863\\n27.53494192939124\\n27.56020235026562\\n27.585462771139998\\n27.61072319201438\\n27.635983612888758\\n27.661244033763136\\n27.686504454637515\\n27.711764875511893\\n27.737025296386275\\n27.762285717260653\\n27.78754613813503\\n27.81280655900941\\n27.838066979883788\\n27.86332740075817\\n27.888587821632548\\n27.913848242506926\\n27.939108663381305\\n27.964369084255686\\n27.989629505130065\\n28.014889926004443\\n28.04015034687882\\n28.0654107677532\\n28.09067118862758\\n28.11593160950196\\n28.141192030376338\\n28.166452451250716\\n28.191712872125095\\n28.216973292999477\\n28.242233713873855\\n28.267494134748233\\n28.29275455562261\\n28.31801497649699\\n28.34327539737137\\n28.36853581824575\\n28.393796239120128\\n28.419056659994506\\n28.444317080868885\\n28.469577501743267\\n28.494837922617645\\n28.520098343492023\\n28.5453587643664\\n28.570619185240783\\n28.59587960611516\\n28.62114002698954\\n28.64640044786392\\n28.671660868738297\\n28.69692128961268\\n28.722181710487057\\n28.747442131361435\\n28.772702552235813\\n28.79796297311019\\n28.823223393984573\\n28.84848381485895\\n28.87374423573333\\n28.89900465660771\\n28.924265077482087\\n28.94952549835647\\n28.974785919230847\\n29.000046340105225\\n29.025306760979603\\n29.050567181853985\\n29.075827602728364\\n29.101088023602742\\n29.12634844447712\\n29.1516088653515\\n29.17686928622588\\n29.20212970710026\\n29.227390127974637\\n29.252650548849015\\n29.277910969723393\\n29.303171390597775\\n29.328431811472154\\n29.353692232346532\\n29.37895265322091\\n29.40421307409529\\n29.42947349496967\\n29.45473391584405\\n29.479994336718427\\n29.505254757592805\\n29.530515178467187\\n29.555775599341565\\n29.581036020215944\\n29.606296441090322\\n29.6315568619647\\n29.656817282839082\\n29.68207770371346\\n29.70733812458784\\n29.732598545462217\\n29.757858966336595\\n29.783119387210977\\n29.808379808085355\\n29.833640228959734\\n29.858900649834112\\n29.88416107070849\\n29.909421491582872\\n29.93468191245725\\n29.95994233333163\\n29.985202754206007\\n30.01046317508039\\n30.035723595954767\\n30.060984016829146\\n30.086244437703524\\n30.111504858577902\\n30.136765279452284\\n30.162025700326662\\n30.18728612120104\\n30.21254654207542\\n30.237806962949797\\n30.26306738382418\\n30.288327804698557\\n30.313588225572936\\n30.338848646447314\\n30.364109067321692\\n30.389369488196074\\n30.414629909070452\\n30.43989032994483\\n30.46515075081921\\n30.49041117169359\\n30.51567159256797\\n30.540932013442347\\n30.566192434316726\\n30.591452855191104\\n30.616713276065486\\n30.641973696939864\\n30.667234117814242\\n30.69249453868862\\n30.717754959563\\n30.74301538043738\\n30.76827580131176\\n30.79353622218614\\n30.818796643060516\\n30.844057063934898\\n30.869317484809272\\n30.894577905683654\\n30.919838326558036\\n30.94509874743241\\n30.970359168306793\\n30.995619589181167\\n31.02088001005555\\n31.04614043092993\\n31.071400851804306\\n31.096661272678688\\n31.121921693553062\\n31.147182114427444\\n31.172442535301826\\n31.1977029561762\\n31.222963377050583\\n31.248223797924958\\n31.27348421879934\\n31.29874463967372\\n31.324005060548096\\n31.349265481422478\\n31.374525902296853\\n31.399786323171234\\n31.425046744045616\\n31.45030716491999\\n31.475567585794373\\n31.500828006668748\\n31.52608842754313\\n31.55134884841751\\n31.576609269291886\\n31.601869690166268\\n31.627130111040643\\n31.652390531915024\\n31.677650952789406\\n31.70291137366378\\n31.728171794538163\\n31.753432215412538\\n31.77869263628692\\n31.8039530571613\\n31.829213478035676\\n31.854473898910058\\n31.87973431978444\\n31.904994740658815\\n31.930255161533196\\n31.95551558240757\\n31.980776003281953\\n32.006036424156335\\n32.03129684503071\\n32.05655726590509\\n32.081817686779466\\n32.10707810765385\\n32.13233852852823\\n32.157598949402605\\n32.18285937027699\\n32.20811979115136\\n32.23338021202574\\n32.258640632900125\\n32.2839010537745\\n32.30916147464888\\n32.334421895523256\\n32.35968231639764\\n32.38494273727202\\n32.410203158146395\\n32.43546357902078\\n32.46072399989515\\n32.48598442076953\\n32.511244841643915\\n32.53650526251829\\n32.56176568339267\\n32.587026104267046\\n32.61228652514143\\n32.63754694601581\\n32.662807366890185\\n32.68806778776457\\n32.71332820863894\\n32.73858862951332\\n32.763849050387705\\n32.78910947126208\\n32.81436989213646\\n32.839630313010844\\n32.86489073388522\\n32.8901511547596\\n32.915411575633975\\n32.94067199650836\\n32.96593241738274\\n32.99119283825711\\n33.016453259131495\\n33.04171368000587\\n33.06697410088025\\n33.092234521754634\\n33.11749494262901\\n33.14275536350339\\n33.168015784377765\\n33.19327620525215\\n33.21853662612653\\n33.2437970470009\\n33.269057467875285\\n33.29431788874966\\n33.31957830962404\\n33.344838730498424\\n33.3700991513728\\n33.39535957224718\\n33.420619993121555\\n33.44588041399594\\n33.47114083487032\\n33.49640125574469\\n33.521661676619075\\n33.54692209749345\\n33.57218251836783\\n33.597442939242214\\n33.62270336011659\\n33.64796378099097\\n33.673224201865345\\n33.69848462273973\\n33.72374504361411\\n33.749005464488484\\n33.774265885362865\\n33.79952630623725\\n33.82478672711162\\n33.850047147986004\\n33.87530756886038\\n33.90056798973476\\n33.92582841060914\\n33.95108883148352\\n33.9763492523579\\n34.001609673232274\\n34.026870094106656\\n34.05213051498104\\n34.07739093585541\\n34.102651356729794\\n34.12791177760417\\n34.15317219847855\\n34.17843261935293\\n34.20369304022731\\n34.22895346110169\\n34.254213881976064\\n34.279474302850446\\n34.30473472372483\\n34.3299951445992\\n34.355255565473584\\n34.38051598634796\\n34.40577640722234\\n34.43103682809672\\n34.4562972489711\\n34.48155766984548\\n34.506818090719854\\n34.532078511594236\\n34.55733893246862\\n34.58259935334299\\n34.607859774217374\\n34.63312019509175\\n34.65838061596613\\n34.68364103684051\\n34.70890145771489\\n34.73416187858927\\n34.759422299463644\\n34.784682720338026\\n34.80994314121241\\n34.83520356208678\\n34.860463982961164\\n34.885724403835546\\n34.91098482470992\\n34.9362452455843\\n34.96150566645868\\n34.98676608733306\\n35.01202650820744\\n35.037286929081816\\n35.0625473499562\\n35.08780777083057\\n35.113068191704954\\n35.138328612579336\\n35.16358903345371\\n35.18884945432809\\n35.21410987520247\\n35.23937029607685\\n35.26463071695123\\n35.289891137825606\\n35.31515155869999\\n35.34041197957436\\n35.365672400448744\\n35.390932821323126\\n35.4161932421975\\n35.44145366307188\\n35.46671408394626\\n35.49197450482064\\n35.51723492569502\\n35.542495346569396\\n35.56775576744378\\n35.59301618831815\\n35.618276609192534\\n35.643537030066916\\n35.66879745094129\\n35.69405787181567\\n35.71931829269005\\n35.74457871356443\\n35.76983913443881\\n35.795099555313186\\n35.82035997618757\\n35.84562039706195\\n35.870880817936325\\n35.896141238810706\\n35.92140165968508\\n35.94666208055946\\n35.971922501433845\\n35.99718292230822\\n36.0224433431826\\n36.047703764056976\\n36.07296418493136\\n36.09822460580574\\n36.123485026680115\\n36.1487454475545\\n36.17400586842887\\n36.19926628930325\\n36.224526710177635\\n36.24978713105201\\n36.27504755192639\\n36.300307972800766\\n36.32556839367515\\n36.35082881454953\\n36.376089235423905\\n36.40134965629829\\n36.42661007717266\\n36.45187049804704\\n36.477130918921425\\n36.5023913397958\\n36.52765176067018\\n36.552912181544556\\n36.57817260241894\\n36.60343302329332\\n36.628693444167695\\n36.65395386504208\\n36.67921428591645\\n36.70447470679083\\n36.729735127665215\\n36.75499554853959\\n36.78025596941397\\n36.805516390288346\\n36.83077681116273\\n36.85603723203711\\n36.881297652911485\\n36.90655807378587\\n36.93181849466025\\n36.95707891553462\\n36.982339336409005\\n37.00759975728338\\n37.03286017815776\\n37.058120599032144\\n37.08338101990652\\n37.1086414407809\\n37.133901861655275\\n37.15916228252966\\n37.18442270340404\\n37.20968312427841\\n37.234943545152795\\n37.26020396602717\\n37.28546438690155\\n37.310724807775934\\n37.33598522865031\\n37.36124564952469\\n37.386506070399065\\n37.41176649127345\\n37.43702691214783\\n37.4622873330222\\n37.487547753896585\\n37.51280817477096\\n37.53806859564534\\n37.563329016519724\\n37.5885894373941\\n37.61384985826848\\n37.639110279142855\\n37.66437070001724\\n37.68963112089162\\n37.714891541765994\\n37.740151962640375\\n37.76541238351475\\n37.79067280438913\\n37.815933225263514\\n37.84119364613789\\n37.86645406701227\\n37.89171448788665\\n37.91697490876103\\n37.94223532963541\\n37.967495750509784\\n37.992756171384165\\n38.01801659225855\\n38.04327701313292\\n38.068537434007304\\n38.09379785488168\\n38.11905827575606\\n38.14431869663044\\n38.16957911750482\\n38.1948395383792\\n38.220099959253574\\n38.245360380127956\\n38.27062080100234\\n38.29588122187671\\n38.321141642751094\\n38.34640206362547\\n38.37166248449985\\n38.39692290537423\\n38.42218332624861\\n38.44744374712299\\n38.472704167997364\\n38.497964588871746\\n38.52322500974613\\n38.5484854306205\\n38.573745851494884\\n38.59900627236926\\n38.62426669324364\\n38.64952711411802\\n38.6747875349924\\n38.70004795586678\\n38.725308376741154\\n38.750568797615536\\n38.77582921848992\\n38.80108963936429\\n38.826350060238674\\n38.85161048111305\\n38.87687090198743\\n38.90213132286181\\n38.92739174373619\\n38.95265216461057\\n38.97791258548495\\n39.003173006359326\\n39.02843342723371\\n39.05369384810808\\n39.078954268982464\\n39.104214689856846\\n39.12947511073122\\n39.1547355316056\\n39.17999595247998\\n39.20525637335436\\n39.23051679422874\\n39.255777215103116\\n39.2810376359775\\n39.30629805685187\\n39.331558477726254\\n39.356818898600636\\n39.38207931947501\\n39.40733974034939\\n39.43260016122377\\n39.45786058209815\\n39.48312100297253\\n39.508381423846906\\n39.53364184472129\\n39.55890226559566\\n39.584162686470044\\n39.609423107344426\\n39.6346835282188\\n39.65994394909318\\n39.68520436996756\\n39.71046479084194\\n39.73572521171632\\n39.760985632590696\\n39.78624605346508\\n39.81150647433945\\n39.836766895213835\\n39.862027316088216\\n39.88728773696259\\n39.91254815783697\\n39.937808578711355\\n39.96306899958573\\n39.98832942046011\\n40.013589841334486\\n40.03885026220887\\n40.06411068308325\\n40.089371103957625\\n40.11463152483201\\n40.13989194570638\\n40.16515236658076\\n40.190412787455145\\n40.21567320832952\\n40.2409336292039\\n40.266194050078276\\n40.29145447095266\\n40.31671489182704\\n40.341975312701415\\n40.3672357335758\\n40.39249615445017\\n40.41775657532455\\n40.443016996198935\\n40.46827741707331\\n40.49353783794769\\n40.518798258822066\\n40.54405867969645\\n40.56931910057083\\n40.594579521445205\\n40.61983994231959\\n40.64510036319396\\n40.67036078406834\\n40.695621204942725\\n40.7208816258171\\n40.74614204669148\\n40.771402467565856\\n40.79666288844024\\n40.82192330931462\\n40.847183730188995\\n40.87244415106338\\n40.89770457193776\\n40.92296499281213\\n40.948225413686515\\n40.97348583456089\\n40.99874625543527\\n41.024006676309654\\n41.04926709718403\\n41.07452751805841\\n41.099787938932785\\n41.12504835980717\\n41.15030878068155\\n41.17556920155592\\n41.200829622430305\\n41.22609004330468\\n41.25135046417906\\n41.276610885053444\\n41.30187130592782\\n41.3271317268022\\n41.352392147676575\\n41.37765256855096\\n41.40291298942534\\n41.42817341029971\\n41.453433831174095\\n41.47869425204847\\n41.50395467292285\\n41.529215093797234\\n41.55447551467161\\n41.57973593554599\\n41.604996356420365\\n41.63025677729475\\n41.65551719816913\\n41.6807776190435\\n41.706038039917885\\n41.73129846079226\\n41.75655888166664\\n41.781819302541024\\n41.8070797234154\\n41.83234014428978\\n41.857600565164155\\n41.88286098603854\\n41.90812140691292\\n41.933381827787294\\n41.958642248661675\\n41.98390266953606\\n42.00916309041043\\n42.034423511284814\\n42.05968393215919\\n42.08494435303357\\n42.11020477390795\\n42.13546519478233\\n42.16072561565671\\n42.185986036531084\\n42.211246457405466\\n42.23650687827985\\n42.26176729915422\\n42.287027720028604\\n42.31228814090298\\n42.33754856177736\\n42.36280898265174\\n42.38806940352612\\n42.4133298244005\\n42.438590245274874\\n42.463850666149256\\n42.48911108702364\\n42.51437150789801\\n42.539631928772394\\n42.56489234964677\\n42.59015277052115\\n42.61541319139553\\n42.64067361226991\\n42.66593403314429\\n42.691194454018664\\n42.716454874893046\\n42.74171529576743\\n42.7669757166418\\n42.792236137516184\\n42.81749655839056\\n42.84275697926494\\n42.86801740013932\\n42.8932778210137\\n42.91853824188808\\n42.94379866276246\\n42.969059083636836\\n42.99431950451122\\n43.01957992538559\\n43.044840346259974\\n43.070100767134356\\n43.09536118800873\\n43.12062160888311\\n43.14588202975749\\n43.17114245063187\\n43.19640287150625\\n43.221663292380626\\n43.24692371325501\\n43.27218413412938\\n43.297444555003764\\n43.322704975878146\\n43.34796539675252\\n43.3732258176269\\n43.39848623850128\\n43.42374665937566\\n43.44900708025004\\n43.474267501124416\\n43.4995279219988\\n43.52478834287317\\n43.550048763747554\\n43.575309184621936\\n43.60056960549631\\n43.62583002637069\\n43.65109044724507\\n43.67635086811945\\n43.70161128899383\\n43.726871709868206\\n43.75213213074259\\n43.77739255161696\\n43.802652972491344\\n43.827913393365726\\n43.8531738142401\\n43.87843423511448\\n43.90369465598886\\n43.92895507686324\\n43.95421549773762\\n43.979475918611996\\n44.00473633948638\\n44.02999676036076\\n44.055257181235135\\n44.080517602109516\\n44.10577802298389\\n44.13103844385827\\n44.156298864732655\\n44.18155928560703\\n44.20681970648141\\n44.232080127355786\\n44.25734054823017\\n44.28260096910455\\n44.307861389978925\\n44.33312181085331\\n44.35838223172768\\n44.38364265260206\\n44.408903073476445\\n44.43416349435082\\n44.4594239152252\\n44.484684336099576\\n44.50994475697396\\n44.53520517784834\\n44.560465598722715\\n44.5857260195971\\n44.61098644047147\\n44.63624686134585\\n44.661507282220235\\n44.68676770309461\\n44.71202812396899\\n44.737288544843366\\n44.76254896571775\\n44.78780938659213\\n44.813069807466505\\n44.83833022834089\\n44.86359064921526\\n44.88885107008964\\n44.914111490964025\\n44.9393719118384\\n44.96463233271278\\n44.989892753587164\\n45.01515317446154\\n45.04041359533592\\n45.065674016210295\\n45.09093443708468\\n45.11619485795906\\n45.14145527883343\\n45.166715699707815\\n45.19197612058219\\n45.21723654145657\\n45.242496962330954\\n45.26775738320533\\n45.29301780407971\\n45.318278224954085\\n45.34353864582847\\n45.36879906670285\\n45.39405948757722\\n45.419319908451605\\n45.44458032932598\\n45.46984075020036\\n45.495101171074744\\n45.52036159194912\\n45.5456220128235\\n45.570882433697875\\n45.59614285457226\\n45.62140327544664\\n45.64666369632101\\n45.671924117195395\\n45.69718453806977\\n45.72244495894415\\n45.747705379818534\\n45.77296580069291\\n45.79822622156729\\n45.823486642441665\\n45.84874706331605\\n45.87400748419043\\n45.899267905064804\\n45.924528325939185\\n45.94978874681356\\n45.97504916768794\\n46.000309588562324\\n46.0255700094367\\n46.05083043031108\\n46.07609085118546\\n46.10135127205984\\n46.12661169293422\\n46.151872113808594\\n46.177132534682976\\n46.20239295555736\\n46.22765337643173\\n46.252913797306114\\n46.27817421818049\\n46.30343463905487\\n46.32869505992925\\n46.35395548080363\\n46.37921590167801\\n46.404476322552384\\n46.429736743426766\\n46.45499716430115\\n46.48025758517552\\n46.505518006049904\\n46.53077842692428\\n46.55603884779866\\n46.58129926867304\\n46.60655968954742\\n46.6318201104218\\n46.657080531296174\\n46.682340952170556\\n46.70760137304494\\n46.73286179391931\\n46.758122214793694\\n46.78338263566807\\n46.80864305654245\\n46.83390347741683\\n46.85916389829121\\n46.88442431916559\\n46.909684740039964\\n46.934945160914346\\n46.96020558178873\\n46.9854660026631\\n47.010726423537484\\n47.035986844411866\\n47.06124726528624\\n47.08650768616062\\n47.111768107035\\n47.13702852790938\\n47.16228894878376\\n47.187549369658136\\n47.21280979053252\\n47.23807021140689\\n47.263330632281274\\n47.288591053155656\\n47.31385147403003\\n47.33911189490441\\n47.36437231577879\\n47.38963273665317\\n47.41489315752755\\n47.440153578401926\\n47.46541399927631\\n47.49067442015068\\n47.515934841025064\\n47.541195261899446\\n47.56645568277382\\n47.5917161036482\\n47.61697652452258\\n47.64223694539696\\n47.66749736627134\\n47.692757787145716\\n47.7180182080201\\n47.74327862889447\\n47.768539049768854\\n47.793799470643236\\n47.81905989151761\\n47.84432031239199\\n47.86958073326637\\n47.89484115414075\\n47.92010157501513\\n47.945361995889506\\n47.97062241676389\\n47.99588283763827\\n48.021143258512645\\n48.046403679387026\\n48.0716641002614\\n48.09692452113578\\n48.122184942010165\\n48.14744536288454\\n48.17270578375892\\n48.197966204633296\\n48.22322662550768\\n48.24848704638206\\n48.273747467256435\\n48.29900788813082\\n48.32426830900519\\n48.34952872987957\\n48.374789150753955\\n48.40004957162833\\n48.42530999250271\\n48.450570413377086\\n48.47583083425147\\n48.50109125512585\\n48.526351676000225\\n48.55161209687461\\n48.57687251774898\\n48.60213293862336\\n48.627393359497745\\n48.65265378037212\\n48.6779142012465\\n48.703174622120876\\n48.72843504299526\\n48.75369546386964\\n48.778955884744015\\n48.8042163056184\\n48.82947672649277\\n48.85473714736715\\n48.879997568241535\\n48.90525798911591\\n48.93051840999029\\n48.955778830864666\\n48.98103925173905\\n49.00629967261343\\n49.031560093487805\\n49.05682051436219\\n49.08208093523657\\n49.10734135611094\\n49.132601776985325\\n49.1578621978597\\n49.18312261873408\\n49.208383039608464\\n49.23364346048284\\n49.25890388135722\\n49.284164302231595\\n49.30942472310598\\n49.33468514398036\\n49.35994556485473\\n49.385205985729115\\n49.41046640660349\\n49.43572682747787\\n49.460987248352254\\n49.48624766922663\\n49.51150809010101\\n49.536768510975385\\n49.56202893184977\\n49.58728935272415\\n49.61254977359852\\n49.637810194472905\\n49.66307061534728\\n49.68833103622166\\n49.713591457096044\\n49.73885187797042\\n49.7641122988448\\n49.789372719719175\\n49.81463314059356\\n49.83989356146794\\n49.865153982342314\\n49.890414403216695\\n49.91567482409107\\n49.94093524496545\\n49.966195665839834\\n49.99145608671421\\n50.01671650758859\\n50.04197692846297\\n50.06723734933735\\n50.09249777021173\\n50.117758191086104\\n50.143018611960485\\n50.16827903283487\\n50.19353945370924\\n50.218799874583624\\n50.244060295458\\n50.26932071633238\\n50.29458113720676\\n50.31984155808114\\n50.34510197895552\\n50.370362399829894\\n50.395622820704276\\n50.42088324157866\\n50.44614366245303\\n50.471404083327414\\n50.49666450420179\\n\");\n",
        "})\n",
        ";\n",
        "  }(g.append(\"g\")));\n",
        "}(g.append(\"g\")));\n",
        "(function (g) {\n",
        "  g.on(\"mouseover\", guide_background_mouseover(parent_id, \"#C6C6C9\"))\n",
        "   .on(\"mouseout\", guide_background_mouseout(parent_id, \"#F0F0F3\"))\n",
        "   .call(zoom_behavior(parent_id, t));\n",
        "  (function (g) {\n",
        "    d3.select(\"defs\")\n",
        "  .append(\"svg:clipPath\")\n",
        "    .attr(\"id\", parent_id + \"_clippath2\")\n",
        "    .append(\"svg:path\")\n",
        "      .attr(\"d\", \" M27.31,5 L 115 5 115 61.44 27.31 61.44 z\");g.attr(\"clip-path\", \"url(#\" + parent_id + \"_clippath2)\");\n",
        "    (function (g) {\n",
        "      g.attr(\"class\", \"guide background\")\n",
        "       .attr(\"stroke\", \"#F1F1F5\")\n",
        "       .attr(\"fill\", \"#FAFAFA\");\n",
        "      g.append(\"svg:path\")\n",
        "         .attr(\"d\", \"M27.31,5 L 115 5 115 61.44 27.31 61.44 z\");\n",
        "    }(g.append(\"g\")));\n",
        "    (function (g) {\n",
        "      g.attr(\"stroke\", \"#F0F0F3\")\n",
        "       .attr(\"stroke-width\", \"0.2\")\n",
        "       .attr(\"class\", \"guide xgridlines\");\n",
        "      g.append(\"svg:path\")\n",
        "         .attr(\"d\", \"M-11.57,5 L -11.57 61.44\");\n",
        "      g.append(\"svg:path\")\n",
        "         .attr(\"d\", \"M112.52,5 L 112.52 61.44\");\n",
        "      g.append(\"svg:path\")\n",
        "         .attr(\"d\", \"M195.25,5 L 195.25 61.44\");\n",
        "      g.append(\"svg:path\")\n",
        "         .attr(\"d\", \"M-73.62,5 L -73.62 61.44\");\n",
        "      g.append(\"svg:path\")\n",
        "         .attr(\"d\", \"M71.15,5 L 71.15 61.44\");\n",
        "      g.append(\"svg:path\")\n",
        "         .attr(\"d\", \"M-32.26,5 L -32.26 61.44\");\n",
        "      g.append(\"svg:path\")\n",
        "         .attr(\"d\", \"M91.84,5 L 91.84 61.44\");\n",
        "      g.append(\"svg:path\")\n",
        "         .attr(\"d\", \"M153.88,5 L 153.88 61.44\");\n",
        "      g.append(\"svg:path\")\n",
        "         .attr(\"d\", \"M9.11,5 L 9.11 61.44\");\n",
        "      g.append(\"svg:path\")\n",
        "         .attr(\"d\", \"M50.47,5 L 50.47 61.44\");\n",
        "      g.append(\"svg:path\")\n",
        "         .attr(\"d\", \"M29.79,5 L 29.79 61.44\");\n",
        "      g.append(\"svg:path\")\n",
        "         .attr(\"d\", \"M174.56,5 L 174.56 61.44\");\n",
        "      g.append(\"svg:path\")\n",
        "         .attr(\"d\", \"M215.93,5 L 215.93 61.44\");\n",
        "      g.append(\"svg:path\")\n",
        "         .attr(\"d\", \"M133.2,5 L 133.2 61.44\");\n",
        "      g.append(\"svg:path\")\n",
        "         .attr(\"d\", \"M-52.94,5 L -52.94 61.44\");\n",
        "    }(g.append(\"g\")));\n",
        "    (function (g) {\n",
        "      g.attr(\"stroke\", \"#F0F0F3\")\n",
        "       .attr(\"stroke-width\", \"0.2\")\n",
        "       .attr(\"class\", \"guide ygridlines\");\n",
        "      g.append(\"svg:path\")\n",
        "         .attr(\"d\", \"M27.31,-4.05 L 115 -4.05\");\n",
        "      g.append(\"svg:path\")\n",
        "         .attr(\"d\", \"M27.31,6.6 L 115 6.6\");\n",
        "      g.append(\"svg:path\")\n",
        "         .attr(\"d\", \"M27.31,-36 L 115 -36\");\n",
        "      g.append(\"svg:path\")\n",
        "         .attr(\"d\", \"M27.31,70.49 L 115 70.49\");\n",
        "      g.append(\"svg:path\")\n",
        "         .attr(\"d\", \"M27.31,-14.7 L 115 -14.7\");\n",
        "      g.append(\"svg:path\")\n",
        "         .attr(\"d\", \"M27.31,123.74 L 115 123.74\");\n",
        "      g.append(\"svg:path\")\n",
        "         .attr(\"d\", \"M27.31,-57.3 L 115 -57.3\");\n",
        "      g.append(\"svg:path\")\n",
        "         .attr(\"d\", \"M27.31,17.25 L 115 17.25\");\n",
        "      g.append(\"svg:path\")\n",
        "         .attr(\"d\", \"M27.31,38.54 L 115 38.54\");\n",
        "      g.append(\"svg:path\")\n",
        "         .attr(\"d\", \"M27.31,-25.35 L 115 -25.35\");\n",
        "      g.append(\"svg:path\")\n",
        "         .attr(\"d\", \"M27.31,59.84 L 115 59.84\");\n",
        "      g.append(\"svg:path\")\n",
        "         .attr(\"d\", \"M27.31,113.09 L 115 113.09\");\n",
        "      g.append(\"svg:path\")\n",
        "         .attr(\"d\", \"M27.31,27.9 L 115 27.9\");\n",
        "      g.append(\"svg:path\")\n",
        "         .attr(\"d\", \"M27.31,-46.65 L 115 -46.65\");\n",
        "      g.append(\"svg:path\")\n",
        "         .attr(\"d\", \"M27.31,102.44 L 115 102.44\");\n",
        "      g.append(\"svg:path\")\n",
        "         .attr(\"d\", \"M27.31,49.19 L 115 49.19\");\n",
        "      g.append(\"svg:path\")\n",
        "         .attr(\"d\", \"M27.31,91.79 L 115 91.79\");\n",
        "      g.append(\"svg:path\")\n",
        "         .attr(\"d\", \"M27.31,81.14 L 115 81.14\");\n",
        "    }(g.append(\"g\")));\n",
        "  }(g.append(\"g\")));\n",
        "  (function (g) {\n",
        "    d3.select(\"defs\")\n",
        "  .append(\"svg:clipPath\")\n",
        "    .attr(\"id\", parent_id + \"_clippath3\")\n",
        "    .append(\"svg:path\")\n",
        "      .attr(\"d\", \" M27.31,5 L 115 5 115 61.44 27.31 61.44 z\");g.attr(\"clip-path\", \"url(#\" + parent_id + \"_clippath3)\");\n",
        "    (function (g) {\n",
        "      g.attr(\"stroke\", \"#00BFFF\")\n",
        "       .attr(\"class\", \"geometry\")\n",
        "       .attr(\"fill\", \"none\")\n",
        "       .attr(\"stroke-width\", \"0.3\");\n",
        "      g.append(\"svg:path\")\n",
        "         .attr(\"d\", \"M49.22,59.84 L 49.25 59.84 49.27 59.84 49.3 59.84 49.32 59.84 49.35 59.84 49.38 59.84 49.4 59.84 49.43 59.84 49.45 59.84 49.48 59.84 49.51 59.84 49.53 59.83 49.56 59.83 49.58 59.83 49.61 59.83 49.64 59.83 49.66 59.82 49.69 59.82 49.72 59.82 49.74 59.81 49.77 59.81 49.79 59.8 49.82 59.8 49.85 59.79 49.87 59.78 49.9 59.77 49.92 59.76 49.95 59.75 49.98 59.74 50 59.73 50.03 59.71 50.06 59.7 50.08 59.68 50.11 59.66 50.13 59.63 50.16 59.61 50.19 59.58 50.21 59.55 50.24 59.52 50.26 59.49 50.29 59.45 50.32 59.41 50.34 59.36 50.37 59.31 50.39 59.26 50.42 59.2 50.45 59.14 50.47 59.08 50.5 59.01 50.53 58.93 50.55 58.85 50.58 58.77 50.6 58.68 50.63 58.59 50.66 58.49 50.68 58.38 50.71 58.27 50.73 58.15 50.76 58.03 50.79 57.9 50.81 57.77 50.84 57.63 50.86 57.48 50.89 57.33 50.92 57.17 50.94 57 50.97 56.83 51 56.65 51.02 56.47 51.05 56.28 51.07 56.09 51.1 55.88 51.13 55.68 51.15 55.46 51.18 55.24 51.2 55.02 51.23 54.79 51.26 54.55 51.28 54.31 51.31 54.06 51.34 53.81 51.36 53.56 51.39 53.3 51.41 53.03 51.44 52.76 51.47 52.49 51.49 52.21 51.52 51.93 51.54 51.64 51.57 51.35 51.6 51.06 51.62 50.77 51.65 50.47 51.67 50.17 51.7 49.86 51.73 49.55 51.75 49.24 51.78 48.93 51.81 48.62 51.83 48.3 51.86 47.98 51.88 47.66 51.91 47.34 51.94 47.01 51.96 46.69 51.99 46.36 52.01 46.03 52.04 45.7 52.07 45.37 52.09 45.04 52.12 44.7 52.14 44.37 52.17 44.04 52.2 43.7 52.22 43.37 52.25 43.03 52.28 42.69 52.3 42.36 52.33 42.02 52.35 41.68 52.38 41.35 52.41 41.01 52.43 40.68 52.46 40.34 52.48 40.01 52.51 39.68 52.54 39.34 52.56 39.01 52.59 38.68 52.62 38.35 52.64 38.03 52.67 37.7 52.69 37.37 52.72 37.05 52.75 36.73 52.77 36.4 52.8 36.08 52.82 35.76 52.85 35.45 52.88 35.13 52.9 34.82 52.93 34.5 52.95 34.19 52.98 33.88 53.01 33.57 53.03 33.26 53.06 32.95 53.09 32.65 53.11 32.34 53.14 32.04 53.16 31.74 53.19 31.44 53.22 31.14 53.24 30.84 53.27 30.55 53.29 30.25 53.32 29.96 53.35 29.67 53.37 29.38 53.4 29.09 53.42 28.81 53.45 28.52 53.48 28.24 53.5 27.96 53.53 27.68 53.56 27.41 53.58 27.14 53.61 26.86 53.63 26.6 53.66 26.33 53.69 26.07 53.71 25.81 53.74 25.55 53.76 25.29 53.79 25.04 53.82 24.79 53.84 24.54 53.87 24.3 53.9 24.06 53.92 23.82 53.95 23.58 53.97 23.35 54 23.11 54.03 22.88 54.05 22.66 54.08 22.43 54.1 22.21 54.13 21.99 54.16 21.78 54.18 21.56 54.21 21.35 54.23 21.14 54.26 20.94 54.29 20.73 54.31 20.53 54.34 20.34 54.37 20.14 54.39 19.95 54.42 19.76 54.44 19.58 54.47 19.39 54.5 19.22 54.52 19.04 54.55 18.87 54.57 18.7 54.6 18.54 54.63 18.38 54.65 18.22 54.68 18.07 54.7 17.92 54.73 17.77 54.76 17.63 54.78 17.49 54.81 17.35 54.84 17.22 54.86 17.09 54.89 16.97 54.91 16.85 54.94 16.73 54.97 16.61 54.99 16.5 55.02 16.39 55.04 16.28 55.07 16.18 55.1 16.07 55.12 15.97 55.15 15.87 55.17 15.77 55.2 15.68 55.23 15.58 55.25 15.49 55.28 15.39 55.31 15.3 55.33 15.21 55.36 15.12 55.38 15.03 55.41 14.93 55.44 14.84 55.46 14.75 55.49 14.66 55.51 14.57 55.54 14.48 55.57 14.39 55.59 14.3 55.62 14.2 55.65 14.11 55.67 14.02 55.7 13.93 55.72 13.84 55.75 13.75 55.78 13.66 55.8 13.57 55.83 13.48 55.85 13.39 55.88 13.3 55.91 13.22 55.93 13.13 55.96 13.05 55.98 12.97 56.01 12.88 56.04 12.81 56.06 12.73 56.09 12.66 56.12 12.58 56.14 12.51 56.17 12.45 56.19 12.38 56.22 12.32 56.25 12.26 56.27 12.2 56.3 12.14 56.32 12.09 56.35 12.04 56.38 11.99 56.4 11.95 56.43 11.91 56.45 11.86 56.48 11.83 56.51 11.79 56.53 11.76 56.56 11.72 56.59 11.69 56.61 11.66 56.64 11.64 56.66 11.61 56.69 11.59 56.72 11.56 56.74 11.54 56.77 11.52 56.79 11.51 56.82 11.49 56.85 11.47 56.87 11.46 56.9 11.45 56.93 11.44 56.95 11.43 56.98 11.42 57 11.41 57.03 11.41 57.06 11.41 57.08 11.41 57.11 11.41 57.13 11.42 57.16 11.42 57.19 11.43 57.21 11.45 57.24 11.46 57.26 11.48 57.29 11.5 57.32 11.53 57.34 11.55 57.37 11.59 57.4 11.62 57.42 11.66 57.45 11.7 57.47 11.75 57.5 11.79 57.53 11.85 57.55 11.9 57.58 11.96 57.6 12.02 57.63 12.09 57.66 12.16 57.68 12.23 57.71 12.31 57.73 12.39 57.76 12.47 57.79 12.55 57.81 12.64 57.84 12.72 57.87 12.81 57.89 12.91 57.92 13 57.94 13.1 57.97 13.19 58 13.29 58.02 13.39 58.05 13.49 58.07 13.59 58.1 13.69 58.13 13.79 58.15 13.89 58.18 13.99 58.21 14.09 58.23 14.18 58.26 14.28 58.28 14.38 58.31 14.48 58.34 14.58 58.36 14.67 58.39 14.77 58.41 14.86 58.44 14.95 58.47 15.05 58.49 15.14 58.52 15.23 58.54 15.32 58.57 15.42 58.6 15.51 58.62 15.6 58.65 15.69 58.68 15.78 58.7 15.88 58.73 15.97 58.75 16.06 58.78 16.16 58.81 16.25 58.83 16.35 58.86 16.45 58.88 16.55 58.91 16.65 58.94 16.75 58.96 16.85 58.99 16.96 59.01 17.07 59.04 17.17 59.07 17.28 59.09 17.39 59.12 17.51 59.15 17.62 59.17 17.73 59.2 17.85 59.22 17.96 59.25 18.08 59.28 18.2 59.3 18.31 59.33 18.43 59.35 18.55 59.38 18.66 59.41 18.78 59.43 18.9 59.46 19.01 59.49 19.13 59.51 19.25 59.54 19.36 59.56 19.48 59.59 19.59 59.62 19.71 59.64 19.82 59.67 19.93 59.69 20.05 59.72 20.16 59.75 20.28 59.77 20.39 59.8 20.5 59.82 20.62 59.85 20.73 59.88 20.85 59.9 20.96 59.93 21.08 59.96 21.19 59.98 21.31 60.01 21.43 60.03 21.55 60.06 21.67 60.09 21.79 60.11 21.91 60.14 22.03 60.16 22.16 60.19 22.28 60.22 22.41 60.24 22.54 60.27 22.66 60.29 22.79 60.32 22.92 60.35 23.05 60.37 23.18 60.4 23.31 60.43 23.44 60.45 23.57 60.48 23.71 60.5 23.84 60.53 23.97 60.56 24.11 60.58 24.24 60.61 24.37 60.63 24.51 60.66 24.64 60.69 24.77 60.71 24.9 60.74 25.03 60.77 25.17 60.79 25.3 60.82 25.43 60.84 25.56 60.87 25.68 60.9 25.81 60.92 25.94 60.95 26.06 60.97 26.19 61 26.31 61.03 26.43 61.05 26.55 61.08 26.67 61.1 26.79 61.13 26.9 61.16 27.02 61.18 27.13 61.21 27.24 61.24 27.35 61.26 27.46 61.29 27.57 61.31 27.67 61.34 27.78 61.37 27.89 61.39 27.99 61.42 28.09 61.44 28.2 61.47 28.3 61.5 28.4 61.52 28.5 61.55 28.61 61.57 28.71 61.6 28.81 61.63 28.91 61.65 29.02 61.68 29.12 61.71 29.23 61.73 29.33 61.76 29.44 61.78 29.55 61.81 29.66 61.84 29.77 61.86 29.88 61.89 29.99 61.91 30.1 61.94 30.21 61.97 30.33 61.99 30.44 62.02 30.56 62.05 30.67 62.07 30.78 62.1 30.9 62.12 31.01 62.15 31.13 62.18 31.24 62.2 31.35 62.23 31.46 62.25 31.57 62.28 31.68 62.31 31.79 62.33 31.89 62.36 32 62.38 32.1 62.41 32.2 62.44 32.3 62.46 32.39 62.49 32.49 62.52 32.58 62.54 32.67 62.57 32.76 62.59 32.85 62.62 32.94 62.65 33.02 62.67 33.11 62.7 33.19 62.72 33.27 62.75 33.35 62.78 33.43 62.8 33.51 62.83 33.59 62.85 33.67 62.88 33.74 62.91 33.82 62.93 33.9 62.96 33.98 62.99 34.05 63.01 34.13 63.04 34.21 63.06 34.29 63.09 34.37 63.12 34.45 63.14 34.53 63.17 34.61 63.19 34.69 63.22 34.78 63.25 34.86 63.27 34.95 63.3 35.03 63.33 35.12 63.35 35.21 63.38 35.3 63.4 35.39 63.43 35.48 63.46 35.57 63.48 35.67 63.51 35.76 63.53 35.86 63.56 35.95 63.59 36.05 63.61 36.15 63.64 36.25 63.66 36.35 63.69 36.45 63.72 36.56 63.74 36.66 63.77 36.77 63.8 36.87 63.82 36.98 63.85 37.09 63.87 37.19 63.9 37.3 63.93 37.41 63.95 37.52 63.98 37.63 64 37.74 64.03 37.86 64.06 37.97 64.08 38.08 64.11 38.19 64.13 38.31 64.16 38.42 64.19 38.54 64.21 38.65 64.24 38.76 64.27 38.88 64.29 38.99 64.32 39.1 64.34 39.21 64.37 39.33 64.4 39.44 64.42 39.55 64.45 39.66 64.47 39.77 64.5 39.88 64.53 39.99 64.55 40.1 64.58 40.21 64.6 40.31 64.63 40.42 64.66 40.53 64.68 40.63 64.71 40.74 64.74 40.84 64.76 40.94 64.79 41.05 64.81 41.15 64.84 41.25 64.87 41.35 64.89 41.45 64.92 41.55 64.94 41.65 64.97 41.75 65 41.85 65.02 41.95 65.05 42.04 65.08 42.14 65.1 42.24 65.13 42.34 65.15 42.43 65.18 42.53 65.21 42.63 65.23 42.72 65.26 42.82 65.28 42.91 65.31 43.01 65.34 43.1 65.36 43.2 65.39 43.29 65.41 43.39 65.44 43.48 65.47 43.58 65.49 43.67 65.52 43.77 65.55 43.86 65.57 43.95 65.6 44.04 65.62 44.14 65.65 44.23 65.68 44.32 65.7 44.41 65.73 44.5 65.75 44.58 65.78 44.67 65.81 44.76 65.83 44.84 65.86 44.93 65.88 45.01 65.91 45.09 65.94 45.18 65.96 45.25 65.99 45.33 66.02 45.41 66.04 45.49 66.07 45.56 66.09 45.64 66.12 45.71 66.15 45.78 66.17 45.85 66.2 45.92 66.22 45.99 66.25 46.05 66.28 46.12 66.3 46.19 66.33 46.25 66.36 46.32 66.38 46.38 66.41 46.44 66.43 46.5 66.46 46.57 66.49 46.63 66.51 46.69 66.54 46.75 66.56 46.81 66.59 46.87 66.62 46.93 66.64 46.99 66.67 47.05 66.69 47.11 66.72 47.17 66.75 47.23 66.77 47.29 66.8 47.35 66.83 47.41 66.85 47.47 66.88 47.53 66.9 47.59 66.93 47.64 66.96 47.7 66.98 47.76 67.01 47.82 67.03 47.87 67.06 47.93 67.09 47.98 67.11 48.04 67.14 48.09 67.16 48.15 67.19 48.2 67.22 48.25 67.24 48.31 67.27 48.36 67.3 48.42 67.32 48.47 67.35 48.52 67.37 48.58 67.4 48.63 67.43 48.69 67.45 48.74 67.48 48.8 67.5 48.85 67.53 48.91 67.56 48.97 67.58 49.03 67.61 49.09 67.64 49.15 67.66 49.21 67.69 49.27 67.71 49.33 67.74 49.39 67.77 49.45 67.79 49.52 67.82 49.58 67.84 49.65 67.87 49.71 67.9 49.78 67.92 49.85 67.95 49.91 67.97 49.98 68 50.04 68.03 50.11 68.05 50.18 68.08 50.24 68.11 50.31 68.13 50.37 68.16 50.44 68.18 50.5 68.21 50.56 68.24 50.62 68.26 50.69 68.29 50.74 68.31 50.8 68.34 50.86 68.37 50.92 68.39 50.97 68.42 51.03 68.44 51.08 68.47 51.13 68.5 51.18 68.52 51.23 68.55 51.28 68.58 51.32 68.6 51.37 68.63 51.41 68.65 51.45 68.68 51.5 68.71 51.54 68.73 51.57 68.76 51.61 68.78 51.65 68.81 51.69 68.84 51.72 68.86 51.76 68.89 51.79 68.92 51.83 68.94 51.86 68.97 51.89 68.99 51.92 69.02 51.96 69.05 51.99 69.07 52.02 69.1 52.05 69.12 52.08 69.15 52.11 69.18 52.15 69.2 52.18 69.23 52.21 69.25 52.24 69.28 52.27 69.31 52.31 69.33 52.34 69.36 52.37 69.39 52.4 69.41 52.44 69.44 52.47 69.46 52.51 69.49 52.54 69.52 52.57 69.54 52.61 69.57 52.64 69.59 52.68 69.62 52.71 69.65 52.75 69.67 52.79 69.7 52.82 69.72 52.86 69.75 52.89 69.78 52.93 69.8 52.97 69.83 53 69.86 53.04 69.88 53.07 69.91 53.11 69.93 53.15 69.96 53.18 69.99 53.22 70.01 53.25 70.04 53.29 70.06 53.33 70.09 53.36 70.12 53.4 70.14 53.43 70.17 53.47 70.2 53.51 70.22 53.54 70.25 53.58 70.27 53.61 70.3 53.65 70.33 53.69 70.35 53.72 70.38 53.76 70.4 53.8 70.43 53.83 70.46 53.87 70.48 53.9 70.51 53.94 70.53 53.98 70.56 54.01 70.59 54.05 70.61 54.09 70.64 54.12 70.67 54.16 70.69 54.19 70.72 54.23 70.74 54.26 70.77 54.3 70.8 54.33 70.82 54.37 70.85 54.4 70.87 54.43 70.9 54.47 70.93 54.5 70.95 54.53 70.98 54.56 71 54.59 71.03 54.63 71.06 54.66 71.08 54.69 71.11 54.72 71.14 54.75 71.16 54.78 71.19 54.81 71.21 54.84 71.24 54.87 71.27 54.9 71.29 54.93 71.32 54.96 71.34 55 71.37 55.03 71.4 55.06 71.42 55.09 71.45 55.12 71.48 55.15 71.5 55.19 71.53 55.22 71.55 55.25 71.58 55.28 71.61 55.32 71.63 55.35 71.66 55.38 71.68 55.42 71.71 55.45 71.74 55.49 71.76 55.52 71.79 55.55 71.81 55.59 71.84 55.62 71.87 55.66 71.89 55.69 71.92 55.72 71.95 55.76 71.97 55.79 72 55.82 72.02 55.85 72.05 55.88 72.08 55.91 72.1 55.94 72.13 55.97 72.15 56 72.18 56.03 72.21 56.06 72.23 56.08 72.26 56.11 72.28 56.13 72.31 56.16 72.34 56.18 72.36 56.2 72.39 56.22 72.42 56.24 72.44 56.26 72.47 56.28 72.49 56.3 72.52 56.32 72.55 56.33 72.57 56.35 72.6 56.36 72.62 56.38 72.65 56.39 72.68 56.4 72.7 56.42 72.73 56.43 72.76 56.44 72.78 56.45 72.81 56.47 72.83 56.48 72.86 56.49 72.89 56.5 72.91 56.51 72.94 56.52 72.96 56.53 72.99 56.54 73.02 56.56 73.04 56.57 73.07 56.58 73.09 56.59 73.12 56.6 73.15 56.61 73.17 56.63 73.2 56.64 73.23 56.65 73.25 56.66 73.28 56.68 73.3 56.69 73.33 56.7 73.36 56.72 73.38 56.73 73.41 56.74 73.43 56.76 73.46 56.77 73.49 56.78 73.51 56.8 73.54 56.81 73.56 56.83 73.59 56.84 73.62 56.86 73.64 56.87 73.67 56.89 73.7 56.91 73.72 56.92 73.75 56.94 73.77 56.96 73.8 56.97 73.83 56.99 73.85 57.01 73.88 57.03 73.9 57.04 73.93 57.06 73.96 57.08 73.98 57.1 74.01 57.11 74.03 57.13 74.06 57.15 74.09 57.17 74.11 57.19 74.14 57.21 74.17 57.22 74.19 57.24 74.22 57.26 74.24 57.28 74.27 57.3 74.3 57.32 74.32 57.33 74.35 57.35 74.37 57.37 74.4 57.39 74.43 57.4 74.45 57.42 74.48 57.44 74.51 57.46 74.53 57.47 74.56 57.49 74.58 57.51 74.61 57.52 74.64 57.54 74.66 57.55 74.69 57.57 74.71 57.59 74.74 57.6 74.77 57.62 74.79 57.63 74.82 57.65 74.84 57.66 74.87 57.68 74.9 57.69 74.92 57.71 74.95 57.72 74.98 57.73 75 57.75 75.03 57.76 75.05 57.78 75.08 57.79 75.11 57.8 75.13 57.82 75.16 57.83 75.18 57.84 75.21 57.86 75.24 57.87 75.26 57.88 75.29 57.9 75.31 57.91 75.34 57.92 75.37 57.93 75.39 57.95 75.42 57.96 75.45 57.97 75.47 57.99 75.5 58 75.52 58.01 75.55 58.02 75.58 58.04 75.6 58.05 75.63 58.06 75.65 58.07 75.68 58.09 75.71 58.1 75.73 58.11 75.76 58.12 75.79 58.14 75.81 58.15 75.84 58.16 75.86 58.18 75.89 58.19 75.92 58.2 75.94 58.21 75.97 58.23 75.99 58.24 76.02 58.25 76.05 58.27 76.07 58.28 76.1 58.29 76.12 58.31 76.15 58.32 76.18 58.33 76.2 58.35 76.23 58.36 76.26 58.37 76.28 58.39 76.31 58.4 76.33 58.41 76.36 58.42 76.39 58.44 76.41 58.45 76.44 58.46 76.46 58.47 76.49 58.48 76.52 58.5 76.54 58.51 76.57 58.52 76.59 58.53 76.62 58.54 76.65 58.55 76.67 58.56 76.7 58.56 76.73 58.57 76.75 58.58 76.78 58.59 76.8 58.59 76.83 58.6 76.86 58.61 76.88 58.61 76.91 58.62 76.93 58.63 76.96 58.63 76.99 58.64 77.01 58.64 77.04 58.65 77.07 58.65 77.09 58.65 77.12 58.66 77.14 58.66 77.17 58.67 77.2 58.67 77.22 58.67 77.25 58.68 77.27 58.68 77.3 58.68 77.33 58.69 77.35 58.69 77.38 58.69 77.4 58.7 77.43 58.7 77.46 58.71 77.48 58.71 77.51 58.71 77.54 58.72 77.56 58.72 77.59 58.73 77.61 58.73 77.64 58.74 77.67 58.74 77.69 58.74 77.72 58.75 77.74 58.75 77.77 58.76 77.8 58.76 77.82 58.77 77.85 58.77 77.87 58.78 77.9 58.78 77.93 58.79 77.95 58.79 77.98 58.8 78.01 58.8 78.03 58.81 78.06 58.82 78.08 58.82 78.11 58.83 78.14 58.83 78.16 58.84 78.19 58.85 78.21 58.85 78.24 58.86 78.27 58.87 78.29 58.87 78.32 58.88 78.35 58.89 78.37 58.9 78.4 58.9 78.42 58.91 78.45 58.92 78.48 58.93 78.5 58.94 78.53 58.94 78.55 58.95 78.58 58.96 78.61 58.97 78.63 58.98 78.66 58.99 78.68 59 78.71 59 78.74 59.01 78.76 59.02 78.79 59.03 78.82 59.04 78.84 59.05 78.87 59.06 78.89 59.06 78.92 59.07 78.95 59.08 78.97 59.09 79 59.1 79.02 59.1 79.05 59.11 79.08 59.12 79.1 59.13 79.13 59.13 79.15 59.14 79.18 59.15 79.21 59.15 79.23 59.16 79.26 59.16 79.29 59.17 79.31 59.17 79.34 59.18 79.36 59.18 79.39 59.19 79.42 59.19 79.44 59.2 79.47 59.2 79.49 59.21 79.52 59.21 79.55 59.21 79.57 59.22 79.6 59.22 79.63 59.22 79.65 59.22 79.68 59.23 79.7 59.23 79.73 59.23 79.76 59.23 79.78 59.24 79.81 59.24 79.83 59.24 79.86 59.24 79.89 59.24 79.91 59.24 79.94 59.24 79.96 59.25 79.99 59.25 80.02 59.25 80.04 59.25 80.07 59.25 80.1 59.25 80.12 59.25 80.15 59.25 80.17 59.25 80.2 59.25 80.23 59.26 80.25 59.26 80.28 59.26 80.3 59.26 80.33 59.26 80.36 59.26 80.38 59.26 80.41 59.27 80.43 59.27 80.46 59.27 80.49 59.27 80.51 59.28 80.54 59.28 80.57 59.28 80.59 59.28 80.62 59.29 80.64 59.29 80.67 59.29 80.7 59.3 80.72 59.3 80.75 59.3 80.77 59.31 80.8 59.31 80.83 59.31 80.85 59.32 80.88 59.32 80.91 59.33 80.93 59.33 80.96 59.34 80.98 59.34 81.01 59.35 81.04 59.35 81.06 59.36 81.09 59.36 81.11 59.37 81.14 59.37 81.17 59.38 81.19 59.38 81.22 59.39 81.24 59.39 81.27 59.4 81.3 59.4 81.32 59.41 81.35 59.42 81.38 59.42 81.4 59.43 81.43 59.43 81.45 59.44 81.48 59.44 81.51 59.45 81.53 59.45 81.56 59.46 81.58 59.46 81.61 59.46 81.64 59.47 81.66 59.47 81.69 59.48 81.71 59.48 81.74 59.48 81.77 59.49 81.79 59.49 81.82 59.49 81.85 59.5 81.87 59.5 81.9 59.5 81.92 59.5 81.95 59.51 81.98 59.51 82 59.51 82.03 59.51 82.05 59.51 82.08 59.51 82.11 59.52 82.13 59.52 82.16 59.52 82.19 59.52 82.21 59.52 82.24 59.52 82.26 59.52 82.29 59.52 82.32 59.52 82.34 59.53 82.37 59.53 82.39 59.53 82.42 59.53 82.45 59.53 82.47 59.53 82.5 59.53 82.52 59.53 82.55 59.53 82.58 59.54 82.6 59.54 82.63 59.54 82.66 59.54 82.68 59.54 82.71 59.54 82.73 59.54 82.76 59.54 82.79 59.55 82.81 59.55 82.84 59.55 82.86 59.55 82.89 59.55 82.92 59.55 82.94 59.55 82.97 59.56 82.99 59.56 83.02 59.56 83.05 59.56 83.07 59.56 83.1 59.56 83.13 59.56 83.15 59.56 83.18 59.57 83.2 59.57 83.23 59.57 83.26 59.57 83.28 59.57 83.31 59.57 83.33 59.57 83.36 59.57 83.39 59.58 83.41 59.58 83.44 59.58 83.46 59.58 83.49 59.58 83.52 59.58 83.54 59.58 83.57 59.58 83.6 59.58 83.62 59.58 83.65 59.58 83.67 59.58 83.7 59.59 83.73 59.59 83.75 59.59 83.78 59.59 83.8 59.59 83.83 59.59 83.86 59.59 83.88 59.59 83.91 59.59 83.94 59.59 83.96 59.59 83.99 59.6 84.01 59.6 84.04 59.6 84.07 59.6 84.09 59.6 84.12 59.6 84.14 59.6 84.17 59.61 84.2 59.61 84.22 59.61 84.25 59.61 84.27 59.62 84.3 59.62 84.33 59.62 84.35 59.62 84.38 59.63 84.41 59.63 84.43 59.63 84.46 59.64 84.48 59.64 84.51 59.64 84.54 59.65 84.56 59.65 84.59 59.65 84.61 59.65 84.64 59.66 84.67 59.66 84.69 59.66 84.72 59.67 84.74 59.67 84.77 59.67 84.8 59.67 84.82 59.67 84.85 59.68 84.88 59.68 84.9 59.68 84.93 59.68 84.95 59.68 84.98 59.68 85.01 59.69 85.03 59.69 85.06 59.69 85.08 59.69 85.11 59.69 85.14 59.69 85.16 59.69 85.19 59.69 85.22 59.69 85.24 59.69 85.27 59.69 85.29 59.69 85.32 59.69 85.35 59.69 85.37 59.69 85.4 59.69 85.42 59.69 85.45 59.69 85.48 59.69 85.5 59.69 85.53 59.69 85.55 59.7 85.58 59.7 85.61 59.7 85.63 59.7 85.66 59.7 85.69 59.7 85.71 59.7 85.74 59.7 85.76 59.7 85.79 59.7 85.82 59.7 85.84 59.71 85.87 59.71 85.89 59.71 85.92 59.71 85.95 59.71 85.97 59.71 86 59.71 86.02 59.72 86.05 59.72 86.08 59.72 86.1 59.72 86.13 59.72 86.16 59.72 86.18 59.73 86.21 59.73 86.23 59.73 86.26 59.73 86.29 59.73 86.31 59.73 86.34 59.73 86.36 59.73 86.39 59.73 86.42 59.74 86.44 59.74 86.47 59.74 86.5 59.74 86.52 59.74 86.55 59.74 86.57 59.74 86.6 59.74 86.63 59.74 86.65 59.74 86.68 59.74 86.7 59.74 86.73 59.74 86.76 59.74 86.78 59.74 86.81 59.74 86.83 59.75 86.86 59.75 86.89 59.75 86.91 59.75 86.94 59.75 86.97 59.75 86.99 59.75 87.02 59.75 87.04 59.75 87.07 59.75 87.1 59.75 87.12 59.75 87.15 59.75 87.17 59.75 87.2 59.75 87.23 59.75 87.25 59.75 87.28 59.75 87.3 59.75 87.33 59.75 87.36 59.75 87.38 59.75 87.41 59.75 87.44 59.75 87.46 59.75 87.49 59.75 87.51 59.76 87.54 59.76 87.57 59.76 87.59 59.76 87.62 59.76 87.64 59.76 87.67 59.76 87.7 59.76 87.72 59.76 87.75 59.76 87.78 59.76 87.8 59.76 87.83 59.76 87.85 59.76 87.88 59.76 87.91 59.76 87.93 59.76 87.96 59.76 87.98 59.76 88.01 59.76 88.04 59.76 88.06 59.76 88.09 59.76 88.11 59.76 88.14 59.76 88.17 59.76 88.19 59.76 88.22 59.76 88.25 59.76 88.27 59.76 88.3 59.76 88.32 59.76 88.35 59.76 88.38 59.76 88.4 59.76 88.43 59.76 88.45 59.76 88.48 59.76 88.51 59.76 88.53 59.76 88.56 59.77 88.58 59.77 88.61 59.77 88.64 59.77 88.66 59.77 88.69 59.77 88.72 59.77 88.74 59.77 88.77 59.77 88.79 59.77 88.82 59.77 88.85 59.78 88.87 59.78 88.9 59.78 88.92 59.78 88.95 59.78 88.98 59.78 89 59.78 89.03 59.78 89.06 59.78 89.08 59.79 89.11 59.79 89.13 59.79 89.16 59.79 89.19 59.79 89.21 59.79 89.24 59.79 89.26 59.79 89.29 59.79 89.32 59.8 89.34 59.8 89.37 59.8 89.39 59.8 89.42 59.8 89.45 59.8 89.47 59.8 89.5 59.8 89.53 59.8 89.55 59.81 89.58 59.81 89.6 59.81 89.63 59.81 89.66 59.81 89.68 59.81 89.71 59.81 89.73 59.81 89.76 59.81 89.79 59.81 89.81 59.81 89.84 59.81 89.86 59.82 89.89 59.82 89.92 59.82 89.94 59.82 89.97 59.82 90 59.82 90.02 59.82 90.05 59.82 90.07 59.82 90.1 59.82 90.13 59.82 90.15 59.82 90.18 59.82 90.2 59.82 90.23 59.82 90.26 59.82 90.28 59.81 90.31 59.81 90.34 59.81 90.36 59.81 90.39 59.81 90.41 59.81 90.44 59.81 90.47 59.81 90.49 59.81 90.52 59.81 90.54 59.81 90.57 59.81 90.6 59.81 90.62 59.81 90.65 59.81 90.67 59.81 90.7 59.81 90.73 59.81 90.75 59.81 90.78 59.81 90.81 59.81 90.83 59.81 90.86 59.81 90.88 59.81 90.91 59.81 90.94 59.81 90.96 59.81 90.99 59.81 91.01 59.81 91.04 59.81 91.07 59.81 91.09 59.81 91.12 59.81 91.14 59.81 91.17 59.81 91.2 59.81 91.22 59.81 91.25 59.81 91.28 59.81 91.3 59.81 91.33 59.81 91.35 59.81 91.38 59.81 91.41 59.81 91.43 59.81 91.46 59.81 91.48 59.81 91.51 59.81 91.54 59.81 91.56 59.81 91.59 59.81 91.62 59.81 91.64 59.81 91.67 59.81 91.69 59.82 91.72 59.82 91.75 59.82 91.77 59.82 91.8 59.82 91.82 59.82 91.85 59.82 91.88 59.82 91.9 59.82 91.93 59.82 91.95 59.82 91.98 59.82 92.01 59.82 92.03 59.82 92.06 59.82 92.09 59.82 92.11 59.82 92.14 59.82 92.16 59.82 92.19 59.82 92.22 59.82 92.24 59.82 92.27 59.82 92.29 59.83 92.32 59.83 92.35 59.83 92.37 59.83 92.4 59.83 92.42 59.83 92.45 59.83 92.48 59.83 92.5 59.83 92.53 59.83 92.56 59.83 92.58 59.83 92.61 59.83 92.63 59.83 92.66 59.83 92.69 59.83 92.71 59.83 92.74 59.83 92.76 59.83 92.79 59.83 92.82 59.83 92.84 59.83 92.87 59.83 92.9 59.83 92.92 59.83 92.95 59.83 92.97 59.83 93 59.83 93.03 59.83 93.05 59.83 93.08 59.83 93.1 59.83 93.13 59.83 93.16 59.83 93.18 59.83 93.21 59.83 93.23 59.83 93.26 59.83 93.29 59.83 93.31 59.83 93.34 59.83 93.37 59.83 93.39 59.83 93.42 59.83 93.44 59.83 93.47 59.83 93.5 59.83 93.52 59.83 93.55 59.83 93.57 59.83 93.6 59.83 93.63 59.83 93.65 59.83 93.68 59.83 93.7 59.83 93.73 59.83 93.76 59.83 93.78 59.83 93.81 59.83 93.84 59.83 93.86 59.83 93.89 59.84 93.91 59.84 93.94 59.84 93.97 59.84 93.99 59.84 94.02 59.84 94.04 59.84 94.07 59.84 94.1 59.84 94.12 59.84 94.15 59.84 94.17 59.84 94.2 59.84 94.23 59.84 94.25 59.84 94.28 59.84 94.31 59.84 94.33 59.84 94.36 59.84 94.38 59.84 94.41 59.84 94.44 59.84 94.46 59.84 94.49 59.84 94.51 59.84 94.54 59.84 94.57 59.84 94.59 59.84 94.62 59.84 94.65 59.84 94.67 59.84 94.7 59.84 94.72 59.84 94.75 59.84 94.78 59.84 94.8 59.84 94.83 59.84 94.85 59.84 94.88 59.84 94.91 59.84 94.93 59.84 94.96 59.84 94.98 59.84 95.01 59.84 95.04 59.84 95.06 59.84 95.09 59.84 95.12 59.84 95.14 59.84 95.17 59.84 95.19 59.84 95.22 59.84 95.25 59.84 95.27 59.84 95.3 59.84 95.32 59.84 95.35 59.84 95.38 59.84 95.4 59.84 95.43 59.84 95.45 59.84 95.48 59.84 95.51 59.84 95.53 59.84 95.56 59.84 95.59 59.84 95.61 59.83 95.64 59.83 95.66 59.83 95.69 59.83 95.72 59.83 95.74 59.83 95.77 59.83 95.79 59.83 95.82 59.83 95.85 59.83 95.87 59.83 95.9 59.83 95.93 59.83 95.95 59.83 95.98 59.83 96 59.83 96.03 59.83 96.06 59.83 96.08 59.83 96.11 59.83 96.13 59.83 96.16 59.83 96.19 59.83 96.21 59.83 96.24 59.83 96.26 59.83 96.29 59.83 96.32 59.83 96.34 59.83 96.37 59.83 96.4 59.83 96.42 59.83 96.45 59.83 96.47 59.83 96.5 59.83 96.53 59.83 96.55 59.83 96.58 59.83 96.6 59.83 96.63 59.83 96.66 59.84 96.68 59.84 96.71 59.84 96.73 59.84 96.76 59.84 96.79 59.84 96.81 59.84 96.84 59.84 96.87 59.84 96.89 59.84 96.92 59.84 96.94 59.84 96.97 59.84 97 59.84 97.02 59.84 97.05 59.84 97.07 59.84 97.1 59.84 97.13 59.84 97.15 59.84 97.18 59.84 97.21 59.84 97.23 59.84 97.26 59.84 97.28 59.84 97.31 59.84 97.34 59.84 97.36 59.84 97.39 59.84 97.41 59.84 97.44 59.84 97.47 59.84 97.49 59.84 97.52 59.84 97.54 59.84 97.57 59.84 97.6 59.84 97.62 59.84 97.65 59.84 97.68 59.84 97.7 59.84 97.73 59.84 97.75 59.84 97.78 59.84 97.81 59.84 97.83 59.84 97.86 59.84 97.88 59.84 97.91 59.84 97.94 59.84 97.96 59.84 97.99 59.84 98.01 59.84 98.04 59.84 98.07 59.84 98.09 59.84 98.12 59.84 98.15 59.84 98.17 59.84 98.2 59.84 98.22 59.84 98.25 59.84 98.28 59.84 98.3 59.84 98.33 59.84 98.35 59.84 98.38 59.84 98.41 59.84 98.43 59.84 98.46 59.84 98.49 59.84 98.51 59.84 98.54 59.84 98.56 59.84 98.59 59.84 98.62 59.84 98.64 59.84 98.67 59.84 98.69 59.84 98.72 59.84 98.75 59.84 98.77 59.84 98.8 59.84 98.82 59.84 98.85 59.84 98.88 59.84 98.9 59.84 98.93 59.84 98.96 59.84 98.98 59.84 99.01 59.84 99.03 59.84 99.06 59.84 99.09 59.84 99.11 59.84 99.14 59.84 99.16 59.84 99.19 59.84 99.22 59.84 99.24 59.84 99.27 59.84 99.29 59.84 99.32 59.84 99.35 59.84 99.37 59.84 99.4 59.84 99.43 59.84 99.45 59.84 99.48 59.84 99.5 59.84 99.53 59.84 99.56 59.84 99.58 59.84 99.61 59.84 99.63 59.84 99.66 59.84 99.69 59.84 99.71 59.84 99.74 59.84 99.77 59.84 99.79 59.84 99.82 59.84 99.84 59.84 99.87 59.84 99.9 59.84 99.92 59.84 99.95 59.84 99.97 59.84 100 59.84 100.03 59.84 100.05 59.84 100.08 59.84 100.1 59.84 100.13 59.84 100.16 59.84 100.18 59.84 100.21 59.84 100.24 59.84 100.26 59.84 100.29 59.84 100.31 59.84 100.34 59.84 100.37 59.84 100.39 59.84 100.42 59.84 100.44 59.84 100.47 59.84 100.5 59.84 100.52 59.84 100.55 59.84 100.57 59.84 100.6 59.84 100.63 59.84 100.65 59.84 100.68 59.84 100.71 59.84 100.73 59.84 100.76 59.84 100.78 59.84 100.81 59.84 100.84 59.84 100.86 59.84 100.89 59.84 100.91 59.84 100.94 59.84 100.97 59.84 100.99 59.84 101.02 59.84 101.05 59.84 101.07 59.84 101.1 59.84 101.12 59.84 101.15 59.84 101.18 59.84 101.2 59.84 101.23 59.84 101.25 59.84 101.28 59.84 101.31 59.84 101.33 59.84 101.36 59.84 101.38 59.84 101.41 59.84 101.44 59.84 101.46 59.84 101.49 59.84 101.52 59.84 101.54 59.84 101.57 59.84 101.59 59.84 101.62 59.84 101.65 59.84 101.67 59.84 101.7 59.84 101.72 59.84 101.75 59.84 101.78 59.84 101.8 59.84 101.83 59.84 101.85 59.84 101.88 59.84 101.91 59.84 101.93 59.84 101.96 59.84 101.99 59.84 102.01 59.84 102.04 59.84 102.06 59.84 102.09 59.84 102.12 59.84 102.14 59.84 102.17 59.84 102.19 59.84 102.22 59.84 102.25 59.84 102.27 59.84 102.3 59.84 102.33 59.84 102.35 59.84 102.38 59.84 102.4 59.84 102.43 59.84 102.46 59.84 102.48 59.84 102.51 59.84 102.53 59.84 102.56 59.84 102.59 59.84 102.61 59.84 102.64 59.84 102.66 59.84 102.69 59.84\");\n",
        "    }(g.append(\"g\")));\n",
        "  }(g.append(\"g\")));\n",
        "}(g.append(\"g\")));\n",
        "}\n",
        "\n",
        "var data = [\n",
        "];\n",
        "\n",
        "var draw = function(parent_id) {\n",
        "    draw_with_data(data, parent_id);\n",
        "};\n",
        "\n",
        "draw(\"#gadflyplot-qecceRC3xfFRH6Z6es4O\");\n",
        "</script>\n"
       ],
       "metadata": {},
       "output_type": "display_data",
       "text": [
        "D3(120mm,80mm,IOBuffer([0x66,0x75,0x6e,0x63,0x74,0x69,0x6f,0x6e,0x20,0x64  \u2026  0x74,0x5f,0x69,0x64,0x29,0x3b,0x0a,0x7d,0x3b,0x0a],true,true,true,false,120341,9223372036854775807,120342),false,0,[],[],0,4,Dict{Uint64,(Any,Int64)}(),true,true)"
       ]
      },
      {
       "html": [],
       "metadata": {},
       "output_type": "pyout",
       "prompt_number": 32,
       "text": [
        "Plot(...)"
       ]
      }
     ],
     "prompt_number": 32
    },
    {
     "cell_type": "heading",
     "level": 1,
     "metadata": {},
     "source": [
      "Tabular Data and Missing Values in Julia"
     ]
    },
    {
     "cell_type": "heading",
     "level": 4,
     "metadata": {},
     "source": [
      "Representing Missing Values"
     ]
    },
    {
     "cell_type": "code",
     "collapsed": false,
     "input": [
      "using DataFrames"
     ],
     "language": "python",
     "metadata": {},
     "outputs": [],
     "prompt_number": 36
    },
    {
     "cell_type": "code",
     "collapsed": false,
     "input": [
      "NA + 1"
     ],
     "language": "python",
     "metadata": {},
     "outputs": [
      {
       "metadata": {},
       "output_type": "pyout",
       "prompt_number": 37,
       "text": [
        "NA"
       ]
      }
     ],
     "prompt_number": 37
    },
    {
     "cell_type": "code",
     "collapsed": false,
     "input": [
      "x = DataArray([1, 2, 3])"
     ],
     "language": "python",
     "metadata": {},
     "outputs": [
      {
       "metadata": {},
       "output_type": "pyout",
       "prompt_number": 38,
       "text": [
        "3-element DataArray{Int64,1}:\n",
        " 1\n",
        " 2\n",
        " 3"
       ]
      }
     ],
     "prompt_number": 38
    },
    {
     "cell_type": "code",
     "collapsed": false,
     "input": [
      "x[1] = NA"
     ],
     "language": "python",
     "metadata": {},
     "outputs": [
      {
       "metadata": {},
       "output_type": "pyout",
       "prompt_number": 39,
       "text": [
        "NA"
       ]
      }
     ],
     "prompt_number": 39
    },
    {
     "cell_type": "code",
     "collapsed": false,
     "input": [
      "mean(x)"
     ],
     "language": "python",
     "metadata": {},
     "outputs": [
      {
       "metadata": {},
       "output_type": "pyout",
       "prompt_number": 40,
       "text": [
        "NA"
       ]
      }
     ],
     "prompt_number": 40
    },
    {
     "cell_type": "code",
     "collapsed": false,
     "input": [
      "x[!isna(x)]"
     ],
     "language": "python",
     "metadata": {},
     "outputs": [
      {
       "metadata": {},
       "output_type": "pyout",
       "prompt_number": 41,
       "text": [
        "2-element DataArray{Int64,1}:\n",
        " 2\n",
        " 3"
       ]
      }
     ],
     "prompt_number": 41
    },
    {
     "cell_type": "code",
     "collapsed": false,
     "input": [
      "mean(x[!isna(x)])"
     ],
     "language": "python",
     "metadata": {},
     "outputs": [
      {
       "metadata": {},
       "output_type": "pyout",
       "prompt_number": 42,
       "text": [
        "2.5"
       ]
      }
     ],
     "prompt_number": 42
    },
    {
     "cell_type": "heading",
     "level": 4,
     "metadata": {},
     "source": [
      "Factor-Like Variables"
     ]
    },
    {
     "cell_type": "code",
     "collapsed": false,
     "input": [
      "y = PooledDataArray([1, 1, 2, 3])"
     ],
     "language": "python",
     "metadata": {},
     "outputs": [
      {
       "metadata": {},
       "output_type": "pyout",
       "prompt_number": 43,
       "text": [
        "4-element PooledDataArray{Int64,Uint32,1}:\n",
        " 1\n",
        " 1\n",
        " 2\n",
        " 3"
       ]
      }
     ],
     "prompt_number": 43
    },
    {
     "cell_type": "code",
     "collapsed": false,
     "input": [
      "levels(y)"
     ],
     "language": "python",
     "metadata": {},
     "outputs": [
      {
       "metadata": {},
       "output_type": "pyout",
       "prompt_number": 44,
       "text": [
        "3-element Array{Int64,1}:\n",
        " 1\n",
        " 2\n",
        " 3"
       ]
      }
     ],
     "prompt_number": 44
    },
    {
     "cell_type": "heading",
     "level": 4,
     "metadata": {},
     "source": [
      "Representing Tabular Data"
     ]
    },
    {
     "cell_type": "code",
     "collapsed": false,
     "input": [
      "df = DataFrame(A = float(1:10), B = rand(10))"
     ],
     "language": "python",
     "metadata": {},
     "outputs": [
      {
       "metadata": {},
       "output_type": "pyout",
       "prompt_number": 45,
       "text": [
        "10x2 DataFrame:\n",
        "            A         B\n",
        "[1,]      1.0  0.703825\n",
        "[2,]      2.0 0.0140623\n",
        "[3,]      3.0  0.704172\n",
        "[4,]      4.0  0.674905\n",
        "[5,]      5.0  0.125851\n",
        "[6,]      6.0  0.892313\n",
        "[7,]      7.0  0.973997\n",
        "[8,]      8.0  0.430462\n",
        "[9,]      9.0  0.661227\n",
        "[10,]    10.0  0.586365\n"
       ]
      }
     ],
     "prompt_number": 45
    },
    {
     "cell_type": "code",
     "collapsed": false,
     "input": [
      "head(df)"
     ],
     "language": "python",
     "metadata": {},
     "outputs": [
      {
       "metadata": {},
       "output_type": "pyout",
       "prompt_number": 46,
       "text": [
        "6x2 DataFrame:\n",
        "          A         B\n",
        "[1,]    1.0  0.703825\n",
        "[2,]    2.0 0.0140623\n",
        "[3,]    3.0  0.704172\n",
        "[4,]    4.0  0.674905\n",
        "[5,]    5.0  0.125851\n",
        "[6,]    6.0  0.892313\n"
       ]
      }
     ],
     "prompt_number": 46
    },
    {
     "cell_type": "code",
     "collapsed": false,
     "input": [
      "tail(df)"
     ],
     "language": "python",
     "metadata": {},
     "outputs": [
      {
       "metadata": {},
       "output_type": "pyout",
       "prompt_number": 47,
       "text": [
        "6x2 DataFrame:\n",
        "           A        B\n",
        "[1,]     5.0 0.125851\n",
        "[2,]     6.0 0.892313\n",
        "[3,]     7.0 0.973997\n",
        "[4,]     8.0 0.430462\n",
        "[5,]     9.0 0.661227\n",
        "[6,]    10.0 0.586365\n"
       ]
      }
     ],
     "prompt_number": 47
    },
    {
     "cell_type": "code",
     "collapsed": false,
     "input": [
      "df[\"C\"] = repeat([\"G1\", \"G2\"], inner = [5])"
     ],
     "language": "python",
     "metadata": {},
     "outputs": [
      {
       "metadata": {},
       "output_type": "pyout",
       "prompt_number": 48,
       "text": [
        "10-element Array{ASCIIString,1}:\n",
        " \"G1\"\n",
        " \"G1\"\n",
        " \"G1\"\n",
        " \"G1\"\n",
        " \"G1\"\n",
        " \"G2\"\n",
        " \"G2\"\n",
        " \"G2\"\n",
        " \"G2\"\n",
        " \"G2\""
       ]
      }
     ],
     "prompt_number": 48
    },
    {
     "cell_type": "code",
     "collapsed": false,
     "input": [
      "df[1:10, :]"
     ],
     "language": "python",
     "metadata": {},
     "outputs": [
      {
       "metadata": {},
       "output_type": "pyout",
       "prompt_number": 49,
       "text": [
        "10x3 DataFrame:\n",
        "            A         B    C\n",
        "[1,]      1.0  0.703825 \"G1\"\n",
        "[2,]      2.0 0.0140623 \"G1\"\n",
        "[3,]      3.0  0.704172 \"G1\"\n",
        "[4,]      4.0  0.674905 \"G1\"\n",
        "[5,]      5.0  0.125851 \"G1\"\n",
        "[6,]      6.0  0.892313 \"G2\"\n",
        "[7,]      7.0  0.973997 \"G2\"\n",
        "[8,]      8.0  0.430462 \"G2\"\n",
        "[9,]      9.0  0.661227 \"G2\"\n",
        "[10,]    10.0  0.586365 \"G2\"\n"
       ]
      }
     ],
     "prompt_number": 49
    },
    {
     "cell_type": "code",
     "collapsed": false,
     "input": [
      "by(df, \"C\", df -> mean(df[\"B\"]))"
     ],
     "language": "python",
     "metadata": {},
     "outputs": [
      {
       "metadata": {},
       "output_type": "pyout",
       "prompt_number": 50,
       "text": [
        "2x2 DataFrame:\n",
        "           C       x1\n",
        "[1,]    \"G1\" 0.444563\n",
        "[2,]    \"G2\" 0.708873\n"
       ]
      }
     ],
     "prompt_number": 50
    },
    {
     "cell_type": "code",
     "collapsed": false,
     "input": [
      "select(:(C .== \"G1\"), df)"
     ],
     "language": "python",
     "metadata": {},
     "outputs": [
      {
       "output_type": "stream",
       "stream": "stderr",
       "text": [
        "WARNING: contains(collection, item) is deprecated, use in(item, collection) instead"
       ]
      },
      {
       "output_type": "stream",
       "stream": "stderr",
       "text": [
        "\n",
        " in contains at reduce.jl:238\n"
       ]
      },
      {
       "metadata": {},
       "output_type": "pyout",
       "prompt_number": 51,
       "text": [
        "5x3 SubDataFrame:\n",
        "          A         B    C\n",
        "[1,]    1.0  0.703825 \"G1\"\n",
        "[2,]    2.0 0.0140623 \"G1\"\n",
        "[3,]    3.0  0.704172 \"G1\"\n",
        "[4,]    4.0  0.674905 \"G1\"\n",
        "[5,]    5.0  0.125851 \"G1\"\n"
       ]
      }
     ],
     "prompt_number": 51
    },
    {
     "cell_type": "heading",
     "level": 4,
     "metadata": {},
     "source": [
      "Accessing Classical Datasets"
     ]
    },
    {
     "cell_type": "code",
     "collapsed": false,
     "input": [
      "using RDatasets"
     ],
     "language": "python",
     "metadata": {},
     "outputs": [],
     "prompt_number": 52
    },
    {
     "cell_type": "code",
     "collapsed": false,
     "input": [
      "iris = data(\"datasets\", \"iris\")"
     ],
     "language": "python",
     "metadata": {},
     "outputs": [
      {
       "metadata": {},
       "output_type": "pyout",
       "prompt_number": 53,
       "text": [
        "150x6 DataFrame:\n",
        "              Sepal.Length Sepal.Width Petal.Length Petal.Width     Species\n",
        "[1,]        1          5.1         3.5          1.4         0.2    \"setosa\"\n",
        "[2,]        2          4.9         3.0          1.4         0.2    \"setosa\"\n",
        "[3,]        3          4.7         3.2          1.3         0.2    \"setosa\"\n",
        "[4,]        4          4.6         3.1          1.5         0.2    \"setosa\"\n",
        "[5,]        5          5.0         3.6          1.4         0.2    \"setosa\"\n",
        "[6,]        6          5.4         3.9          1.7         0.4    \"setosa\"\n",
        "[7,]        7          4.6         3.4          1.4         0.3    \"setosa\"\n",
        "[8,]        8          5.0         3.4          1.5         0.2    \"setosa\"\n",
        "[9,]        9          4.4         2.9          1.4         0.2    \"setosa\"\n",
        "[10,]      10          4.9         3.1          1.5         0.1    \"setosa\"\n",
        "[11,]      11          5.4         3.7          1.5         0.2    \"setosa\"\n",
        "[12,]      12          4.8         3.4          1.6         0.2    \"setosa\"\n",
        "[13,]      13          4.8         3.0          1.4         0.1    \"setosa\"\n",
        "[14,]      14          4.3         3.0          1.1         0.1    \"setosa\"\n",
        "[15,]      15          5.8         4.0          1.2         0.2    \"setosa\"\n",
        "[16,]      16          5.7         4.4          1.5         0.4    \"setosa\"\n",
        "[17,]      17          5.4         3.9          1.3         0.4    \"setosa\"\n",
        "[18,]      18          5.1         3.5          1.4         0.3    \"setosa\"\n",
        "[19,]      19          5.7         3.8          1.7         0.3    \"setosa\"\n",
        "[20,]      20          5.1         3.8          1.5         0.3    \"setosa\"\n",
        "  :\n",
        "[131,]    131          7.4         2.8          6.1         1.9 \"virginica\"\n",
        "[132,]    132          7.9         3.8          6.4         2.0 \"virginica\"\n",
        "[133,]    133          6.4         2.8          5.6         2.2 \"virginica\"\n",
        "[134,]    134          6.3         2.8          5.1         1.5 \"virginica\"\n",
        "[135,]    135          6.1         2.6          5.6         1.4 \"virginica\"\n",
        "[136,]    136          7.7         3.0          6.1         2.3 \"virginica\"\n",
        "[137,]    137          6.3         3.4          5.6         2.4 \"virginica\"\n",
        "[138,]    138          6.4         3.1          5.5         1.8 \"virginica\"\n",
        "[139,]    139          6.0         3.0          4.8         1.8 \"virginica\"\n",
        "[140,]    140          6.9         3.1          5.4         2.1 \"virginica\"\n",
        "[141,]    141          6.7         3.1          5.6         2.4 \"virginica\"\n",
        "[142,]    142          6.9         3.1          5.1         2.3 \"virginica\"\n",
        "[143,]    143          5.8         2.7          5.1         1.9 \"virginica\"\n",
        "[144,]    144          6.8         3.2          5.9         2.3 \"virginica\"\n",
        "[145,]    145          6.7         3.3          5.7         2.5 \"virginica\"\n",
        "[146,]    146          6.7         3.0          5.2         2.3 \"virginica\"\n",
        "[147,]    147          6.3         2.5          5.0         1.9 \"virginica\"\n",
        "[148,]    148          6.5         3.0          5.2         2.0 \"virginica\"\n",
        "[149,]    149          6.2         3.4          5.4         2.3 \"virginica\"\n",
        "[150,]    150          5.9         3.0          5.1         1.8 \"virginica\"\n"
       ]
      }
     ],
     "prompt_number": 53
    },
    {
     "cell_type": "code",
     "collapsed": false,
     "input": [
      "head(iris)"
     ],
     "language": "python",
     "metadata": {},
     "outputs": [
      {
       "metadata": {},
       "output_type": "pyout",
       "prompt_number": 54,
       "text": [
        "6x6 DataFrame:\n",
        "          Sepal.Length Sepal.Width Petal.Length Petal.Width  Species\n",
        "[1,]    1          5.1         3.5          1.4         0.2 \"setosa\"\n",
        "[2,]    2          4.9         3.0          1.4         0.2 \"setosa\"\n",
        "[3,]    3          4.7         3.2          1.3         0.2 \"setosa\"\n",
        "[4,]    4          4.6         3.1          1.5         0.2 \"setosa\"\n",
        "[5,]    5          5.0         3.6          1.4         0.2 \"setosa\"\n",
        "[6,]    6          5.4         3.9          1.7         0.4 \"setosa\"\n"
       ]
      }
     ],
     "prompt_number": 54
    },
    {
     "cell_type": "code",
     "collapsed": false,
     "input": [
      "plot(iris, x = \"Petal.Length\", y = \"Petal.Width\", color = \"Species\", Geom.point)"
     ],
     "language": "python",
     "metadata": {},
     "outputs": [
      {
       "html": [
        "<div id=\"gadflyplot-gTPPQubkkIAkfoDibjCz\"></div>\n",
        "<script>\n",
        "function draw_with_data(data, parent_id) {\n",
        "  var g = d3.select(parent_id)\n",
        "            .append(\"svg\")\n",
        "              .attr(\"width\", \"120mm\")\n",
        "              .attr(\"height\", \"80mm\")\n",
        "              .attr(\"viewBox\", \"0 0 120 80\")\n",
        "              .attr(\"stroke-width\", \"0.5\")\n",
        "              .attr(\"style\", \"stroke:black;fill:black\");\n",
        "  g.append(\"defs\");\n",
        "  var t = {\"scale\": 1.0};\n",
        "(function (g) {\n",
        "  d3.select(\"defs\")\n",
        "  .append(\"svg:clipPath\")\n",
        "    .attr(\"id\", parent_id + \"_clippath0\")\n",
        "    .append(\"svg:path\")\n",
        "      .attr(\"d\", \" M5,0 L 24.7 0 24.7 66.44 5 66.44 z\");g.attr(\"clip-path\", \"url(#\" + parent_id + \"_clippath0)\");\n",
        "  (function (g) {\n",
        "    g.attr(\"stroke\", \"none\")\n",
        "     .attr(\"fill\", \"#4C404B\")\n",
        "     .attr(\"font-family\", \"PT Sans,Helvetica Neue,Helvetica,sans\")\n",
        "     .attr(\"font-size\", \"3.18\")\n",
        "     .attr(\"class\", \"guide ylabels\");\n",
        "    g.append(\"svg:text\")\n",
        "       .attr(\"x\", 23.7)\n",
        "       .attr(\"y\", 6.6)\n",
        "       .attr(\"text-anchor\", \"end\")\n",
        "       .style(\"dominant-baseline\", \"central\")\n",
        "    .call(function(text) {\n",
        "  text.text(\"2.5\");\n",
        "})\n",
        ";\n",
        "    g.append(\"svg:text\")\n",
        "       .attr(\"x\", 23.7)\n",
        "       .attr(\"y\", 113.09)\n",
        "       .attr(\"text-anchor\", \"end\")\n",
        "       .style(\"dominant-baseline\", \"central\")\n",
        "    .call(function(text) {\n",
        "  text.text(\"-2.5\");\n",
        "})\n",
        ";\n",
        "    g.append(\"svg:text\")\n",
        "       .attr(\"x\", 23.7)\n",
        "       .attr(\"y\", 38.54)\n",
        "       .attr(\"text-anchor\", \"end\")\n",
        "       .style(\"dominant-baseline\", \"central\")\n",
        "    .call(function(text) {\n",
        "  text.text(\"1\");\n",
        "})\n",
        ";\n",
        "    g.append(\"svg:text\")\n",
        "       .attr(\"x\", 23.7)\n",
        "       .attr(\"y\", -46.65)\n",
        "       .attr(\"text-anchor\", \"end\")\n",
        "       .style(\"dominant-baseline\", \"central\")\n",
        "    .call(function(text) {\n",
        "  text.text(\"5\");\n",
        "})\n",
        ";\n",
        "    g.append(\"svg:text\")\n",
        "       .attr(\"x\", 23.7)\n",
        "       .attr(\"y\", 49.19)\n",
        "       .attr(\"text-anchor\", \"end\")\n",
        "       .style(\"dominant-baseline\", \"central\")\n",
        "    .call(function(text) {\n",
        "  text.text(\"0.5\");\n",
        "})\n",
        ";\n",
        "    g.append(\"svg:text\")\n",
        "       .attr(\"x\", 23.7)\n",
        "       .attr(\"y\", -4.05)\n",
        "       .attr(\"text-anchor\", \"end\")\n",
        "       .style(\"dominant-baseline\", \"central\")\n",
        "    .call(function(text) {\n",
        "  text.text(\"3\");\n",
        "})\n",
        ";\n",
        "    g.append(\"svg:text\")\n",
        "       .attr(\"x\", 23.7)\n",
        "       .attr(\"y\", 123.74)\n",
        "       .attr(\"text-anchor\", \"end\")\n",
        "       .style(\"dominant-baseline\", \"central\")\n",
        "    .call(function(text) {\n",
        "  text.text(\"-3\");\n",
        "})\n",
        ";\n",
        "    g.append(\"svg:text\")\n",
        "       .attr(\"x\", 23.7)\n",
        "       .attr(\"y\", 59.84)\n",
        "       .attr(\"text-anchor\", \"end\")\n",
        "       .style(\"dominant-baseline\", \"central\")\n",
        "    .call(function(text) {\n",
        "  text.text(\"0\");\n",
        "})\n",
        ";\n",
        "    g.append(\"svg:text\")\n",
        "       .attr(\"x\", 23.7)\n",
        "       .attr(\"y\", 81.14)\n",
        "       .attr(\"text-anchor\", \"end\")\n",
        "       .style(\"dominant-baseline\", \"central\")\n",
        "    .call(function(text) {\n",
        "  text.text(\"-1\");\n",
        "})\n",
        ";\n",
        "    g.append(\"svg:text\")\n",
        "       .attr(\"x\", 23.7)\n",
        "       .attr(\"y\", -57.3)\n",
        "       .attr(\"text-anchor\", \"end\")\n",
        "       .style(\"dominant-baseline\", \"central\")\n",
        "    .call(function(text) {\n",
        "  text.text(\"5.5\");\n",
        "})\n",
        ";\n",
        "    g.append(\"svg:text\")\n",
        "       .attr(\"x\", 23.7)\n",
        "       .attr(\"y\", -25.35)\n",
        "       .attr(\"text-anchor\", \"end\")\n",
        "       .style(\"dominant-baseline\", \"central\")\n",
        "    .call(function(text) {\n",
        "  text.text(\"4\");\n",
        "})\n",
        ";\n",
        "    g.append(\"svg:text\")\n",
        "       .attr(\"x\", 23.7)\n",
        "       .attr(\"y\", 70.49)\n",
        "       .attr(\"text-anchor\", \"end\")\n",
        "       .style(\"dominant-baseline\", \"central\")\n",
        "    .call(function(text) {\n",
        "  text.text(\"-0.5\");\n",
        "})\n",
        ";\n",
        "    g.append(\"svg:text\")\n",
        "       .attr(\"x\", 23.7)\n",
        "       .attr(\"y\", 102.44)\n",
        "       .attr(\"text-anchor\", \"end\")\n",
        "       .style(\"dominant-baseline\", \"central\")\n",
        "    .call(function(text) {\n",
        "  text.text(\"-2\");\n",
        "})\n",
        ";\n",
        "    g.append(\"svg:text\")\n",
        "       .attr(\"x\", 23.7)\n",
        "       .attr(\"y\", 27.9)\n",
        "       .attr(\"text-anchor\", \"end\")\n",
        "       .style(\"dominant-baseline\", \"central\")\n",
        "    .call(function(text) {\n",
        "  text.text(\"1.5\");\n",
        "})\n",
        ";\n",
        "    g.append(\"svg:text\")\n",
        "       .attr(\"x\", 23.7)\n",
        "       .attr(\"y\", 17.25)\n",
        "       .attr(\"text-anchor\", \"end\")\n",
        "       .style(\"dominant-baseline\", \"central\")\n",
        "    .call(function(text) {\n",
        "  text.text(\"2\");\n",
        "})\n",
        ";\n",
        "    g.append(\"svg:text\")\n",
        "       .attr(\"x\", 23.7)\n",
        "       .attr(\"y\", -14.7)\n",
        "       .attr(\"text-anchor\", \"end\")\n",
        "       .style(\"dominant-baseline\", \"central\")\n",
        "    .call(function(text) {\n",
        "  text.text(\"3.5\");\n",
        "})\n",
        ";\n",
        "    g.append(\"svg:text\")\n",
        "       .attr(\"x\", 23.7)\n",
        "       .attr(\"y\", 91.79)\n",
        "       .attr(\"text-anchor\", \"end\")\n",
        "       .style(\"dominant-baseline\", \"central\")\n",
        "    .call(function(text) {\n",
        "  text.text(\"-1.5\");\n",
        "})\n",
        ";\n",
        "    g.append(\"svg:text\")\n",
        "       .attr(\"x\", 23.7)\n",
        "       .attr(\"y\", -36)\n",
        "       .attr(\"text-anchor\", \"end\")\n",
        "       .style(\"dominant-baseline\", \"central\")\n",
        "    .call(function(text) {\n",
        "  text.text(\"4.5\");\n",
        "})\n",
        ";\n",
        "  }(g.append(\"g\")));\n",
        "  (function (g) {\n",
        "    g.attr(\"stroke\", \"none\")\n",
        "     .attr(\"fill\", \"#362A35\")\n",
        "     .attr(\"font-family\", \"PT Sans,Helvetica Neue,Helvetica,sans\")\n",
        "     .attr(\"font-size\", \"3.88\");\n",
        "    g.append(\"svg:text\")\n",
        "       .attr(\"x\", 8.63)\n",
        "       .attr(\"y\", 33.22)\n",
        "       .attr(\"text-anchor\", \"middle\")\n",
        "       .style(\"dominant-baseline\", \"central\")\n",
        "       .attr(\"transform\", \"rotate(-90, 8.63, 33.22)\")\n",
        "    .call(function(text) {\n",
        "  text.text(\"Petal.Width\");\n",
        "})\n",
        ";\n",
        "  }(g.append(\"g\")));\n",
        "}(g.append(\"g\")));\n",
        "(function (g) {\n",
        "  d3.select(\"defs\")\n",
        "  .append(\"svg:clipPath\")\n",
        "    .attr(\"id\", parent_id + \"_clippath1\")\n",
        "    .append(\"svg:path\")\n",
        "      .attr(\"d\", \" M19.7,61.44 L 86.6 61.44 86.6 75 19.7 75 z\");g.attr(\"clip-path\", \"url(#\" + parent_id + \"_clippath1)\");\n",
        "  (function (g) {\n",
        "    g.attr(\"stroke\", \"none\")\n",
        "     .attr(\"fill\", \"#4C404B\")\n",
        "     .attr(\"font-family\", \"PT Sans,Helvetica Neue,Helvetica,sans\")\n",
        "     .attr(\"font-size\", \"3.18\")\n",
        "     .attr(\"class\", \"guide xlabels\");\n",
        "    g.append(\"svg:text\")\n",
        "       .attr(\"x\", -0.53)\n",
        "       .attr(\"y\", 65.74)\n",
        "       .attr(\"text-anchor\", \"middle\")\n",
        "    .call(function(text) {\n",
        "  text.text(\"-4\");\n",
        "})\n",
        ";\n",
        "    g.append(\"svg:text\")\n",
        "       .attr(\"x\", 93.41)\n",
        "       .attr(\"y\", 65.74)\n",
        "       .attr(\"text-anchor\", \"middle\")\n",
        "    .call(function(text) {\n",
        "  text.text(\"10\");\n",
        "})\n",
        ";\n",
        "    g.append(\"svg:text\")\n",
        "       .attr(\"x\", -13.95)\n",
        "       .attr(\"y\", 65.74)\n",
        "       .attr(\"text-anchor\", \"middle\")\n",
        "    .call(function(text) {\n",
        "  text.text(\"-6\");\n",
        "})\n",
        ";\n",
        "    g.append(\"svg:text\")\n",
        "       .attr(\"x\", 120.25)\n",
        "       .attr(\"y\", 65.74)\n",
        "       .attr(\"text-anchor\", \"middle\")\n",
        "    .call(function(text) {\n",
        "  text.text(\"14\");\n",
        "})\n",
        ";\n",
        "    g.append(\"svg:text\")\n",
        "       .attr(\"x\", 79.99)\n",
        "       .attr(\"y\", 65.74)\n",
        "       .attr(\"text-anchor\", \"middle\")\n",
        "    .call(function(text) {\n",
        "  text.text(\"8\");\n",
        "})\n",
        ";\n",
        "    g.append(\"svg:text\")\n",
        "       .attr(\"x\", 26.31)\n",
        "       .attr(\"y\", 65.74)\n",
        "       .attr(\"text-anchor\", \"middle\")\n",
        "    .call(function(text) {\n",
        "  text.text(\"0\");\n",
        "})\n",
        ";\n",
        "    g.append(\"svg:text\")\n",
        "       .attr(\"x\", 106.83)\n",
        "       .attr(\"y\", 65.74)\n",
        "       .attr(\"text-anchor\", \"middle\")\n",
        "    .call(function(text) {\n",
        "  text.text(\"12\");\n",
        "})\n",
        ";\n",
        "    g.append(\"svg:text\")\n",
        "       .attr(\"x\", 133.67)\n",
        "       .attr(\"y\", 65.74)\n",
        "       .attr(\"text-anchor\", \"middle\")\n",
        "    .call(function(text) {\n",
        "  text.text(\"16\");\n",
        "})\n",
        ";\n",
        "    g.append(\"svg:text\")\n",
        "       .attr(\"x\", -27.37)\n",
        "       .attr(\"y\", 65.74)\n",
        "       .attr(\"text-anchor\", \"middle\")\n",
        "    .call(function(text) {\n",
        "  text.text(\"-8\");\n",
        "})\n",
        ";\n",
        "    g.append(\"svg:text\")\n",
        "       .attr(\"x\", 66.57)\n",
        "       .attr(\"y\", 65.74)\n",
        "       .attr(\"text-anchor\", \"middle\")\n",
        "    .call(function(text) {\n",
        "  text.text(\"6\");\n",
        "})\n",
        ";\n",
        "    g.append(\"svg:text\")\n",
        "       .attr(\"x\", 53.15)\n",
        "       .attr(\"y\", 65.74)\n",
        "       .attr(\"text-anchor\", \"middle\")\n",
        "    .call(function(text) {\n",
        "  text.text(\"4\");\n",
        "})\n",
        ";\n",
        "    g.append(\"svg:text\")\n",
        "       .attr(\"x\", -40.79)\n",
        "       .attr(\"y\", 65.74)\n",
        "       .attr(\"text-anchor\", \"middle\")\n",
        "    .call(function(text) {\n",
        "  text.text(\"-10\");\n",
        "})\n",
        ";\n",
        "    g.append(\"svg:text\")\n",
        "       .attr(\"x\", 12.89)\n",
        "       .attr(\"y\", 65.74)\n",
        "       .attr(\"text-anchor\", \"middle\")\n",
        "    .call(function(text) {\n",
        "  text.text(\"-2\");\n",
        "})\n",
        ";\n",
        "    g.append(\"svg:text\")\n",
        "       .attr(\"x\", 147.09)\n",
        "       .attr(\"y\", 65.74)\n",
        "       .attr(\"text-anchor\", \"middle\")\n",
        "    .call(function(text) {\n",
        "  text.text(\"18\");\n",
        "})\n",
        ";\n",
        "    g.append(\"svg:text\")\n",
        "       .attr(\"x\", 39.73)\n",
        "       .attr(\"y\", 65.74)\n",
        "       .attr(\"text-anchor\", \"middle\")\n",
        "    .call(function(text) {\n",
        "  text.text(\"2\");\n",
        "})\n",
        ";\n",
        "  }(g.append(\"g\")));\n",
        "  (function (g) {\n",
        "    g.attr(\"stroke\", \"none\")\n",
        "     .attr(\"fill\", \"#362A35\")\n",
        "     .attr(\"font-family\", \"PT Sans,Helvetica Neue,Helvetica,sans\")\n",
        "     .attr(\"font-size\", \"3.88\");\n",
        "    g.append(\"svg:text\")\n",
        "       .attr(\"x\", 53.15)\n",
        "       .attr(\"y\", 73)\n",
        "       .attr(\"text-anchor\", \"middle\")\n",
        "    .call(function(text) {\n",
        "  text.text(\"Petal.Length\");\n",
        "})\n",
        ";\n",
        "  }(g.append(\"g\")));\n",
        "}(g.append(\"g\")));\n",
        "(function (g) {\n",
        "  g.attr(\"stroke\", \"none\")\n",
        "   .attr(\"font-family\", \"PT Sans,Helvetica Neue,Helvetica,sans\")\n",
        "   .attr(\"font-size\", \"3.88\")\n",
        "   .attr(\"fill\", \"#362A35\");\n",
        "  g.append(\"svg:text\")\n",
        "     .attr(\"x\", 100.3)\n",
        "     .attr(\"y\", 28.9)\n",
        "     .attr(\"text-anchor\", \"middle\")\n",
        "  .call(function(text) {\n",
        "  text.text(\"Species\");\n",
        "})\n",
        ";\n",
        "}(g.append(\"g\")));\n",
        "(function (g) {\n",
        "  g.attr(\"font-family\", \"PT Sans,Helvetica Neue,Helvetica,sans\")\n",
        "   .attr(\"font-size\", \"3.18\");\n",
        "  (function (g) {\n",
        "    g.attr(\"class\", \"guide color_versicolor\")\n",
        "     .on(\"click\", guide_toggle_color(parent_id, \"color_versicolor\"));\n",
        "    (function (g) {\n",
        "      g.attr(\"fill\", \"#D4CA3A\")\n",
        "       .attr(\"stroke\", \"#A8A200\")\n",
        "       .attr(\"stroke-width\", \"0.3\");\n",
        "      g.append(\"svg:path\")\n",
        "         .attr(\"d\", \"M83.6,36.2 L 87.9 36.2 87.9 40.5 83.6 40.5 z\");\n",
        "    }(g.append(\"g\")));\n",
        "    (function (g) {\n",
        "      g.attr(\"stroke\", \"none\")\n",
        "       .attr(\"fill\", \"#4C404B\");\n",
        "      g.append(\"svg:text\")\n",
        "         .attr(\"x\", 88.9)\n",
        "         .attr(\"y\", 38.35)\n",
        "         .style(\"dominant-baseline\", \"central\")\n",
        "      .call(function(text) {\n",
        "  text.text(\"versicolor\");\n",
        "})\n",
        ";\n",
        "    }(g.append(\"g\")));\n",
        "  }(g.append(\"g\")));\n",
        "  (function (g) {\n",
        "    g.attr(\"class\", \"guide color_setosa\")\n",
        "     .on(\"click\", guide_toggle_color(parent_id, \"color_setosa\"));\n",
        "    (function (g) {\n",
        "      g.attr(\"fill\", \"#00BFFF\")\n",
        "       .attr(\"stroke\", \"#0096DD\")\n",
        "       .attr(\"stroke-width\", \"0.3\");\n",
        "      g.append(\"svg:path\")\n",
        "         .attr(\"d\", \"M83.6,30.9 L 87.9 30.9 87.9 35.2 83.6 35.2 z\");\n",
        "    }(g.append(\"g\")));\n",
        "    (function (g) {\n",
        "      g.attr(\"stroke\", \"none\")\n",
        "       .attr(\"fill\", \"#4C404B\");\n",
        "      g.append(\"svg:text\")\n",
        "         .attr(\"x\", 88.9)\n",
        "         .attr(\"y\", 33.05)\n",
        "         .style(\"dominant-baseline\", \"central\")\n",
        "      .call(function(text) {\n",
        "  text.text(\"setosa\");\n",
        "})\n",
        ";\n",
        "    }(g.append(\"g\")));\n",
        "  }(g.append(\"g\")));\n",
        "  (function (g) {\n",
        "    g.attr(\"class\", \"guide color_virginica\")\n",
        "     .on(\"click\", guide_toggle_color(parent_id, \"color_virginica\"));\n",
        "    (function (g) {\n",
        "      g.attr(\"fill\", \"#FF5EA0\")\n",
        "       .attr(\"stroke\", \"#DC2C7A\")\n",
        "       .attr(\"stroke-width\", \"0.3\");\n",
        "      g.append(\"svg:path\")\n",
        "         .attr(\"d\", \"M83.6,41.5 L 87.9 41.5 87.9 45.8 83.6 45.8 z\");\n",
        "    }(g.append(\"g\")));\n",
        "    (function (g) {\n",
        "      g.attr(\"stroke\", \"none\")\n",
        "       .attr(\"fill\", \"#4C404B\");\n",
        "      g.append(\"svg:text\")\n",
        "         .attr(\"x\", 88.9)\n",
        "         .attr(\"y\", 43.65)\n",
        "         .style(\"dominant-baseline\", \"central\")\n",
        "      .call(function(text) {\n",
        "  text.text(\"virginica\");\n",
        "})\n",
        ";\n",
        "    }(g.append(\"g\")));\n",
        "  }(g.append(\"g\")));\n",
        "}(g.append(\"g\")));\n",
        "(function (g) {\n",
        "  g.on(\"mouseover\", guide_background_mouseover(parent_id, \"#C6C6C9\"))\n",
        "   .on(\"mouseout\", guide_background_mouseout(parent_id, \"#F0F0F3\"))\n",
        "   .call(zoom_behavior(parent_id, t));\n",
        "  (function (g) {\n",
        "    d3.select(\"defs\")\n",
        "  .append(\"svg:clipPath\")\n",
        "    .attr(\"id\", parent_id + \"_clippath2\")\n",
        "    .append(\"svg:path\")\n",
        "      .attr(\"d\", \" M24.7,5 L 81.6 5 81.6 61.44 24.7 61.44 z\");g.attr(\"clip-path\", \"url(#\" + parent_id + \"_clippath2)\");\n",
        "    (function (g) {\n",
        "      g.attr(\"class\", \"guide background\")\n",
        "       .attr(\"stroke\", \"#F1F1F5\")\n",
        "       .attr(\"fill\", \"#FAFAFA\");\n",
        "      g.append(\"svg:path\")\n",
        "         .attr(\"d\", \"M24.7,5 L 81.6 5 81.6 61.44 24.7 61.44 z\");\n",
        "    }(g.append(\"g\")));\n",
        "    (function (g) {\n",
        "      g.attr(\"stroke\", \"#F0F0F3\")\n",
        "       .attr(\"stroke-width\", \"0.2\")\n",
        "       .attr(\"class\", \"guide xgridlines\");\n",
        "      g.append(\"svg:path\")\n",
        "         .attr(\"d\", \"M-0.53,5 L -0.53 61.44\");\n",
        "      g.append(\"svg:path\")\n",
        "         .attr(\"d\", \"M93.41,5 L 93.41 61.44\");\n",
        "      g.append(\"svg:path\")\n",
        "         .attr(\"d\", \"M-13.95,5 L -13.95 61.44\");\n",
        "      g.append(\"svg:path\")\n",
        "         .attr(\"d\", \"M120.25,5 L 120.25 61.44\");\n",
        "      g.append(\"svg:path\")\n",
        "         .attr(\"d\", \"M79.99,5 L 79.99 61.44\");\n",
        "      g.append(\"svg:path\")\n",
        "         .attr(\"d\", \"M26.31,5 L 26.31 61.44\");\n",
        "      g.append(\"svg:path\")\n",
        "         .attr(\"d\", \"M106.83,5 L 106.83 61.44\");\n",
        "      g.append(\"svg:path\")\n",
        "         .attr(\"d\", \"M133.67,5 L 133.67 61.44\");\n",
        "      g.append(\"svg:path\")\n",
        "         .attr(\"d\", \"M-27.37,5 L -27.37 61.44\");\n",
        "      g.append(\"svg:path\")\n",
        "         .attr(\"d\", \"M66.57,5 L 66.57 61.44\");\n",
        "      g.append(\"svg:path\")\n",
        "         .attr(\"d\", \"M53.15,5 L 53.15 61.44\");\n",
        "      g.append(\"svg:path\")\n",
        "         .attr(\"d\", \"M-40.79,5 L -40.79 61.44\");\n",
        "      g.append(\"svg:path\")\n",
        "         .attr(\"d\", \"M12.89,5 L 12.89 61.44\");\n",
        "      g.append(\"svg:path\")\n",
        "         .attr(\"d\", \"M147.09,5 L 147.09 61.44\");\n",
        "      g.append(\"svg:path\")\n",
        "         .attr(\"d\", \"M39.73,5 L 39.73 61.44\");\n",
        "    }(g.append(\"g\")));\n",
        "    (function (g) {\n",
        "      g.attr(\"stroke\", \"#F0F0F3\")\n",
        "       .attr(\"stroke-width\", \"0.2\")\n",
        "       .attr(\"class\", \"guide ygridlines\");\n",
        "      g.append(\"svg:path\")\n",
        "         .attr(\"d\", \"M24.7,6.6 L 81.6 6.6\");\n",
        "      g.append(\"svg:path\")\n",
        "         .attr(\"d\", \"M24.7,113.09 L 81.6 113.09\");\n",
        "      g.append(\"svg:path\")\n",
        "         .attr(\"d\", \"M24.7,38.54 L 81.6 38.54\");\n",
        "      g.append(\"svg:path\")\n",
        "         .attr(\"d\", \"M24.7,-46.65 L 81.6 -46.65\");\n",
        "      g.append(\"svg:path\")\n",
        "         .attr(\"d\", \"M24.7,49.19 L 81.6 49.19\");\n",
        "      g.append(\"svg:path\")\n",
        "         .attr(\"d\", \"M24.7,-4.05 L 81.6 -4.05\");\n",
        "      g.append(\"svg:path\")\n",
        "         .attr(\"d\", \"M24.7,123.74 L 81.6 123.74\");\n",
        "      g.append(\"svg:path\")\n",
        "         .attr(\"d\", \"M24.7,59.84 L 81.6 59.84\");\n",
        "      g.append(\"svg:path\")\n",
        "         .attr(\"d\", \"M24.7,81.14 L 81.6 81.14\");\n",
        "      g.append(\"svg:path\")\n",
        "         .attr(\"d\", \"M24.7,-57.3 L 81.6 -57.3\");\n",
        "      g.append(\"svg:path\")\n",
        "         .attr(\"d\", \"M24.7,-25.35 L 81.6 -25.35\");\n",
        "      g.append(\"svg:path\")\n",
        "         .attr(\"d\", \"M24.7,70.49 L 81.6 70.49\");\n",
        "      g.append(\"svg:path\")\n",
        "         .attr(\"d\", \"M24.7,102.44 L 81.6 102.44\");\n",
        "      g.append(\"svg:path\")\n",
        "         .attr(\"d\", \"M24.7,27.9 L 81.6 27.9\");\n",
        "      g.append(\"svg:path\")\n",
        "         .attr(\"d\", \"M24.7,17.25 L 81.6 17.25\");\n",
        "      g.append(\"svg:path\")\n",
        "         .attr(\"d\", \"M24.7,-14.7 L 81.6 -14.7\");\n",
        "      g.append(\"svg:path\")\n",
        "         .attr(\"d\", \"M24.7,91.79 L 81.6 91.79\");\n",
        "      g.append(\"svg:path\")\n",
        "         .attr(\"d\", \"M24.7,-36 L 81.6 -36\");\n",
        "    }(g.append(\"g\")));\n",
        "  }(g.append(\"g\")));\n",
        "  (function (g) {\n",
        "    d3.select(\"defs\")\n",
        "  .append(\"svg:clipPath\")\n",
        "    .attr(\"id\", parent_id + \"_clippath3\")\n",
        "    .append(\"svg:path\")\n",
        "      .attr(\"d\", \" M24.7,5 L 81.6 5 81.6 61.44 24.7 61.44 z\");g.attr(\"clip-path\", \"url(#\" + parent_id + \"_clippath3)\");\n",
        "    (function (g) {\n",
        "      g.attr(\"stroke-width\", \"0.3\");\n",
        "      (function (g) {\n",
        "        g.attr(\"stroke-width\", \"0.3\");\n",
        "g.selectAll(\"form0\")\n",
        "                  .data(d3.zip(data[0],data[1],data[2],data[3],data[4]))\n",
        "                  .enter()\n",
        "                  .append(\"circle\")\n",
        ".attr(\"cx\", function(d) { return d[0] * 6.709906e+00 + 26.31; })\n",
        ".attr(\"cy\", function(d) { return d[1] * -2.129811e+01 + 59.84; })\n",
        ".attr(\"r\", 0.6)\n",
        ".attr(\"class\", function(d) { return d[2]; })\n",
        ".on(\"mouseout\", geom_point_mouseover(0.30), false)\n",
        ".on(\"mouseover\", geom_point_mouseover(3.00), false)\n",
        ".attr(\"stroke\", function(d) { return d[3]; })\n",
        ".attr(\"fill\", function(d) { return d[4]; })\n",
        ";\n",
        "      }(g.append(\"g\")));\n",
        "    }(g.append(\"g\")));\n",
        "  }(g.append(\"g\")));\n",
        "}(g.append(\"g\")));\n",
        "}\n",
        "\n",
        "var data = [\n",
        "  [1.4,1.4,1.3,1.5,1.4,1.7,1.4,1.5,1.4,1.5,1.5,1.6,1.4,1.1,1.2,1.5,1.3,1.4,1.7,1.5,1.7,1.5,1.0,1.7,1.9,1.6,1.6,1.5,1.4,1.6,1.6,1.5,1.5,1.4,1.5,1.2,1.3,1.4,1.3,1.5,1.3,1.3,1.3,1.6,1.9,1.4,1.6,1.4,1.5,1.4,4.7,4.5,4.9,4.0,4.6,4.5,4.7,3.3,4.6,3.9,3.5,4.2,4.0,4.7,3.6,4.4,4.5,4.1,4.5,3.9,4.8,4.0,4.9,4.7,4.3,4.4,4.8,5.0,4.5,3.5,3.8,3.7,3.9,5.1,4.5,4.5,4.7,4.4,4.1,4.0,4.4,4.6,4.0,3.3,4.2,4.2,4.2,4.3,3.0,4.1,6.0,5.1,5.9,5.6,5.8,6.6,4.5,6.3,5.8,6.1,5.1,5.3,5.5,5.0,5.1,5.3,5.5,6.7,6.9,5.0,5.7,4.9,6.7,4.9,5.7,6.0,4.8,4.9,5.6,5.8,6.1,6.4,5.6,5.1,5.6,6.1,5.6,5.5,4.8,5.4,5.6,5.1,5.1,5.9,5.7,5.2,5.0,5.2,5.4,5.1],\n",
        "  [0.2,0.2,0.2,0.2,0.2,0.4,0.3,0.2,0.2,0.1,0.2,0.2,0.1,0.1,0.2,0.4,0.4,0.3,0.3,0.3,0.2,0.4,0.2,0.5,0.2,0.2,0.4,0.2,0.2,0.2,0.2,0.4,0.1,0.2,0.2,0.2,0.2,0.1,0.2,0.2,0.3,0.3,0.2,0.6,0.4,0.3,0.2,0.2,0.2,0.2,1.4,1.5,1.5,1.3,1.5,1.3,1.6,1.0,1.3,1.4,1.0,1.5,1.0,1.4,1.3,1.4,1.5,1.0,1.5,1.1,1.8,1.3,1.5,1.2,1.3,1.4,1.4,1.7,1.5,1.0,1.1,1.0,1.2,1.6,1.5,1.6,1.5,1.3,1.3,1.3,1.2,1.4,1.2,1.0,1.3,1.2,1.3,1.3,1.1,1.3,2.5,1.9,2.1,1.8,2.2,2.1,1.7,1.8,1.8,2.5,2.0,1.9,2.1,2.0,2.4,2.3,1.8,2.2,2.3,1.5,2.3,2.0,2.0,1.8,2.1,1.8,1.8,1.8,2.1,1.6,1.9,2.0,2.2,1.5,1.4,2.3,2.4,1.8,1.8,2.1,2.4,2.3,1.9,2.3,2.5,2.3,1.9,2.0,2.3,1.8],\n",
        "  [\"geometry color_setosa\",\"geometry color_setosa\",\"geometry color_setosa\",\"geometry color_setosa\",\"geometry color_setosa\",\"geometry color_setosa\",\"geometry color_setosa\",\"geometry color_setosa\",\"geometry color_setosa\",\"geometry color_setosa\",\"geometry color_setosa\",\"geometry color_setosa\",\"geometry color_setosa\",\"geometry color_setosa\",\"geometry color_setosa\",\"geometry color_setosa\",\"geometry color_setosa\",\"geometry color_setosa\",\"geometry color_setosa\",\"geometry color_setosa\",\"geometry color_setosa\",\"geometry color_setosa\",\"geometry color_setosa\",\"geometry color_setosa\",\"geometry color_setosa\",\"geometry color_setosa\",\"geometry color_setosa\",\"geometry color_setosa\",\"geometry color_setosa\",\"geometry color_setosa\",\"geometry color_setosa\",\"geometry color_setosa\",\"geometry color_setosa\",\"geometry color_setosa\",\"geometry color_setosa\",\"geometry color_setosa\",\"geometry color_setosa\",\"geometry color_setosa\",\"geometry color_setosa\",\"geometry color_setosa\",\"geometry color_setosa\",\"geometry color_setosa\",\"geometry color_setosa\",\"geometry color_setosa\",\"geometry color_setosa\",\"geometry color_setosa\",\"geometry color_setosa\",\"geometry color_setosa\",\"geometry color_setosa\",\"geometry color_setosa\",\"geometry color_versicolor\",\"geometry color_versicolor\",\"geometry color_versicolor\",\"geometry color_versicolor\",\"geometry color_versicolor\",\"geometry color_versicolor\",\"geometry color_versicolor\",\"geometry color_versicolor\",\"geometry color_versicolor\",\"geometry color_versicolor\",\"geometry color_versicolor\",\"geometry color_versicolor\",\"geometry color_versicolor\",\"geometry color_versicolor\",\"geometry color_versicolor\",\"geometry color_versicolor\",\"geometry color_versicolor\",\"geometry color_versicolor\",\"geometry color_versicolor\",\"geometry color_versicolor\",\"geometry color_versicolor\",\"geometry color_versicolor\",\"geometry color_versicolor\",\"geometry color_versicolor\",\"geometry color_versicolor\",\"geometry color_versicolor\",\"geometry color_versicolor\",\"geometry color_versicolor\",\"geometry color_versicolor\",\"geometry color_versicolor\",\"geometry color_versicolor\",\"geometry color_versicolor\",\"geometry color_versicolor\",\"geometry color_versicolor\",\"geometry color_versicolor\",\"geometry color_versicolor\",\"geometry color_versicolor\",\"geometry color_versicolor\",\"geometry color_versicolor\",\"geometry color_versicolor\",\"geometry color_versicolor\",\"geometry color_versicolor\",\"geometry color_versicolor\",\"geometry color_versicolor\",\"geometry color_versicolor\",\"geometry color_versicolor\",\"geometry color_versicolor\",\"geometry color_versicolor\",\"geometry color_versicolor\",\"geometry color_versicolor\",\"geometry color_virginica\",\"geometry color_virginica\",\"geometry color_virginica\",\"geometry color_virginica\",\"geometry color_virginica\",\"geometry color_virginica\",\"geometry color_virginica\",\"geometry color_virginica\",\"geometry color_virginica\",\"geometry color_virginica\",\"geometry color_virginica\",\"geometry color_virginica\",\"geometry color_virginica\",\"geometry color_virginica\",\"geometry color_virginica\",\"geometry color_virginica\",\"geometry color_virginica\",\"geometry color_virginica\",\"geometry color_virginica\",\"geometry color_virginica\",\"geometry color_virginica\",\"geometry color_virginica\",\"geometry color_virginica\",\"geometry color_virginica\",\"geometry color_virginica\",\"geometry color_virginica\",\"geometry color_virginica\",\"geometry color_virginica\",\"geometry color_virginica\",\"geometry color_virginica\",\"geometry color_virginica\",\"geometry color_virginica\",\"geometry color_virginica\",\"geometry color_virginica\",\"geometry color_virginica\",\"geometry color_virginica\",\"geometry color_virginica\",\"geometry color_virginica\",\"geometry color_virginica\",\"geometry color_virginica\",\"geometry color_virginica\",\"geometry color_virginica\",\"geometry color_virginica\",\"geometry color_virginica\",\"geometry color_virginica\",\"geometry color_virginica\",\"geometry color_virginica\",\"geometry color_virginica\",\"geometry color_virginica\",\"geometry color_virginica\"],\n",
        "  [\"#0096DD\",\"#0096DD\",\"#0096DD\",\"#0096DD\",\"#0096DD\",\"#0096DD\",\"#0096DD\",\"#0096DD\",\"#0096DD\",\"#0096DD\",\"#0096DD\",\"#0096DD\",\"#0096DD\",\"#0096DD\",\"#0096DD\",\"#0096DD\",\"#0096DD\",\"#0096DD\",\"#0096DD\",\"#0096DD\",\"#0096DD\",\"#0096DD\",\"#0096DD\",\"#0096DD\",\"#0096DD\",\"#0096DD\",\"#0096DD\",\"#0096DD\",\"#0096DD\",\"#0096DD\",\"#0096DD\",\"#0096DD\",\"#0096DD\",\"#0096DD\",\"#0096DD\",\"#0096DD\",\"#0096DD\",\"#0096DD\",\"#0096DD\",\"#0096DD\",\"#0096DD\",\"#0096DD\",\"#0096DD\",\"#0096DD\",\"#0096DD\",\"#0096DD\",\"#0096DD\",\"#0096DD\",\"#0096DD\",\"#0096DD\",\"#A8A200\",\"#A8A200\",\"#A8A200\",\"#A8A200\",\"#A8A200\",\"#A8A200\",\"#A8A200\",\"#A8A200\",\"#A8A200\",\"#A8A200\",\"#A8A200\",\"#A8A200\",\"#A8A200\",\"#A8A200\",\"#A8A200\",\"#A8A200\",\"#A8A200\",\"#A8A200\",\"#A8A200\",\"#A8A200\",\"#A8A200\",\"#A8A200\",\"#A8A200\",\"#A8A200\",\"#A8A200\",\"#A8A200\",\"#A8A200\",\"#A8A200\",\"#A8A200\",\"#A8A200\",\"#A8A200\",\"#A8A200\",\"#A8A200\",\"#A8A200\",\"#A8A200\",\"#A8A200\",\"#A8A200\",\"#A8A200\",\"#A8A200\",\"#A8A200\",\"#A8A200\",\"#A8A200\",\"#A8A200\",\"#A8A200\",\"#A8A200\",\"#A8A200\",\"#A8A200\",\"#A8A200\",\"#A8A200\",\"#A8A200\",\"#DC2C7A\",\"#DC2C7A\",\"#DC2C7A\",\"#DC2C7A\",\"#DC2C7A\",\"#DC2C7A\",\"#DC2C7A\",\"#DC2C7A\",\"#DC2C7A\",\"#DC2C7A\",\"#DC2C7A\",\"#DC2C7A\",\"#DC2C7A\",\"#DC2C7A\",\"#DC2C7A\",\"#DC2C7A\",\"#DC2C7A\",\"#DC2C7A\",\"#DC2C7A\",\"#DC2C7A\",\"#DC2C7A\",\"#DC2C7A\",\"#DC2C7A\",\"#DC2C7A\",\"#DC2C7A\",\"#DC2C7A\",\"#DC2C7A\",\"#DC2C7A\",\"#DC2C7A\",\"#DC2C7A\",\"#DC2C7A\",\"#DC2C7A\",\"#DC2C7A\",\"#DC2C7A\",\"#DC2C7A\",\"#DC2C7A\",\"#DC2C7A\",\"#DC2C7A\",\"#DC2C7A\",\"#DC2C7A\",\"#DC2C7A\",\"#DC2C7A\",\"#DC2C7A\",\"#DC2C7A\",\"#DC2C7A\",\"#DC2C7A\",\"#DC2C7A\",\"#DC2C7A\",\"#DC2C7A\",\"#DC2C7A\"],\n",
        "  [\"#00BFFF\",\"#00BFFF\",\"#00BFFF\",\"#00BFFF\",\"#00BFFF\",\"#00BFFF\",\"#00BFFF\",\"#00BFFF\",\"#00BFFF\",\"#00BFFF\",\"#00BFFF\",\"#00BFFF\",\"#00BFFF\",\"#00BFFF\",\"#00BFFF\",\"#00BFFF\",\"#00BFFF\",\"#00BFFF\",\"#00BFFF\",\"#00BFFF\",\"#00BFFF\",\"#00BFFF\",\"#00BFFF\",\"#00BFFF\",\"#00BFFF\",\"#00BFFF\",\"#00BFFF\",\"#00BFFF\",\"#00BFFF\",\"#00BFFF\",\"#00BFFF\",\"#00BFFF\",\"#00BFFF\",\"#00BFFF\",\"#00BFFF\",\"#00BFFF\",\"#00BFFF\",\"#00BFFF\",\"#00BFFF\",\"#00BFFF\",\"#00BFFF\",\"#00BFFF\",\"#00BFFF\",\"#00BFFF\",\"#00BFFF\",\"#00BFFF\",\"#00BFFF\",\"#00BFFF\",\"#00BFFF\",\"#00BFFF\",\"#D4CA3A\",\"#D4CA3A\",\"#D4CA3A\",\"#D4CA3A\",\"#D4CA3A\",\"#D4CA3A\",\"#D4CA3A\",\"#D4CA3A\",\"#D4CA3A\",\"#D4CA3A\",\"#D4CA3A\",\"#D4CA3A\",\"#D4CA3A\",\"#D4CA3A\",\"#D4CA3A\",\"#D4CA3A\",\"#D4CA3A\",\"#D4CA3A\",\"#D4CA3A\",\"#D4CA3A\",\"#D4CA3A\",\"#D4CA3A\",\"#D4CA3A\",\"#D4CA3A\",\"#D4CA3A\",\"#D4CA3A\",\"#D4CA3A\",\"#D4CA3A\",\"#D4CA3A\",\"#D4CA3A\",\"#D4CA3A\",\"#D4CA3A\",\"#D4CA3A\",\"#D4CA3A\",\"#D4CA3A\",\"#D4CA3A\",\"#D4CA3A\",\"#D4CA3A\",\"#D4CA3A\",\"#D4CA3A\",\"#D4CA3A\",\"#D4CA3A\",\"#D4CA3A\",\"#D4CA3A\",\"#D4CA3A\",\"#D4CA3A\",\"#D4CA3A\",\"#D4CA3A\",\"#D4CA3A\",\"#D4CA3A\",\"#FF5EA0\",\"#FF5EA0\",\"#FF5EA0\",\"#FF5EA0\",\"#FF5EA0\",\"#FF5EA0\",\"#FF5EA0\",\"#FF5EA0\",\"#FF5EA0\",\"#FF5EA0\",\"#FF5EA0\",\"#FF5EA0\",\"#FF5EA0\",\"#FF5EA0\",\"#FF5EA0\",\"#FF5EA0\",\"#FF5EA0\",\"#FF5EA0\",\"#FF5EA0\",\"#FF5EA0\",\"#FF5EA0\",\"#FF5EA0\",\"#FF5EA0\",\"#FF5EA0\",\"#FF5EA0\",\"#FF5EA0\",\"#FF5EA0\",\"#FF5EA0\",\"#FF5EA0\",\"#FF5EA0\",\"#FF5EA0\",\"#FF5EA0\",\"#FF5EA0\",\"#FF5EA0\",\"#FF5EA0\",\"#FF5EA0\",\"#FF5EA0\",\"#FF5EA0\",\"#FF5EA0\",\"#FF5EA0\",\"#FF5EA0\",\"#FF5EA0\",\"#FF5EA0\",\"#FF5EA0\",\"#FF5EA0\",\"#FF5EA0\",\"#FF5EA0\",\"#FF5EA0\",\"#FF5EA0\",\"#FF5EA0\"]];\n",
        "\n",
        "var draw = function(parent_id) {\n",
        "    draw_with_data(data, parent_id);\n",
        "};\n",
        "\n",
        "draw(\"#gadflyplot-gTPPQubkkIAkfoDibjCz\");\n",
        "</script>\n"
       ],
       "metadata": {},
       "output_type": "display_data",
       "text": [
        "D3(120mm,80mm,IOBuffer([0x66,0x75,0x6e,0x63,0x74,0x69,0x6f,0x6e,0x20,0x64  \u2026  0x74,0x5f,0x69,0x64,0x29,0x3b,0x0a,0x7d,0x3b,0x0a],true,true,true,false,23705,9223372036854775807,23706),false,0,[],[],1,4,[0xe2e51439c9cd3e4f=>([\"geometry color_setosa\",\"geometry color_setosa\",\"geometry color_setosa\",\"geometry color_setosa\",\"geometry color_setosa\",\"geometry color_setosa\",\"geometry color_setosa\",\"geometry color_setosa\",\"geometry color_setosa\",\"geometry color_setosa\"  \u2026  \"geometry color_virginica\",\"geometry color_virginica\",\"geometry color_virginica\",\"geometry color_virginica\",\"geometry color_virginica\",\"geometry color_virginica\",\"geometry color_virginica\",\"geometry color_virginica\",\"geometry color_virginica\",\"geometry color_virginica\"],2),0x4d3255e81b6ca5e2=>([1.4,1.4,1.3,1.5,1.4,1.7,1.4,1.5,1.4,1.5  \u2026  5.6,5.1,5.1,5.9,5.7,5.2,5.0,5.2,5.4,5.1],0),0x27770d50d4acdf2c=>([0.2,0.2,0.2,0.2,0.2,0.4,0.3,0.2,0.2,0.1  \u2026  2.4,2.3,1.9,2.3,2.5,2.3,1.9,2.0,2.3,1.8],1),0x303909b7e474f59a=>({LCHab(55.0,60.0,240.0),LCHab(55.0,60.0,240.0),LCHab(55.0,60.0,240.0),LCHab(55.0,60.0,240.0),LCHab(55.0,60.0,240.0),LCHab(55.0,60.0,240.0),LCHab(55.0,60.0,240.0),LCHab(55.0,60.0,240.0),LCHab(55.0,60.0,240.0),LCHab(55.0,60.0,240.0)  \u2026  LCHab(50.0,70.0,0.0),LCHab(50.0,70.0,0.0),LCHab(50.0,70.0,0.0),LCHab(50.0,70.0,0.0),LCHab(50.0,70.0,0.0),LCHab(50.0,70.0,0.0),LCHab(50.0,70.0,0.0),LCHab(50.0,70.0,0.0),LCHab(50.0,70.0,0.0),LCHab(50.0,70.0,0.0)},3),0x2928683e99bc96f8=>([LCHab(70.0,60.0,240.0),LCHab(70.0,60.0,240.0),LCHab(70.0,60.0,240.0),LCHab(70.0,60.0,240.0),LCHab(70.0,60.0,240.0),LCHab(70.0,60.0,240.0),LCHab(70.0,60.0,240.0),LCHab(70.0,60.0,240.0),LCHab(70.0,60.0,240.0),LCHab(70.0,60.0,240.0)  \u2026  LCHab(65.0,70.0,0.0),LCHab(65.0,70.0,0.0),LCHab(65.0,70.0,0.0),LCHab(65.0,70.0,0.0),LCHab(65.0,70.0,0.0),LCHab(65.0,70.0,0.0),LCHab(65.0,70.0,0.0),LCHab(65.0,70.0,0.0),LCHab(65.0,70.0,0.0),LCHab(65.0,70.0,0.0)],4)],true,true)"
       ]
      },
      {
       "html": [],
       "metadata": {},
       "output_type": "pyout",
       "prompt_number": 55,
       "text": [
        "Plot(...)"
       ]
      }
     ],
     "prompt_number": 55
    },
    {
     "cell_type": "heading",
     "level": 4,
     "metadata": {},
     "source": [
      "Converting DataFrames to Design Matrices"
     ]
    },
    {
     "cell_type": "code",
     "collapsed": false,
     "input": [
      "ModelMatrix(ModelFrame(:(A ~ B), df))"
     ],
     "language": "python",
     "metadata": {},
     "outputs": [
      {
       "metadata": {},
       "output_type": "pyout",
       "prompt_number": 56,
       "text": [
        "ModelMatrix{Float64}(10x2 Array{Float64,2}:\n",
        " 1.0  0.703825 \n",
        " 1.0  0.0140623\n",
        " 1.0  0.704172 \n",
        " 1.0  0.674905 \n",
        " 1.0  0.125851 \n",
        " 1.0  0.892313 \n",
        " 1.0  0.973997 \n",
        " 1.0  0.430462 \n",
        " 1.0  0.661227 \n",
        " 1.0  0.586365 ,[0,1])"
       ]
      }
     ],
     "prompt_number": 56
    },
    {
     "cell_type": "heading",
     "level": 4,
     "metadata": {},
     "source": [
      "DataFrame I/O"
     ]
    },
    {
     "cell_type": "code",
     "collapsed": false,
     "input": [
      "writetable(\"df.csv\", df)"
     ],
     "language": "python",
     "metadata": {},
     "outputs": [],
     "prompt_number": 57
    },
    {
     "cell_type": "code",
     "collapsed": false,
     "input": [
      "df"
     ],
     "language": "python",
     "metadata": {},
     "outputs": [
      {
       "metadata": {},
       "output_type": "pyout",
       "prompt_number": 59,
       "text": [
        "10x3 DataFrame:\n",
        "            A         B    C\n",
        "[1,]      1.0  0.703825 \"G1\"\n",
        "[2,]      2.0 0.0140623 \"G1\"\n",
        "[3,]      3.0  0.704172 \"G1\"\n",
        "[4,]      4.0  0.674905 \"G1\"\n",
        "[5,]      5.0  0.125851 \"G1\"\n",
        "[6,]      6.0  0.892313 \"G2\"\n",
        "[7,]      7.0  0.973997 \"G2\"\n",
        "[8,]      8.0  0.430462 \"G2\"\n",
        "[9,]      9.0  0.661227 \"G2\"\n",
        "[10,]    10.0  0.586365 \"G2\"\n"
       ]
      }
     ],
     "prompt_number": 59
    },
    {
     "cell_type": "code",
     "collapsed": false,
     "input": [
      "df2 = readtable(\"df.csv\")"
     ],
     "language": "python",
     "metadata": {},
     "outputs": [
      {
       "metadata": {},
       "output_type": "pyout",
       "prompt_number": 60,
       "text": [
        "10x3 DataFrame:\n",
        "            A         B    C\n",
        "[1,]      1.0  0.703825 \"G1\"\n",
        "[2,]      2.0 0.0140623 \"G1\"\n",
        "[3,]      3.0  0.704172 \"G1\"\n",
        "[4,]      4.0  0.674905 \"G1\"\n",
        "[5,]      5.0  0.125851 \"G1\"\n",
        "[6,]      6.0  0.892313 \"G2\"\n",
        "[7,]      7.0  0.973997 \"G2\"\n",
        "[8,]      8.0  0.430462 \"G2\"\n",
        "[9,]      9.0  0.661227 \"G2\"\n",
        "[10,]    10.0  0.586365 \"G2\"\n"
       ]
      }
     ],
     "prompt_number": 60
    },
    {
     "cell_type": "heading",
     "level": 4,
     "metadata": {},
     "source": [
      "Merging Data Sets"
     ]
    },
    {
     "cell_type": "code",
     "collapsed": false,
     "input": [
      "A = DataFrame(X = 1:3, Z = [\"A\", \"B\", \"C\"])"
     ],
     "language": "python",
     "metadata": {},
     "outputs": [
      {
       "metadata": {},
       "output_type": "pyout",
       "prompt_number": 61,
       "text": [
        "3x2 DataFrame:\n",
        "        X   Z\n",
        "[1,]    1 \"A\"\n",
        "[2,]    2 \"B\"\n",
        "[3,]    3 \"C\"\n"
       ]
      }
     ],
     "prompt_number": 61
    },
    {
     "cell_type": "code",
     "collapsed": false,
     "input": [
      "B = DataFrame(Y = 4:6, Z = [\"A\", \"B\", \"B\"])"
     ],
     "language": "python",
     "metadata": {},
     "outputs": [
      {
       "metadata": {},
       "output_type": "pyout",
       "prompt_number": 62,
       "text": [
        "3x2 DataFrame:\n",
        "        Y   Z\n",
        "[1,]    4 \"A\"\n",
        "[2,]    5 \"B\"\n",
        "[3,]    6 \"B\"\n"
       ]
      }
     ],
     "prompt_number": 62
    },
    {
     "cell_type": "code",
     "collapsed": false,
     "input": [
      "join(A, B, on = \"Z\")"
     ],
     "language": "python",
     "metadata": {},
     "outputs": [
      {
       "metadata": {},
       "output_type": "pyout",
       "prompt_number": 63,
       "text": [
        "3x3 DataFrame:\n",
        "        X   Z Y\n",
        "[1,]    1 \"A\" 4\n",
        "[2,]    2 \"B\" 5\n",
        "[3,]    2 \"B\" 6\n"
       ]
      }
     ],
     "prompt_number": 63
    },
    {
     "cell_type": "code",
     "collapsed": false,
     "input": [
      "join(A, B, on = \"Z\", kind = :inner)"
     ],
     "language": "python",
     "metadata": {},
     "outputs": [
      {
       "metadata": {},
       "output_type": "pyout",
       "prompt_number": 64,
       "text": [
        "3x3 DataFrame:\n",
        "        X   Z Y\n",
        "[1,]    1 \"A\" 4\n",
        "[2,]    2 \"B\" 5\n",
        "[3,]    2 \"B\" 6\n"
       ]
      }
     ],
     "prompt_number": 64
    },
    {
     "cell_type": "code",
     "collapsed": false,
     "input": [
      "join(A, B, on = \"Z\", kind = :left)"
     ],
     "language": "python",
     "metadata": {},
     "outputs": [
      {
       "metadata": {},
       "output_type": "pyout",
       "prompt_number": 65,
       "text": [
        "4x3 DataFrame:\n",
        "        X   Z  Y\n",
        "[1,]    1 \"A\"  4\n",
        "[2,]    2 \"B\"  5\n",
        "[3,]    2 \"B\"  6\n",
        "[4,]    3 \"C\" NA\n"
       ]
      }
     ],
     "prompt_number": 65
    },
    {
     "cell_type": "code",
     "collapsed": false,
     "input": [
      "join(A, B, on = \"Z\", kind = :right)"
     ],
     "language": "python",
     "metadata": {},
     "outputs": [
      {
       "metadata": {},
       "output_type": "pyout",
       "prompt_number": 66,
       "text": [
        "3x3 DataFrame:\n",
        "        X Y   Z\n",
        "[1,]    1 4 \"A\"\n",
        "[2,]    2 5 \"B\"\n",
        "[3,]    2 6 \"B\"\n"
       ]
      }
     ],
     "prompt_number": 66
    },
    {
     "cell_type": "code",
     "collapsed": false,
     "input": [
      "join(A, B, on = \"Z\", kind = :outer)"
     ],
     "language": "python",
     "metadata": {},
     "outputs": [
      {
       "metadata": {},
       "output_type": "pyout",
       "prompt_number": 67,
       "text": [
        "4x3 DataFrame:\n",
        "        X   Z  Y\n",
        "[1,]    1 \"A\"  4\n",
        "[2,]    2 \"B\"  5\n",
        "[3,]    2 \"B\"  6\n",
        "[4,]    3 \"C\" NA\n"
       ]
      }
     ],
     "prompt_number": 67
    },
    {
     "cell_type": "heading",
     "level": 4,
     "metadata": {},
     "source": [
      "Split-Apply-Combine Operations"
     ]
    },
    {
     "cell_type": "code",
     "collapsed": false,
     "input": [
      "by(iris, \"Species\", nrow)"
     ],
     "language": "python",
     "metadata": {},
     "outputs": [
      {
       "metadata": {},
       "output_type": "pyout",
       "prompt_number": 68,
       "text": [
        "3x2 DataFrame:\n",
        "             Species x1\n",
        "[1,]        \"setosa\" 50\n",
        "[2,]    \"versicolor\" 50\n",
        "[3,]     \"virginica\" 50\n"
       ]
      }
     ],
     "prompt_number": 68
    },
    {
     "cell_type": "code",
     "collapsed": false,
     "input": [
      "by(iris, \"Species\", df -> mean(df[\"Petal.Length\"]))"
     ],
     "language": "python",
     "metadata": {},
     "outputs": [
      {
       "metadata": {},
       "output_type": "pyout",
       "prompt_number": 69,
       "text": [
        "3x2 DataFrame:\n",
        "             Species    x1\n",
        "[1,]        \"setosa\" 1.462\n",
        "[2,]    \"versicolor\"  4.26\n",
        "[3,]     \"virginica\" 5.552\n"
       ]
      }
     ],
     "prompt_number": 69
    },
    {
     "cell_type": "code",
     "collapsed": false,
     "input": [
      "by(iris, \"Species\", :(N = size(_DF, 1)))"
     ],
     "language": "python",
     "metadata": {},
     "outputs": [
      {
       "metadata": {},
       "output_type": "pyout",
       "prompt_number": 70,
       "text": [
        "3x2 DataFrame:\n",
        "             Species  N\n",
        "[1,]        \"setosa\" 50\n",
        "[2,]    \"versicolor\" 50\n",
        "[3,]     \"virginica\" 50\n"
       ]
      }
     ],
     "prompt_number": 70
    },
    {
     "cell_type": "heading",
     "level": 1,
     "metadata": {},
     "source": [
      "GLM's in Julia"
     ]
    },
    {
     "cell_type": "code",
     "collapsed": false,
     "input": [
      "using GLM"
     ],
     "language": "python",
     "metadata": {},
     "outputs": [
      {
       "output_type": "stream",
       "stream": "stderr",
       "text": [
        "Warning: using NumericExtensions.Gamma in module Main conflicts with an existing identifier.\n"
       ]
      }
     ],
     "prompt_number": 71
    },
    {
     "cell_type": "code",
     "collapsed": false,
     "input": [
      "glm(:(B ~ A), df, Binomial())"
     ],
     "language": "python",
     "metadata": {},
     "outputs": [
      {
       "metadata": {},
       "output_type": "pyout",
       "prompt_number": 72,
       "text": [
        "\n",
        "Formula: B ~ A\n",
        "\n",
        "Coefficients:\n",
        "\n",
        "2x4 DataFrame:\n",
        "         Estimate Std.Error   z value Pr(>|z|)\n",
        "[1,]    -0.205228   1.37936 -0.148784 0.881724\n",
        "[2,]     0.094579  0.226508  0.417552 0.676275\n",
        "\n"
       ]
      }
     ],
     "prompt_number": 72
    },
    {
     "cell_type": "code",
     "collapsed": false,
     "input": [
      "glm(:(A ~ B), df, Poisson())"
     ],
     "language": "python",
     "metadata": {},
     "outputs": [
      {
       "metadata": {},
       "output_type": "pyout",
       "prompt_number": 73,
       "text": [
        "\n",
        "Formula: A ~ B\n",
        "\n",
        "Coefficients:\n",
        "\n",
        "2x4 DataFrame:\n",
        "        Estimate Std.Error  z value   Pr(>|z|)\n",
        "[1,]     1.45364  0.325642  4.46392 8.04721e-6\n",
        "[2,]    0.422657  0.485156 0.871178   0.383657\n",
        "\n"
       ]
      }
     ],
     "prompt_number": 73
    },
    {
     "cell_type": "heading",
     "level": 1,
     "metadata": {},
     "source": [
      "Optimization in Julia"
     ]
    },
    {
     "cell_type": "code",
     "collapsed": false,
     "input": [
      "using Optim"
     ],
     "language": "python",
     "metadata": {},
     "outputs": [],
     "prompt_number": 74
    },
    {
     "cell_type": "code",
     "collapsed": false,
     "input": [
      "f(x::Vector) = (10.73 - x[1])^2 + (1134.29 - x[2])^4"
     ],
     "language": "python",
     "metadata": {},
     "outputs": [
      {
       "metadata": {},
       "output_type": "pyout",
       "prompt_number": 75,
       "text": [
        "# methods for generic function f\n",
        "f(x::Array{T,1}) at In[75]:1"
       ]
      }
     ],
     "prompt_number": 75
    },
    {
     "cell_type": "code",
     "collapsed": false,
     "input": [
      "f([0.0, 0.0])"
     ],
     "language": "python",
     "metadata": {},
     "outputs": [
      {
       "metadata": {},
       "output_type": "pyout",
       "prompt_number": 76,
       "text": [
        "1.6553750810158057e12"
       ]
      }
     ],
     "prompt_number": 76
    },
    {
     "cell_type": "code",
     "collapsed": false,
     "input": [
      "optimize(f, [0.0, 0.0])"
     ],
     "language": "python",
     "metadata": {},
     "outputs": [
      {
       "metadata": {},
       "output_type": "pyout",
       "prompt_number": 77,
       "text": [
        "Results of Optimization Algorithm\n",
        " * Algorithm: Nelder-Mead\n",
        " * Starting Point: 0\n",
        "0\n",
        "\n",
        " * Minimum: 10.729963758708099\n",
        "1134.2876531089082\n",
        "\n",
        " * Value of Function at Minimum: 0.000000\n",
        " * Iterations: 68\n",
        " * Convergence: true\n",
        "   * |x - x'| < NaN: false\n",
        "   * |f(x) - f(x')| / |f(x)| < 1.0e-08: true\n",
        "   * |g(x)| < NaN: false\n",
        "   * Exceeded Maximum Number of Iterations: false\n",
        " * Objective Function Calls: 132\n",
        " * Gradient Call: 0"
       ]
      }
     ],
     "prompt_number": 77
    },
    {
     "cell_type": "code",
     "collapsed": false,
     "input": [
      "optimize(f, [0.0, 0.0], method = :l_bfgs)"
     ],
     "language": "python",
     "metadata": {},
     "outputs": [
      {
       "metadata": {},
       "output_type": "pyout",
       "prompt_number": 78,
       "text": [
        "Results of Optimization Algorithm\n",
        " * Algorithm: L-BFGS\n",
        " * Starting Point: 0\n",
        "0\n",
        "\n",
        " * Minimum: 10.730000000844589\n",
        "1134.290201363321\n",
        "\n",
        " * Value of Function at Minimum: 0.000000\n",
        " * Iterations: 23\n",
        " * Convergence: true\n",
        "   * |x - x'| < 1.0e-32: false\n",
        "   * |f(x) - f(x')| / |f(x)| < 1.0e-08: false\n",
        "   * |g(x)| < 1.0e-08: true\n",
        "   * Exceeded Maximum Number of Iterations: false\n",
        " * Objective Function Calls: 121\n",
        " * Gradient Call: 121"
       ]
      }
     ],
     "prompt_number": 78
    },
    {
     "cell_type": "heading",
     "level": 1,
     "metadata": {},
     "source": [
      "Maximum Likelihood Estimation in Julia"
     ]
    },
    {
     "cell_type": "code",
     "collapsed": false,
     "input": [
      "x = rand(Normal(11, 3), 1_000)"
     ],
     "language": "python",
     "metadata": {},
     "outputs": [
      {
       "metadata": {},
       "output_type": "pyout",
       "prompt_number": 79,
       "text": [
        "1000-element Array{Float64,1}:\n",
        "  9.34264\n",
        " 10.9098 \n",
        "  7.17035\n",
        "  8.82832\n",
        "  9.97295\n",
        "  6.34337\n",
        "  9.51103\n",
        "  6.60003\n",
        "  9.24664\n",
        " 11.7722 \n",
        " 12.0067 \n",
        "  8.93703\n",
        "  8.81096\n",
        "  \u22ee      \n",
        " 17.0297 \n",
        " 12.0191 \n",
        " 12.6267 \n",
        " 14.1589 \n",
        " 11.75   \n",
        " 15.3511 \n",
        " 11.8424 \n",
        " 16.6597 \n",
        "  7.32261\n",
        " 12.7416 \n",
        " 13.2743 \n",
        " 10.3343 "
       ]
      }
     ],
     "prompt_number": 79
    },
    {
     "cell_type": "code",
     "collapsed": false,
     "input": [
      "function makenll(x)\n",
      "    nll(params::Vector) = -loglikelihood(Normal(params[1], 3), x)\n",
      "end"
     ],
     "language": "python",
     "metadata": {},
     "outputs": [
      {
       "metadata": {},
       "output_type": "pyout",
       "prompt_number": 80,
       "text": [
        "# methods for generic function makenll\n",
        "makenll(x) at In[80]:2"
       ]
      }
     ],
     "prompt_number": 80
    },
    {
     "cell_type": "code",
     "collapsed": false,
     "input": [
      "nll = makenll(x)"
     ],
     "language": "python",
     "metadata": {},
     "outputs": [
      {
       "metadata": {},
       "output_type": "pyout",
       "prompt_number": 81,
       "text": [
        "# methods for generic function nll\n",
        "nll(params::Array{T,1}) at In[80]:2"
       ]
      }
     ],
     "prompt_number": 81
    },
    {
     "cell_type": "code",
     "collapsed": false,
     "input": [
      "nll([0.0])"
     ],
     "language": "python",
     "metadata": {},
     "outputs": [
      {
       "metadata": {},
       "output_type": "pyout",
       "prompt_number": 82,
       "text": [
        "8957.381340548794"
       ]
      }
     ],
     "prompt_number": 82
    },
    {
     "cell_type": "code",
     "collapsed": false,
     "input": [
      "nll([10.0])"
     ],
     "language": "python",
     "metadata": {},
     "outputs": [
      {
       "metadata": {},
       "output_type": "pyout",
       "prompt_number": 83,
       "text": [
        "2558.8721902349916"
       ]
      }
     ],
     "prompt_number": 83
    },
    {
     "cell_type": "code",
     "collapsed": false,
     "input": [
      "optimize(nll, [0.0])"
     ],
     "language": "python",
     "metadata": {},
     "outputs": [
      {
       "metadata": {},
       "output_type": "pyout",
       "prompt_number": 84,
       "text": [
        "Results of Optimization Algorithm\n",
        " * Algorithm: Nelder-Mead\n",
        " * Starting Point: 0\n",
        "\n",
        " * Minimum: 10.758659362792969\n",
        "\n",
        " * Value of Function at Minimum: 2526.896506\n",
        " * Iterations: 21\n",
        " * Convergence: true\n",
        "   * |x - x'| < NaN: false\n",
        "   * |f(x) - f(x')| / |f(x)| < 1.0e-08: true\n",
        "   * |g(x)| < NaN: false\n",
        "   * Exceeded Maximum Number of Iterations: false\n",
        " * Objective Function Calls: 44\n",
        " * Gradient Call: 0"
       ]
      }
     ],
     "prompt_number": 84
    },
    {
     "cell_type": "code",
     "collapsed": false,
     "input": [
      "mean(x)"
     ],
     "language": "python",
     "metadata": {},
     "outputs": [
      {
       "metadata": {},
       "output_type": "pyout",
       "prompt_number": 85,
       "text": [
        "10.758658235282414"
       ]
      }
     ],
     "prompt_number": 85
    },
    {
     "cell_type": "markdown",
     "metadata": {},
     "source": [
      "More resources:\n",
      "\n",
      "* NLopt\n",
      "* MathProg"
     ]
    },
    {
     "cell_type": "heading",
     "level": 1,
     "metadata": {},
     "source": [
      "ML Algorithms"
     ]
    },
    {
     "cell_type": "code",
     "collapsed": false,
     "input": [
      "using Clustering"
     ],
     "language": "python",
     "metadata": {},
     "outputs": [],
     "prompt_number": 86
    },
    {
     "cell_type": "code",
     "collapsed": false,
     "input": [
      "kmeans(matrix(iris[:, 2:5])', 3)"
     ],
     "language": "python",
     "metadata": {},
     "outputs": [
      {
       "output_type": "stream",
       "stream": "stdout",
       "text": [
        "  "
       ]
      },
      {
       "output_type": "stream",
       "stream": "stdout",
       "text": [
        "Iters               objv        objv-change | affected \n",
        "-------------------------------------------------------------\n",
        "      1       9.532002e+01      -6.378998e+01 |        2\n",
        "      2       8.691417e+01      -8.405855e+00 |        2\n",
        "      3       8.471233e+01      -2.201836e+00 |        2\n",
        "      4       8.401278e+01      -6.995510e-01 |        2\n",
        "      5       8.304698e+01      -9.657970e-01 |        2\n",
        "      6       8.174960e+01      -1.297380e+00 |        2\n",
        "      7       8.080638e+01      -9.432261e-01 |        2\n",
        "      8       7.987358e+01      -9.327962e-01 |        2\n",
        "      9       7.934436e+01      -5.292157e-01 |        2\n",
        "     10       7.892131e+01      -4.230544e-01 |        2\n",
        "     11       7.885567e+01      -6.564390e-02 |        0\n",
        "     12       7.885567e+01       0.000000e+00 |        0\n",
        "K-means converged with 12 iterations (objv = 78.85566582597716)\n"
       ]
      },
      {
       "metadata": {},
       "output_type": "pyout",
       "prompt_number": 87,
       "text": [
        "KmeansResult{Float64}(4x3 Array{Float64,2}:\n",
        " 5.006  6.85385  5.88361\n",
        " 3.428  3.07692  2.74098\n",
        " 1.462  5.71538  4.38852\n",
        " 0.246  2.05385  1.43443,[1,1,1,1,1,1,1,1,1,1  \u2026  2,2,3,2,2,2,3,2,2,3],[0.019980000000018094,0.20038000000000977,0.17398000000001446,0.2759800000000041,0.03557999999999595,0.45838000000000534,0.17238000000000397,0.004380000000011819,0.6519799999999947,0.1415800000000189  \u2026  0.1573372781064677,0.4419526627218886,0.7316259070142337,0.1127218934910843,0.2727218934911093,0.3557988165680399,0.8221177102929005,0.3996449704141867,0.6919526627218318,0.7071996775060256],[50,39,61],[0.0,0.0,0.0],78.85566582597716,12,true)"
       ]
      }
     ],
     "prompt_number": 87
    },
    {
     "cell_type": "code",
     "collapsed": false,
     "input": [
      "by(iris, \"Species\", df -> DataFrame(A = mean(df[2]),\n",
      "                                    B = mean(df[3]),\n",
      "                                    C = mean(df[4]),\n",
      "                                    D = mean(df[5])))"
     ],
     "language": "python",
     "metadata": {},
     "outputs": [
      {
       "metadata": {},
       "output_type": "pyout",
       "prompt_number": 88,
       "text": [
        "3x5 DataFrame:\n",
        "             Species     A     B     C     D\n",
        "[1,]        \"setosa\" 5.006 3.428 1.462 0.246\n",
        "[2,]    \"versicolor\" 5.936  2.77  4.26 1.326\n",
        "[3,]     \"virginica\" 6.588 2.974 5.552 2.026\n"
       ]
      }
     ],
     "prompt_number": 88
    }
   ],
   "metadata": {}
  }
 ]
}