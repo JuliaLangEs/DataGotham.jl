{
 "metadata": {
  "language": "Julia",
  "name": ""
 },
 "nbformat": 3,
 "nbformat_minor": 0,
 "worksheets": [
  {
   "cells": [
    {
     "cell_type": "heading",
     "level": 1,
     "metadata": {},
     "source": [
      "Install + Setup"
     ]
    },
    {
     "cell_type": "markdown",
     "metadata": {},
     "source": [
      "(1) Grab a binary of the latest Julia:\n",
      "\n",
      "* [http://julialang.org/downloads/#beta](http://julialang.org/downloads/#beta)\n",
      "\n",
      "(2) Set up an alias to Julia to work from a normal shell prompt:\n",
      "\n",
      "* `alias julia /Applications/Julia-*.app/Contents/Resources/julia/bin/julia`\n",
      "\n",
      "(3) Start Julia by running `julia`\n",
      "\n",
      "(4) Run the following commands in the Julia REPL:\n",
      "\n",
      "* `Pkg.add(\"Homebrew\")`\n",
      "* `Pkg.add(\"IJulia\")`\n",
      "* `Pkg.add(\"Stats\")`\n",
      "* `Pkg.add(\"Distributions\")`\n",
      "* `Pkg.add(\"DataFrames\")`\n",
      "* `Pkg.add(\"GLM\")`\n",
      "* `Pkg.add(\"Vega\")`"
     ]
    },
    {
     "cell_type": "heading",
     "level": 1,
     "metadata": {},
     "source": [
      "Getting Started"
     ]
    },
    {
     "cell_type": "code",
     "collapsed": false,
     "input": [
      "1 + 1"
     ],
     "language": "python",
     "metadata": {},
     "outputs": [
      {
       "metadata": {},
       "output_type": "pyout",
       "prompt_number": 1,
       "text": [
        "2"
       ]
      }
     ],
     "prompt_number": 1
    },
    {
     "cell_type": "code",
     "collapsed": false,
     "input": [
      "1 + 1.0"
     ],
     "language": "python",
     "metadata": {},
     "outputs": [
      {
       "metadata": {},
       "output_type": "pyout",
       "prompt_number": 2,
       "text": [
        "2.0"
       ]
      }
     ],
     "prompt_number": 2
    },
    {
     "cell_type": "code",
     "collapsed": false,
     "input": [
      "a = 1"
     ],
     "language": "python",
     "metadata": {},
     "outputs": [
      {
       "metadata": {},
       "output_type": "pyout",
       "prompt_number": 3,
       "text": [
        "1"
       ]
      }
     ],
     "prompt_number": 3
    },
    {
     "cell_type": "code",
     "collapsed": false,
     "input": [
      "double(x::Int) = x + x"
     ],
     "language": "python",
     "metadata": {},
     "outputs": [
      {
       "metadata": {},
       "output_type": "pyout",
       "prompt_number": 4,
       "text": [
        "# methods for generic function double\n",
        "double(x::Int64) at In[4]:1"
       ]
      }
     ],
     "prompt_number": 4
    },
    {
     "cell_type": "code",
     "collapsed": false,
     "input": [
      "double(1)"
     ],
     "language": "python",
     "metadata": {},
     "outputs": [
      {
       "metadata": {},
       "output_type": "pyout",
       "prompt_number": 5,
       "text": [
        "2"
       ]
      }
     ],
     "prompt_number": 5
    },
    {
     "cell_type": "code",
     "collapsed": false,
     "input": [
      "double(1.0)"
     ],
     "language": "python",
     "metadata": {},
     "outputs": [
      {
       "ename": "LoadError",
       "evalue": "no method double(Float64,)\nat In[6]:1",
       "output_type": "pyerr",
       "traceback": [
        "no method double(Float64,)\nat In[6]:1"
       ]
      }
     ],
     "prompt_number": 6
    },
    {
     "cell_type": "code",
     "collapsed": false,
     "input": [
      "triple(x::Real) = x + x + x"
     ],
     "language": "python",
     "metadata": {},
     "outputs": [
      {
       "metadata": {},
       "output_type": "pyout",
       "prompt_number": 7,
       "text": [
        "# methods for generic function triple\n",
        "triple(x::Real) at In[7]:1"
       ]
      }
     ],
     "prompt_number": 7
    },
    {
     "cell_type": "code",
     "collapsed": false,
     "input": [
      "triple(1)"
     ],
     "language": "python",
     "metadata": {},
     "outputs": [
      {
       "metadata": {},
       "output_type": "pyout",
       "prompt_number": 8,
       "text": [
        "3"
       ]
      }
     ],
     "prompt_number": 8
    },
    {
     "cell_type": "code",
     "collapsed": false,
     "input": [
      "triple(1.0)"
     ],
     "language": "python",
     "metadata": {},
     "outputs": [
      {
       "metadata": {},
       "output_type": "pyout",
       "prompt_number": 9,
       "text": [
        "3.0"
       ]
      }
     ],
     "prompt_number": 9
    },
    {
     "cell_type": "code",
     "collapsed": false,
     "input": [
      "id(x) = x"
     ],
     "language": "python",
     "metadata": {},
     "outputs": [
      {
       "metadata": {},
       "output_type": "pyout",
       "prompt_number": 10,
       "text": [
        "# methods for generic function id\n",
        "id(x) at In[10]:1"
       ]
      }
     ],
     "prompt_number": 10
    },
    {
     "cell_type": "code",
     "collapsed": false,
     "input": [
      "id(1)"
     ],
     "language": "python",
     "metadata": {},
     "outputs": [
      {
       "metadata": {},
       "output_type": "pyout",
       "prompt_number": 11,
       "text": [
        "1"
       ]
      }
     ],
     "prompt_number": 11
    },
    {
     "cell_type": "code",
     "collapsed": false,
     "input": [
      "id(\"a\")"
     ],
     "language": "python",
     "metadata": {},
     "outputs": [
      {
       "metadata": {},
       "output_type": "pyout",
       "prompt_number": 12,
       "text": [
        "a"
       ]
      }
     ],
     "prompt_number": 12
    },
    {
     "cell_type": "code",
     "collapsed": false,
     "input": [
      "function foo(x, y::Real = 1.0; z = pi)\n",
      "    return x + y + z\n",
      "end"
     ],
     "language": "python",
     "metadata": {},
     "outputs": [
      {
       "metadata": {},
       "output_type": "pyout",
       "prompt_number": 13,
       "text": [
        "# methods for generic function foo\n",
        "foo(x) at In[13]:2\n",
        "foo(x,y::Real) at In[13]:2"
       ]
      }
     ],
     "prompt_number": 13
    },
    {
     "cell_type": "code",
     "collapsed": false,
     "input": [
      "foo(1)"
     ],
     "language": "python",
     "metadata": {},
     "outputs": [
      {
       "metadata": {},
       "output_type": "pyout",
       "prompt_number": 14,
       "text": [
        "5.141592653589793"
       ]
      }
     ],
     "prompt_number": 14
    },
    {
     "cell_type": "code",
     "collapsed": false,
     "input": [
      "foo(1, 2)"
     ],
     "language": "python",
     "metadata": {},
     "outputs": [
      {
       "metadata": {},
       "output_type": "pyout",
       "prompt_number": 15,
       "text": [
        "6.141592653589793"
       ]
      }
     ],
     "prompt_number": 15
    },
    {
     "cell_type": "code",
     "collapsed": false,
     "input": [
      "foo(1, z = e)"
     ],
     "language": "python",
     "metadata": {},
     "outputs": [
      {
       "metadata": {},
       "output_type": "pyout",
       "prompt_number": 16,
       "text": [
        "4.718281828459045"
       ]
      }
     ],
     "prompt_number": 16
    },
    {
     "cell_type": "code",
     "collapsed": false,
     "input": [
      "foo(1, 2, z = 3)"
     ],
     "language": "python",
     "metadata": {},
     "outputs": [
      {
       "metadata": {},
       "output_type": "pyout",
       "prompt_number": 17,
       "text": [
        "6"
       ]
      }
     ],
     "prompt_number": 17
    },
    {
     "cell_type": "code",
     "collapsed": false,
     "input": [
      "bar(x::Real) = x^2"
     ],
     "language": "python",
     "metadata": {},
     "outputs": [
      {
       "metadata": {},
       "output_type": "pyout",
       "prompt_number": 18,
       "text": [
        "# methods for generic function bar\n",
        "bar(x::Real) at In[18]:1"
       ]
      }
     ],
     "prompt_number": 18
    },
    {
     "cell_type": "code",
     "collapsed": false,
     "input": [
      "code_llvm(bar, (Int, ))"
     ],
     "language": "python",
     "metadata": {},
     "outputs": [
      {
       "output_type": "stream",
       "stream": "stdout",
       "text": [
        "\n",
        "define i64 @julia_bar(i64) {\n",
        "top:\n",
        "  %1 = mul i64 %0, %0, !dbg !8971\n",
        "  ret i64 %1, !dbg !8971\n",
        "}\n"
       ]
      }
     ],
     "prompt_number": 19
    },
    {
     "cell_type": "code",
     "collapsed": false,
     "input": [
      "code_llvm(bar, (Float64, ))"
     ],
     "language": "python",
     "metadata": {},
     "outputs": [
      {
       "output_type": "stream",
       "stream": "stdout",
       "text": [
        "\n",
        "define double @julia_bar1829(double) {\n",
        "top:\n",
        "  %1 = fmul double %0, %0, !dbg !9091\n",
        "  ret double %1, !dbg !9091\n",
        "}\n"
       ]
      }
     ],
     "prompt_number": 20
    },
    {
     "cell_type": "code",
     "collapsed": false,
     "input": [
      "function collatz(n::Integer)\n",
      "    path = Int[n]\n",
      "    while n != 1\n",
      "        if iseven(n)\n",
      "            n = fld(n, 2)\n",
      "        else\n",
      "            n = 3n + 1\n",
      "        end\n",
      "        push!(path, n)\n",
      "    end\n",
      "    return path\n",
      "end"
     ],
     "language": "python",
     "metadata": {},
     "outputs": [
      {
       "metadata": {},
       "output_type": "pyout",
       "prompt_number": 21,
       "text": [
        "# methods for generic function collatz\n",
        "collatz(n::Integer) at In[21]:2"
       ]
      }
     ],
     "prompt_number": 21
    },
    {
     "cell_type": "code",
     "collapsed": false,
     "input": [
      "collatz(3)"
     ],
     "language": "python",
     "metadata": {},
     "outputs": [
      {
       "metadata": {},
       "output_type": "pyout",
       "prompt_number": 22,
       "text": [
        "8-element Array{Int64,1}:\n",
        "  3\n",
        " 10\n",
        "  5\n",
        " 16\n",
        "  8\n",
        "  4\n",
        "  2\n",
        "  1"
       ]
      }
     ],
     "prompt_number": 22
    },
    {
     "cell_type": "code",
     "collapsed": false,
     "input": [
      "code_native(collatz, (Int,))"
     ],
     "language": "python",
     "metadata": {},
     "outputs": [
      {
       "output_type": "stream",
       "stream": "stdout",
       "text": [
        "\t.section\t__TEXT,__text,regular,pure_instructions\n",
        "Filename: In[21]\n",
        "Source line: 2\n",
        "\tpush\tRBP\n",
        "\tmov\tRBP, RSP\n",
        "\tpush\tR15\n",
        "\tpush\tR14\n",
        "\tpush\tR12\n",
        "\tpush\tRBX\n",
        "\tsub\tRSP, 48\n",
        "\tmov\tRBX, RDI\n",
        "\tmov\tQWORD PTR [RBP - 72], 6\n",
        "Source line: 2\n",
        "\tmovabs\tR15, 4307446384\n",
        "\tmov\tRAX, QWORD PTR [R15]\n",
        "\tmov\tQWORD PTR [RBP - 64], RAX\n",
        "\tlea\tRAX, QWORD PTR [RBP - 72]\n",
        "\tmov\tQWORD PTR [R15], RAX\n",
        "\tvxorps\tXMM0, XMM0, XMM0\n",
        "\tvmovups\tXMMWORD PTR [RBP - 56], XMM0\n",
        "\tmov\tQWORD PTR [RBP - 40], 0\n",
        "\tmovabs\tRAX, 4358742992\n",
        "Source line: 2\n",
        "\tmov\tRCX, QWORD PTR [RAX]\n",
        "\tmovabs\tRAX, 4295279904\n",
        "\tmov\tQWORD PTR [RBP - 48], RCX\n",
        "\tcall\tRAX\n",
        "\tlea\tRSI, QWORD PTR [RBP - 48]\n",
        "\tmovabs\tRCX, 4348986448\n",
        "\tmov\tQWORD PTR [RBP - 40], RAX\n",
        "\tmovabs\tRDI, 4525064704\n",
        "\tmov\tEDX, 2\n",
        "\tcall\tRCX\n",
        "\tmov\tR14, RAX\n",
        "\tcmp\tRBX, 1\n",
        "\tmov\tQWORD PTR [RBP - 56], R14\n",
        "\tje\t114\n",
        "Source line: 9\n",
        "\tmovabs\tR12, 4348975376\n",
        "Source line: 4\n",
        "\tmov\tRCX, RBX\n",
        "\tshr\tRCX, 63\n",
        "\tlea\tRAX, QWORD PTR [RBX + RCX]\n",
        "\tmov\tRSI, RAX\n",
        "\tand\tRSI, -2\n",
        "\tmov\tRDX, RBX\n",
        "\tsub\tRDX, RSI\n",
        "\tlea\tRSI, QWORD PTR [RDX + 2]\n",
        "\tmov\tRDI, RSI\n",
        "\tshr\tRDI, 63\n",
        "\tlea\tRDI, QWORD PTR [RDX + RDI + 2]\n",
        "\tand\tRDI, -2\n",
        "\tsub\tRSI, RDI\n",
        "\ttest\tRBX, RBX\n",
        "\tcmovns\tRSI, RDX\n",
        "\ttest\tRSI, RSI\n",
        "\tjne\t17\n",
        "Source line: 5\n",
        "\tand\tRBX, RCX\n",
        "\tsar\tRAX\n",
        "\tsub\tRAX, RBX\n",
        "\tmov\tRBX, RAX\n",
        "\tjmpq\t5\n",
        "Source line: 7\n",
        "\tlea\tRBX, QWORD PTR [RBX + 2*RBX + 1]\n",
        "Source line: 9\n",
        "\tmov\tRDI, R14\n",
        "\tmov\tRSI, RBX\n",
        "\tcall\tR12\n",
        "\tcmp\tRBX, 1\n",
        "\tjne\t-104\n",
        "Source line: 11\n",
        "\tmov\tRAX, QWORD PTR [RBP - 64]\n",
        "\tmov\tQWORD PTR [R15], RAX\n",
        "\tmov\tRAX, R14\n",
        "\tadd\tRSP, 48\n",
        "\tpop\tRBX\n",
        "\tpop\tR12\n",
        "\tpop\tR14\n",
        "\tpop\tR15\n",
        "\tpop\tRBP\n",
        "\tret\n"
       ]
      }
     ],
     "prompt_number": 23
    },
    {
     "cell_type": "markdown",
     "metadata": {},
     "source": [
      "_Homework problem: do some Project Euler problems to reinforce basic Julia_"
     ]
    }
   ],
   "metadata": {}
  }
 ]
}